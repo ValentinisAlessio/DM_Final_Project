{
 "cells": [
  {
   "cell_type": "code",
   "execution_count": 1,
   "metadata": {},
   "outputs": [],
   "source": [
    "import psycopg2\n",
    "import time\n",
    "\n",
    "# establish a connection to the PostgreSQL database\n",
    "conn = psycopg2.connect(\n",
    "    dbname = \"dw_cs\", \n",
    "    host= 'localhost',      # change this to your host\n",
    "    password = \"postgres\",  # change this to your password\n",
    "    password = \"postgres\",\n",
    "    port = 5432\n",
    ")"
   ]
  },
  {
   "cell_type": "code",
   "execution_count": 2,
   "metadata": {},
   "outputs": [],
   "source": [
    "def check_indexes(table_name):\n",
    "\n",
    "    with conn.cursor() as cur:\n",
    "        query = f\"\"\"\n",
    "        SELECT\n",
    "            indexname,\n",
    "            indexdef\n",
    "        FROM\n",
    "            pg_indexes\n",
    "        WHERE\n",
    "            tablename = '{table_name}';\n",
    "        \"\"\"\n",
    "\n",
    "        cur.execute(query)      \n",
    "        \n",
    "        indexes = cur.fetchall()\n",
    "        \n",
    "        for index in indexes:\n",
    "            print(f\"Index Name: {index[0]}\")\n",
    "            print(f\"Index Definition: {index[1]}\\n\")\n",
    "\n",
    "# function to explain-analyze a query\n",
    "\n",
    "def explain_analyze(query, analyze = True):\n",
    "    conn.rollback()\n",
    "    with conn.cursor() as cur:\n",
    "        if analyze:\n",
    "            cur.execute(f\"EXPLAIN ANALYZE {query}\")\n",
    "        else:\n",
    "            cur.execute(f\"EXPLAIN {query}\")\n",
    "        explain = cur.fetchall()\n",
    "\n",
    "        for line in explain:\n",
    "            print(line[0])\n",
    "            \n",
    "\n",
    "def collect_size(table : str) -> None:\n",
    "    conn.rollback()\n",
    "    with conn.cursor() as cur:\n",
    "\n",
    "        cur.execute(f\"SELECT pg_relation_size('{table}');\")\n",
    "        size = cur.fetchall()\n",
    "        size_mb = size[0][0] / (1024**2)\n",
    "        size_gb = size[0][0] / (1024**3)\n",
    "        print(f\"Relation size: {size_mb:.2f} MB\")\n",
    "        print(f\"Relation size: {size_gb:.2f} GB\")\n",
    "\n",
    "        cur.execute(f\"SELECT pg_table_size('{table}');\")\n",
    "        size = cur.fetchall()\n",
    "        size_mb = size[0][0] / (1024**2)\n",
    "        size_gb = size[0][0] / (1024**3)\n",
    "        print(f\"Table (relation + TOAST) size: {size_mb:.2f} MB\")\n",
    "        print(f\"Table (relation + TOAST) size: {size_gb:.2f} GB\")\n",
    "\n",
    "        cur.execute(f\"SELECT pg_indexes_size('{table}');\")\n",
    "        size = cur.fetchall()\n",
    "        print(f\"Index size for table {table}: {size[0][0] / (1024**2):.2f} MB\")\n",
    "        print(f\"Index size for table {table}: {size[0][0] / (1024**3):.2f} GB\")\n",
    "\n",
    "        cur.execute(f\"SELECT pg_total_relation_size('{table}');\")\n",
    "        size = cur.fetchall()\n",
    "        size_mb = size[0][0] / (1024**2)\n",
    "        size_gb = size[0][0] / (1024**3)\n",
    "        print(f\"Total size (relation + TOAST + index): {size_mb:.2f} MB\")\n",
    "        print(f\"Total size (relation + TOAST + index): {size_gb:.2f} GB \\n\")"
   ]
  },
  {
   "cell_type": "markdown",
   "metadata": {},
   "source": [
    "## Check indexes"
   ]
  },
  {
   "cell_type": "code",
   "execution_count": 3,
   "metadata": {},
   "outputs": [
    {
     "name": "stdout",
     "output_type": "stream",
     "text": [
      "Index Name: nation_pkey\n",
      "Index Definition: CREATE UNIQUE INDEX nation_pkey ON public.nation USING btree (n_nationkey)\n",
      "\n",
      "Index Name: part_pkey\n",
      "Index Definition: CREATE UNIQUE INDEX part_pkey ON public.part USING btree (p_partkey)\n",
      "\n",
      "Index Name: supplier_pkey\n",
      "Index Definition: CREATE UNIQUE INDEX supplier_pkey ON public.supplier USING btree (s_suppkey)\n",
      "\n",
      "Index Name: customer_pkey\n",
      "Index Definition: CREATE UNIQUE INDEX customer_pkey ON public.customer USING btree (c_custkey)\n",
      "\n",
      "Index Name: region_pkey\n",
      "Index Definition: CREATE UNIQUE INDEX region_pkey ON public.region USING btree (r_regionkey)\n",
      "\n",
      "Index Name: partsupp_pkey\n",
      "Index Definition: CREATE UNIQUE INDEX partsupp_pkey ON public.partsupp USING btree (ps_partkey, ps_suppkey)\n",
      "\n",
      "Index Name: orders_pkey\n",
      "Index Definition: CREATE UNIQUE INDEX orders_pkey ON public.orders USING btree (o_orderkey)\n",
      "\n"
     ]
    }
   ],
   "source": [
    "a = ['nation', 'part', 'supplier', 'customer', 'lineitem', 'region', 'partsupp', 'orders']\n",
    "\n",
    "conn.rollback()\n",
    "for table in a:\n",
    "    check_indexes(table)"
   ]
  },
  {
   "cell_type": "markdown",
   "metadata": {},
   "source": [
    "## Query 1\n",
    "\n",
    "Is it useful to create a mv for this query? We don't expect so much gain because of the sequential scan on shipdate.\n",
    "\n",
    "We try to filter for shipdate, creating a mv, then we put an index on (l_returnflag, l_linestatus) and then we perform a CLUSTER on this index.\n",
    "\n",
    "We don't do this on the original table for two reasons: one is to use a mv and the other is not to modify the original table and possibly alter the timings of the queries.\n"
   ]
  },
  {
   "cell_type": "code",
   "execution_count": 9,
   "metadata": {},
   "outputs": [
    {
     "name": "stdout",
     "output_type": "stream",
     "text": [
      "Time taken to create materialized view: 132.15457582473755 seconds\n"
     ]
    }
   ],
   "source": [
    "query_materialized = \"\"\"\n",
    "\n",
    "CREATE MATERIALIZED VIEW lineitem_aggregates AS\n",
    "SELECT\n",
    "    l_returnflag,\n",
    "    l_linestatus,\n",
    "    l_extendedprice,\n",
    "    l_discount,\n",
    "    l_tax,\n",
    "    l_quantity\n",
    "FROM\n",
    "    lineitem\n",
    "WHERE \n",
    "    l_shipdate <= DATE '1998-12-01' - INTERVAL '90' DAY;\n",
    "\n",
    "\"\"\"\n",
    "\n",
    "conn.rollback()\n",
    "with conn.cursor() as cur:\n",
    "    start_time = time.time()\n",
    "    cur.execute(query_materialized)\n",
    "    end_time = time.time()\n",
    "    print(f\"Time taken to create materialized view: {end_time - start_time} seconds\")\n",
    "    conn.commit()"
   ]
  },
  {
   "cell_type": "code",
   "execution_count": 4,
   "metadata": {},
   "outputs": [],
   "source": [
    "query_1 = \"\"\"\n",
    "SELECT\n",
    "    l_returnflag,\n",
    "    l_linestatus,\n",
    "    SUM(l_quantity) AS sum_qty,\n",
    "    SUM(l_extendedprice) AS sum_base_price,\n",
    "    SUM(l_extendedprice * (1 - l_discount)) AS sum_disc_price,\n",
    "    SUM(l_extendedprice * (1 - l_discount) * (1 + l_tax)) AS sum_charge,\n",
    "    AVG(l_quantity) AS avg_qty,\n",
    "    AVG(l_extendedprice) AS avg_price,\n",
    "    AVG(l_discount) AS avg_disc,\n",
    "    COUNT(*) AS count_order\n",
    "FROM\n",
    "    lineitem_aggregates\n",
    "GROUP BY\n",
    "    l_returnflag,\n",
    "    l_linestatus\n",
    "ORDER BY\n",
    "    l_returnflag,\n",
    "    l_linestatus;\n",
    "\"\"\""
   ]
  },
  {
   "cell_type": "code",
   "execution_count": 11,
   "metadata": {},
   "outputs": [
    {
     "name": "stdout",
     "output_type": "stream",
     "text": [
      "Finalize GroupAggregate  (cost=2736532.36..2749566.35 rows=40000 width=248) (actual time=25929.538..25942.595 rows=4 loops=1)\n",
      "  Group Key: l_returnflag, l_linestatus\n",
      "  ->  Gather Merge  (cost=2736532.36..2745866.35 rows=80000 width=248) (actual time=25929.509..25942.553 rows=12 loops=1)\n",
      "        Workers Planned: 2\n",
      "        Workers Launched: 2\n",
      "        ->  Sort  (cost=2735532.34..2735632.34 rows=40000 width=248) (actual time=25851.397..25851.399 rows=4 loops=3)\n",
      "              Sort Key: l_returnflag, l_linestatus\n",
      "              Sort Method: quicksort  Memory: 27kB\n",
      "              Worker 0:  Sort Method: quicksort  Memory: 27kB\n",
      "              Worker 1:  Sort Method: quicksort  Memory: 27kB\n",
      "              ->  Partial HashAggregate  (cost=2378645.97..2727823.30 rows=40000 width=248) (actual time=25850.276..25850.321 rows=4 loops=3)\n",
      "                    Group Key: l_returnflag, l_linestatus\n",
      "                    Planned Partitions: 8  Batches: 1  Memory Usage: 217kB\n",
      "                    Worker 0:  Batches: 1  Memory Usage: 217kB\n",
      "                    Worker 1:  Batches: 1  Memory Usage: 217kB\n",
      "                    ->  Parallel Seq Scan on lineitem_aggregates  (cost=0.00..518513.33 rows=8491333 width=144) (actual time=1.311..9181.646 rows=19714203 loops=3)\n",
      "Planning Time: 2.504 ms\n",
      "Execution Time: 25943.063 ms\n"
     ]
    }
   ],
   "source": [
    "explain_analyze(query_1)"
   ]
  },
  {
   "cell_type": "markdown",
   "metadata": {},
   "source": [
    "## Trying to use index and cluster on lineitem_aggregates\n",
    "\n",
    "We don't want to alter the original table lineitem, so we saved it in lineitem_aggregates filtering for shipdate."
   ]
  },
  {
   "cell_type": "code",
   "execution_count": 5,
   "metadata": {},
   "outputs": [
    {
     "name": "stdout",
     "output_type": "stream",
     "text": [
      "Time taken to create index: 91.87562990188599 seconds\n",
      "Time taken to cluster table: 148.17869091033936 seconds\n"
     ]
    }
   ],
   "source": [
    "with conn.cursor() as cur:\n",
    "    start_time = time.time()\n",
    "    cur.execute(\"CREATE INDEX idx_lineitem_returnflag_linestatus ON lineitem_aggregates (l_returnflag, l_linestatus);\")\n",
    "    end_time = time.time()\n",
    "    print(f\"Time taken to create index: {end_time - start_time} seconds\")\n",
    "    start_time = time.time()\n",
    "    cur.execute(\"CLUSTER lineitem_aggregates USING idx_lineitem_returnflag_linestatus;\")\n",
    "    end_time = time.time()\n",
    "    print(f\"Time taken to cluster table: {end_time - start_time} seconds\")\n",
    "    conn.commit()\n"
   ]
  },
  {
   "cell_type": "code",
   "execution_count": 15,
   "metadata": {},
   "outputs": [
    {
     "name": "stdout",
     "output_type": "stream",
     "text": [
      "Finalize GroupAggregate  (cost=1543490.50..1543492.45 rows=6 width=236) (actual time=22392.926..22395.471 rows=4 loops=1)\n",
      "  Group Key: l_returnflag, l_linestatus\n",
      "  ->  Gather Merge  (cost=1543490.50..1543491.90 rows=12 width=236) (actual time=22392.893..22395.431 rows=12 loops=1)\n",
      "        Workers Planned: 2\n",
      "        Workers Launched: 2\n",
      "        ->  Sort  (cost=1542490.47..1542490.49 rows=6 width=236) (actual time=22331.585..22331.586 rows=4 loops=3)\n",
      "              Sort Key: l_returnflag, l_linestatus\n",
      "              Sort Method: quicksort  Memory: 27kB\n",
      "              Worker 0:  Sort Method: quicksort  Memory: 27kB\n",
      "              Worker 1:  Sort Method: quicksort  Memory: 27kB\n",
      "              ->  Partial HashAggregate  (cost=1542490.26..1542490.40 rows=6 width=236) (actual time=22331.548..22331.553 rows=4 loops=3)\n",
      "                    Group Key: l_returnflag, l_linestatus\n",
      "                    Batches: 1  Memory Usage: 24kB\n",
      "                    Worker 0:  Batches: 1  Memory Usage: 24kB\n",
      "                    Worker 1:  Batches: 1  Memory Usage: 24kB\n",
      "                    ->  Parallel Seq Scan on lineitem_aggregates  (cost=0.00..679995.17 rows=24642717 width=25) (actual time=14.360..6158.947 rows=19714203 loops=3)\n",
      "Planning Time: 54.266 ms\n",
      "Execution Time: 22395.585 ms\n"
     ]
    }
   ],
   "source": [
    "conn.rollback()\n",
    "with conn.cursor() as cur:\n",
    "    cur.execute(\"SET enable_seqscan = on;\")\n",
    "    cur.execute(\"SET enable_bitmapscan = off;\")\n",
    "    cur.execute(\"SET enable_indexscan = off;\")\n",
    "    conn.commit()\n",
    "explain_analyze(query_1)"
   ]
  },
  {
   "cell_type": "code",
   "execution_count": 11,
   "metadata": {},
   "outputs": [
    {
     "name": "stdout",
     "output_type": "stream",
     "text": [
      "Finalize GroupAggregate  (cost=1000.59..2608431.78 rows=6 width=236) (actual time=30108.231..30109.194 rows=4 loops=1)\n",
      "  Group Key: l_returnflag, l_linestatus\n",
      "  ->  Gather Merge  (cost=1000.59..2608431.22 rows=12 width=236) (actual time=30106.595..30109.140 rows=10 loops=1)\n",
      "        Workers Planned: 2\n",
      "        Workers Launched: 2\n",
      "        ->  Partial GroupAggregate  (cost=0.56..2607429.82 rows=6 width=236) (actual time=6124.939..22104.443 rows=3 loops=3)\n",
      "              Group Key: l_returnflag, l_linestatus\n",
      "              ->  Parallel Index Scan using idx_lineitem_returnflag_linestatus on lineitem_aggregates  (cost=0.56..1744915.83 rows=24643253 width=25) (actual time=0.304..7210.118 rows=19714203 loops=3)\n",
      "Planning Time: 4.898 ms\n",
      "Execution Time: 30109.282 ms\n"
     ]
    }
   ],
   "source": [
    "conn.rollback()\n",
    "with conn.cursor() as cur:\n",
    "    cur.execute(\"SET enable_seqscan = off;\")\n",
    "    cur.execute(\"SET enable_bitmapscan = off;\")\n",
    "    cur.execute(\"SET enable_indexscan = on;\")\n",
    "    conn.commit()\n",
    "explain_analyze(query_1)"
   ]
  },
  {
   "cell_type": "markdown",
   "metadata": {},
   "source": [
    "It seems that it doesn't use the partition."
   ]
  },
  {
   "cell_type": "code",
   "execution_count": 13,
   "metadata": {},
   "outputs": [
    {
     "name": "stdout",
     "output_type": "stream",
     "text": [
      "[('lineitem_aggregates', 'idx_lineitem_returnflag_linestatus', True)]\n"
     ]
    }
   ],
   "source": [
    "check = \"\"\"\n",
    "SELECT\n",
    "    t.relname AS table_name,\n",
    "    i.relname AS index_name,\n",
    "    ix.indisclustered\n",
    "FROM\n",
    "    pg_class t\n",
    "    JOIN pg_index ix ON t.oid = ix.indrelid\n",
    "    JOIN pg_class i ON ix.indexrelid = i.oid\n",
    "WHERE\n",
    "    t.relname = 'lineitem_aggregates';\n",
    "\"\"\"\n",
    "\n",
    "conn.rollback()\n",
    "with conn.cursor() as cur:\n",
    "    cur.execute(check)\n",
    "    row = cur.fetchall()\n",
    "    print(row)\n"
   ]
  },
  {
   "cell_type": "markdown",
   "metadata": {},
   "source": [
    "This strategy is not interesting and we don't analyze it no more."
   ]
  },
  {
   "cell_type": "code",
   "execution_count": 17,
   "metadata": {},
   "outputs": [],
   "source": [
    "conn.rollback()\n",
    "with conn.cursor() as cur:\n",
    "    cur.execute(\"drop materialized view lineitem_aggregates;\")\n",
    "    conn.commit()"
   ]
  },
  {
   "cell_type": "markdown",
   "metadata": {},
   "source": [
    "## Materialized on part lineitem"
   ]
  },
  {
   "cell_type": "code",
   "execution_count": 32,
   "metadata": {},
   "outputs": [
    {
     "name": "stdout",
     "output_type": "stream",
     "text": [
      "Time taken to create materialized view: 310.9520151615143 seconds\n"
     ]
    }
   ],
   "source": [
    "conn.rollback()\n",
    "with conn.cursor() as cur:\n",
    "    cur.execute(\"SET enable_seqscan = on;\")\n",
    "    cur.execute(\"SET enable_indexscan = on;\")\n",
    "    cur.execute(\"SET enable_bitmapscan = on;\")\n",
    "    cur.execute(\"SET enable_indexonlyscan = off;\")\n",
    "    cur.execute(\"SET enable_nestloop = on;\")\n",
    "    cur.execute(\"SET enable_mergejoin = on;\")\n",
    "    cur.execute(\"SET enable_hashjoin = on;\")\n",
    "    cur.execute(\"SET enable_sort = on;\")\n",
    "    cur.execute(\"SET enable_hashagg = on;\")\n",
    "    conn.commit()\n",
    "\n",
    "query_materialized = \"\"\"\n",
    "\n",
    "CREATE MATERIALIZED VIEW part_lineitem AS\n",
    "SELECT\n",
    "    l_returnflag,\n",
    "    l_linestatus,\n",
    "    l_quantity,\n",
    "    l_extendedprice,\n",
    "    l_discount,\n",
    "    l_tax,\n",
    "    l_shipdate,\n",
    "    l_partkey,\n",
    "    p_partkey,\n",
    "    p_brand,\n",
    "    p_container,\n",
    "    SUBSTRING(p_type FROM 1 FOR 5) AS p_type_prefix,\n",
    "    0.2 * AVG(l_quantity) OVER (PARTITION BY l_partkey) AS avg_quantity\n",
    "FROM\n",
    "    lineitem l\n",
    "JOIN\n",
    "    part p ON l.l_partkey = p.p_partkey;\n",
    "\n",
    "\"\"\"\n",
    "\n",
    "with conn.cursor() as cur:\n",
    "    start_time = time.time()\n",
    "    cur.execute(query_materialized)\n",
    "    end_time = time.time()\n",
    "    print(f\"Time taken to create materialized view: {end_time - start_time} seconds\")\n",
    "    conn.commit()"
   ]
  },
  {
   "cell_type": "markdown",
   "metadata": {},
   "source": [
    "We enable hash join since we are not interested in indexes performance in executing the join."
   ]
  },
  {
   "cell_type": "code",
   "execution_count": 33,
   "metadata": {},
   "outputs": [
    {
     "name": "stdout",
     "output_type": "stream",
     "text": [
      "Size of materialised view: 6581.5078125 MB\n",
      "Size of materialised view: 6.427253723144531 GB\n"
     ]
    }
   ],
   "source": [
    "conn.rollback()\n",
    "with conn.cursor() as cur:\n",
    "    \n",
    "    cur.execute(\"SELECT pg_total_relation_size('part_lineitem');\")\n",
    "    size = cur.fetchall()\n",
    "    print(f\"Size of materialised view: {size[0][0]/(1024**2)} MB\")\n",
    "    print(f\"Size of materialised view: {size[0][0]/(1024**3)} GB\")"
   ]
  },
  {
   "cell_type": "code",
   "execution_count": 34,
   "metadata": {},
   "outputs": [],
   "source": [
    "conn.rollback()\n",
    "check_indexes('part_lineitem')"
   ]
  },
  {
   "cell_type": "markdown",
   "metadata": {},
   "source": [
    "### Query 14"
   ]
  },
  {
   "cell_type": "code",
   "execution_count": 35,
   "metadata": {},
   "outputs": [],
   "source": [
    "conn.rollback()\n",
    "with conn.cursor() as cur:\n",
    "    cur.execute(\"SET enable_seqscan = on;\")\n",
    "    cur.execute(\"SET enable_indexscan = on;\")\n",
    "    cur.execute(\"SET enable_bitmapscan = on;\")\n",
    "    cur.execute(\"SET enable_indexonlyscan = off;\")\n",
    "    cur.execute(\"SET enable_nestloop = on;\")\n",
    "    cur.execute(\"SET enable_mergejoin = on;\")\n",
    "    cur.execute(\"SET enable_hashjoin = on;\")\n",
    "    cur.execute(\"SET enable_sort = on;\")\n",
    "    cur.execute(\"SET enable_hashagg = on;\")\n",
    "    cur.execute(\"SET enable_material = on;\")\n",
    "    conn.commit()\n",
    "\n",
    "query_14 = \"\"\"\n",
    "SELECT\n",
    "    100.00 * SUM(CASE\n",
    "        WHEN p_type_prefix LIKE 'PROMO'\n",
    "        THEN l_extendedprice * (1 - l_discount)\n",
    "        ELSE 0\n",
    "    END) / SUM(l_extendedprice * (1 - l_discount)) AS promo_revenue\n",
    "FROM\n",
    "    part_lineitem\n",
    "WHERE\n",
    "    l_shipdate >= DATE '1995-09-01'\n",
    "    AND l_shipdate < DATE '1995-09-01' + INTERVAL '1' MONTH;\n",
    "\"\"\""
   ]
  },
  {
   "cell_type": "code",
   "execution_count": 36,
   "metadata": {},
   "outputs": [
    {
     "name": "stdout",
     "output_type": "stream",
     "text": [
      "Finalize Aggregate  (cost=970534.18..970534.19 rows=1 width=32) (actual time=36047.043..36049.397 rows=1 loops=1)\n",
      "  ->  Gather  (cost=970533.94..970534.15 rows=2 width=64) (actual time=36044.942..36049.075 rows=3 loops=1)\n",
      "        Workers Planned: 2\n",
      "        Workers Launched: 2\n",
      "        ->  Partial Aggregate  (cost=969533.94..969533.95 rows=1 width=64) (actual time=36035.166..36035.168 rows=1 loops=3)\n",
      "              ->  Parallel Seq Scan on part_lineitem  (cost=0.00..968796.80 rows=42122 width=96) (actual time=0.279..35848.123 rows=249741 loops=3)\n",
      "                    Filter: ((l_shipdate >= '1995-09-01'::date) AND (l_shipdate < '1995-10-01 00:00:00'::timestamp without time zone))\n",
      "                    Rows Removed by Filter: 19745610\n",
      "Planning Time: 0.798 ms\n",
      "Execution Time: 36049.752 ms\n"
     ]
    }
   ],
   "source": [
    "explain_analyze(query_14)"
   ]
  },
  {
   "cell_type": "markdown",
   "metadata": {},
   "source": [
    "The problem with the lack of gain in performance is that the optimizer performs a sequential scan because there is no index on shipdate."
   ]
  },
  {
   "cell_type": "markdown",
   "metadata": {},
   "source": [
    "Validate and size of the result table."
   ]
  },
  {
   "cell_type": "code",
   "execution_count": 37,
   "metadata": {},
   "outputs": [
    {
     "name": "stdout",
     "output_type": "stream",
     "text": [
      "First row: \n",
      " (Decimal('16.6475949416150953'),)\n",
      "Size of query_14 result table: 0.015625 MB\n"
     ]
    }
   ],
   "source": [
    "with conn.cursor() as cur:\n",
    "    \n",
    "    cur.execute(f\"CREATE TEMP TABLE temp_result AS {query_14};\")\n",
    "    cur.execute(\"SELECT * FROM temp_result;\")\n",
    "    result = cur.fetchone()\n",
    "    print(f\"First row: \\n {result}\")\n",
    "    cur.execute(\"SELECT pg_total_relation_size('temp_result');\")\n",
    "    size = cur.fetchall()\n",
    "    print(f\"Size of query_14 result table: {size[0][0]/(1024**2)} MB\")\n",
    "    cur.execute(\"DROP TABLE temp_result;\")"
   ]
  },
  {
   "cell_type": "markdown",
   "metadata": {},
   "source": [
    "### Query 17"
   ]
  },
  {
   "cell_type": "markdown",
   "metadata": {},
   "source": [
    "Here we expect to get the most gain in performance."
   ]
  },
  {
   "cell_type": "code",
   "execution_count": 38,
   "metadata": {},
   "outputs": [],
   "source": [
    "query_17 = \"\"\"\n",
    "SELECT\n",
    "    SUM(l_extendedprice) / 7.0 AS avg_yearly\n",
    "FROM\n",
    "    part_lineitem\n",
    "WHERE\n",
    "    p_brand = 'Brand#23'\n",
    "    AND p_container = 'MED BOX'\n",
    "    AND l_quantity < avg_quantity;\n",
    "\"\"\""
   ]
  },
  {
   "cell_type": "code",
   "execution_count": 39,
   "metadata": {},
   "outputs": [
    {
     "name": "stdout",
     "output_type": "stream",
     "text": [
      "Finalize Aggregate  (cost=990858.00..990858.01 rows=1 width=32) (actual time=15263.910..15265.350 rows=1 loops=1)\n",
      "  ->  Gather  (cost=990857.78..990857.99 rows=2 width=32) (actual time=15263.831..15265.340 rows=3 loops=1)\n",
      "        Workers Planned: 2\n",
      "        Workers Launched: 2\n",
      "        ->  Partial Aggregate  (cost=989857.78..989857.79 rows=1 width=32) (actual time=15259.045..15259.045 rows=1 loops=3)\n",
      "              ->  Parallel Seq Scan on part_lineitem  (cost=0.00..989857.60 rows=70 width=32) (actual time=79.155..15258.522 rows=1842 loops=3)\n",
      "                    Filter: ((l_quantity < avg_quantity) AND (p_brand = 'Brand#23'::bpchar) AND (p_container = 'MED BOX'::bpchar))\n",
      "                    Rows Removed by Filter: 19993509\n",
      "Planning Time: 665.693 ms\n",
      "Execution Time: 15265.404 ms\n"
     ]
    }
   ],
   "source": [
    "explain_analyze(query_17)"
   ]
  },
  {
   "cell_type": "markdown",
   "metadata": {},
   "source": [
    "Very good! We can see that the only cost is in scanning the table and filtering for the conditions."
   ]
  },
  {
   "cell_type": "markdown",
   "metadata": {},
   "source": [
    "Validate and size of result table."
   ]
  },
  {
   "cell_type": "code",
   "execution_count": 42,
   "metadata": {},
   "outputs": [
    {
     "name": "stdout",
     "output_type": "stream",
     "text": [
      "First row: \n",
      " (Decimal('3295493.512857142857'),)\n",
      "Size of query_1 result table: 0.015625 MB\n"
     ]
    }
   ],
   "source": [
    "conn.rollback()\n",
    "with conn.cursor() as cur:\n",
    "    \n",
    "    cur.execute(f\"CREATE TEMP TABLE temp_result AS {query_17};\")\n",
    "    cur.execute(\"SELECT * FROM temp_result;\")\n",
    "    result = cur.fetchone()\n",
    "    print(f\"First row: \\n {result}\")\n",
    "    cur.execute(\"SELECT pg_total_relation_size('temp_result');\")\n",
    "    size = cur.fetchall()\n",
    "    print(f\"Size of query_1 result table: {size[0][0]/(1024**2)} MB\")\n",
    "    cur.execute(\"DROP TABLE temp_result;\")"
   ]
  },
  {
   "cell_type": "markdown",
   "metadata": {},
   "source": [
    "## Indexes on part lineitem"
   ]
  },
  {
   "cell_type": "code",
   "execution_count": 43,
   "metadata": {},
   "outputs": [
    {
     "name": "stdout",
     "output_type": "stream",
     "text": [
      "Time to create idx_pl_shipdate ON part_lineitem (l_shipdate): 30.162781953811646 seconds\n"
     ]
    }
   ],
   "source": [
    "with conn.cursor() as cur:\n",
    "\n",
    "    start_time = time.time()\n",
    "    cur.execute(\"CREATE INDEX idx_pl_shipdate ON part_lineitem (l_shipdate);\")\n",
    "    end_time = time.time()\n",
    "    print(f\"Time to create idx_pl_shipdate ON part_lineitem (l_shipdate): {end_time - start_time} seconds\")\n",
    "\n",
    "    conn.commit()"
   ]
  },
  {
   "cell_type": "code",
   "execution_count": 30,
   "metadata": {},
   "outputs": [
    {
     "name": "stdout",
     "output_type": "stream",
     "text": [
      "Size of idx_pl_shipdate: 397.546875 MB\n",
      "Size of idx_pl_shipdate: 0.3882293701171875 GB\n"
     ]
    }
   ],
   "source": [
    "with conn.cursor() as cur:    \n",
    "    cur.execute(\"SELECT pg_relation_size('idx_pl_shipdate');\")\n",
    "    index_size = cur.fetchone()[0]\n",
    "    print(f\"Size of idx_pl_shipdate: {index_size/(1024**2)} MB\")\n",
    "    print(f\"Size of idx_pl_shipdate: {index_size/(1024**3)} GB\")"
   ]
  },
  {
   "cell_type": "code",
   "execution_count": 44,
   "metadata": {},
   "outputs": [
    {
     "name": "stdout",
     "output_type": "stream",
     "text": [
      "Time to create idx_pl_brand ON part_lineitem (p_brand): 58.95485210418701 seconds\n"
     ]
    }
   ],
   "source": [
    "with conn.cursor() as cur:\n",
    "\n",
    "    start_time = time.time()\n",
    "    cur.execute(\"CREATE INDEX idx_pl_brand ON part_lineitem (p_brand);\")\n",
    "    end_time = time.time()\n",
    "    print(f\"Time to create idx_pl_brand ON part_lineitem (p_brand): {end_time - start_time} seconds\")\n",
    "\n",
    "    conn.commit()"
   ]
  },
  {
   "cell_type": "code",
   "execution_count": 31,
   "metadata": {},
   "outputs": [
    {
     "name": "stdout",
     "output_type": "stream",
     "text": [
      "Size of idx_pl_brand: 403.140625 MB\n",
      "Size of idx_pl_brand: 0.3936920166015625 GB\n"
     ]
    }
   ],
   "source": [
    "with conn.cursor() as cur:    \n",
    "    cur.execute(\"SELECT pg_relation_size('idx_pl_brand');\")\n",
    "    index_size = cur.fetchone()[0]\n",
    "    print(f\"Size of idx_pl_brand: {index_size/(1024**2)} MB\")\n",
    "    print(f\"Size of idx_pl_brand: {index_size/(1024**3)} GB\")"
   ]
  },
  {
   "cell_type": "code",
   "execution_count": 45,
   "metadata": {},
   "outputs": [
    {
     "name": "stdout",
     "output_type": "stream",
     "text": [
      "Time to create idx_pl_container ON part_lineitem (p_container): 60.34345507621765 seconds\n"
     ]
    }
   ],
   "source": [
    "with conn.cursor() as cur:\n",
    "\n",
    "    start_time = time.time()\n",
    "    cur.execute(\"CREATE INDEX idx_pl_container ON part_lineitem (p_container);\")\n",
    "    end_time = time.time()\n",
    "    print(f\"Time to create idx_pl_container ON part_lineitem (p_container): {end_time - start_time} seconds\")\n",
    "\n",
    "    conn.commit()"
   ]
  },
  {
   "cell_type": "code",
   "execution_count": 32,
   "metadata": {},
   "outputs": [
    {
     "name": "stdout",
     "output_type": "stream",
     "text": [
      "Size of idx_pl_container: 403.1484375 MB\n",
      "Size of idx_pl_container: 0.39369964599609375 GB\n"
     ]
    }
   ],
   "source": [
    "with conn.cursor() as cur:    \n",
    "    cur.execute(\"SELECT pg_relation_size('idx_pl_container');\")\n",
    "    index_size = cur.fetchone()[0]\n",
    "    print(f\"Size of idx_pl_container: {index_size/(1024**2)} MB\")\n",
    "    print(f\"Size of idx_pl_container: {index_size/(1024**3)} GB\")"
   ]
  },
  {
   "cell_type": "code",
   "execution_count": 46,
   "metadata": {},
   "outputs": [
    {
     "name": "stdout",
     "output_type": "stream",
     "text": [
      "Finalize Aggregate  (cost=1214874.74..1214874.76 rows=1 width=32) (actual time=19381.340..19395.889 rows=1 loops=1)\n",
      "  ->  Gather  (cost=1214874.51..1214874.72 rows=2 width=64) (actual time=19380.980..19395.876 rows=3 loops=1)\n",
      "        Workers Planned: 2\n",
      "        Workers Launched: 2\n",
      "        ->  Partial Aggregate  (cost=1213874.51..1213874.52 rows=1 width=64) (actual time=19375.856..19375.857 rows=1 loops=3)\n",
      "              ->  Parallel Bitmap Heap Scan on part_lineitem  (cost=9882.66..1208594.56 rows=301711 width=18) (actual time=107.708..19034.300 rows=249741 loops=3)\n",
      "                    Recheck Cond: ((l_shipdate >= '1995-09-01'::date) AND (l_shipdate < '1995-10-01 00:00:00'::timestamp without time zone))\n",
      "                    Rows Removed by Index Recheck: 10773120\n",
      "                    Heap Blocks: exact=11467 lossy=154789\n",
      "                    ->  Bitmap Index Scan on idx_pl_shipdate  (cost=0.00..9701.64 rows=724107 width=0) (actual time=88.514..88.514 rows=749223 loops=1)\n",
      "                          Index Cond: ((l_shipdate >= '1995-09-01'::date) AND (l_shipdate < '1995-10-01 00:00:00'::timestamp without time zone))\n",
      "Planning Time: 7.079 ms\n",
      "Execution Time: 19395.941 ms\n"
     ]
    }
   ],
   "source": [
    "explain_analyze(query_14)"
   ]
  },
  {
   "cell_type": "markdown",
   "metadata": {},
   "source": [
    "We can see that the index on l_shipdate is used and it brings a significative improvement."
   ]
  },
  {
   "cell_type": "code",
   "execution_count": 47,
   "metadata": {},
   "outputs": [
    {
     "name": "stdout",
     "output_type": "stream",
     "text": [
      "Aggregate  (cost=218970.71..218970.72 rows=1 width=32) (actual time=1422.670..1422.673 rows=1 loops=1)\n",
      "  ->  Bitmap Heap Scan on part_lineitem  (cost=41274.20..218923.70 rows=18805 width=8) (actual time=143.534..1421.748 rows=5526 loops=1)\n",
      "        Recheck Cond: ((p_container = 'MED BOX'::bpchar) AND (p_brand = 'Brand#23'::bpchar))\n",
      "        Rows Removed by Index Recheck: 346780\n",
      "        Filter: (l_quantity < avg_quantity)\n",
      "        Rows Removed by Filter: 55859\n",
      "        Heap Blocks: exact=3124 lossy=4777\n",
      "        ->  BitmapAnd  (cost=41274.20..41274.20 rows=56414 width=0) (actual time=140.630..140.631 rows=0 loops=1)\n",
      "              ->  Bitmap Index Scan on idx_pl_container  (cost=0.00..16102.00 rows=1471658 width=0) (actual time=54.228..54.228 rows=1504601 loops=1)\n",
      "                    Index Cond: (p_container = 'MED BOX'::bpchar)\n",
      "              ->  Bitmap Index Scan on idx_pl_brand  (cost=0.00..25162.55 rows=2299465 width=0) (actual time=82.913..82.913 rows=2391264 loops=1)\n",
      "                    Index Cond: (p_brand = 'Brand#23'::bpchar)\n",
      "Planning Time: 3.572 ms\n",
      "Execution Time: 1424.115 ms\n"
     ]
    }
   ],
   "source": [
    "explain_analyze(query_17)"
   ]
  },
  {
   "cell_type": "markdown",
   "metadata": {},
   "source": [
    "We can see that the index on p_brand and p_container are used and they bring a very significative improvement!"
   ]
  },
  {
   "cell_type": "markdown",
   "metadata": {},
   "source": [
    "## Materialized customer_order_lineitem_nation"
   ]
  },
  {
   "cell_type": "code",
   "execution_count": 48,
   "metadata": {},
   "outputs": [
    {
     "name": "stdout",
     "output_type": "stream",
     "text": [
      "Hash Join  (cost=773460.56..4508342.52 rows=59986052 width=265)\n",
      "  Hash Cond: (c.c_nationkey = n.n_nationkey)\n",
      "  ->  Hash Join  (cost=773459.00..4324183.78 rows=59986052 width=165)\n",
      "        Hash Cond: (o.o_custkey = c.c_custkey)\n",
      "        ->  Hash Join  (cost=671655.00..3329726.95 rows=59986052 width=22)\n",
      "              Hash Cond: (l.l_orderkey = o.o_orderkey)\n",
      "              ->  Seq Scan on lineitem l  (cost=0.00..1724403.52 rows=59986052 width=18)\n",
      "              ->  Hash  (cost=410912.00..410912.00 rows=15000000 width=12)\n",
      "                    ->  Seq Scan on orders o  (cost=0.00..410912.00 rows=15000000 width=12)\n",
      "        ->  Hash  (cost=50827.00..50827.00 rows=1500000 width=147)\n",
      "              ->  Seq Scan on customer c  (cost=0.00..50827.00 rows=1500000 width=147)\n",
      "  ->  Hash  (cost=1.25..1.25 rows=25 width=108)\n",
      "        ->  Seq Scan on nation n  (cost=0.00..1.25 rows=25 width=108)\n"
     ]
    }
   ],
   "source": [
    "conn.rollback()\n",
    "with conn.cursor() as cur:\n",
    "    cur.execute(\"SET enable_seqscan = on;\")\n",
    "    cur.execute(\"SET enable_indexscan = on;\")\n",
    "    cur.execute(\"SET enable_bitmapscan = on;\")\n",
    "    cur.execute(\"SET enable_indexonlyscan = off;\")\n",
    "    cur.execute(\"SET enable_nestloop = on;\")\n",
    "    cur.execute(\"SET enable_mergejoin = on;\")\n",
    "    cur.execute(\"SET enable_hashjoin = on;\")\n",
    "    cur.execute(\"SET enable_sort = on;\")\n",
    "    cur.execute(\"SET enable_hashagg = on;\")\n",
    "    conn.commit()\n",
    "\n",
    "query_materialized = \"\"\"\n",
    "\n",
    "CREATE MATERIALIZED VIEW customer_order_lineitem_nation AS\n",
    "SELECT\n",
    "    c.c_custkey,\n",
    "    c.c_name,\n",
    "    c.c_acctbal,\n",
    "    n.n_name,\n",
    "    c.c_address,\n",
    "    c.c_phone,\n",
    "    c.c_comment,\n",
    "    -- c.c_nationkey, not needed in the query, so not included\n",
    "    l.l_returnflag,\n",
    "    -- l.l_orderkey, not needed in the query, so not included\n",
    "    l.l_discount,\n",
    "    l.l_extendedprice,\n",
    "    o.o_orderdate\n",
    "\n",
    "FROM\n",
    "    customer c\n",
    "JOIN\n",
    "    orders o ON c.c_custkey = o.o_custkey\n",
    "JOIN\n",
    "    lineitem l ON l.l_orderkey = o.o_orderkey\n",
    "JOIN\n",
    "    nation n ON c.c_nationkey = n.n_nationkey;\n",
    "\"\"\"\n",
    "\n",
    "explain_analyze(query_materialized, analyze = False)"
   ]
  },
  {
   "cell_type": "code",
   "execution_count": 50,
   "metadata": {},
   "outputs": [
    {
     "name": "stdout",
     "output_type": "stream",
     "text": [
      "Time taken to create materialized view: 437.10683703422546 seconds\n"
     ]
    }
   ],
   "source": [
    "conn.rollback()\n",
    "with conn.cursor() as cur:\n",
    "    start_time = time.time()\n",
    "    cur.execute(query_materialized)\n",
    "    end_time = time.time()\n",
    "    print(f\"Time taken to create materialized view: {end_time - start_time} seconds\")\n",
    "    conn.commit()"
   ]
  },
  {
   "cell_type": "code",
   "execution_count": 51,
   "metadata": {},
   "outputs": [
    {
     "name": "stdout",
     "output_type": "stream",
     "text": [
      "Size of materialised view: 12938.5078125 MB\n",
      "Size of materialised view: 12.635261535644531 GB\n"
     ]
    }
   ],
   "source": [
    "conn.rollback()\n",
    "with conn.cursor() as cur:\n",
    "    \n",
    "    cur.execute(\"SELECT pg_total_relation_size('customer_order_lineitem_nation');\")\n",
    "    size = cur.fetchall()\n",
    "    print(f\"Size of materialised view: {size[0][0]/(1024**2)} MB\")\n",
    "    print(f\"Size of materialised view: {size[0][0]/(1024**3)} GB\")"
   ]
  },
  {
   "cell_type": "code",
   "execution_count": 112,
   "metadata": {},
   "outputs": [],
   "source": [
    "check_indexes('customer_order_lineitem_nation')"
   ]
  },
  {
   "cell_type": "code",
   "execution_count": 113,
   "metadata": {},
   "outputs": [],
   "source": [
    "query_10 = \"\"\"\n",
    "SELECT\n",
    "    c_custkey,\n",
    "    c_name,\n",
    "    SUM(l_extendedprice * (1 - l_discount)) AS revenue,\n",
    "    c_acctbal,\n",
    "    n_name,\n",
    "    c_address,\n",
    "    c_phone,\n",
    "    c_comment\n",
    "FROM\n",
    "    customer_order_lineitem_nation\n",
    "WHERE\n",
    "    o_orderdate >= DATE '1993-10-01'\n",
    "    AND o_orderdate < DATE '1993-10-01' + INTERVAL '3' MONTH\n",
    "    AND l_returnflag = 'R'\n",
    "GROUP BY\n",
    "    c_custkey,\n",
    "    c_name,\n",
    "    c_acctbal,\n",
    "    c_phone,\n",
    "    n_name,\n",
    "    c_address,\n",
    "    c_comment\n",
    "ORDER BY\n",
    "    revenue DESC;\n",
    "\"\"\"\n"
   ]
  },
  {
   "cell_type": "code",
   "execution_count": 114,
   "metadata": {},
   "outputs": [
    {
     "name": "stdout",
     "output_type": "stream",
     "text": [
      "Sort  (cost=2365597.61..2366901.03 rows=521368 width=201) (actual time=41540.225..41591.007 rows=381105 loops=1)\n",
      "  Sort Key: (sum((l_extendedprice * ('1'::numeric - l_discount)))) DESC\n",
      "  Sort Method: external merge  Disk: 71032kB\n",
      "  ->  Finalize GroupAggregate  (cost=2134754.26..2212726.66 rows=521368 width=201) (actual time=40507.944..41159.491 rows=381105 loops=1)\n",
      "        Group Key: c_custkey, c_name, c_acctbal, c_phone, n_name, c_address, c_comment\n",
      "        ->  Gather Merge  (cost=2134754.26..2196029.12 rows=452464 width=201) (actual time=40507.920..40884.069 rows=450028 loops=1)\n",
      "              Workers Planned: 2\n",
      "              Workers Launched: 2\n",
      "              ->  Partial GroupAggregate  (cost=2133754.24..2142803.52 rows=226232 width=201) (actual time=40481.177..40766.210 rows=150009 loops=3)\n",
      "                    Group Key: c_custkey, c_name, c_acctbal, c_phone, n_name, c_address, c_comment\n",
      "                    ->  Sort  (cost=2133754.24..2134319.82 rows=226232 width=181) (actual time=40480.802..40522.560 rows=382361 loops=3)\n",
      "                          Sort Key: c_custkey, c_name, c_acctbal, c_phone, n_name, c_address, c_comment\n",
      "                          Sort Method: external merge  Disk: 72416kB\n",
      "                          Worker 0:  Sort Method: external merge  Disk: 72488kB\n",
      "                          Worker 1:  Sort Method: external merge  Disk: 74080kB\n",
      "                          ->  Parallel Seq Scan on customer_order_lineitem_nation  (cost=0.00..2093526.30 rows=226232 width=181) (actual time=1.451..39052.473 rows=382361 loops=3)\n",
      "                                Filter: ((o_orderdate >= '1993-10-01'::date) AND (o_orderdate < '1994-01-01 00:00:00'::timestamp without time zone) AND (l_returnflag = 'R'::bpchar))\n",
      "                                Rows Removed by Filter: 19612989\n",
      "Planning Time: 5.117 ms\n",
      "Execution Time: 41637.828 ms\n"
     ]
    }
   ],
   "source": [
    "conn.rollback()\n",
    "with conn.cursor() as cur:\n",
    "    cur.execute(\"SET enable_seqscan = on;\")\n",
    "    cur.execute(\"SET enable_indexscan = on;\")\n",
    "    cur.execute(\"SET enable_bitmapscan = on;\")\n",
    "    cur.execute(\"SET enable_indexonlyscan = off;\")\n",
    "    cur.execute(\"SET enable_nestloop = on;\")\n",
    "    cur.execute(\"SET enable_mergejoin = on;\")\n",
    "    cur.execute(\"SET enable_hashjoin = off;\")\n",
    "    cur.execute(\"SET enable_sort = on;\")\n",
    "    cur.execute(\"SET enable_hashagg = on;\")\n",
    "    conn.commit()\n",
    "\n",
    "explain_analyze(query_10)"
   ]
  },
  {
   "cell_type": "code",
   "execution_count": 55,
   "metadata": {},
   "outputs": [
    {
     "name": "stdout",
     "output_type": "stream",
     "text": [
      "First row: \n",
      " (1237537, 'Customer#001237537', Decimal('884989.6657'), Decimal('7840.17'), 'RUSSIA                   ', 'FNG6WgB1mopyyY,ajQTU qUPW5o', '32-367-120-4327', 'nag carefully about the regular packages. carefully reg')\n",
      "Size of query_10 result table: 78.5078125 MB\n"
     ]
    }
   ],
   "source": [
    "with conn.cursor() as cur:\n",
    "    \n",
    "    cur.execute(f\"CREATE TEMP TABLE temp_result AS {query_10};\")\n",
    "    cur.execute(\"SELECT * FROM temp_result;\")\n",
    "    result = cur.fetchone()\n",
    "    print(f\"First row: \\n {result}\")\n",
    "    cur.execute(\"SELECT pg_total_relation_size('temp_result');\")\n",
    "    size = cur.fetchall()\n",
    "    print(f\"Size of query_10 result table: {size[0][0]/(1024**2)} MB\")\n",
    "    cur.execute(\"DROP TABLE temp_result;\")"
   ]
  },
  {
   "cell_type": "markdown",
   "metadata": {},
   "source": [
    "## Indexes on customer order lineitem nation"
   ]
  },
  {
   "cell_type": "code",
   "execution_count": 115,
   "metadata": {},
   "outputs": [
    {
     "name": "stdout",
     "output_type": "stream",
     "text": [
      "Time to create idx_coln_orderdate ON customer_order_lineitem_nation (o_orderdate): 58.30237102508545 seconds\n"
     ]
    }
   ],
   "source": [
    "with conn.cursor() as cur:\n",
    "\n",
    "    start_time = time.time()\n",
    "    cur.execute(\"CREATE INDEX idx_coln_orderdate ON customer_order_lineitem_nation (o_orderdate);\")\n",
    "    end_time = time.time()\n",
    "    print(f\"Time to create idx_coln_orderdate ON customer_order_lineitem_nation (o_orderdate): {end_time - start_time} seconds\")\n",
    "\n",
    "    conn.commit()"
   ]
  },
  {
   "cell_type": "code",
   "execution_count": 33,
   "metadata": {},
   "outputs": [
    {
     "name": "stdout",
     "output_type": "stream",
     "text": [
      "Size of idx_coln_orderdate: 397.5078125 MB\n",
      "Size of idx_coln_orderdate: 0.38819122314453125 GB\n"
     ]
    }
   ],
   "source": [
    "with conn.cursor() as cur:    \n",
    "    cur.execute(\"SELECT pg_relation_size('idx_coln_orderdate');\")\n",
    "    index_size = cur.fetchone()[0]\n",
    "    print(f\"Size of idx_coln_orderdate: {index_size/(1024**2)} MB\")\n",
    "    print(f\"Size of idx_coln_orderdate: {index_size/(1024**3)} GB\")"
   ]
  },
  {
   "cell_type": "code",
   "execution_count": 116,
   "metadata": {},
   "outputs": [
    {
     "name": "stdout",
     "output_type": "stream",
     "text": [
      "Time to create idx_coln_l_returnflag ON customer_order_lineitem_nation (l_returnflag): 50.617753982543945 seconds\n"
     ]
    }
   ],
   "source": [
    "with conn.cursor() as cur:\n",
    "\n",
    "    start_time = time.time()\n",
    "    cur.execute(\"CREATE INDEX idx_coln_l_returnflag ON customer_order_lineitem_nation (l_returnflag);\")\n",
    "    end_time = time.time()\n",
    "    print(f\"Time to create idx_coln_l_returnflag ON customer_order_lineitem_nation (l_returnflag): {end_time - start_time} seconds\")\n",
    "\n",
    "    conn.commit()"
   ]
  },
  {
   "cell_type": "code",
   "execution_count": 34,
   "metadata": {},
   "outputs": [
    {
     "name": "stdout",
     "output_type": "stream",
     "text": [
      "Size of idx_coln_l_returnflag: 396.4609375 MB\n",
      "Size of idx_coln_l_returnflag: 0.38716888427734375 GB\n"
     ]
    }
   ],
   "source": [
    "with conn.cursor() as cur:    \n",
    "    cur.execute(\"SELECT pg_relation_size('idx_coln_l_returnflag');\")\n",
    "    index_size = cur.fetchone()[0]\n",
    "    print(f\"Size of idx_coln_l_returnflag: {index_size/(1024**2)} MB\")\n",
    "    print(f\"Size of idx_coln_l_returnflag: {index_size/(1024**3)} GB\")"
   ]
  },
  {
   "cell_type": "code",
   "execution_count": 120,
   "metadata": {},
   "outputs": [
    {
     "name": "stdout",
     "output_type": "stream",
     "text": [
      "Sort  (cost=1993769.88..1995073.30 rows=521368 width=201) (actual time=27869.242..27920.840 rows=381105 loops=1)\n",
      "  Sort Key: (sum((l_extendedprice * ('1'::numeric - l_discount)))) DESC\n",
      "  Sort Method: external merge  Disk: 71032kB\n",
      "  ->  Finalize GroupAggregate  (cost=1762926.53..1840898.93 rows=521368 width=201) (actual time=26794.582..27470.836 rows=381105 loops=1)\n",
      "        Group Key: c_custkey, c_name, c_acctbal, c_phone, n_name, c_address, c_comment\n",
      "        ->  Gather Merge  (cost=1762926.53..1824201.39 rows=452464 width=201) (actual time=26794.572..27186.217 rows=471540 loops=1)\n",
      "              Workers Planned: 2\n",
      "              Workers Launched: 2\n",
      "              ->  Partial GroupAggregate  (cost=1761926.51..1770975.79 rows=226232 width=201) (actual time=26778.571..27064.860 rows=157180 loops=3)\n",
      "                    Group Key: c_custkey, c_name, c_acctbal, c_phone, n_name, c_address, c_comment\n",
      "                    ->  Sort  (cost=1761926.51..1762492.09 rows=226232 width=181) (actual time=26778.550..26819.693 rows=382361 loops=3)\n",
      "                          Sort Key: c_custkey, c_name, c_acctbal, c_phone, n_name, c_address, c_comment\n",
      "                          Sort Method: external merge  Disk: 73024kB\n",
      "                          Worker 0:  Sort Method: external merge  Disk: 73016kB\n",
      "                          Worker 1:  Sort Method: external merge  Disk: 72944kB\n",
      "                          ->  Parallel Bitmap Heap Scan on customer_order_lineitem_nation  (cost=191528.42..1721698.56 rows=226232 width=181) (actual time=614.057..25486.247 rows=382361 loops=3)\n",
      "                                Recheck Cond: ((o_orderdate >= '1993-10-01'::date) AND (o_orderdate < '1994-01-01 00:00:00'::timestamp without time zone) AND (l_returnflag = 'R'::bpchar))\n",
      "                                Rows Removed by Index Recheck: 5330305\n",
      "                                Heap Blocks: exact=18676 lossy=155626\n",
      "                                ->  BitmapAnd  (cost=191528.42..191528.42 rows=542958 width=0) (actual time=616.643..616.643 rows=0 loops=1)\n",
      "                                      ->  Bitmap Index Scan on idx_coln_orderdate  (cost=0.00..29319.08 rows=2189051 width=0) (actual time=141.209..141.209 rows=2292924 loops=1)\n",
      "                                            Index Cond: ((o_orderdate >= '1993-10-01'::date) AND (o_orderdate < '1994-01-01 00:00:00'::timestamp without time zone))\n",
      "                                      ->  Bitmap Index Scan on idx_coln_l_returnflag  (cost=0.00..161937.61 rows=14878540 width=0) (actual time=467.246..467.246 rows=14808183 loops=1)\n",
      "                                            Index Cond: (l_returnflag = 'R'::bpchar)\n",
      "Planning Time: 2.122 ms\n",
      "Execution Time: 27970.529 ms\n"
     ]
    }
   ],
   "source": [
    "conn.rollback()\n",
    "with conn.cursor() as cur:\n",
    "    cur.execute(\"SET enable_seqscan = on;\")\n",
    "    cur.execute(\"SET enable_indexscan = on;\")\n",
    "    cur.execute(\"SET enable_bitmapscan = on;\")\n",
    "    cur.execute(\"SET enable_indexonlyscan = off;\")\n",
    "    cur.execute(\"SET enable_nestloop = on;\")\n",
    "    cur.execute(\"SET enable_mergejoin = on;\")\n",
    "    cur.execute(\"SET enable_hashjoin = off;\")\n",
    "    cur.execute(\"SET enable_sort = on;\")\n",
    "    cur.execute(\"SET enable_hashagg = on;\")\n",
    "    conn.commit()\n",
    "\n",
    "explain_analyze(query_10)"
   ]
  },
  {
   "cell_type": "markdown",
   "metadata": {},
   "source": [
    "We can see that the indexes are used and reduce the execution time."
   ]
  },
  {
   "cell_type": "markdown",
   "metadata": {},
   "source": [
    "## Mixed approach on order lineitem part"
   ]
  },
  {
   "cell_type": "code",
   "execution_count": 4,
   "metadata": {},
   "outputs": [],
   "source": [
    "query_10_1 = \"\"\"\n",
    "SELECT\n",
    "    c_custkey,\n",
    "    c_name,\n",
    "    SUM(l_extendedprice * (1 - l_discount)) AS revenue,\n",
    "    c_acctbal,\n",
    "    n_name,\n",
    "    c_address,\n",
    "    c_phone,\n",
    "    c_comment\n",
    "FROM\n",
    "    part_lineitem_order\n",
    "    JOIN customer c ON c.c_custkey = o_custkey\n",
    "    JOIN nation n ON c.c_nationkey = n.n_nationkey\n",
    "WHERE\n",
    "    o_orderdate >= DATE '1993-10-01'\n",
    "    AND o_orderdate < DATE '1993-10-01' + INTERVAL '3' MONTH\n",
    "    AND l_returnflag = 'R'\n",
    "GROUP BY\n",
    "    c_custkey,\n",
    "    c_name,\n",
    "    c_acctbal,\n",
    "    c_phone,\n",
    "    n_name,\n",
    "    c_address,\n",
    "    c_comment\n",
    "ORDER BY\n",
    "    revenue DESC;\n",
    "\"\"\"\n",
    "\n",
    "query_14_1 = \"\"\"\n",
    "SELECT\n",
    "    100.00 * SUM(CASE\n",
    "        WHEN p_type_prefix LIKE 'PROMO'\n",
    "        THEN l_extendedprice * (1 - l_discount)\n",
    "        ELSE 0\n",
    "    END) / SUM(l_extendedprice * (1 - l_discount)) AS promo_revenue\n",
    "FROM\n",
    "    part_lineitem_order\n",
    "WHERE\n",
    "    l_shipdate >= DATE '1995-09-01'\n",
    "    AND l_shipdate < DATE '1995-09-01' + INTERVAL '1' MONTH;\n",
    "\"\"\"\n",
    "\n",
    "query_17_1 = \"\"\"\n",
    "SELECT\n",
    "    SUM(l_extendedprice) / 7.0 AS avg_yearly\n",
    "FROM\n",
    "    part_lineitem_order\n",
    "WHERE\n",
    "    p_brand = 'Brand#23'\n",
    "    AND p_container = 'MED BOX'\n",
    "    AND l_quantity < avg_quantity;\n",
    "\"\"\""
   ]
  },
  {
   "cell_type": "code",
   "execution_count": 5,
   "metadata": {},
   "outputs": [],
   "source": [
    "query_materialized = \"\"\"\n",
    "\n",
    "CREATE MATERIALIZED VIEW part_lineitem_order AS\n",
    "SELECT\n",
    "    l_returnflag,\n",
    "    l_linestatus,\n",
    "    l_quantity,\n",
    "    l_extendedprice,\n",
    "    l_discount,\n",
    "    l_tax,\n",
    "    l_shipdate,\n",
    "    l_partkey,\n",
    "    p_partkey,\n",
    "    p_brand,\n",
    "    p_container,\n",
    "    SUBSTRING(p_type FROM 1 FOR 5) AS p_type_prefix,\n",
    "    0.2 * AVG(l_quantity) OVER (PARTITION BY l_partkey) AS avg_quantity,\n",
    "    o_orderkey,\n",
    "    o.o_custkey,\n",
    "    o.o_orderdate\n",
    "FROM\n",
    "    lineitem l\n",
    "JOIN\n",
    "    part p ON l.l_partkey = p.p_partkey\n",
    "JOIN\n",
    "    orders o ON l.l_orderkey = o.o_orderkey;\n",
    "\n",
    "\"\"\""
   ]
  },
  {
   "cell_type": "code",
   "execution_count": 6,
   "metadata": {},
   "outputs": [
    {
     "name": "stdout",
     "output_type": "stream",
     "text": [
      "Time taken to create materialized view: 339.64209485054016 seconds\n"
     ]
    }
   ],
   "source": [
    "conn.rollback()\n",
    "with conn.cursor() as cur:\n",
    "    start_time = time.time()\n",
    "    cur.execute(query_materialized)\n",
    "    end_time = time.time()\n",
    "    print(f\"Time taken to create materialized view: {end_time - start_time} seconds\")\n",
    "    conn.commit()"
   ]
  },
  {
   "cell_type": "code",
   "execution_count": 51,
   "metadata": {},
   "outputs": [
    {
     "name": "stdout",
     "output_type": "stream",
     "text": [
      "Sort  (cost=1783342.71..1784778.05 rows=574138 width=279) (actual time=31616.511..31677.911 rows=381105 loops=1)\n",
      "  Sort Key: (sum((part_lineitem_order.l_extendedprice * ('1'::numeric - part_lineitem_order.l_discount)))) DESC\n",
      "  Sort Method: external merge  Disk: 71032kB\n",
      "  ->  GroupAggregate  (cost=1372477.75..1579281.43 rows=574138 width=279) (actual time=29109.471..31058.942 rows=381105 loops=1)\n",
      "        Group Key: c.c_custkey, n.n_name\n",
      "        ->  Incremental Sort  (cost=1372477.75..1564927.98 rows=574138 width=259) (actual time=29109.463..30459.317 rows=1147084 loops=1)\n",
      "              Sort Key: c.c_custkey, n.n_name\n",
      "              Presorted Key: c.c_custkey\n",
      "              Full-sort Groups: 34124  Sort Method: quicksort  Average Memory: 31kB  Peak Memory: 31kB\n",
      "              ->  Nested Loop  (cost=1372477.45..1539091.77 rows=574138 width=259) (actual time=29109.413..30107.430 rows=1147084 loops=1)\n",
      "                    ->  Merge Join  (cost=1372477.30..1525052.30 rows=574138 width=159) (actual time=29109.403..29797.802 rows=1147084 loops=1)\n",
      "                          Merge Cond: (part_lineitem_order.o_custkey = c.c_custkey)\n",
      "                          ->  Gather Merge  (cost=1372470.09..1439337.93 rows=574138 width=16) (actual time=29108.975..29315.314 rows=1147084 loops=1)\n",
      "                                Workers Planned: 2\n",
      "                                Workers Launched: 2\n",
      "                                ->  Sort  (cost=1371470.07..1372068.13 rows=239224 width=16) (actual time=29006.836..29060.887 rows=382361 loops=3)\n",
      "                                      Sort Key: part_lineitem_order.o_custkey\n",
      "                                      Sort Method: external merge  Disk: 11024kB\n",
      "                                      Worker 0:  Sort Method: external merge  Disk: 10808kB\n",
      "                                      Worker 1:  Sort Method: external merge  Disk: 10832kB\n",
      "                                      ->  Parallel Seq Scan on part_lineitem_order  (cost=0.00..1346006.30 rows=239224 width=16) (actual time=0.186..28355.231 rows=382361 loops=3)\n",
      "                                            Filter: ((o_orderdate >= '1993-10-01'::date) AND (o_orderdate < '1994-01-01 00:00:00'::timestamp without time zone) AND (l_returnflag = 'R'::bpchar))\n",
      "                                            Rows Removed by Filter: 19612989\n",
      "                          ->  Index Scan using customer_pkey on customer c  (cost=0.43..74794.43 rows=1500000 width=147) (actual time=0.424..242.272 rows=1499998 loops=1)\n",
      "                    ->  Memoize  (cost=0.15..0.17 rows=1 width=108) (actual time=0.000..0.000 rows=1 loops=1147084)\n",
      "                          Cache Key: c.c_nationkey\n",
      "                          Cache Mode: logical\n",
      "                          Hits: 1147059  Misses: 25  Evictions: 0  Overflows: 0  Memory Usage: 4kB\n",
      "                          ->  Index Scan using nation_pkey on nation n  (cost=0.14..0.16 rows=1 width=108) (actual time=0.001..0.001 rows=1 loops=25)\n",
      "                                Index Cond: (n_nationkey = c.c_nationkey)\n",
      "Planning Time: 2.403 ms\n",
      "Execution Time: 31707.003 ms\n"
     ]
    }
   ],
   "source": [
    "conn.rollback()\n",
    "with conn.cursor() as cur:\n",
    "    cur.execute(\"SET enable_seqscan = on;\")\n",
    "    cur.execute(\"SET enable_indexscan = on;\")\n",
    "    cur.execute(\"SET enable_bitmapscan = on;\")\n",
    "    cur.execute(\"SET enable_indexonlyscan = off;\")\n",
    "    cur.execute(\"SET enable_nestloop = on;\")\n",
    "    cur.execute(\"SET enable_mergejoin = on;\")\n",
    "    cur.execute(\"SET enable_hashjoin = off;\")\n",
    "    cur.execute(\"SET enable_sort = on;\")\n",
    "    cur.execute(\"SET enable_hashagg = on;\")\n",
    "    conn.commit()\n",
    "\n",
    "explain_analyze(query_10_1)"
   ]
  },
  {
   "cell_type": "markdown",
   "metadata": {},
   "source": [
    "This result is interesting because it performs better than the previous query on customer_order_lineitem_nation with indexes."
   ]
  },
  {
   "cell_type": "code",
   "execution_count": 8,
   "metadata": {},
   "outputs": [
    {
     "name": "stdout",
     "output_type": "stream",
     "text": [
      "Finalize Aggregate  (cost=1040982.56..1040982.57 rows=1 width=32) (actual time=22416.982..22429.483 rows=1 loops=1)\n",
      "  ->  Gather  (cost=1040982.32..1040982.53 rows=2 width=64) (actual time=22416.905..22429.474 rows=3 loops=1)\n",
      "        Workers Planned: 2\n",
      "        Workers Launched: 2\n",
      "        ->  Partial Aggregate  (cost=1039982.32..1039982.33 rows=1 width=64) (actual time=22228.012..22228.013 rows=1 loops=3)\n",
      "              ->  Parallel Seq Scan on part_lineitem_order  (cost=0.00..1039220.40 rows=43538 width=96) (actual time=1.920..22113.036 rows=249741 loops=3)\n",
      "                    Filter: ((l_shipdate >= '1995-09-01'::date) AND (l_shipdate < '1995-10-01 00:00:00'::timestamp without time zone))\n",
      "                    Rows Removed by Filter: 19745610\n",
      "Planning Time: 15.610 ms\n",
      "Execution Time: 22432.104 ms\n"
     ]
    }
   ],
   "source": [
    "explain_analyze(query_14_1)"
   ]
  },
  {
   "cell_type": "code",
   "execution_count": 9,
   "metadata": {},
   "outputs": [
    {
     "name": "stdout",
     "output_type": "stream",
     "text": [
      "Finalize Aggregate  (cost=1061989.54..1061989.55 rows=1 width=32) (actual time=17460.999..17461.806 rows=1 loops=1)\n",
      "  ->  Gather  (cost=1061989.32..1061989.53 rows=2 width=32) (actual time=17460.951..17461.800 rows=3 loops=1)\n",
      "        Workers Planned: 2\n",
      "        Workers Launched: 2\n",
      "        ->  Partial Aggregate  (cost=1060989.32..1060989.33 rows=1 width=32) (actual time=17410.178..17410.179 rows=1 loops=3)\n",
      "              ->  Parallel Seq Scan on part_lineitem_order  (cost=0.00..1060989.13 rows=72 width=32) (actual time=34.027..17409.744 rows=1842 loops=3)\n",
      "                    Filter: ((l_quantity < avg_quantity) AND (p_brand = 'Brand#23'::bpchar) AND (p_container = 'MED BOX'::bpchar))\n",
      "                    Rows Removed by Filter: 19993509\n",
      "Planning Time: 6.260 ms\n",
      "Execution Time: 17461.827 ms\n"
     ]
    }
   ],
   "source": [
    "explain_analyze(query_17_1)"
   ]
  },
  {
   "cell_type": "markdown",
   "metadata": {},
   "source": [
    "The execution times of query 14 and 17 are similar to the ones using only part_lineitem."
   ]
  },
  {
   "cell_type": "markdown",
   "metadata": {},
   "source": [
    "## Indexes on order_lineitem_part"
   ]
  },
  {
   "cell_type": "code",
   "execution_count": 10,
   "metadata": {},
   "outputs": [
    {
     "name": "stdout",
     "output_type": "stream",
     "text": [
      "Time to create idx_plo_shipdate ON part_lineitem_order (l_shipdate): 39.903138160705566 seconds\n",
      "Size of idx_plo_shipdate: 397.546875 MB\n",
      "Size of idx_plo_shipdate: 0.3882293701171875 GB\n"
     ]
    }
   ],
   "source": [
    "with conn.cursor() as cur:\n",
    "\n",
    "    start_time = time.time()\n",
    "    cur.execute(\"CREATE INDEX idx_plo_shipdate ON part_lineitem_order (l_shipdate);\")\n",
    "    end_time = time.time()\n",
    "    print(f\"Time to create idx_plo_shipdate ON part_lineitem_order (l_shipdate): {end_time - start_time} seconds\")\n",
    "\n",
    "    cur.execute(\"SELECT pg_relation_size('idx_plo_shipdate');\")\n",
    "    index_size = cur.fetchone()[0]\n",
    "    print(f\"Size of idx_plo_shipdate: {index_size/(1024**2)} MB\")\n",
    "    print(f\"Size of idx_plo_shipdate: {index_size/(1024**3)} GB\")\n",
    "\n",
    "    conn.commit()"
   ]
  },
  {
   "cell_type": "code",
   "execution_count": 34,
   "metadata": {},
   "outputs": [
    {
     "name": "stdout",
     "output_type": "stream",
     "text": [
      "Time to create idx_plo_o_orderdate ON part_lineitem_order (o_orderdate): 45.10997986793518 seconds\n",
      "Size of idx_plo_o_orderdate: 397.5078125 MB\n",
      "Size of idx_plo_o_orderdate: 0.38819122314453125 GB\n"
     ]
    }
   ],
   "source": [
    "conn.rollback()\n",
    "with conn.cursor() as cur:\n",
    "\n",
    "    start_time = time.time()\n",
    "    cur.execute(\"CREATE INDEX idx_plo_o_orderdate ON part_lineitem_order (o_orderdate);\")\n",
    "    end_time = time.time()\n",
    "    print(f\"Time to create idx_plo_o_orderdate ON part_lineitem_order (o_orderdate): {end_time - start_time} seconds\")\n",
    "\n",
    "    cur.execute(\"SELECT pg_relation_size('idx_plo_o_orderdate');\")\n",
    "    index_size = cur.fetchone()[0]\n",
    "    print(f\"Size of idx_plo_o_orderdate: {index_size/(1024**2)} MB\")\n",
    "    print(f\"Size of idx_plo_o_orderdate: {index_size/(1024**3)} GB\")\n",
    "\n",
    "    conn.commit()"
   ]
  },
  {
   "cell_type": "code",
   "execution_count": 35,
   "metadata": {},
   "outputs": [
    {
     "name": "stdout",
     "output_type": "stream",
     "text": [
      "Time to create idx_plo_l_returnflag ON part_lineitem_order (l_returnflag): 51.507787227630615 seconds\n",
      "Size of idx_plo_l_returnflag: 396.4609375 MB\n",
      "Size of idx_plo_l_returnflag: 0.38716888427734375 GB\n"
     ]
    }
   ],
   "source": [
    "with conn.cursor() as cur:\n",
    "\n",
    "    start_time = time.time()\n",
    "    cur.execute(\"CREATE INDEX idx_plo_l_returnflag ON part_lineitem_order (l_returnflag);\")\n",
    "    end_time = time.time()\n",
    "    print(f\"Time to create idx_plo_l_returnflag ON part_lineitem_order (l_returnflag): {end_time - start_time} seconds\")\n",
    "\n",
    "    cur.execute(\"SELECT pg_relation_size('idx_plo_l_returnflag');\")\n",
    "    index_size = cur.fetchone()[0]\n",
    "    print(f\"Size of idx_plo_l_returnflag: {index_size/(1024**2)} MB\")\n",
    "    print(f\"Size of idx_plo_l_returnflag: {index_size/(1024**3)} GB\")\n",
    "\n",
    "    conn.commit()"
   ]
  },
  {
   "cell_type": "code",
   "execution_count": 13,
   "metadata": {},
   "outputs": [
    {
     "name": "stdout",
     "output_type": "stream",
     "text": [
      "Time to create idx_plo_brand ON part_lineitem_order (p_brand): 49.85310411453247 seconds\n",
      "Size of idx_plo_brand: 403.140625 MB\n",
      "Size of idx_plo_brand: 0.3936920166015625 GB\n"
     ]
    }
   ],
   "source": [
    "with conn.cursor() as cur:\n",
    "\n",
    "    start_time = time.time()\n",
    "    cur.execute(\"CREATE INDEX idx_plo_brand ON part_lineitem_order (p_brand);\")\n",
    "    end_time = time.time()\n",
    "    print(f\"Time to create idx_plo_brand ON part_lineitem_order (p_brand): {end_time - start_time} seconds\")\n",
    "\n",
    "    cur.execute(\"SELECT pg_relation_size('idx_plo_brand');\")\n",
    "    index_size = cur.fetchone()[0]\n",
    "    print(f\"Size of idx_plo_brand: {index_size/(1024**2)} MB\")\n",
    "    print(f\"Size of idx_plo_brand: {index_size/(1024**3)} GB\")\n",
    "\n",
    "    conn.commit()"
   ]
  },
  {
   "cell_type": "code",
   "execution_count": 14,
   "metadata": {},
   "outputs": [
    {
     "name": "stdout",
     "output_type": "stream",
     "text": [
      "Time to create idx_plo_container ON part_lineitem_order (p_container): 48.44050908088684 seconds\n",
      "Size of idx_plo_container: 403.1484375 MB\n",
      "Size of idx_plo_container: 0.39369964599609375 GB\n"
     ]
    }
   ],
   "source": [
    "with conn.cursor() as cur:\n",
    "\n",
    "    start_time = time.time()\n",
    "    cur.execute(\"CREATE INDEX idx_plo_container ON part_lineitem_order (p_container);\")\n",
    "    end_time = time.time()\n",
    "    print(f\"Time to create idx_plo_container ON part_lineitem_order (p_container): {end_time - start_time} seconds\")\n",
    "\n",
    "    cur.execute(\"SELECT pg_relation_size('idx_plo_container');\")\n",
    "    index_size = cur.fetchone()[0]\n",
    "    print(f\"Size of idx_plo_container: {index_size/(1024**2)} MB\")\n",
    "    print(f\"Size of idx_plo_container: {index_size/(1024**3)} GB\")\n",
    "\n",
    "    conn.commit()"
   ]
  },
  {
   "cell_type": "markdown",
   "metadata": {},
   "source": [
    "We tried also an index on o_custkey but it doesn't help neither is used by the optimizer."
   ]
  },
  {
   "cell_type": "code",
   "execution_count": 36,
   "metadata": {},
   "outputs": [
    {
     "name": "stdout",
     "output_type": "stream",
     "text": [
      "Sort  (cost=1783342.71..1784778.05 rows=574138 width=279) (actual time=24681.894..24732.574 rows=381105 loops=1)\n",
      "  Sort Key: (sum((part_lineitem_order.l_extendedprice * ('1'::numeric - part_lineitem_order.l_discount)))) DESC\n",
      "  Sort Method: external merge  Disk: 71032kB\n",
      "  ->  GroupAggregate  (cost=1372477.75..1579281.43 rows=574138 width=279) (actual time=22392.395..24324.839 rows=381105 loops=1)\n",
      "        Group Key: c.c_custkey, n.n_name\n",
      "        ->  Incremental Sort  (cost=1372477.75..1564927.98 rows=574138 width=259) (actual time=22392.382..23771.424 rows=1147084 loops=1)\n",
      "              Sort Key: c.c_custkey, n.n_name\n",
      "              Presorted Key: c.c_custkey\n",
      "              Full-sort Groups: 34124  Sort Method: quicksort  Average Memory: 31kB  Peak Memory: 31kB\n",
      "              ->  Nested Loop  (cost=1372477.45..1539091.77 rows=574138 width=259) (actual time=22392.291..23445.765 rows=1147084 loops=1)\n",
      "                    ->  Merge Join  (cost=1372477.30..1525052.30 rows=574138 width=159) (actual time=22392.265..23159.206 rows=1147084 loops=1)\n",
      "                          Merge Cond: (part_lineitem_order.o_custkey = c.c_custkey)\n",
      "                          ->  Gather Merge  (cost=1372470.09..1439337.93 rows=574138 width=16) (actual time=22391.713..22582.679 rows=1147084 loops=1)\n",
      "                                Workers Planned: 2\n",
      "                                Workers Launched: 2\n",
      "                                ->  Sort  (cost=1371470.07..1372068.13 rows=239224 width=16) (actual time=22384.044..22432.099 rows=382361 loops=3)\n",
      "                                      Sort Key: part_lineitem_order.o_custkey\n",
      "                                      Sort Method: external merge  Disk: 10952kB\n",
      "                                      Worker 0:  Sort Method: external merge  Disk: 10840kB\n",
      "                                      Worker 1:  Sort Method: external merge  Disk: 10864kB\n",
      "                                      ->  Parallel Seq Scan on part_lineitem_order  (cost=0.00..1346006.30 rows=239224 width=16) (actual time=0.300..21847.154 rows=382361 loops=3)\n",
      "                                            Filter: ((o_orderdate >= '1993-10-01'::date) AND (o_orderdate < '1994-01-01 00:00:00'::timestamp without time zone) AND (l_returnflag = 'R'::bpchar))\n",
      "                                            Rows Removed by Filter: 19612989\n",
      "                          ->  Index Scan using customer_pkey on customer c  (cost=0.43..74794.43 rows=1500000 width=147) (actual time=0.546..355.235 rows=1499998 loops=1)\n",
      "                    ->  Memoize  (cost=0.15..0.17 rows=1 width=108) (actual time=0.000..0.000 rows=1 loops=1147084)\n",
      "                          Cache Key: c.c_nationkey\n",
      "                          Cache Mode: logical\n",
      "                          Hits: 1147059  Misses: 25  Evictions: 0  Overflows: 0  Memory Usage: 4kB\n",
      "                          ->  Index Scan using nation_pkey on nation n  (cost=0.14..0.16 rows=1 width=108) (actual time=0.001..0.001 rows=1 loops=25)\n",
      "                                Index Cond: (n_nationkey = c.c_nationkey)\n",
      "Planning Time: 7.231 ms\n",
      "Execution Time: 24763.642 ms\n"
     ]
    }
   ],
   "source": [
    "conn.rollback()\n",
    "with conn.cursor() as cur:\n",
    "\n",
    "    cur.execute(\"SET enable_seqscan = on;\")\n",
    "    cur.execute(\"SET enable_bitmapscan = on;\")\n",
    "    cur.execute(\"SET enable_indexscan = on;\")\n",
    "    conn.commit()\n",
    "\n",
    "explain_analyze(query_10_1)"
   ]
  },
  {
   "cell_type": "code",
   "execution_count": 37,
   "metadata": {},
   "outputs": [
    {
     "name": "stdout",
     "output_type": "stream",
     "text": [
      "Sort  (cost=1764463.50..1765898.84 rows=574138 width=279) (actual time=31118.361..31169.077 rows=381105 loops=1)\n",
      "  Sort Key: (sum((part_lineitem_order.l_extendedprice * ('1'::numeric - part_lineitem_order.l_discount)))) DESC\n",
      "  Sort Method: external merge  Disk: 71032kB\n",
      "  ->  Finalize GroupAggregate  (cost=1388486.85..1560402.22 rows=574138 width=279) (actual time=29412.414..30743.582 rows=381105 loops=1)\n",
      "        Group Key: c.c_custkey, n.n_name\n",
      "        ->  Gather Merge  (cost=1388486.85..1548441.01 rows=478448 width=279) (actual time=29412.406..30368.193 rows=720217 loops=1)\n",
      "              Workers Planned: 2\n",
      "              Workers Launched: 2\n",
      "              ->  Partial GroupAggregate  (cost=1387486.83..1492216.22 rows=239224 width=279) (actual time=29395.420..30238.699 rows=240072 loops=3)\n",
      "                    Group Key: c.c_custkey, n.n_name\n",
      "                    ->  Incremental Sort  (cost=1387486.83..1486235.62 rows=239224 width=259) (actual time=29395.405..29984.904 rows=382361 loops=3)\n",
      "                          Sort Key: c.c_custkey, n.n_name\n",
      "                          Presorted Key: c.c_custkey\n",
      "                          Full-sort Groups: 11784  Sort Method: quicksort  Average Memory: 32kB  Peak Memory: 32kB\n",
      "                          Worker 0:  Full-sort Groups: 11750  Sort Method: quicksort  Average Memory: 31kB  Peak Memory: 31kB\n",
      "                          Worker 1:  Full-sort Groups: 11714  Sort Method: quicksort  Average Memory: 31kB  Peak Memory: 31kB\n",
      "                          ->  Nested Loop  (cost=1387486.45..1475470.54 rows=239224 width=259) (actual time=29394.868..29879.084 rows=382361 loops=3)\n",
      "                                ->  Merge Join  (cost=1387486.30..1469618.42 rows=239224 width=159) (actual time=29394.284..29777.805 rows=382361 loops=3)\n",
      "                                      Merge Cond: (part_lineitem_order.o_custkey = c.c_custkey)\n",
      "                                      ->  Sort  (cost=1387485.76..1388083.82 rows=239224 width=16) (actual time=29393.491..29444.221 rows=382361 loops=3)\n",
      "                                            Sort Key: part_lineitem_order.o_custkey\n",
      "                                            Sort Method: external merge  Disk: 10920kB\n",
      "                                            Worker 0:  Sort Method: external merge  Disk: 10888kB\n",
      "                                            Worker 1:  Sort Method: external merge  Disk: 10840kB\n",
      "                                            ->  Parallel Bitmap Heap Scan on part_lineitem_order  (cost=31180.64..1362021.98 rows=239224 width=16) (actual time=147.884..28449.611 rows=382361 loops=3)\n",
      "                                                  Recheck Cond: ((o_orderdate >= '1993-10-01'::date) AND (o_orderdate < '1994-01-01 00:00:00'::timestamp without time zone))\n",
      "                                                  Rows Removed by Index Recheck: 16710517\n",
      "                                                  Filter: (l_returnflag = 'R'::bpchar)\n",
      "                                                  Rows Removed by Filter: 381947\n",
      "                                                  Heap Blocks: exact=15416 lossy=264765\n",
      "                                                  ->  Bitmap Index Scan on idx_plo_o_orderdate  (cost=0.00..31037.10 rows=2317254 width=0) (actual time=151.882..151.882 rows=2292924 loops=1)\n",
      "                                                        Index Cond: ((o_orderdate >= '1993-10-01'::date) AND (o_orderdate < '1994-01-01 00:00:00'::timestamp without time zone))\n",
      "                                      ->  Index Scan using customer_pkey on customer c  (cost=0.43..74794.43 rows=1500000 width=147) (actual time=0.782..196.698 rows=1499996 loops=3)\n",
      "                                ->  Memoize  (cost=0.15..0.17 rows=1 width=108) (actual time=0.000..0.000 rows=1 loops=1147084)\n",
      "                                      Cache Key: c.c_nationkey\n",
      "                                      Cache Mode: logical\n",
      "                                      Hits: 383443  Misses: 25  Evictions: 0  Overflows: 0  Memory Usage: 4kB\n",
      "                                      Worker 0:  Hits: 382299  Misses: 25  Evictions: 0  Overflows: 0  Memory Usage: 4kB\n",
      "                                      Worker 1:  Hits: 381267  Misses: 25  Evictions: 0  Overflows: 0  Memory Usage: 4kB\n",
      "                                      ->  Index Scan using nation_pkey on nation n  (cost=0.14..0.16 rows=1 width=108) (actual time=0.023..0.023 rows=1 loops=75)\n",
      "                                            Index Cond: (n_nationkey = c.c_nationkey)\n",
      "Planning Time: 7.187 ms\n",
      "Execution Time: 31198.418 ms\n"
     ]
    }
   ],
   "source": [
    "conn.rollback()\n",
    "with conn.cursor() as cur:\n",
    "\n",
    "    cur.execute(\"SET enable_seqscan = off;\")\n",
    "    cur.execute(\"SET enable_bitmapscan = on;\")\n",
    "    cur.execute(\"SET enable_indexscan = on;\")\n",
    "    conn.commit()\n",
    "\n",
    "explain_analyze(query_10_1)"
   ]
  },
  {
   "cell_type": "markdown",
   "metadata": {},
   "source": [
    "We note that the indexes worsen the results."
   ]
  },
  {
   "cell_type": "markdown",
   "metadata": {},
   "source": [
    "If we force the optimizer to use them we get worse results, so we drop them."
   ]
  },
  {
   "cell_type": "code",
   "execution_count": 38,
   "metadata": {},
   "outputs": [],
   "source": [
    "with conn.cursor() as cur:\n",
    "    \n",
    "    cur.execute(\"drop index if exists idx_plo_o_orderdate;\")\n",
    "\n",
    "    conn.commit()"
   ]
  },
  {
   "cell_type": "code",
   "execution_count": 39,
   "metadata": {},
   "outputs": [
    {
     "name": "stdout",
     "output_type": "stream",
     "text": [
      "Sort  (cost=1898491.04..1899926.38 rows=574138 width=279) (actual time=31421.579..31472.768 rows=381105 loops=1)\n",
      "  Sort Key: (sum((part_lineitem_order.l_extendedprice * ('1'::numeric - part_lineitem_order.l_discount)))) DESC\n",
      "  Sort Method: external merge  Disk: 71032kB\n",
      "  ->  Finalize GroupAggregate  (cost=1522514.39..1694429.76 rows=574138 width=279) (actual time=29710.085..31036.011 rows=381105 loops=1)\n",
      "        Group Key: c.c_custkey, n.n_name\n",
      "        ->  Gather Merge  (cost=1522514.39..1682468.55 rows=478448 width=279) (actual time=29710.047..30655.132 rows=719135 loops=1)\n",
      "              Workers Planned: 2\n",
      "              Workers Launched: 2\n",
      "              ->  Partial GroupAggregate  (cost=1521514.37..1626243.76 rows=239224 width=279) (actual time=29693.407..30537.172 rows=239712 loops=3)\n",
      "                    Group Key: c.c_custkey, n.n_name\n",
      "                    ->  Incremental Sort  (cost=1521514.37..1620263.16 rows=239224 width=259) (actual time=29693.378..30281.841 rows=382361 loops=3)\n",
      "                          Sort Key: c.c_custkey, n.n_name\n",
      "                          Presorted Key: c.c_custkey\n",
      "                          Full-sort Groups: 12023  Sort Method: quicksort  Average Memory: 32kB  Peak Memory: 32kB\n",
      "                          Worker 0:  Full-sort Groups: 11578  Sort Method: quicksort  Average Memory: 32kB  Peak Memory: 32kB\n",
      "                          Worker 1:  Full-sort Groups: 11652  Sort Method: quicksort  Average Memory: 32kB  Peak Memory: 32kB\n",
      "                          ->  Nested Loop  (cost=1521513.99..1609498.08 rows=239224 width=259) (actual time=29692.858..30175.142 rows=382361 loops=3)\n",
      "                                ->  Merge Join  (cost=1521513.84..1603645.96 rows=239224 width=159) (actual time=29692.422..30073.075 rows=382361 loops=3)\n",
      "                                      Merge Cond: (part_lineitem_order.o_custkey = c.c_custkey)\n",
      "                                      ->  Sort  (cost=1521513.30..1522111.36 rows=239224 width=16) (actual time=29691.661..29737.614 rows=382361 loops=3)\n",
      "                                            Sort Key: part_lineitem_order.o_custkey\n",
      "                                            Sort Method: external merge  Disk: 11112kB\n",
      "                                            Worker 0:  Sort Method: external merge  Disk: 10736kB\n",
      "                                            Worker 1:  Sort Method: external merge  Disk: 10800kB\n",
      "                                            ->  Parallel Bitmap Heap Scan on part_lineitem_order  (cost=161909.19..1496049.52 rows=239224 width=16) (actual time=605.322..28677.912 rows=382361 loops=3)\n",
      "                                                  Recheck Cond: (l_returnflag = 'R'::bpchar)\n",
      "                                                  Rows Removed by Index Recheck: 14179296\n",
      "                                                  Filter: ((o_orderdate >= '1993-10-01'::date) AND (o_orderdate < '1994-01-01 00:00:00'::timestamp without time zone))\n",
      "                                                  Rows Removed by Filter: 4553700\n",
      "                                                  Heap Blocks: exact=18079 lossy=291149\n",
      "                                                  ->  Bitmap Index Scan on idx_plo_l_returnflag  (cost=0.00..161765.65 rows=14862545 width=0) (actual time=607.970..607.978 rows=14808183 loops=1)\n",
      "                                                        Index Cond: (l_returnflag = 'R'::bpchar)\n",
      "                                      ->  Index Scan using customer_pkey on customer c  (cost=0.43..74794.43 rows=1500000 width=147) (actual time=0.737..197.304 rows=1499996 loops=3)\n",
      "                                ->  Memoize  (cost=0.15..0.17 rows=1 width=108) (actual time=0.000..0.000 rows=1 loops=1147084)\n",
      "                                      Cache Key: c.c_nationkey\n",
      "                                      Cache Mode: logical\n",
      "                                      Hits: 391279  Misses: 25  Evictions: 0  Overflows: 0  Memory Usage: 4kB\n",
      "                                      Worker 0:  Hits: 376575  Misses: 25  Evictions: 0  Overflows: 0  Memory Usage: 4kB\n",
      "                                      Worker 1:  Hits: 379155  Misses: 25  Evictions: 0  Overflows: 0  Memory Usage: 4kB\n",
      "                                      ->  Index Scan using nation_pkey on nation n  (cost=0.14..0.16 rows=1 width=108) (actual time=0.017..0.017 rows=1 loops=75)\n",
      "                                            Index Cond: (n_nationkey = c.c_nationkey)\n",
      "Planning Time: 2.649 ms\n",
      "Execution Time: 31502.053 ms\n"
     ]
    }
   ],
   "source": [
    "explain_analyze(query_10_1)"
   ]
  },
  {
   "cell_type": "code",
   "execution_count": 40,
   "metadata": {},
   "outputs": [],
   "source": [
    "with conn.cursor() as cur:\n",
    "    \n",
    "    cur.execute(\"drop index if exists idx_plo_l_returnflag;\")\n",
    "\n",
    "    conn.commit()"
   ]
  },
  {
   "cell_type": "code",
   "execution_count": 41,
   "metadata": {},
   "outputs": [
    {
     "name": "stdout",
     "output_type": "stream",
     "text": [
      "Sort  (cost=10001748447.81..10001749883.16 rows=574138 width=279) (actual time=22364.280..22415.015 rows=381105 loops=1)\n",
      "  Sort Key: (sum((part_lineitem_order.l_extendedprice * ('1'::numeric - part_lineitem_order.l_discount)))) DESC\n",
      "  Sort Method: external merge  Disk: 71032kB\n",
      "  ->  Finalize GroupAggregate  (cost=10001372471.17..10001544386.53 rows=574138 width=279) (actual time=20634.133..21979.730 rows=381105 loops=1)\n",
      "        Group Key: c.c_custkey, n.n_name\n",
      "        ->  Gather Merge  (cost=10001372471.17..10001532425.33 rows=478448 width=279) (actual time=20634.123..21602.432 rows=719814 loops=1)\n",
      "              Workers Planned: 2\n",
      "              Workers Launched: 2\n",
      "              ->  Partial GroupAggregate  (cost=10001371471.14..10001476200.53 rows=239224 width=279) (actual time=20606.636..21469.478 rows=239938 loops=3)\n",
      "                    Group Key: c.c_custkey, n.n_name\n",
      "                    ->  Incremental Sort  (cost=10001371471.14..10001470219.93 rows=239224 width=259) (actual time=20606.623..21216.172 rows=382361 loops=3)\n",
      "                          Sort Key: c.c_custkey, n.n_name\n",
      "                          Presorted Key: c.c_custkey\n",
      "                          Full-sort Groups: 12106  Sort Method: quicksort  Average Memory: 32kB  Peak Memory: 32kB\n",
      "                          Worker 0:  Full-sort Groups: 11600  Sort Method: quicksort  Average Memory: 32kB  Peak Memory: 32kB\n",
      "                          Worker 1:  Full-sort Groups: 11547  Sort Method: quicksort  Average Memory: 31kB  Peak Memory: 31kB\n",
      "                          ->  Nested Loop  (cost=10001371470.77..10001459454.85 rows=239224 width=259) (actual time=20606.352..21110.351 rows=382361 loops=3)\n",
      "                                ->  Merge Join  (cost=10001371470.62..10001453602.74 rows=239224 width=159) (actual time=20606.270..21009.303 rows=382361 loops=3)\n",
      "                                      Merge Cond: (part_lineitem_order.o_custkey = c.c_custkey)\n",
      "                                      ->  Sort  (cost=10001371470.07..10001372068.13 rows=239224 width=16) (actual time=20606.066..20652.670 rows=382361 loops=3)\n",
      "                                            Sort Key: part_lineitem_order.o_custkey\n",
      "                                            Sort Method: external merge  Disk: 11232kB\n",
      "                                            Worker 0:  Sort Method: external merge  Disk: 10752kB\n",
      "                                            Worker 1:  Sort Method: external merge  Disk: 10672kB\n",
      "                                            ->  Parallel Seq Scan on part_lineitem_order  (cost=10000000000.00..10001346006.30 rows=239224 width=16) (actual time=0.179..19993.527 rows=382361 loops=3)\n",
      "                                                  Filter: ((o_orderdate >= '1993-10-01'::date) AND (o_orderdate < '1994-01-01 00:00:00'::timestamp without time zone) AND (l_returnflag = 'R'::bpchar))\n",
      "                                                  Rows Removed by Filter: 19612989\n",
      "                                      ->  Index Scan using customer_pkey on customer c  (cost=0.43..74794.43 rows=1500000 width=147) (actual time=0.194..219.408 rows=1499996 loops=3)\n",
      "                                ->  Memoize  (cost=0.15..0.17 rows=1 width=108) (actual time=0.000..0.000 rows=1 loops=1147084)\n",
      "                                      Cache Key: c.c_nationkey\n",
      "                                      Cache Mode: logical\n",
      "                                      Hits: 394112  Misses: 25  Evictions: 0  Overflows: 0  Memory Usage: 4kB\n",
      "                                      Worker 0:  Hits: 377177  Misses: 25  Evictions: 0  Overflows: 0  Memory Usage: 4kB\n",
      "                                      Worker 1:  Hits: 375720  Misses: 25  Evictions: 0  Overflows: 0  Memory Usage: 4kB\n",
      "                                      ->  Index Scan using nation_pkey on nation n  (cost=0.14..0.16 rows=1 width=108) (actual time=0.003..0.003 rows=1 loops=75)\n",
      "                                            Index Cond: (n_nationkey = c.c_nationkey)\n",
      "Planning Time: 2.379 ms\n",
      "Execution Time: 22444.800 ms\n"
     ]
    }
   ],
   "source": [
    "explain_analyze(query_10_1)"
   ]
  },
  {
   "cell_type": "code",
   "execution_count": 20,
   "metadata": {},
   "outputs": [
    {
     "name": "stdout",
     "output_type": "stream",
     "text": [
      "Finalize Aggregate  (cost=953373.48..953373.50 rows=1 width=32) (actual time=20537.260..20543.182 rows=1 loops=1)\n",
      "  ->  Gather  (cost=953373.25..953373.46 rows=2 width=64) (actual time=20536.383..20543.122 rows=3 loops=1)\n",
      "        Workers Planned: 2\n",
      "        Workers Launched: 2\n",
      "        ->  Partial Aggregate  (cost=952373.25..952373.26 rows=1 width=64) (actual time=20472.197..20472.199 rows=1 loops=3)\n",
      "              ->  Parallel Bitmap Heap Scan on part_lineitem_order  (cost=4094.85..950186.25 rows=124971 width=96) (actual time=87.988..20026.335 rows=249741 loops=3)\n",
      "                    Recheck Cond: ((l_shipdate >= '1995-09-01'::date) AND (l_shipdate < '1995-10-01 00:00:00'::timestamp without time zone))\n",
      "                    Rows Removed by Index Recheck: 9983234\n",
      "                    Heap Blocks: exact=16276 lossy=155345\n",
      "                    ->  Bitmap Index Scan on idx_plo_shipdate  (cost=0.00..4019.87 rows=299930 width=0) (actual time=145.760..145.760 rows=749223 loops=1)\n",
      "                          Index Cond: ((l_shipdate >= '1995-09-01'::date) AND (l_shipdate < '1995-10-01 00:00:00'::timestamp without time zone))\n",
      "Planning Time: 1.142 ms\n",
      "Execution Time: 20543.236 ms\n"
     ]
    }
   ],
   "source": [
    "explain_analyze(query_14_1)"
   ]
  },
  {
   "cell_type": "code",
   "execution_count": 25,
   "metadata": {},
   "outputs": [
    {
     "name": "stdout",
     "output_type": "stream",
     "text": [
      "Aggregate  (cost=12413.43..12413.44 rows=1 width=32) (actual time=1461.615..1461.622 rows=1 loops=1)\n",
      "  ->  Bitmap Heap Scan on part_lineitem_order  (cost=6572.58..12412.17 rows=500 width=32) (actual time=154.493..1460.190 rows=5526 loops=1)\n",
      "        Recheck Cond: ((p_container = 'MED BOX'::bpchar) AND (p_brand = 'Brand#23'::bpchar))\n",
      "        Rows Removed by Index Recheck: 294271\n",
      "        Filter: (l_quantity < avg_quantity)\n",
      "        Rows Removed by Filter: 55859\n",
      "        Heap Blocks: exact=2653 lossy=4541\n",
      "        ->  BitmapAnd  (cost=6572.58..6572.58 rows=1500 width=0) (actual time=153.482..153.484 rows=0 loops=1)\n",
      "              ->  Bitmap Index Scan on idx_plo_container  (cost=0.00..3286.04 rows=299930 width=0) (actual time=62.933..62.933 rows=1504601 loops=1)\n",
      "                    Index Cond: (p_container = 'MED BOX'::bpchar)\n",
      "              ->  Bitmap Index Scan on idx_plo_brand  (cost=0.00..3286.04 rows=299930 width=0) (actual time=87.636..87.637 rows=2391264 loops=1)\n",
      "                    Index Cond: (p_brand = 'Brand#23'::bpchar)\n",
      "Planning Time: 3.259 ms\n",
      "Execution Time: 1462.390 ms\n"
     ]
    }
   ],
   "source": [
    "explain_analyze(query_17_1)"
   ]
  },
  {
   "cell_type": "markdown",
   "metadata": {},
   "source": [
    "## Indexes used"
   ]
  },
  {
   "cell_type": "code",
   "execution_count": 26,
   "metadata": {},
   "outputs": [
    {
     "name": "stdout",
     "output_type": "stream",
     "text": [
      "Index Name: idx_plo_shipdate\n",
      "Index Definition: CREATE INDEX idx_plo_shipdate ON public.part_lineitem_order USING btree (l_shipdate)\n",
      "\n",
      "Index Name: idx_plo_brand\n",
      "Index Definition: CREATE INDEX idx_plo_brand ON public.part_lineitem_order USING btree (p_brand)\n",
      "\n",
      "Index Name: idx_plo_container\n",
      "Index Definition: CREATE INDEX idx_plo_container ON public.part_lineitem_order USING btree (p_container)\n",
      "\n"
     ]
    }
   ],
   "source": [
    "conn.rollback()\n",
    "check_indexes('part_lineitem_order')"
   ]
  },
  {
   "cell_type": "markdown",
   "metadata": {},
   "source": [
    "## Size of materialized views"
   ]
  },
  {
   "cell_type": "code",
   "execution_count": 29,
   "metadata": {},
   "outputs": [
    {
     "name": "stdout",
     "output_type": "stream",
     "text": [
      "Relation size: 6581.50 MB\n",
      "Relation size: 6.43 GB\n",
      "Table (relation + TOAST) size: 6583.35 MB\n",
      "Table (relation + TOAST) size: 6.43 GB\n",
      "Index size for table part_lineitem: 1203.84 MB\n",
      "Index size for table part_lineitem: 1.18 GB\n",
      "Total size (relation + TOAST + index): 7787.19 MB\n",
      "Total size (relation + TOAST + index): 7.60 GB \n",
      "\n"
     ]
    }
   ],
   "source": [
    "collect_size('part_lineitem')"
   ]
  },
  {
   "cell_type": "code",
   "execution_count": 28,
   "metadata": {},
   "outputs": [
    {
     "name": "stdout",
     "output_type": "stream",
     "text": [
      "Relation size: 7098.00 MB\n",
      "Relation size: 6.93 GB\n",
      "Table (relation + TOAST) size: 7099.99 MB\n",
      "Table (relation + TOAST) size: 6.93 GB\n",
      "Index size for table part_lineitem_order: 1203.84 MB\n",
      "Index size for table part_lineitem_order: 1.18 GB\n",
      "Total size (relation + TOAST + index): 8303.83 MB\n",
      "Total size (relation + TOAST + index): 8.11 GB \n",
      "\n"
     ]
    }
   ],
   "source": [
    "collect_size('part_lineitem_order')"
   ]
  },
  {
   "cell_type": "code",
   "execution_count": 27,
   "metadata": {},
   "outputs": [
    {
     "name": "stdout",
     "output_type": "stream",
     "text": [
      "Relation size: 12938.50 MB\n",
      "Relation size: 12.64 GB\n",
      "Table (relation + TOAST) size: 12942.11 MB\n",
      "Table (relation + TOAST) size: 12.64 GB\n",
      "Index size for table customer_order_lineitem_nation: 793.97 MB\n",
      "Index size for table customer_order_lineitem_nation: 0.78 GB\n",
      "Total size (relation + TOAST + index): 13736.08 MB\n",
      "Total size (relation + TOAST + index): 13.41 GB \n",
      "\n"
     ]
    }
   ],
   "source": [
    "collect_size('customer_order_lineitem_nation')"
   ]
  },
  {
   "cell_type": "markdown",
   "metadata": {},
   "source": [
    "## Conclusion\n",
    "\n",
    "We can see that the gain of using 2 different materialized views wrt using a single one with part order lineitem are the same. the only useful indexes on part order lineitem are p_brand and p_container that speed up a lot the query.\n",
    "\n",
    "since we risparmiare time and space by creating only one mv, we choose to use that, also because it can be helpful for many other queries, in fact the tables part order lineitem are the \"core\" of the db.\n",
    "\n",
    "so we keep only part lineitem order as mv, drop the others"
   ]
  },
  {
   "cell_type": "code",
   "execution_count": 44,
   "metadata": {},
   "outputs": [],
   "source": [
    "with conn.cursor() as cur:\n",
    "    cur.execute(\"drop materialized view part_lineitem;\")\n",
    "    cur.execute(\"drop materialized view customer_order_lineitem_nation;\")\n",
    "    conn.commit()"
   ]
  }
 ],
 "metadata": {
  "kernelspec": {
   "display_name": "Python 3",
   "language": "python",
   "name": "python3"
  },
  "language_info": {
   "codemirror_mode": {
    "name": "ipython",
    "version": 3
   },
   "file_extension": ".py",
   "mimetype": "text/x-python",
   "name": "python",
   "nbconvert_exporter": "python",
   "pygments_lexer": "ipython3",
   "version": "3.9.18"
  }
 },
 "nbformat": 4,
 "nbformat_minor": 2
}
