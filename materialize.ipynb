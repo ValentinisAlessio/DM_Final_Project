{
 "cells": [
  {
   "cell_type": "code",
   "execution_count": 28,
   "metadata": {},
   "outputs": [],
   "source": [
    "import psycopg2\n",
    "import time\n",
    "\n",
    "# establish a connection to the PostgreSQL database\n",
    "conn = psycopg2.connect(\n",
    "    dbname = \"dw_cs\", \n",
    "    user = \"postgres\", \n",
    "    host= 'localhost',\n",
    "    #host = '172.30.160.1',\n",
    "    password = \"postgres\",\n",
    "    port = 5432\n",
    ")"
   ]
  },
  {
   "cell_type": "code",
   "execution_count": 29,
   "metadata": {},
   "outputs": [],
   "source": [
    "def check_indexes(table_name):\n",
    "\n",
    "    with conn.cursor() as cur:\n",
    "        query = f\"\"\"\n",
    "        SELECT\n",
    "            indexname,\n",
    "            indexdef\n",
    "        FROM\n",
    "            pg_indexes\n",
    "        WHERE\n",
    "            tablename = '{table_name}';\n",
    "        \"\"\"\n",
    "\n",
    "        cur.execute(query)      \n",
    "        \n",
    "        indexes = cur.fetchall()\n",
    "        \n",
    "        for index in indexes:\n",
    "            print(f\"Index Name: {index[0]}\")\n",
    "            print(f\"Index Definition: {index[1]}\\n\")\n",
    "\n",
    "# function to explain-analyze a query\n",
    "\n",
    "def explain_analyze(query, analyze = True):\n",
    "    conn.rollback()\n",
    "    with conn.cursor() as cur:\n",
    "        if analyze:\n",
    "            cur.execute(f\"EXPLAIN ANALYZE {query}\")\n",
    "        else:\n",
    "            cur.execute(f\"EXPLAIN {query}\")\n",
    "        explain = cur.fetchall()\n",
    "\n",
    "        for line in explain:\n",
    "            print(line[0])"
   ]
  },
  {
   "cell_type": "markdown",
   "metadata": {},
   "source": [
    "## Check indexes"
   ]
  },
  {
   "cell_type": "code",
   "execution_count": 30,
   "metadata": {},
   "outputs": [
    {
     "name": "stdout",
     "output_type": "stream",
     "text": [
      "Index Name: nation_pkey\n",
      "Index Definition: CREATE UNIQUE INDEX nation_pkey ON public.nation USING btree (n_nationkey)\n",
      "\n",
      "Index Name: part_pkey\n",
      "Index Definition: CREATE UNIQUE INDEX part_pkey ON public.part USING btree (p_partkey)\n",
      "\n",
      "Index Name: supplier_pkey\n",
      "Index Definition: CREATE UNIQUE INDEX supplier_pkey ON public.supplier USING btree (s_suppkey)\n",
      "\n",
      "Index Name: customer_pkey\n",
      "Index Definition: CREATE UNIQUE INDEX customer_pkey ON public.customer USING btree (c_custkey)\n",
      "\n",
      "Index Name: region_pkey\n",
      "Index Definition: CREATE UNIQUE INDEX region_pkey ON public.region USING btree (r_regionkey)\n",
      "\n",
      "Index Name: partsupp_pkey\n",
      "Index Definition: CREATE UNIQUE INDEX partsupp_pkey ON public.partsupp USING btree (ps_partkey, ps_suppkey)\n",
      "\n",
      "Index Name: orders_pkey\n",
      "Index Definition: CREATE UNIQUE INDEX orders_pkey ON public.orders USING btree (o_orderkey)\n",
      "\n"
     ]
    }
   ],
   "source": [
    "a = ['nation', 'part', 'supplier', 'customer', 'lineitem', 'region', 'partsupp', 'orders']\n",
    "\n",
    "conn.rollback()\n",
    "for table in a:\n",
    "    check_indexes(table)"
   ]
  },
  {
   "cell_type": "code",
   "execution_count": 31,
   "metadata": {},
   "outputs": [],
   "source": [
    "conn.rollback()\n",
    "with conn.cursor() as cur:\n",
    "    query = \"\"\"\n",
    "    drop index if exists idx_o_orderdate;\n",
    "    \"\"\"\n",
    "    cur.execute(query)\n",
    "    conn.commit()"
   ]
  },
  {
   "cell_type": "markdown",
   "metadata": {},
   "source": [
    "## Query 1\n",
    "\n",
    "is it necessary to create a mv for this query? we don't expect so much gain because of the sequential scan on shipdate. we could perform a group by, but in this way we can't add shipdate and adding this information to\n"
   ]
  },
  {
   "cell_type": "markdown",
   "metadata": {},
   "source": [
    "## Materialized on part lineitem"
   ]
  },
  {
   "cell_type": "code",
   "execution_count": 32,
   "metadata": {},
   "outputs": [
    {
     "name": "stdout",
     "output_type": "stream",
     "text": [
      "Time taken to create materialized view: 310.9520151615143 seconds\n"
     ]
    }
   ],
   "source": [
    "conn.rollback()\n",
    "with conn.cursor() as cur:\n",
    "    cur.execute(\"SET enable_seqscan = on;\")\n",
    "    cur.execute(\"SET enable_indexscan = on;\")\n",
    "    cur.execute(\"SET enable_bitmapscan = on;\")\n",
    "    cur.execute(\"SET enable_indexonlyscan = off;\")\n",
    "    cur.execute(\"SET enable_nestloop = on;\")\n",
    "    cur.execute(\"SET enable_mergejoin = on;\")\n",
    "    cur.execute(\"SET enable_hashjoin = on;\")\n",
    "    cur.execute(\"SET enable_sort = on;\")\n",
    "    cur.execute(\"SET enable_hashagg = on;\")\n",
    "    conn.commit()\n",
    "\n",
    "query_materialized = \"\"\"\n",
    "\n",
    "CREATE MATERIALIZED VIEW part_lineitem AS\n",
    "SELECT\n",
    "    l_returnflag,\n",
    "    l_linestatus,\n",
    "    l_quantity,\n",
    "    l_extendedprice,\n",
    "    l_discount,\n",
    "    l_tax,\n",
    "    l_shipdate,\n",
    "    l_partkey,\n",
    "    p_partkey,\n",
    "    p_brand,\n",
    "    p_container,\n",
    "    SUBSTRING(p_type FROM 1 FOR 5) AS p_type_prefix,\n",
    "    0.2 * AVG(l_quantity) OVER (PARTITION BY l_partkey) AS avg_quantity\n",
    "FROM\n",
    "    lineitem l\n",
    "JOIN\n",
    "    part p ON l.l_partkey = p.p_partkey;\n",
    "\n",
    "\"\"\"\n",
    "\n",
    "with conn.cursor() as cur:\n",
    "    start_time = time.time()\n",
    "    cur.execute(query_materialized)\n",
    "    end_time = time.time()\n",
    "    print(f\"Time taken to create materialized view: {end_time - start_time} seconds\")\n",
    "    conn.commit()"
   ]
  },
  {
   "cell_type": "markdown",
   "metadata": {},
   "source": [
    "we allowed to use hash join since we are not interested in indexes performance."
   ]
  },
  {
   "cell_type": "code",
   "execution_count": 33,
   "metadata": {},
   "outputs": [
    {
     "name": "stdout",
     "output_type": "stream",
     "text": [
      "Size of materialised view: 6581.5078125 MB\n",
      "Size of materialised view: 6.427253723144531 GB\n"
     ]
    }
   ],
   "source": [
    "conn.rollback()\n",
    "with conn.cursor() as cur:\n",
    "    \n",
    "    cur.execute(\"SELECT pg_total_relation_size('part_lineitem');\")\n",
    "    size = cur.fetchall()\n",
    "    print(f\"Size of materialised view: {size[0][0]/(1024**2)} MB\")\n",
    "    print(f\"Size of materialised view: {size[0][0]/(1024**3)} GB\")"
   ]
  },
  {
   "cell_type": "code",
   "execution_count": 34,
   "metadata": {},
   "outputs": [],
   "source": [
    "conn.rollback()\n",
    "check_indexes('part_lineitem')"
   ]
  },
  {
   "cell_type": "markdown",
   "metadata": {},
   "source": [
    "### Query 14"
   ]
  },
  {
   "cell_type": "code",
   "execution_count": 35,
   "metadata": {},
   "outputs": [],
   "source": [
    "conn.rollback()\n",
    "with conn.cursor() as cur:\n",
    "    cur.execute(\"SET enable_seqscan = on;\")\n",
    "    cur.execute(\"SET enable_indexscan = on;\")\n",
    "    cur.execute(\"SET enable_bitmapscan = on;\")\n",
    "    cur.execute(\"SET enable_indexonlyscan = off;\")\n",
    "    cur.execute(\"SET enable_nestloop = on;\")\n",
    "    cur.execute(\"SET enable_mergejoin = on;\")\n",
    "    cur.execute(\"SET enable_hashjoin = on;\")\n",
    "    cur.execute(\"SET enable_sort = on;\")\n",
    "    cur.execute(\"SET enable_hashagg = on;\")\n",
    "    cur.execute(\"SET enable_material = on;\")\n",
    "    conn.commit()\n",
    "\n",
    "query_14 = \"\"\"\n",
    "SELECT\n",
    "    100.00 * SUM(CASE\n",
    "        WHEN p_type_prefix LIKE 'PROMO'\n",
    "        THEN l_extendedprice * (1 - l_discount)\n",
    "        ELSE 0\n",
    "    END) / SUM(l_extendedprice * (1 - l_discount)) AS promo_revenue\n",
    "FROM\n",
    "    part_lineitem\n",
    "WHERE\n",
    "    l_shipdate >= DATE '1995-09-01'\n",
    "    AND l_shipdate < DATE '1995-09-01' + INTERVAL '1' MONTH;\n",
    "\"\"\""
   ]
  },
  {
   "cell_type": "code",
   "execution_count": 36,
   "metadata": {},
   "outputs": [
    {
     "name": "stdout",
     "output_type": "stream",
     "text": [
      "Finalize Aggregate  (cost=970534.18..970534.19 rows=1 width=32) (actual time=36047.043..36049.397 rows=1 loops=1)\n",
      "  ->  Gather  (cost=970533.94..970534.15 rows=2 width=64) (actual time=36044.942..36049.075 rows=3 loops=1)\n",
      "        Workers Planned: 2\n",
      "        Workers Launched: 2\n",
      "        ->  Partial Aggregate  (cost=969533.94..969533.95 rows=1 width=64) (actual time=36035.166..36035.168 rows=1 loops=3)\n",
      "              ->  Parallel Seq Scan on part_lineitem  (cost=0.00..968796.80 rows=42122 width=96) (actual time=0.279..35848.123 rows=249741 loops=3)\n",
      "                    Filter: ((l_shipdate >= '1995-09-01'::date) AND (l_shipdate < '1995-10-01 00:00:00'::timestamp without time zone))\n",
      "                    Rows Removed by Filter: 19745610\n",
      "Planning Time: 0.798 ms\n",
      "Execution Time: 36049.752 ms\n"
     ]
    }
   ],
   "source": [
    "explain_analyze(query_14)"
   ]
  },
  {
   "cell_type": "markdown",
   "metadata": {},
   "source": [
    "the problem is that it does a seq scan because there is no index on shipdate."
   ]
  },
  {
   "cell_type": "markdown",
   "metadata": {},
   "source": [
    "Size of the result table"
   ]
  },
  {
   "cell_type": "code",
   "execution_count": 37,
   "metadata": {},
   "outputs": [
    {
     "name": "stdout",
     "output_type": "stream",
     "text": [
      "First row: \n",
      " (Decimal('16.6475949416150953'),)\n",
      "Size of query_14 result table: 0.015625 MB\n"
     ]
    }
   ],
   "source": [
    "with conn.cursor() as cur:\n",
    "    \n",
    "    cur.execute(f\"CREATE TEMP TABLE temp_result AS {query_14};\")\n",
    "    cur.execute(\"SELECT * FROM temp_result;\")\n",
    "    result = cur.fetchone()\n",
    "    print(f\"First row: \\n {result}\")\n",
    "    cur.execute(\"SELECT pg_total_relation_size('temp_result');\")\n",
    "    size = cur.fetchall()\n",
    "    print(f\"Size of query_14 result table: {size[0][0]/(1024**2)} MB\")\n",
    "    cur.execute(\"DROP TABLE temp_result;\")"
   ]
  },
  {
   "cell_type": "markdown",
   "metadata": {},
   "source": [
    "### Query 17"
   ]
  },
  {
   "cell_type": "markdown",
   "metadata": {},
   "source": [
    "Here we expect to get the most gain."
   ]
  },
  {
   "cell_type": "code",
   "execution_count": 38,
   "metadata": {},
   "outputs": [],
   "source": [
    "query_17 = \"\"\"\n",
    "SELECT\n",
    "    SUM(l_extendedprice) / 7.0 AS avg_yearly\n",
    "FROM\n",
    "    part_lineitem\n",
    "WHERE\n",
    "    p_brand = 'Brand#23'\n",
    "    AND p_container = 'MED BOX'\n",
    "    AND l_quantity < avg_quantity;\n",
    "\"\"\""
   ]
  },
  {
   "cell_type": "code",
   "execution_count": 39,
   "metadata": {},
   "outputs": [
    {
     "name": "stdout",
     "output_type": "stream",
     "text": [
      "Finalize Aggregate  (cost=990858.00..990858.01 rows=1 width=32) (actual time=15263.910..15265.350 rows=1 loops=1)\n",
      "  ->  Gather  (cost=990857.78..990857.99 rows=2 width=32) (actual time=15263.831..15265.340 rows=3 loops=1)\n",
      "        Workers Planned: 2\n",
      "        Workers Launched: 2\n",
      "        ->  Partial Aggregate  (cost=989857.78..989857.79 rows=1 width=32) (actual time=15259.045..15259.045 rows=1 loops=3)\n",
      "              ->  Parallel Seq Scan on part_lineitem  (cost=0.00..989857.60 rows=70 width=32) (actual time=79.155..15258.522 rows=1842 loops=3)\n",
      "                    Filter: ((l_quantity < avg_quantity) AND (p_brand = 'Brand#23'::bpchar) AND (p_container = 'MED BOX'::bpchar))\n",
      "                    Rows Removed by Filter: 19993509\n",
      "Planning Time: 665.693 ms\n",
      "Execution Time: 15265.404 ms\n"
     ]
    }
   ],
   "source": [
    "explain_analyze(query_17)"
   ]
  },
  {
   "cell_type": "markdown",
   "metadata": {},
   "source": [
    "Size of result table"
   ]
  },
  {
   "cell_type": "code",
   "execution_count": 42,
   "metadata": {},
   "outputs": [
    {
     "name": "stdout",
     "output_type": "stream",
     "text": [
      "First row: \n",
      " (Decimal('3295493.512857142857'),)\n",
      "Size of query_1 result table: 0.015625 MB\n"
     ]
    }
   ],
   "source": [
    "conn.rollback()\n",
    "with conn.cursor() as cur:\n",
    "    \n",
    "    cur.execute(f\"CREATE TEMP TABLE temp_result AS {query_17};\")\n",
    "    cur.execute(\"SELECT * FROM temp_result;\")\n",
    "    result = cur.fetchone()\n",
    "    print(f\"First row: \\n {result}\")\n",
    "    cur.execute(\"SELECT pg_total_relation_size('temp_result');\")\n",
    "    size = cur.fetchall()\n",
    "    print(f\"Size of query_1 result table: {size[0][0]/(1024**2)} MB\")\n",
    "    cur.execute(\"DROP TABLE temp_result;\")"
   ]
  },
  {
   "cell_type": "markdown",
   "metadata": {},
   "source": [
    "## Indexes on part lineitem"
   ]
  },
  {
   "cell_type": "code",
   "execution_count": 43,
   "metadata": {},
   "outputs": [
    {
     "name": "stdout",
     "output_type": "stream",
     "text": [
      "Time to create idx_pl_shipdate ON part_lineitem (l_shipdate): 30.162781953811646 seconds\n"
     ]
    }
   ],
   "source": [
    "with conn.cursor() as cur:\n",
    "\n",
    "    start_time = time.time()\n",
    "    cur.execute(\"CREATE INDEX idx_pl_shipdate ON part_lineitem (l_shipdate);\")\n",
    "    end_time = time.time()\n",
    "    print(f\"Time to create idx_pl_shipdate ON part_lineitem (l_shipdate): {end_time - start_time} seconds\")\n",
    "\n",
    "    conn.commit()"
   ]
  },
  {
   "cell_type": "code",
   "execution_count": 44,
   "metadata": {},
   "outputs": [
    {
     "name": "stdout",
     "output_type": "stream",
     "text": [
      "Time to create idx_pl_brand ON part_lineitem (p_brand): 58.95485210418701 seconds\n"
     ]
    }
   ],
   "source": [
    "with conn.cursor() as cur:\n",
    "\n",
    "    start_time = time.time()\n",
    "    cur.execute(\"CREATE INDEX idx_pl_brand ON part_lineitem (p_brand);\")\n",
    "    end_time = time.time()\n",
    "    print(f\"Time to create idx_pl_brand ON part_lineitem (p_brand): {end_time - start_time} seconds\")\n",
    "\n",
    "    conn.commit()"
   ]
  },
  {
   "cell_type": "code",
   "execution_count": 45,
   "metadata": {},
   "outputs": [
    {
     "name": "stdout",
     "output_type": "stream",
     "text": [
      "Time to create idx_pl_container ON part_lineitem (p_container): 60.34345507621765 seconds\n"
     ]
    }
   ],
   "source": [
    "with conn.cursor() as cur:\n",
    "\n",
    "    start_time = time.time()\n",
    "    cur.execute(\"CREATE INDEX idx_pl_container ON part_lineitem (p_container);\")\n",
    "    end_time = time.time()\n",
    "    print(f\"Time to create idx_pl_container ON part_lineitem (p_container): {end_time - start_time} seconds\")\n",
    "\n",
    "    conn.commit()"
   ]
  },
  {
   "cell_type": "code",
   "execution_count": 46,
   "metadata": {},
   "outputs": [
    {
     "name": "stdout",
     "output_type": "stream",
     "text": [
      "Finalize Aggregate  (cost=1214874.74..1214874.76 rows=1 width=32) (actual time=19381.340..19395.889 rows=1 loops=1)\n",
      "  ->  Gather  (cost=1214874.51..1214874.72 rows=2 width=64) (actual time=19380.980..19395.876 rows=3 loops=1)\n",
      "        Workers Planned: 2\n",
      "        Workers Launched: 2\n",
      "        ->  Partial Aggregate  (cost=1213874.51..1213874.52 rows=1 width=64) (actual time=19375.856..19375.857 rows=1 loops=3)\n",
      "              ->  Parallel Bitmap Heap Scan on part_lineitem  (cost=9882.66..1208594.56 rows=301711 width=18) (actual time=107.708..19034.300 rows=249741 loops=3)\n",
      "                    Recheck Cond: ((l_shipdate >= '1995-09-01'::date) AND (l_shipdate < '1995-10-01 00:00:00'::timestamp without time zone))\n",
      "                    Rows Removed by Index Recheck: 10773120\n",
      "                    Heap Blocks: exact=11467 lossy=154789\n",
      "                    ->  Bitmap Index Scan on idx_pl_shipdate  (cost=0.00..9701.64 rows=724107 width=0) (actual time=88.514..88.514 rows=749223 loops=1)\n",
      "                          Index Cond: ((l_shipdate >= '1995-09-01'::date) AND (l_shipdate < '1995-10-01 00:00:00'::timestamp without time zone))\n",
      "Planning Time: 7.079 ms\n",
      "Execution Time: 19395.941 ms\n"
     ]
    }
   ],
   "source": [
    "explain_analyze(query_14)"
   ]
  },
  {
   "cell_type": "code",
   "execution_count": 47,
   "metadata": {},
   "outputs": [
    {
     "name": "stdout",
     "output_type": "stream",
     "text": [
      "Aggregate  (cost=218970.71..218970.72 rows=1 width=32) (actual time=1422.670..1422.673 rows=1 loops=1)\n",
      "  ->  Bitmap Heap Scan on part_lineitem  (cost=41274.20..218923.70 rows=18805 width=8) (actual time=143.534..1421.748 rows=5526 loops=1)\n",
      "        Recheck Cond: ((p_container = 'MED BOX'::bpchar) AND (p_brand = 'Brand#23'::bpchar))\n",
      "        Rows Removed by Index Recheck: 346780\n",
      "        Filter: (l_quantity < avg_quantity)\n",
      "        Rows Removed by Filter: 55859\n",
      "        Heap Blocks: exact=3124 lossy=4777\n",
      "        ->  BitmapAnd  (cost=41274.20..41274.20 rows=56414 width=0) (actual time=140.630..140.631 rows=0 loops=1)\n",
      "              ->  Bitmap Index Scan on idx_pl_container  (cost=0.00..16102.00 rows=1471658 width=0) (actual time=54.228..54.228 rows=1504601 loops=1)\n",
      "                    Index Cond: (p_container = 'MED BOX'::bpchar)\n",
      "              ->  Bitmap Index Scan on idx_pl_brand  (cost=0.00..25162.55 rows=2299465 width=0) (actual time=82.913..82.913 rows=2391264 loops=1)\n",
      "                    Index Cond: (p_brand = 'Brand#23'::bpchar)\n",
      "Planning Time: 3.572 ms\n",
      "Execution Time: 1424.115 ms\n"
     ]
    }
   ],
   "source": [
    "explain_analyze(query_17)"
   ]
  },
  {
   "cell_type": "markdown",
   "metadata": {},
   "source": [
    "## Materialized customer_order_lineitem_nation"
   ]
  },
  {
   "cell_type": "code",
   "execution_count": 48,
   "metadata": {},
   "outputs": [
    {
     "name": "stdout",
     "output_type": "stream",
     "text": [
      "Hash Join  (cost=773460.56..4508342.52 rows=59986052 width=265)\n",
      "  Hash Cond: (c.c_nationkey = n.n_nationkey)\n",
      "  ->  Hash Join  (cost=773459.00..4324183.78 rows=59986052 width=165)\n",
      "        Hash Cond: (o.o_custkey = c.c_custkey)\n",
      "        ->  Hash Join  (cost=671655.00..3329726.95 rows=59986052 width=22)\n",
      "              Hash Cond: (l.l_orderkey = o.o_orderkey)\n",
      "              ->  Seq Scan on lineitem l  (cost=0.00..1724403.52 rows=59986052 width=18)\n",
      "              ->  Hash  (cost=410912.00..410912.00 rows=15000000 width=12)\n",
      "                    ->  Seq Scan on orders o  (cost=0.00..410912.00 rows=15000000 width=12)\n",
      "        ->  Hash  (cost=50827.00..50827.00 rows=1500000 width=147)\n",
      "              ->  Seq Scan on customer c  (cost=0.00..50827.00 rows=1500000 width=147)\n",
      "  ->  Hash  (cost=1.25..1.25 rows=25 width=108)\n",
      "        ->  Seq Scan on nation n  (cost=0.00..1.25 rows=25 width=108)\n"
     ]
    }
   ],
   "source": [
    "conn.rollback()\n",
    "with conn.cursor() as cur:\n",
    "    cur.execute(\"SET enable_seqscan = on;\")\n",
    "    cur.execute(\"SET enable_indexscan = on;\")\n",
    "    cur.execute(\"SET enable_bitmapscan = on;\")\n",
    "    cur.execute(\"SET enable_indexonlyscan = off;\")\n",
    "    cur.execute(\"SET enable_nestloop = on;\")\n",
    "    cur.execute(\"SET enable_mergejoin = on;\")\n",
    "    cur.execute(\"SET enable_hashjoin = on;\")\n",
    "    cur.execute(\"SET enable_sort = on;\")\n",
    "    cur.execute(\"SET enable_hashagg = on;\")\n",
    "    conn.commit()\n",
    "\n",
    "query_materialized = \"\"\"\n",
    "\n",
    "CREATE MATERIALIZED VIEW customer_order_lineitem_nation AS\n",
    "SELECT\n",
    "    c.c_custkey,\n",
    "    c.c_name,\n",
    "    c.c_acctbal,\n",
    "    n.n_name,\n",
    "    c.c_address,\n",
    "    c.c_phone,\n",
    "    c.c_comment,\n",
    "    -- c.c_nationkey, not needed in the query, so not included\n",
    "    l.l_returnflag,\n",
    "    -- l.l_orderkey, not needed in the query, so not included\n",
    "    l.l_discount,\n",
    "    l.l_extendedprice,\n",
    "    o.o_orderdate\n",
    "\n",
    "FROM\n",
    "    customer c\n",
    "JOIN\n",
    "    orders o ON c.c_custkey = o.o_custkey\n",
    "JOIN\n",
    "    lineitem l ON l.l_orderkey = o.o_orderkey\n",
    "JOIN\n",
    "    nation n ON c.c_nationkey = n.n_nationkey;\n",
    "\"\"\"\n",
    "\n",
    "explain_analyze(query_materialized, analyze = False)"
   ]
  },
  {
   "cell_type": "code",
   "execution_count": 50,
   "metadata": {},
   "outputs": [
    {
     "name": "stdout",
     "output_type": "stream",
     "text": [
      "Time taken to create materialized view: 437.10683703422546 seconds\n"
     ]
    }
   ],
   "source": [
    "conn.rollback()\n",
    "with conn.cursor() as cur:\n",
    "    start_time = time.time()\n",
    "    cur.execute(query_materialized)\n",
    "    end_time = time.time()\n",
    "    print(f\"Time taken to create materialized view: {end_time - start_time} seconds\")\n",
    "    conn.commit()"
   ]
  },
  {
   "cell_type": "code",
   "execution_count": 51,
   "metadata": {},
   "outputs": [
    {
     "name": "stdout",
     "output_type": "stream",
     "text": [
      "Size of materialised view: 12938.5078125 MB\n",
      "Size of materialised view: 12.635261535644531 GB\n"
     ]
    }
   ],
   "source": [
    "conn.rollback()\n",
    "with conn.cursor() as cur:\n",
    "    \n",
    "    cur.execute(\"SELECT pg_total_relation_size('customer_order_lineitem_nation');\")\n",
    "    size = cur.fetchall()\n",
    "    print(f\"Size of materialised view: {size[0][0]/(1024**2)} MB\")\n",
    "    print(f\"Size of materialised view: {size[0][0]/(1024**3)} GB\")"
   ]
  },
  {
   "cell_type": "code",
   "execution_count": 52,
   "metadata": {},
   "outputs": [],
   "source": [
    "check_indexes('customer_order_lineitem_nation')"
   ]
  },
  {
   "cell_type": "code",
   "execution_count": 53,
   "metadata": {},
   "outputs": [],
   "source": [
    "query_10 = \"\"\"\n",
    "SELECT\n",
    "    c_custkey,\n",
    "    c_name,\n",
    "    SUM(l_extendedprice * (1 - l_discount)) AS revenue,\n",
    "    c_acctbal,\n",
    "    n_name,\n",
    "    c_address,\n",
    "    c_phone,\n",
    "    c_comment\n",
    "FROM\n",
    "    customer_order_lineitem_nation\n",
    "WHERE\n",
    "    o_orderdate >= DATE '1993-10-01'\n",
    "    AND o_orderdate < DATE '1993-10-01' + INTERVAL '3' MONTH\n",
    "    AND l_returnflag = 'R'\n",
    "GROUP BY\n",
    "    c_custkey,\n",
    "    c_name,\n",
    "    c_acctbal,\n",
    "    c_phone,\n",
    "    n_name,\n",
    "    c_address,\n",
    "    c_comment\n",
    "ORDER BY\n",
    "    revenue DESC;\n",
    "\"\"\"\n"
   ]
  },
  {
   "cell_type": "code",
   "execution_count": 54,
   "metadata": {},
   "outputs": [
    {
     "name": "stdout",
     "output_type": "stream",
     "text": [
      "Sort  (cost=1790056.27..1790057.41 rows=455 width=654) (actual time=75326.455..75486.829 rows=381105 loops=1)\n",
      "  Sort Key: (sum((l_extendedprice * ('1'::numeric - l_discount)))) DESC\n",
      "  Sort Method: external merge  Disk: 71032kB\n",
      "  ->  Finalize GroupAggregate  (cost=1789970.48..1790036.18 rows=455 width=654) (actual time=74060.532..74838.424 rows=381105 loops=1)\n",
      "        Group Key: c_custkey, c_name, c_acctbal, c_phone, n_name, c_address, c_comment\n",
      "        ->  Gather Merge  (cost=1789970.48..1790021.94 rows=380 width=654) (actual time=74059.794..74549.460 rows=449695 loops=1)\n",
      "              Workers Planned: 2\n",
      "              Workers Launched: 2\n",
      "              ->  Partial GroupAggregate  (cost=1788970.46..1788978.06 rows=190 width=654) (actual time=73965.544..74267.850 rows=149898 loops=3)\n",
      "                    Group Key: c_custkey, c_name, c_acctbal, c_phone, n_name, c_address, c_comment\n",
      "                    ->  Sort  (cost=1788970.46..1788970.93 rows=190 width=686) (actual time=73965.241..74014.576 rows=382361 loops=3)\n",
      "                          Sort Key: c_custkey, c_name, c_acctbal, c_phone, n_name, c_address, c_comment\n",
      "                          Sort Method: external merge  Disk: 73824kB\n",
      "                          Worker 0:  Sort Method: external merge  Disk: 73424kB\n",
      "                          Worker 1:  Sort Method: external merge  Disk: 71760kB\n",
      "                          ->  Parallel Seq Scan on customer_order_lineitem_nation  (cost=0.00..1788963.27 rows=190 width=686) (actual time=0.801..70374.380 rows=382361 loops=3)\n",
      "                                Filter: ((o_orderdate >= '1993-10-01'::date) AND (o_orderdate < '1994-01-01 00:00:00'::timestamp without time zone) AND (l_returnflag = 'R'::bpchar))\n",
      "                                Rows Removed by Filter: 19612989\n",
      "Planning Time: 8.478 ms\n",
      "Execution Time: 75584.510 ms\n"
     ]
    }
   ],
   "source": [
    "conn.rollback()\n",
    "with conn.cursor() as cur:\n",
    "    cur.execute(\"SET enable_seqscan = on;\")\n",
    "    cur.execute(\"SET enable_indexscan = on;\")\n",
    "    cur.execute(\"SET enable_bitmapscan = on;\")\n",
    "    cur.execute(\"SET enable_indexonlyscan = off;\")\n",
    "    cur.execute(\"SET enable_nestloop = on;\")\n",
    "    cur.execute(\"SET enable_mergejoin = on;\")\n",
    "    cur.execute(\"SET enable_hashjoin = on;\")\n",
    "    cur.execute(\"SET enable_sort = on;\")\n",
    "    cur.execute(\"SET enable_hashagg = on;\")\n",
    "    conn.commit()\n",
    "\n",
    "explain_analyze(query_10)"
   ]
  },
  {
   "cell_type": "code",
   "execution_count": 55,
   "metadata": {},
   "outputs": [
    {
     "name": "stdout",
     "output_type": "stream",
     "text": [
      "First row: \n",
      " (1237537, 'Customer#001237537', Decimal('884989.6657'), Decimal('7840.17'), 'RUSSIA                   ', 'FNG6WgB1mopyyY,ajQTU qUPW5o', '32-367-120-4327', 'nag carefully about the regular packages. carefully reg')\n",
      "Size of query_10 result table: 78.5078125 MB\n"
     ]
    }
   ],
   "source": [
    "with conn.cursor() as cur:\n",
    "    \n",
    "    cur.execute(f\"CREATE TEMP TABLE temp_result AS {query_10};\")\n",
    "    cur.execute(\"SELECT * FROM temp_result;\")\n",
    "    result = cur.fetchone()\n",
    "    print(f\"First row: \\n {result}\")\n",
    "    cur.execute(\"SELECT pg_total_relation_size('temp_result');\")\n",
    "    size = cur.fetchall()\n",
    "    print(f\"Size of query_10 result table: {size[0][0]/(1024**2)} MB\")\n",
    "    cur.execute(\"DROP TABLE temp_result;\")"
   ]
  },
  {
   "cell_type": "markdown",
   "metadata": {},
   "source": [
    "## indexes on customer order lineitem nation"
   ]
  },
  {
   "cell_type": "code",
   "execution_count": 56,
   "metadata": {},
   "outputs": [
    {
     "name": "stdout",
     "output_type": "stream",
     "text": [
      "Time to create idx_coln_orderdate ON customer_order_lineitem_nation (o_orderdate): 38.008803844451904 seconds\n"
     ]
    }
   ],
   "source": [
    "with conn.cursor() as cur:\n",
    "\n",
    "    start_time = time.time()\n",
    "    cur.execute(\"CREATE INDEX idx_coln_orderdate ON customer_order_lineitem_nation (o_orderdate);\")\n",
    "    end_time = time.time()\n",
    "    print(f\"Time to create idx_coln_orderdate ON customer_order_lineitem_nation (o_orderdate): {end_time - start_time} seconds\")\n",
    "\n",
    "    conn.commit()"
   ]
  },
  {
   "cell_type": "code",
   "execution_count": 77,
   "metadata": {},
   "outputs": [
    {
     "name": "stdout",
     "output_type": "stream",
     "text": [
      "Time to create idx_coln_l_returnflag ON customer_order_lineitem_nation (l_returnflag): 64.28667688369751 seconds\n"
     ]
    }
   ],
   "source": [
    "with conn.cursor() as cur:\n",
    "\n",
    "    start_time = time.time()\n",
    "    cur.execute(\"CREATE INDEX idx_coln_l_returnflag ON customer_order_lineitem_nation (l_returnflag);\")\n",
    "    end_time = time.time()\n",
    "    print(f\"Time to create idx_coln_l_returnflag ON customer_order_lineitem_nation (l_returnflag): {end_time - start_time} seconds\")\n",
    "\n",
    "    conn.commit()"
   ]
  },
  {
   "cell_type": "markdown",
   "metadata": {},
   "source": [
    "Tried an index also on return flag but not useful, drop it."
   ]
  },
  {
   "cell_type": "code",
   "execution_count": 78,
   "metadata": {},
   "outputs": [
    {
     "name": "stdout",
     "output_type": "stream",
     "text": [
      "Sort  (cost=1993769.88..1995073.30 rows=521368 width=201) (actual time=27572.214..27623.325 rows=381105 loops=1)\n",
      "  Sort Key: (sum((l_extendedprice * ('1'::numeric - l_discount)))) DESC\n",
      "  Sort Method: external merge  Disk: 71032kB\n",
      "  ->  Finalize GroupAggregate  (cost=1762926.53..1840898.93 rows=521368 width=201) (actual time=26512.469..27185.829 rows=381105 loops=1)\n",
      "        Group Key: c_custkey, c_name, c_acctbal, c_phone, n_name, c_address, c_comment\n",
      "        ->  Gather Merge  (cost=1762926.53..1824201.39 rows=452464 width=201) (actual time=26512.460..26902.711 rows=471492 loops=1)\n",
      "              Workers Planned: 2\n",
      "              Workers Launched: 2\n",
      "              ->  Partial GroupAggregate  (cost=1761926.51..1770975.79 rows=226232 width=201) (actual time=26440.076..26725.181 rows=157164 loops=3)\n",
      "                    Group Key: c_custkey, c_name, c_acctbal, c_phone, n_name, c_address, c_comment\n",
      "                    ->  Sort  (cost=1761926.51..1762492.09 rows=226232 width=181) (actual time=26440.058..26480.825 rows=382361 loops=3)\n",
      "                          Sort Key: c_custkey, c_name, c_acctbal, c_phone, n_name, c_address, c_comment\n",
      "                          Sort Method: external merge  Disk: 73272kB\n",
      "                          Worker 0:  Sort Method: external merge  Disk: 73072kB\n",
      "                          Worker 1:  Sort Method: external merge  Disk: 72632kB\n",
      "                          ->  Parallel Bitmap Heap Scan on customer_order_lineitem_nation  (cost=191528.42..1721698.56 rows=226232 width=181) (actual time=651.383..25269.855 rows=382361 loops=3)\n",
      "                                Recheck Cond: ((o_orderdate >= '1993-10-01'::date) AND (o_orderdate < '1994-01-01 00:00:00'::timestamp without time zone) AND (l_returnflag = 'R'::bpchar))\n",
      "                                Rows Removed by Index Recheck: 5330305\n",
      "                                Heap Blocks: exact=18848 lossy=156051\n",
      "                                ->  BitmapAnd  (cost=191528.42..191528.42 rows=542958 width=0) (actual time=712.035..712.035 rows=0 loops=1)\n",
      "                                      ->  Bitmap Index Scan on idx_coln_orderdate  (cost=0.00..29319.08 rows=2189051 width=0) (actual time=234.582..234.582 rows=2292924 loops=1)\n",
      "                                            Index Cond: ((o_orderdate >= '1993-10-01'::date) AND (o_orderdate < '1994-01-01 00:00:00'::timestamp without time zone))\n",
      "                                      ->  Bitmap Index Scan on idx_coln_l_returnflag  (cost=0.00..161937.61 rows=14878540 width=0) (actual time=469.043..469.044 rows=14808183 loops=1)\n",
      "                                            Index Cond: (l_returnflag = 'R'::bpchar)\n",
      "Planning Time: 12.328 ms\n",
      "Execution Time: 27668.972 ms\n"
     ]
    }
   ],
   "source": [
    "explain_analyze(query_10)"
   ]
  },
  {
   "cell_type": "markdown",
   "metadata": {},
   "source": [
    "## mixed approach order lineitem part"
   ]
  },
  {
   "cell_type": "code",
   "execution_count": 58,
   "metadata": {},
   "outputs": [],
   "source": [
    "query_10_1 = \"\"\"\n",
    "SELECT\n",
    "    c_custkey,\n",
    "    c_name,\n",
    "    SUM(l_extendedprice * (1 - l_discount)) AS revenue,\n",
    "    c_acctbal,\n",
    "    n_name,\n",
    "    c_address,\n",
    "    c_phone,\n",
    "    c_comment\n",
    "FROM\n",
    "    part_lineitem_order\n",
    "    JOIN customer c ON c.c_custkey = o_custkey\n",
    "    JOIN nation n ON c.c_nationkey = n.n_nationkey\n",
    "WHERE\n",
    "    o_orderdate >= DATE '1993-10-01'\n",
    "    AND o_orderdate < DATE '1993-10-01' + INTERVAL '3' MONTH\n",
    "    AND l_returnflag = 'R'\n",
    "GROUP BY\n",
    "    c_custkey,\n",
    "    c_name,\n",
    "    c_acctbal,\n",
    "    c_phone,\n",
    "    n_name,\n",
    "    c_address,\n",
    "    c_comment\n",
    "ORDER BY\n",
    "    revenue DESC;\n",
    "\"\"\"\n",
    "\n",
    "query_14_1 = \"\"\"\n",
    "SELECT\n",
    "    100.00 * SUM(CASE\n",
    "        WHEN p_type_prefix LIKE 'PROMO'\n",
    "        THEN l_extendedprice * (1 - l_discount)\n",
    "        ELSE 0\n",
    "    END) / SUM(l_extendedprice * (1 - l_discount)) AS promo_revenue\n",
    "FROM\n",
    "    part_lineitem_order\n",
    "WHERE\n",
    "    l_shipdate >= DATE '1995-09-01'\n",
    "    AND l_shipdate < DATE '1995-09-01' + INTERVAL '1' MONTH;\n",
    "\"\"\"\n",
    "\n",
    "query_17_1 = \"\"\"\n",
    "SELECT\n",
    "    SUM(l_extendedprice) / 7.0 AS avg_yearly\n",
    "FROM\n",
    "    part_lineitem_order\n",
    "WHERE\n",
    "    p_brand = 'Brand#23'\n",
    "    AND p_container = 'MED BOX'\n",
    "    AND l_quantity < avg_quantity;\n",
    "\"\"\""
   ]
  },
  {
   "cell_type": "code",
   "execution_count": 59,
   "metadata": {},
   "outputs": [],
   "source": [
    "query_materialized = \"\"\"\n",
    "\n",
    "CREATE MATERIALIZED VIEW part_lineitem_order AS\n",
    "SELECT\n",
    "    l_returnflag,\n",
    "    l_linestatus,\n",
    "    l_quantity,\n",
    "    l_extendedprice,\n",
    "    l_discount,\n",
    "    l_tax,\n",
    "    l_shipdate,\n",
    "    l_partkey,\n",
    "    p_partkey,\n",
    "    p_brand,\n",
    "    p_container,\n",
    "    SUBSTRING(p_type FROM 1 FOR 5) AS p_type_prefix,\n",
    "    0.2 * AVG(l_quantity) OVER (PARTITION BY l_partkey) AS avg_quantity,\n",
    "    o_orderkey,\n",
    "    o.o_custkey,\n",
    "    o.o_orderdate\n",
    "FROM\n",
    "    lineitem l\n",
    "JOIN\n",
    "    part p ON l.l_partkey = p.p_partkey\n",
    "JOIN\n",
    "    orders o ON l.l_orderkey = o.o_orderkey;\n",
    "\n",
    "\"\"\""
   ]
  },
  {
   "cell_type": "code",
   "execution_count": 60,
   "metadata": {},
   "outputs": [
    {
     "name": "stdout",
     "output_type": "stream",
     "text": [
      "Time taken to create materialized view: 366.5083260536194 seconds\n"
     ]
    }
   ],
   "source": [
    "conn.rollback()\n",
    "with conn.cursor() as cur:\n",
    "    start_time = time.time()\n",
    "    cur.execute(query_materialized)\n",
    "    end_time = time.time()\n",
    "    print(f\"Time taken to create materialized view: {end_time - start_time} seconds\")\n",
    "    conn.commit()"
   ]
  },
  {
   "cell_type": "code",
   "execution_count": 61,
   "metadata": {},
   "outputs": [],
   "source": [
    "check_indexes('part_lineitem_order')"
   ]
  },
  {
   "cell_type": "code",
   "execution_count": 62,
   "metadata": {},
   "outputs": [
    {
     "name": "stdout",
     "output_type": "stream",
     "text": [
      "Sort  (cost=1063800.11..1063801.41 rows=522 width=279) (actual time=43185.387..43235.769 rows=381105 loops=1)\n",
      "  Sort Key: (sum((part_lineitem_order.l_extendedprice * ('1'::numeric - part_lineitem_order.l_discount)))) DESC\n",
      "  Sort Method: external merge  Disk: 71032kB\n",
      "  ->  Finalize GroupAggregate  (cost=1063709.34..1063776.54 rows=522 width=279) (actual time=41871.651..42792.799 rows=381105 loops=1)\n",
      "        Group Key: c.c_custkey, n.n_name\n",
      "        ->  Gather Merge  (cost=1063709.34..1063765.66 rows=436 width=279) (actual time=41871.638..42419.588 rows=719582 loops=1)\n",
      "              Workers Planned: 2\n",
      "              Workers Launched: 2\n",
      "              ->  Partial GroupAggregate  (cost=1062709.32..1062715.31 rows=218 width=279) (actual time=41759.503..42098.971 rows=239861 loops=3)\n",
      "                    Group Key: c.c_custkey, n.n_name\n",
      "                    ->  Sort  (cost=1062709.32..1062709.86 rows=218 width=311) (actual time=41759.475..41843.263 rows=382361 loops=3)\n",
      "                          Sort Key: c.c_custkey, n.n_name\n",
      "                          Sort Method: external merge  Disk: 73288kB\n",
      "                          Worker 0:  Sort Method: external merge  Disk: 73592kB\n",
      "                          Worker 1:  Sort Method: external merge  Disk: 72136kB\n",
      "                          ->  Hash Join  (cost=1.99..1062700.85 rows=218 width=311) (actual time=22.566..40253.826 rows=382361 loops=3)\n",
      "                                Hash Cond: (c.c_nationkey = n.n_nationkey)\n",
      "                                ->  Nested Loop  (cost=0.43..1062698.61 rows=218 width=211) (actual time=21.518..40122.679 rows=382361 loops=3)\n",
      "                                      ->  Parallel Seq Scan on part_lineitem_order  (cost=0.00..1060914.40 rows=218 width=68) (actual time=9.754..35138.013 rows=382361 loops=3)\n",
      "                                            Filter: ((o_orderdate >= '1993-10-01'::date) AND (o_orderdate < '1994-01-01 00:00:00'::timestamp without time zone) AND (l_returnflag = 'R'::bpchar))\n",
      "                                            Rows Removed by Filter: 19612989\n",
      "                                      ->  Index Scan using customer_pkey on customer c  (cost=0.43..8.18 rows=1 width=147) (actual time=0.013..0.013 rows=1 loops=1147084)\n",
      "                                            Index Cond: (c_custkey = part_lineitem_order.o_custkey)\n",
      "                                ->  Hash  (cost=1.25..1.25 rows=25 width=108) (actual time=0.505..0.505 rows=25 loops=3)\n",
      "                                      Buckets: 1024  Batches: 1  Memory Usage: 10kB\n",
      "                                      ->  Seq Scan on nation n  (cost=0.00..1.25 rows=25 width=108) (actual time=0.463..0.466 rows=25 loops=3)\n",
      "Planning Time: 13.560 ms\n",
      "Execution Time: 43276.496 ms\n"
     ]
    }
   ],
   "source": [
    "explain_analyze(query_10_1)"
   ]
  },
  {
   "cell_type": "code",
   "execution_count": 63,
   "metadata": {},
   "outputs": [],
   "source": [
    "with conn.cursor() as cur:\n",
    "    \n",
    "    cur.execute(\"drop index if exists idx_plo_shipdate;\")\n",
    "    cur.execute(\"drop index if exists idx_plo_o_orderdate;\")\n",
    "    cur.execute(\"drop index if exists idx_plo_brand;\")\n",
    "    cur.execute(\"drop index if exists idx_plo_container;\")\n",
    "    cur.execute(\"drop index if exists idx_plo_custkey;\")\n",
    "    conn.commit()"
   ]
  },
  {
   "cell_type": "code",
   "execution_count": 64,
   "metadata": {},
   "outputs": [
    {
     "name": "stdout",
     "output_type": "stream",
     "text": [
      "Finalize Aggregate  (cost=1040909.30..1040909.32 rows=1 width=32) (actual time=28027.154..28028.463 rows=1 loops=1)\n",
      "  ->  Gather  (cost=1040909.07..1040909.28 rows=2 width=64) (actual time=28026.830..28028.450 rows=3 loops=1)\n",
      "        Workers Planned: 2\n",
      "        Workers Launched: 2\n",
      "        ->  Partial Aggregate  (cost=1039909.07..1039909.08 rows=1 width=64) (actual time=27912.234..27912.235 rows=1 loops=3)\n",
      "              ->  Parallel Seq Scan on part_lineitem_order  (cost=0.00..1039147.20 rows=43535 width=96) (actual time=0.573..27773.552 rows=249741 loops=3)\n",
      "                    Filter: ((l_shipdate >= '1995-09-01'::date) AND (l_shipdate < '1995-10-01 00:00:00'::timestamp without time zone))\n",
      "                    Rows Removed by Filter: 19745610\n",
      "Planning Time: 7.480 ms\n",
      "Execution Time: 28028.536 ms\n"
     ]
    }
   ],
   "source": [
    "explain_analyze(query_14_1)"
   ]
  },
  {
   "cell_type": "code",
   "execution_count": 65,
   "metadata": {},
   "outputs": [
    {
     "name": "stdout",
     "output_type": "stream",
     "text": [
      "Finalize Aggregate  (cost=1061914.80..1061914.82 rows=1 width=32) (actual time=15161.995..15163.137 rows=1 loops=1)\n",
      "  ->  Gather  (cost=1061914.58..1061914.79 rows=2 width=32) (actual time=15161.930..15163.128 rows=3 loops=1)\n",
      "        Workers Planned: 2\n",
      "        Workers Launched: 2\n",
      "        ->  Partial Aggregate  (cost=1060914.58..1060914.59 rows=1 width=32) (actual time=15151.031..15151.031 rows=1 loops=3)\n",
      "              ->  Parallel Seq Scan on part_lineitem_order  (cost=0.00..1060914.40 rows=72 width=32) (actual time=10.426..15150.673 rows=1842 loops=3)\n",
      "                    Filter: ((l_quantity < avg_quantity) AND (p_brand = 'Brand#23'::bpchar) AND (p_container = 'MED BOX'::bpchar))\n",
      "                    Rows Removed by Filter: 19993509\n",
      "Planning Time: 0.057 ms\n",
      "Execution Time: 15163.162 ms\n"
     ]
    }
   ],
   "source": [
    "explain_analyze(query_17_1)"
   ]
  },
  {
   "cell_type": "markdown",
   "metadata": {},
   "source": [
    "## indexes on order_lineitem_part"
   ]
  },
  {
   "cell_type": "code",
   "execution_count": 66,
   "metadata": {},
   "outputs": [],
   "source": [
    "with conn.cursor() as cur:\n",
    "    \n",
    "    cur.execute(\"drop index if exists idx_plo_shipdate;\")\n",
    "    cur.execute(\"drop index if exists idx_plo_o_orderdate;\")\n",
    "    cur.execute(\"drop index if exists idx_plo_brand;\")\n",
    "    cur.execute(\"drop index if exists idx_plo_container;\")\n",
    "    conn.commit()"
   ]
  },
  {
   "cell_type": "code",
   "execution_count": 67,
   "metadata": {},
   "outputs": [
    {
     "name": "stdout",
     "output_type": "stream",
     "text": [
      "Time to create idx_plo_shipdate ON part_lineitem_order (l_shipdate): 47.12177610397339 seconds\n",
      "Size of idx_plo_shipdate: 397.546875 MB\n",
      "Size of idx_plo_shipdate: 0.3882293701171875 GB\n"
     ]
    }
   ],
   "source": [
    "with conn.cursor() as cur:\n",
    "\n",
    "    start_time = time.time()\n",
    "    cur.execute(\"CREATE INDEX idx_plo_shipdate ON part_lineitem_order (l_shipdate);\")\n",
    "    end_time = time.time()\n",
    "    print(f\"Time to create idx_plo_shipdate ON part_lineitem_order (l_shipdate): {end_time - start_time} seconds\")\n",
    "\n",
    "    cur.execute(\"SELECT pg_relation_size('idx_plo_shipdate');\")\n",
    "    index_size = cur.fetchone()[0]\n",
    "    print(f\"Size of idx_plo_shipdate: {index_size/(1024**2)} MB\")\n",
    "    print(f\"Size of idx_plo_shipdate: {index_size/(1024**3)} GB\")\n",
    "\n",
    "    conn.commit()"
   ]
  },
  {
   "cell_type": "code",
   "execution_count": 94,
   "metadata": {},
   "outputs": [
    {
     "ename": "DuplicateTable",
     "evalue": "relation \"idx_plo_o_orderdate\" already exists\n",
     "output_type": "error",
     "traceback": [
      "\u001b[0;31m---------------------------------------------------------------------------\u001b[0m",
      "\u001b[0;31mDuplicateTable\u001b[0m                            Traceback (most recent call last)",
      "Cell \u001b[0;32mIn[94], line 4\u001b[0m\n\u001b[1;32m      1\u001b[0m \u001b[38;5;28;01mwith\u001b[39;00m conn\u001b[38;5;241m.\u001b[39mcursor() \u001b[38;5;28;01mas\u001b[39;00m cur:\n\u001b[1;32m      3\u001b[0m     start_time \u001b[38;5;241m=\u001b[39m time\u001b[38;5;241m.\u001b[39mtime()\n\u001b[0;32m----> 4\u001b[0m     \u001b[43mcur\u001b[49m\u001b[38;5;241;43m.\u001b[39;49m\u001b[43mexecute\u001b[49m\u001b[43m(\u001b[49m\u001b[38;5;124;43m\"\u001b[39;49m\u001b[38;5;124;43mCREATE INDEX idx_plo_o_orderdate ON part_lineitem_order (o_orderdate);\u001b[39;49m\u001b[38;5;124;43m\"\u001b[39;49m\u001b[43m)\u001b[49m\n\u001b[1;32m      5\u001b[0m     end_time \u001b[38;5;241m=\u001b[39m time\u001b[38;5;241m.\u001b[39mtime()\n\u001b[1;32m      6\u001b[0m     \u001b[38;5;28mprint\u001b[39m(\u001b[38;5;124mf\u001b[39m\u001b[38;5;124m\"\u001b[39m\u001b[38;5;124mTime to create idx_plo_o_orderdate ON part_lineitem_order (o_orderdate): \u001b[39m\u001b[38;5;132;01m{\u001b[39;00mend_time\u001b[38;5;250m \u001b[39m\u001b[38;5;241m-\u001b[39m\u001b[38;5;250m \u001b[39mstart_time\u001b[38;5;132;01m}\u001b[39;00m\u001b[38;5;124m seconds\u001b[39m\u001b[38;5;124m\"\u001b[39m)\n",
      "\u001b[0;31mDuplicateTable\u001b[0m: relation \"idx_plo_o_orderdate\" already exists\n"
     ]
    }
   ],
   "source": [
    "with conn.cursor() as cur:\n",
    "\n",
    "    start_time = time.time()\n",
    "    cur.execute(\"CREATE INDEX idx_plo_o_orderdate ON part_lineitem_order (o_orderdate);\")\n",
    "    end_time = time.time()\n",
    "    print(f\"Time to create idx_plo_o_orderdate ON part_lineitem_order (o_orderdate): {end_time - start_time} seconds\")\n",
    "\n",
    "    cur.execute(\"SELECT pg_relation_size('idx_plo_o_orderdate');\")\n",
    "    index_size = cur.fetchone()[0]\n",
    "    print(f\"Size of idx_plo_o_orderdate: {index_size/(1024**2)} MB\")\n",
    "    print(f\"Size of idx_plo_o_orderdate: {index_size/(1024**3)} GB\")\n",
    "\n",
    "    conn.commit()"
   ]
  },
  {
   "cell_type": "code",
   "execution_count": 69,
   "metadata": {},
   "outputs": [
    {
     "name": "stdout",
     "output_type": "stream",
     "text": [
      "Time to create idx_plo_brand ON part_lineitem_order (p_brand): 49.67605805397034 seconds\n",
      "Size of idx_plo_brand: 403.140625 MB\n",
      "Size of idx_plo_brand: 0.3936920166015625 GB\n"
     ]
    }
   ],
   "source": [
    "with conn.cursor() as cur:\n",
    "\n",
    "    start_time = time.time()\n",
    "    cur.execute(\"CREATE INDEX idx_plo_brand ON part_lineitem_order (p_brand);\")\n",
    "    end_time = time.time()\n",
    "    print(f\"Time to create idx_plo_brand ON part_lineitem_order (p_brand): {end_time - start_time} seconds\")\n",
    "\n",
    "    cur.execute(\"SELECT pg_relation_size('idx_plo_brand');\")\n",
    "    index_size = cur.fetchone()[0]\n",
    "    print(f\"Size of idx_plo_brand: {index_size/(1024**2)} MB\")\n",
    "    print(f\"Size of idx_plo_brand: {index_size/(1024**3)} GB\")\n",
    "\n",
    "    conn.commit()"
   ]
  },
  {
   "cell_type": "code",
   "execution_count": 70,
   "metadata": {},
   "outputs": [
    {
     "name": "stdout",
     "output_type": "stream",
     "text": [
      "Time to create idx_plo_container ON part_lineitem_order (p_container): 59.78866696357727 seconds\n",
      "Size of idx_plo_container: 403.1484375 MB\n",
      "Size of idx_plo_container: 0.39369964599609375 GB\n"
     ]
    }
   ],
   "source": [
    "with conn.cursor() as cur:\n",
    "\n",
    "    start_time = time.time()\n",
    "    cur.execute(\"CREATE INDEX idx_plo_container ON part_lineitem_order (p_container);\")\n",
    "    end_time = time.time()\n",
    "    print(f\"Time to create idx_plo_container ON part_lineitem_order (p_container): {end_time - start_time} seconds\")\n",
    "\n",
    "    cur.execute(\"SELECT pg_relation_size('idx_plo_container');\")\n",
    "    index_size = cur.fetchone()[0]\n",
    "    print(f\"Size of idx_plo_container: {index_size/(1024**2)} MB\")\n",
    "    print(f\"Size of idx_plo_container: {index_size/(1024**3)} GB\")\n",
    "\n",
    "    conn.commit()"
   ]
  },
  {
   "cell_type": "markdown",
   "metadata": {},
   "source": [
    "tried also an index on return flag, but it is not used"
   ]
  },
  {
   "cell_type": "code",
   "execution_count": 87,
   "metadata": {},
   "outputs": [
    {
     "name": "stdout",
     "output_type": "stream",
     "text": [
      "Sort  (cost=1770017.13..1771473.82 rows=582677 width=279) (actual time=28996.049..29047.533 rows=381105 loops=1)\n",
      "  Sort Key: (sum((part_lineitem_order.l_extendedprice * ('1'::numeric - part_lineitem_order.l_discount)))) DESC\n",
      "  Sort Method: external merge  Disk: 71032kB\n",
      "  ->  Finalize GroupAggregate  (cost=1389553.95..1562858.00 rows=582677 width=279) (actual time=27234.573..28578.806 rows=381105 loops=1)\n",
      "        Group Key: c.c_custkey, n.n_name\n",
      "        ->  Gather Merge  (cost=1389553.95..1550718.90 rows=485564 width=279) (actual time=27234.563..28201.333 rows=720080 loops=1)\n",
      "              Workers Planned: 2\n",
      "              Workers Launched: 2\n",
      "              ->  Partial GroupAggregate  (cost=1388553.93..1493672.74 rows=242782 width=279) (actual time=27220.221..28077.161 rows=240027 loops=3)\n",
      "                    Group Key: c.c_custkey, n.n_name\n",
      "                    ->  Incremental Sort  (cost=1388553.93..1487603.19 rows=242782 width=259) (actual time=27220.210..27818.267 rows=382361 loops=3)\n",
      "                          Sort Key: c.c_custkey, n.n_name\n",
      "                          Presorted Key: c.c_custkey\n",
      "                          Full-sort Groups: 11821  Sort Method: quicksort  Average Memory: 31kB  Peak Memory: 31kB\n",
      "                          Worker 0:  Full-sort Groups: 11702  Sort Method: quicksort  Average Memory: 31kB  Peak Memory: 31kB\n",
      "                          Worker 1:  Full-sort Groups: 11723  Sort Method: quicksort  Average Memory: 32kB  Peak Memory: 32kB\n",
      "                          ->  Nested Loop  (cost=1388553.56..1476678.00 rows=242782 width=259) (actual time=27219.714..27707.952 rows=382361 loops=3)\n",
      "                                ->  Merge Join  (cost=1388553.41..1470738.90 rows=242782 width=159) (actual time=27219.540..27605.190 rows=382361 loops=3)\n",
      "                                      Merge Cond: (part_lineitem_order.o_custkey = c.c_custkey)\n",
      "                                      ->  Sort  (cost=1388552.86..1389159.82 rows=242782 width=16) (actual time=27219.078..27271.214 rows=382361 loops=3)\n",
      "                                            Sort Key: part_lineitem_order.o_custkey\n",
      "                                            Sort Method: external merge  Disk: 10952kB\n",
      "                                            Worker 0:  Sort Method: external merge  Disk: 10856kB\n",
      "                                            Worker 1:  Sort Method: external merge  Disk: 10880kB\n",
      "                                            ->  Parallel Bitmap Heap Scan on part_lineitem_order  (cost=31895.57..1362685.86 rows=242782 width=16) (actual time=142.044..26444.623 rows=382361 loops=3)\n",
      "                                                  Recheck Cond: ((o_orderdate >= '1993-10-01'::date) AND (o_orderdate < '1994-01-01 00:00:00'::timestamp without time zone))\n",
      "                                                  Rows Removed by Index Recheck: 16710976\n",
      "                                                  Filter: (l_returnflag = 'R'::bpchar)\n",
      "                                                  Rows Removed by Filter: 381947\n",
      "                                                  Heap Blocks: exact=15341 lossy=265409\n",
      "                                                  ->  Bitmap Index Scan on idx_plo_o_orderdate  (cost=0.00..31749.90 rows=2370534 width=0) (actual time=145.810..145.810 rows=2292924 loops=1)\n",
      "                                                        Index Cond: ((o_orderdate >= '1993-10-01'::date) AND (o_orderdate < '1994-01-01 00:00:00'::timestamp without time zone))\n",
      "                                      ->  Index Scan using customer_pkey on customer c  (cost=0.43..74794.43 rows=1500000 width=147) (actual time=0.456..196.174 rows=1499996 loops=3)\n",
      "                                ->  Memoize  (cost=0.15..0.17 rows=1 width=108) (actual time=0.000..0.000 rows=1 loops=1147084)\n",
      "                                      Cache Key: c.c_nationkey\n",
      "                                      Cache Mode: logical\n",
      "                                      Hits: 384572  Misses: 25  Evictions: 0  Overflows: 0  Memory Usage: 4kB\n",
      "                                      Worker 0:  Hits: 380830  Misses: 25  Evictions: 0  Overflows: 0  Memory Usage: 4kB\n",
      "                                      Worker 1:  Hits: 381607  Misses: 25  Evictions: 0  Overflows: 0  Memory Usage: 4kB\n",
      "                                      ->  Index Scan using nation_pkey on nation n  (cost=0.14..0.16 rows=1 width=108) (actual time=0.007..0.007 rows=1 loops=75)\n",
      "                                            Index Cond: (n_nationkey = c.c_nationkey)\n",
      "Planning Time: 8.587 ms\n",
      "Execution Time: 29080.014 ms\n"
     ]
    }
   ],
   "source": [
    "conn.rollback()\n",
    "with conn.cursor() as cur:\n",
    "\n",
    "    cur.execute(\"SET enable_seqscan = off;\")\n",
    "    conn.commit()\n",
    "\n",
    "explain_analyze(query_10_1)"
   ]
  },
  {
   "cell_type": "code",
   "execution_count": 72,
   "metadata": {},
   "outputs": [
    {
     "name": "stdout",
     "output_type": "stream",
     "text": [
      "Finalize Aggregate  (cost=953355.33..953355.34 rows=1 width=32) (actual time=17837.472..17857.493 rows=1 loops=1)\n",
      "  ->  Gather  (cost=953355.09..953355.30 rows=2 width=64) (actual time=17836.303..17857.465 rows=3 loops=1)\n",
      "        Workers Planned: 2\n",
      "        Workers Launched: 2\n",
      "        ->  Partial Aggregate  (cost=952355.09..952355.10 rows=1 width=64) (actual time=17795.332..17795.333 rows=1 loops=3)\n",
      "              ->  Parallel Bitmap Heap Scan on part_lineitem_order  (cost=4094.85..950168.09 rows=124971 width=96) (actual time=49.563..17500.610 rows=249741 loops=3)\n",
      "                    Recheck Cond: ((l_shipdate >= '1995-09-01'::date) AND (l_shipdate < '1995-10-01 00:00:00'::timestamp without time zone))\n",
      "                    Rows Removed by Index Recheck: 9982702\n",
      "                    Heap Blocks: exact=16214 lossy=155070\n",
      "                    ->  Bitmap Index Scan on idx_plo_shipdate  (cost=0.00..4019.87 rows=299930 width=0) (actual time=79.299..79.299 rows=749223 loops=1)\n",
      "                          Index Cond: ((l_shipdate >= '1995-09-01'::date) AND (l_shipdate < '1995-10-01 00:00:00'::timestamp without time zone))\n",
      "Planning Time: 0.082 ms\n",
      "Execution Time: 17857.528 ms\n"
     ]
    }
   ],
   "source": [
    "explain_analyze(query_14_1)"
   ]
  },
  {
   "cell_type": "code",
   "execution_count": 73,
   "metadata": {},
   "outputs": [
    {
     "name": "stdout",
     "output_type": "stream",
     "text": [
      "Aggregate  (cost=12413.42..12413.43 rows=1 width=32) (actual time=1258.450..1258.455 rows=1 loops=1)\n",
      "  ->  Bitmap Heap Scan on part_lineitem_order  (cost=6572.58..12412.17 rows=500 width=32) (actual time=157.935..1257.492 rows=5526 loops=1)\n",
      "        Recheck Cond: ((p_container = 'MED BOX'::bpchar) AND (p_brand = 'Brand#23'::bpchar))\n",
      "        Rows Removed by Index Recheck: 302709\n",
      "        Filter: (l_quantity < avg_quantity)\n",
      "        Rows Removed by Filter: 55859\n",
      "        Heap Blocks: exact=3108 lossy=4520\n",
      "        ->  BitmapAnd  (cost=6572.58..6572.58 rows=1500 width=0) (actual time=156.401..156.404 rows=0 loops=1)\n",
      "              ->  Bitmap Index Scan on idx_plo_container  (cost=0.00..3286.04 rows=299930 width=0) (actual time=66.810..66.810 rows=1504601 loops=1)\n",
      "                    Index Cond: (p_container = 'MED BOX'::bpchar)\n",
      "              ->  Bitmap Index Scan on idx_plo_brand  (cost=0.00..3286.04 rows=299930 width=0) (actual time=86.063..86.063 rows=2391264 loops=1)\n",
      "                    Index Cond: (p_brand = 'Brand#23'::bpchar)\n",
      "Planning Time: 0.146 ms\n",
      "Execution Time: 1260.090 ms\n"
     ]
    }
   ],
   "source": [
    "explain_analyze(query_17_1)"
   ]
  },
  {
   "cell_type": "markdown",
   "metadata": {},
   "source": [
    "## indexes used"
   ]
  },
  {
   "cell_type": "code",
   "execution_count": 91,
   "metadata": {},
   "outputs": [
    {
     "name": "stdout",
     "output_type": "stream",
     "text": [
      "Index Name: idx_plo_shipdate\n",
      "Index Definition: CREATE INDEX idx_plo_shipdate ON public.part_lineitem_order USING btree (l_shipdate)\n",
      "\n",
      "Index Name: idx_plo_o_orderdate\n",
      "Index Definition: CREATE INDEX idx_plo_o_orderdate ON public.part_lineitem_order USING btree (o_orderdate)\n",
      "\n",
      "Index Name: idx_plo_brand\n",
      "Index Definition: CREATE INDEX idx_plo_brand ON public.part_lineitem_order USING btree (p_brand)\n",
      "\n",
      "Index Name: idx_plo_container\n",
      "Index Definition: CREATE INDEX idx_plo_container ON public.part_lineitem_order USING btree (p_container)\n",
      "\n"
     ]
    }
   ],
   "source": [
    "conn.rollback()\n",
    "check_indexes('part_lineitem_order')"
   ]
  },
  {
   "cell_type": "code",
   "execution_count": 92,
   "metadata": {},
   "outputs": [
    {
     "name": "stdout",
     "output_type": "stream",
     "text": [
      "Index Name: idx_coln_orderdate\n",
      "Index Definition: CREATE INDEX idx_coln_orderdate ON public.customer_order_lineitem_nation USING btree (o_orderdate)\n",
      "\n",
      "Index Name: idx_coln_l_returnflag\n",
      "Index Definition: CREATE INDEX idx_coln_l_returnflag ON public.customer_order_lineitem_nation USING btree (l_returnflag)\n",
      "\n"
     ]
    }
   ],
   "source": [
    "check_indexes('customer_order_lineitem_nation') # drop returnflag index "
   ]
  },
  {
   "cell_type": "code",
   "execution_count": 96,
   "metadata": {},
   "outputs": [
    {
     "name": "stdout",
     "output_type": "stream",
     "text": [
      "Index Name: idx_plo_shipdate\n",
      "Index Definition: CREATE INDEX idx_plo_shipdate ON public.part_lineitem_order USING btree (l_shipdate)\n",
      "\n",
      "Index Name: idx_plo_o_orderdate\n",
      "Index Definition: CREATE INDEX idx_plo_o_orderdate ON public.part_lineitem_order USING btree (o_orderdate)\n",
      "\n",
      "Index Name: idx_plo_brand\n",
      "Index Definition: CREATE INDEX idx_plo_brand ON public.part_lineitem_order USING btree (p_brand)\n",
      "\n",
      "Index Name: idx_plo_container\n",
      "Index Definition: CREATE INDEX idx_plo_container ON public.part_lineitem_order USING btree (p_container)\n",
      "\n"
     ]
    }
   ],
   "source": [
    "conn.rollback()\n",
    "check_indexes('part_lineitem_order') "
   ]
  },
  {
   "cell_type": "markdown",
   "metadata": {},
   "source": [
    "## Conclusion\n",
    "\n",
    "We can see that the gain of using 2 different materialized views wrt using a single one with part order lineitem are the same. the only useful indexes on part order lineitem are p_brand and p_container that speed up a lot the query.\n",
    "\n",
    "since we risparmiare time and space by creating only one mv, we choose to use that, also because it can be helpful for many other queries, in fact the tables part order lineitem are the \"core\" of the db."
   ]
  }
 ],
 "metadata": {
  "kernelspec": {
   "display_name": "Python 3",
   "language": "python",
   "name": "python3"
  },
  "language_info": {
   "codemirror_mode": {
    "name": "ipython",
    "version": 3
   },
   "file_extension": ".py",
   "mimetype": "text/x-python",
   "name": "python",
   "nbconvert_exporter": "python",
   "pygments_lexer": "ipython3",
   "version": "3.9.18"
  }
 },
 "nbformat": 4,
 "nbformat_minor": 2
}
