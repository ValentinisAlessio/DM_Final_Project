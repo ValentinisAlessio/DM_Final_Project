{
 "cells": [
  {
   "cell_type": "code",
   "execution_count": 1,
   "metadata": {},
   "outputs": [],
   "source": [
    "import psycopg2\n",
    "import time\n",
    "\n",
    "# establish a connection to the PostgreSQL database\n",
    "conn = psycopg2.connect(\n",
    "    dbname = \"dw_cs\", \n",
    "    user = \"postgres\", \n",
    "    host= 'localhost',\n",
    "    password = \"Mu34zi72\",\n",
    "    port = 5432\n",
    ")"
   ]
  },
  {
   "cell_type": "code",
   "execution_count": 2,
   "metadata": {},
   "outputs": [],
   "source": [
    "def check_indexes(table_name):\n",
    "\n",
    "    with conn.cursor() as cur:\n",
    "        query = f\"\"\"\n",
    "        SELECT\n",
    "            indexname,\n",
    "            indexdef\n",
    "        FROM\n",
    "            pg_indexes\n",
    "        WHERE\n",
    "            tablename = '{table_name}';\n",
    "        \"\"\"\n",
    "\n",
    "        cur.execute(query)      \n",
    "        \n",
    "        indexes = cur.fetchall()\n",
    "        \n",
    "        for index in indexes:\n",
    "            print(f\"Index Name: {index[0]}\")\n",
    "            print(f\"Index Definition: {index[1]}\\n\")\n",
    "\n",
    "# function to explain-analyze a query\n",
    "\n",
    "def explain_analyze(query, analyze = True):\n",
    "    conn.rollback()\n",
    "    with conn.cursor() as cur:\n",
    "        if analyze:\n",
    "            cur.execute(f\"EXPLAIN ANALYZE {query}\")\n",
    "        else:\n",
    "            cur.execute(f\"EXPLAIN {query}\")\n",
    "        explain = cur.fetchall()\n",
    "\n",
    "        for line in explain:\n",
    "            print(line[0])"
   ]
  },
  {
   "cell_type": "markdown",
   "metadata": {},
   "source": [
    "## Check indexes and drop non pk indexes"
   ]
  },
  {
   "cell_type": "code",
   "execution_count": 3,
   "metadata": {},
   "outputs": [
    {
     "name": "stdout",
     "output_type": "stream",
     "text": [
      "Index Name: nation_pkey\n",
      "Index Definition: CREATE UNIQUE INDEX nation_pkey ON public.nation USING btree (n_nationkey)\n",
      "\n",
      "\n",
      "\n"
     ]
    }
   ],
   "source": [
    "a = ['nation', 'part', 'supplier', 'customer', 'lineitem', 'region', 'partsupp', 'orders']\n",
    "\n",
    "for table in a:\n",
    "    check_indexes(table)\n",
    "    print(\"\\n\")"
   ]
  },
  {
   "cell_type": "code",
   "execution_count": 17,
   "metadata": {},
   "outputs": [],
   "source": [
    "query_drop_idx = \"\"\"\n",
    "DROP INDEX IF EXISTS idx_p_brand;\n",
    "DROP INDEX IF EXISTS idx_p_container;\n",
    "DROP INDEX IF EXISTS idx_lineitem_partkey;\n",
    "DROP INDEX IF EXISTS idx_l_returnflag_linestatus;\n",
    "DROP INDEX IF EXISTS idx_l_shipdate;\n",
    "DROP INDEX IF EXISTS idx_o_orderdate;\n",
    "\"\"\"\n",
    "\n",
    "with conn.cursor() as cur:\n",
    "    cur.execute(query_drop_idx) \n",
    "    conn.commit()"
   ]
  },
  {
   "cell_type": "code",
   "execution_count": null,
   "metadata": {},
   "outputs": [],
   "source": [
    "for table in a:\n",
    "    check_indexes(table)\n",
    "    print(\"\\n\")"
   ]
  },
  {
   "cell_type": "markdown",
   "metadata": {},
   "source": [
    "## First try with smaller table"
   ]
  },
  {
   "cell_type": "code",
   "execution_count": null,
   "metadata": {},
   "outputs": [
    {
     "name": "stdout",
     "output_type": "stream",
     "text": [
      "WindowAgg  (cost=6497685.03..15203148.40 rows=59986052 width=110)\n",
      "  ->  Merge Join  (cost=6497685.03..14303357.62 rows=59986052 width=78)\n",
      "        Merge Cond: (lineitem.l_partkey = part.p_partkey)\n",
      "        ->  Gather Merge  (cost=6496970.92..13483335.20 rows=59986052 width=35)\n",
      "              Workers Planned: 2\n",
      "              ->  Sort  (cost=6495970.90..6558456.37 rows=24994188 width=35)\n",
      "                    Sort Key: lineitem.l_partkey\n",
      "                    ->  Parallel Seq Scan on lineitem  (cost=0.00..1374484.88 rows=24994188 width=35)\n",
      "        ->  Index Scan using part_pkey on part  (cost=0.43..92909.43 rows=2000000 width=47)\n"
     ]
    }
   ],
   "source": [
    "conn.rollback()\n",
    "with conn.cursor() as cur:\n",
    "    cur.execute(\"SET enable_seqscan = on;\")\n",
    "    cur.execute(\"SET enable_indexscan = on;\")\n",
    "    cur.execute(\"SET enable_bitmapscan = on;\")\n",
    "    cur.execute(\"SET enable_indexonlyscan = off;\")\n",
    "    cur.execute(\"SET enable_nestloop = on;\")\n",
    "    cur.execute(\"SET enable_mergejoin = on;\")\n",
    "    cur.execute(\"SET enable_hashjoin = on;\")\n",
    "    cur.execute(\"SET enable_sort = on;\")\n",
    "    cur.execute(\"SET enable_hashagg = on;\")\n",
    "    conn.commit()\n",
    "\n",
    "query_materialized = \"\"\"\n",
    "\n",
    "CREATE MATERIALIZED VIEW part_lineitem AS\n",
    "\n",
    "SELECT \n",
    "    part.p_brand, \n",
    "    part.p_container, \n",
    "    part.p_type,\n",
    "    lineitem.l_partkey, \n",
    "    lineitem.l_quantity, \n",
    "    lineitem.l_extendedprice, \n",
    "    lineitem.l_shipdate, \n",
    "    lineitem.l_discount, \n",
    "FROM part JOIN lineitem ON p_partkey = l_partkey;\n",
    "\n",
    "\n",
    "\"\"\"\n",
    "\n",
    "explain_analyze(query_materialized, analyze = False)"
   ]
  },
  {
   "cell_type": "code",
   "execution_count": null,
   "metadata": {},
   "outputs": [],
   "source": [
    "conn.rollback()\n",
    "with conn.cursor() as cur:\n",
    "    \n",
    "    cur.execute(\"SELECT pg_total_relation_size('part_lineitem');\")\n",
    "    size = cur.fetchall()\n",
    "    print(f\"Size of materialised view: {size[0][0]/(1024**2)} MB\")"
   ]
  },
  {
   "cell_type": "markdown",
   "metadata": {},
   "source": [
    "### Query 14"
   ]
  },
  {
   "cell_type": "code",
   "execution_count": null,
   "metadata": {},
   "outputs": [],
   "source": [
    "query_14 = \"\"\"\n",
    "SELECT\n",
    "    100.00 * SUM(CASE\n",
    "        WHEN p_type LIKE 'PROMO%'\n",
    "        THEN l_extendedprice * (1 - l_discount)\n",
    "        ELSE 0\n",
    "    END) / SUM(l_extendedprice * (1 - l_discount)) AS promo_revenue\n",
    "FROM\n",
    "    part_lineitem\n",
    "WHERE\n",
    "    l_shipdate >= DATE '1995-09-01'\n",
    "    AND l_shipdate < DATE '1995-09-01' + INTERVAL '1' MONTH;\n",
    "\"\"\"\n",
    "\n",
    "explain_analyze(query_14)"
   ]
  },
  {
   "cell_type": "markdown",
   "metadata": {},
   "source": [
    "Size of the result table"
   ]
  },
  {
   "cell_type": "code",
   "execution_count": null,
   "metadata": {},
   "outputs": [],
   "source": [
    "with conn.cursor() as cur:\n",
    "    \n",
    "    cur.execute(f\"CREATE TEMP TABLE temp_result AS {query_14};\")\n",
    "    cur.execute(\"SELECT * FROM temp_result;\")\n",
    "    result = cur.fetchone()\n",
    "    print(f\"First row: \\n {result}\")\n",
    "    cur.execute(\"SELECT pg_total_relation_size('temp_result');\")\n",
    "    size = cur.fetchall()\n",
    "    print(f\"Size of query_1 result table: {size[0][0]/(1024**2)} MB\")\n",
    "    cur.execute(\"DROP TABLE temp_result;\")"
   ]
  },
  {
   "cell_type": "markdown",
   "metadata": {},
   "source": [
    "### Query 17"
   ]
  },
  {
   "cell_type": "code",
   "execution_count": null,
   "metadata": {},
   "outputs": [],
   "source": [
    "query_17 = \"\"\"\n",
    "\n",
    "CREATE VIEW l_quantity_avg AS\n",
    "\n",
    "SELECT \n",
    "    l_partkey,\n",
    "    AVG(l_quantity) AS avg_quantity\n",
    "FROM\n",
    "    part_lineitem\n",
    "GROUP BY l_partkey;\n",
    "\n",
    "SELECT\n",
    "    SUM(l_extendedprice) / 7.0 AS avg_yearly\n",
    "FROM\n",
    "    part_lineitem JOIN l_quantity_avg q_avg ON l_partkey = q_avg.l_partkey\n",
    "WHERE\n",
    "    p_brand = 'Brand#23'\n",
    "    AND p_container = 'MED BOX'\n",
    "    AND l_quantity < (0.2 * q_avg.avg_quantity);\n",
    "\"\"\"\n",
    "\n",
    "explain_analyze(query_17)"
   ]
  },
  {
   "cell_type": "markdown",
   "metadata": {},
   "source": [
    "Size of result table"
   ]
  },
  {
   "cell_type": "code",
   "execution_count": null,
   "metadata": {},
   "outputs": [],
   "source": [
    "with conn.cursor() as cur:\n",
    "    \n",
    "    cur.execute(f\"CREATE TEMP TABLE temp_result AS {query_17};\")\n",
    "    cur.execute(\"SELECT * FROM temp_result;\")\n",
    "    result = cur.fetchone()\n",
    "    print(f\"First row: \\n {result}\")\n",
    "    cur.execute(\"SELECT pg_total_relation_size('temp_result');\")\n",
    "    size = cur.fetchall()\n",
    "    print(f\"Size of query_1 result table: {size[0][0]/(1024**2)} MB\")\n",
    "    cur.execute(\"DROP TABLE temp_result;\")"
   ]
  },
  {
   "cell_type": "markdown",
   "metadata": {},
   "source": [
    "## Trying with small table on query 10"
   ]
  },
  {
   "cell_type": "code",
   "execution_count": 3,
   "metadata": {},
   "outputs": [
    {
     "name": "stdout",
     "output_type": "stream",
     "text": [
      "('Hash Join  (cost=897529.89..74639748.12 rows=59986052 width=114)',)\n",
      "('  Hash Cond: (lineitem.l_orderkey = o.o_orderkey)',)\n",
      "('  ->  WindowAgg  (cost=1000.45..71535435.25 rows=59986052 width=110)',)\n",
      "('        ->  Gather Merge  (cost=1000.45..70635644.47 rows=59986052 width=78)',)\n",
      "('              Workers Planned: 2',)\n",
      "('              ->  Nested Loop  (cost=0.43..63710765.64 rows=24994188 width=78)',)\n",
      "('                    ->  Parallel Index Scan using part_pkey on part  (cost=0.43..81242.76 rows=833333 width=47)',)\n",
      "('                    ->  Index Scan using idx_lineitem_partkey on lineitem  (cost=0.00..76.07 rows=29 width=35)',)\n",
      "('                          Index Cond: (l_partkey = part.p_partkey)',)\n",
      "('  ->  Hash  (cost=650435.44..650435.44 rows=15000000 width=8)',)\n",
      "('        ->  Index Scan using orders_pkey on orders o  (cost=0.43..650435.44 rows=15000000 width=8)',)\n"
     ]
    }
   ],
   "source": [
    "conn.rollback()\n",
    "with conn.cursor() as cur:\n",
    "    cur.execute(\"SET enable_seqscan = on;\")\n",
    "    cur.execute(\"SET enable_indexscan = on;\")\n",
    "    cur.execute(\"SET enable_bitmapscan = on;\")\n",
    "    cur.execute(\"SET enable_indexonlyscan = off;\")\n",
    "    cur.execute(\"SET enable_nestloop = on;\")\n",
    "    cur.execute(\"SET enable_mergejoin = on;\")\n",
    "    cur.execute(\"SET enable_hashjoin = on;\")\n",
    "    cur.execute(\"SET enable_sort = on;\")\n",
    "    cur.execute(\"SET enable_hashagg = on;\")\n",
    "    conn.commit()\n",
    "\n",
    "query_materialized = \"\"\"\n",
    "\n",
    "CREATE MATERIALIZED VIEW customer_order_lineitem_nation AS\n",
    "SELECT\n",
    "    c.c_custkey,\n",
    "    c.c_name,\n",
    "    c.c_acctbal,\n",
    "    n.n_name,\n",
    "    c.c_address,\n",
    "    c.c_phone,\n",
    "    c.c_comment,\n",
    "    c.c_nationkey,\n",
    "    c.c_custkey\n",
    "    l.l_returnflag,\n",
    "    l.l_orderkey,\n",
    "    o.o_orderdate,\n",
    "\n",
    "FROM\n",
    "    customer c\n",
    "JOIN\n",
    "    orders o ON c.c_custkey = o.o_custkey\n",
    "JOIN\n",
    "    lineitem l ON l.l_orderkey = o.o_orderkey\n",
    "JOIN\n",
    "    nation n ON c.c_nationkey = n.n_nationkey;\n",
    "\"\"\"\n",
    "\n",
    "with conn.cursor() as cur:\n",
    "    cur.execute(query_materialized)\n",
    "    for row in cur.fetchall():\n",
    "        print(row)"
   ]
  },
  {
   "cell_type": "code",
   "execution_count": null,
   "metadata": {},
   "outputs": [],
   "source": [
    "check_indexes('lineitem_orders_part')"
   ]
  },
  {
   "cell_type": "code",
   "execution_count": 14,
   "metadata": {},
   "outputs": [
    {
     "name": "stdout",
     "output_type": "stream",
     "text": [
      "Sort  (cost=2285986.57..2287338.86 rows=540913 width=279) (actual time=94283.995..94529.354 rows=381105 loops=1)\n",
      "  Sort Key: (sum((lineitem.l_extendedprice * ('1'::numeric - lineitem.l_discount)))) DESC\n",
      "  Sort Method: external merge  Disk: 71032kB\n",
      "  ->  GroupAggregate  (cost=1894222.39..2093967.03 rows=540913 width=279) (actual time=84268.371..92207.632 rows=381105 loops=1)\n",
      "        Group Key: customer.c_custkey, nation.n_name\n",
      "        ->  Incremental Sort  (cost=1894222.39..2080444.21 rows=540913 width=259) (actual time=84268.332..90311.893 rows=1147084 loops=1)\n",
      "              Sort Key: customer.c_custkey, nation.n_name\n",
      "              Presorted Key: customer.c_custkey\n",
      "              Full-sort Groups: 34124  Sort Method: quicksort  Average Memory: 31kB  Peak Memory: 31kB\n",
      "              ->  Nested Loop  (cost=1894222.08..2056103.12 rows=540913 width=259) (actual time=84268.138..89108.177 rows=1147084 loops=1)\n",
      "                    ->  Merge Join  (cost=1894221.93..2042509.49 rows=540913 width=159) (actual time=84267.804..87788.869 rows=1147084 loops=1)\n",
      "                          Merge Cond: (orders.o_custkey = customer.c_custkey)\n",
      "                          ->  Gather Merge  (cost=1894215.07..1957213.31 rows=540913 width=16) (actual time=84266.655..85051.429 rows=1147084 loops=1)\n",
      "                                Workers Planned: 2\n",
      "                                Workers Launched: 0\n",
      "                                ->  Sort  (cost=1893215.05..1893778.50 rows=225380 width=16) (actual time=84264.793..84735.720 rows=1147084 loops=1)\n",
      "                                      Sort Key: orders.o_custkey\n",
      "                                      Sort Method: external merge  Disk: 30904kB\n",
      "                                      ->  Parallel Hash Join  (cost=354476.08..1869323.02 rows=225380 width=16) (actual time=74364.682..82270.359 rows=1147084 loops=1)\n",
      "                                            Hash Cond: (lineitem.l_orderkey = orders.o_orderkey)\n",
      "                                            ->  Parallel Seq Scan on lineitem  (cost=0.00..1436970.35 rows=6213555 width=16) (actual time=1.139..47830.449 rows=14808183 loops=1)\n",
      "                                                  Filter: (l_returnflag = 'R'::bpchar)\n",
      "                                                  Rows Removed by Filter: 45177869\n",
      "                                            ->  Parallel Hash  (cost=350756.30..350756.30 rows=226702 width=8) (actual time=18927.846..18927.860 rows=573157 loops=1)\n",
      "                                                  Buckets: 262144  Batches: 4  Memory Usage: 7680kB\n",
      "                                                  ->  Parallel Bitmap Heap Scan on orders  (cost=7441.32..350756.30 rows=226702 width=8) (actual time=252.189..18241.263 rows=573157 loops=1)\n",
      "                                                        Recheck Cond: ((o_orderdate >= '1993-10-01'::date) AND (o_orderdate < '1994-01-01 00:00:00'::timestamp without time zone))\n",
      "                                                        Rows Removed by Index Recheck: 10885890\n",
      "                                                        Heap Blocks: exact=34987 lossy=198319\n",
      "                                                        ->  Bitmap Index Scan on idx_o_orderdate  (cost=0.00..7305.30 rows=544086 width=0) (actual time=231.869..231.882 rows=573157 loops=1)\n",
      "                                                              Index Cond: ((o_orderdate >= '1993-10-01'::date) AND (o_orderdate < '1994-01-01 00:00:00'::timestamp without time zone))\n",
      "                          ->  Index Scan using customer_pkey on customer  (cost=0.43..74791.09 rows=1500044 width=147) (actual time=0.931..1693.789 rows=1499998 loops=1)\n",
      "                    ->  Memoize  (cost=0.15..4.57 rows=1 width=108) (actual time=0.001..0.001 rows=1 loops=1147084)\n",
      "                          Cache Key: customer.c_nationkey\n",
      "                          Cache Mode: logical\n",
      "                          Hits: 1147059  Misses: 25  Evictions: 0  Overflows: 0  Memory Usage: 4kB\n",
      "                          ->  Index Scan using nation_pkey on nation  (cost=0.14..4.56 rows=1 width=108) (actual time=0.014..0.014 rows=1 loops=25)\n",
      "                                Index Cond: (n_nationkey = customer.c_nationkey)\n",
      "Planning Time: 40.415 ms\n",
      "Execution Time: 94603.039 ms\n"
     ]
    }
   ],
   "source": [
    "query_10 = \"\"\"\n",
    "SELECT\n",
    "    c_custkey,\n",
    "    c_name,\n",
    "    SUM(l_extendedprice * (1 - l_discount)) AS revenue,\n",
    "    c_acctbal,\n",
    "    n_name,\n",
    "    c_address,\n",
    "    c_phone,\n",
    "    c_comment\n",
    "FROM\n",
    "    customer_order_lineitem_nation\n",
    "WHERE\n",
    "    o_orderdate >= DATE '1993-10-01'\n",
    "    AND o_orderdate < DATE '1993-10-01' + INTERVAL '3' MONTH\n",
    "    AND l_returnflag = 'R'\n",
    "GROUP BY\n",
    "    c_custkey,\n",
    "    c_name,\n",
    "    c_acctbal,\n",
    "    c_phone,\n",
    "    n_name,\n",
    "    c_address,\n",
    "    c_comment\n",
    "ORDER BY\n",
    "    revenue DESC;\n",
    "\"\"\"\n",
    "\n",
    "explain_analyze(query_10)"
   ]
  }
 ],
 "metadata": {
  "kernelspec": {
   "display_name": "Python 3",
   "language": "python",
   "name": "python3"
  },
  "language_info": {
   "codemirror_mode": {
    "name": "ipython",
    "version": 3
   },
   "file_extension": ".py",
   "mimetype": "text/x-python",
   "name": "python",
   "nbconvert_exporter": "python",
   "pygments_lexer": "ipython3",
   "version": "3.9.18"
  }
 },
 "nbformat": 4,
 "nbformat_minor": 2
}
