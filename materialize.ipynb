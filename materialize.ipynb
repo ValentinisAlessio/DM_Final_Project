{
 "cells": [
  {
   "cell_type": "code",
   "execution_count": 2,
   "metadata": {},
   "outputs": [],
   "source": [
    "import psycopg2\n",
    "import time\n",
    "\n",
    "# establish a connection to the PostgreSQL database\n",
    "conn = psycopg2.connect(\n",
    "    dbname = \"dw_cs\", \n",
    "    user = \"postgres\", \n",
    "    host= 'localhost',\n",
    "    password = \"Mu34zi72\",\n",
    "    port = 5432\n",
    ")"
   ]
  },
  {
   "cell_type": "code",
   "execution_count": 3,
   "metadata": {},
   "outputs": [],
   "source": [
    "def check_indexes(table_name):\n",
    "\n",
    "    with conn.cursor() as cur:\n",
    "        query = f\"\"\"\n",
    "        SELECT\n",
    "            indexname,\n",
    "            indexdef\n",
    "        FROM\n",
    "            pg_indexes\n",
    "        WHERE\n",
    "            tablename = '{table_name}';\n",
    "        \"\"\"\n",
    "\n",
    "        cur.execute(query)      \n",
    "        \n",
    "        indexes = cur.fetchall()\n",
    "        \n",
    "        for index in indexes:\n",
    "            print(f\"Index Name: {index[0]}\")\n",
    "            print(f\"Index Definition: {index[1]}\\n\")\n",
    "\n",
    "# function to explain-analyze a query\n",
    "\n",
    "def explain_analyze(query, analyze = True):\n",
    "    conn.rollback()\n",
    "    with conn.cursor() as cur:\n",
    "        if analyze:\n",
    "            cur.execute(f\"EXPLAIN ANALYZE {query}\")\n",
    "        else:\n",
    "            cur.execute(f\"EXPLAIN {query}\")\n",
    "        explain = cur.fetchall()\n",
    "\n",
    "        for line in explain:\n",
    "            print(line[0])"
   ]
  },
  {
   "cell_type": "markdown",
   "metadata": {},
   "source": [
    "## Check indexes and drop non pk indexes"
   ]
  },
  {
   "cell_type": "code",
   "execution_count": 4,
   "metadata": {},
   "outputs": [
    {
     "name": "stdout",
     "output_type": "stream",
     "text": [
      "Index Name: nation_pkey\n",
      "Index Definition: CREATE UNIQUE INDEX nation_pkey ON public.nation USING btree (n_nationkey)\n",
      "\n",
      "Index Name: part_pkey\n",
      "Index Definition: CREATE UNIQUE INDEX part_pkey ON public.part USING btree (p_partkey)\n",
      "\n",
      "Index Name: supplier_pkey\n",
      "Index Definition: CREATE UNIQUE INDEX supplier_pkey ON public.supplier USING btree (s_suppkey)\n",
      "\n",
      "Index Name: customer_pkey\n",
      "Index Definition: CREATE UNIQUE INDEX customer_pkey ON public.customer USING btree (c_custkey)\n",
      "\n",
      "Index Name: region_pkey\n",
      "Index Definition: CREATE UNIQUE INDEX region_pkey ON public.region USING btree (r_regionkey)\n",
      "\n",
      "Index Name: partsupp_pkey\n",
      "Index Definition: CREATE UNIQUE INDEX partsupp_pkey ON public.partsupp USING btree (ps_partkey, ps_suppkey)\n",
      "\n",
      "Index Name: orders_pkey\n",
      "Index Definition: CREATE UNIQUE INDEX orders_pkey ON public.orders USING btree (o_orderkey)\n",
      "\n"
     ]
    }
   ],
   "source": [
    "a = ['nation', 'part', 'supplier', 'customer', 'lineitem', 'region', 'partsupp', 'orders']\n",
    "\n",
    "for table in a:\n",
    "    check_indexes(table)"
   ]
  },
  {
   "cell_type": "markdown",
   "metadata": {},
   "source": [
    "## First try with smaller table"
   ]
  },
  {
   "cell_type": "code",
   "execution_count": null,
   "metadata": {},
   "outputs": [],
   "source": [
    "conn.rollback()\n",
    "with conn.cursor() as cur:\n",
    "    cur.execute(\"SET enable_seqscan = on;\")\n",
    "    cur.execute(\"SET enable_indexscan = on;\")\n",
    "    cur.execute(\"SET enable_bitmapscan = on;\")\n",
    "    cur.execute(\"SET enable_indexonlyscan = off;\")\n",
    "    cur.execute(\"SET enable_nestloop = on;\")\n",
    "    cur.execute(\"SET enable_mergejoin = on;\")\n",
    "    cur.execute(\"SET enable_hashjoin = off;\")\n",
    "    cur.execute(\"SET enable_sort = on;\")\n",
    "    cur.execute(\"SET enable_hashagg = off;\")\n",
    "    conn.commit()\n",
    "\n",
    "query_materialized = \"\"\"\n",
    "\n",
    "CREATE MATERIALIZED VIEW part_lineitem AS\n",
    "\n",
    "SELECT \n",
    "    part.p_brand, \n",
    "    part.p_container, \n",
    "    part.p_type,\n",
    "    lineitem.l_partkey,\n",
    "    lineitem.l_quantity, \n",
    "    lineitem.l_extendedprice, \n",
    "    lineitem.l_shipdate, \n",
    "    lineitem.l_discount\n",
    "FROM part JOIN lineitem ON p_partkey = l_partkey;\n",
    "\n",
    "\n",
    "\"\"\"\n",
    "\n",
    "explain_analyze(query_materialized, analyze = False)"
   ]
  },
  {
   "cell_type": "code",
   "execution_count": 18,
   "metadata": {},
   "outputs": [
    {
     "name": "stdout",
     "output_type": "stream",
     "text": [
      "Time taken to create materialized view: 246.66123604774475 seconds\n"
     ]
    }
   ],
   "source": [
    "with conn.cursor() as cur:\n",
    "    start_time = time.time()\n",
    "    cur.execute(query_materialized)\n",
    "    end_time = time.time()\n",
    "    print(f\"Time taken to create materialized view: {end_time - start_time} seconds\")\n",
    "    conn.commit()"
   ]
  },
  {
   "cell_type": "markdown",
   "metadata": {},
   "source": [
    "in this case i used merge join\n",
    "\n",
    "using hash join the time was 3 minutes and 40 seconds."
   ]
  },
  {
   "cell_type": "code",
   "execution_count": 8,
   "metadata": {},
   "outputs": [
    {
     "name": "stdout",
     "output_type": "stream",
     "text": [
      "Size of materialised view: 5782.5078125 MB\n"
     ]
    }
   ],
   "source": [
    "conn.rollback()\n",
    "with conn.cursor() as cur:\n",
    "    \n",
    "    cur.execute(\"SELECT pg_total_relation_size('part_lineitem');\")\n",
    "    size = cur.fetchall()\n",
    "    print(f\"Size of materialised view: {size[0][0]/(1024**2)} MB\")\n",
    "    print(f\"Size of materialised view: {size[0][0]/(1024**3)} GB\")"
   ]
  },
  {
   "cell_type": "code",
   "execution_count": 7,
   "metadata": {},
   "outputs": [],
   "source": [
    "conn.rollback()\n",
    "check_indexes('part_lineitem')"
   ]
  },
  {
   "cell_type": "markdown",
   "metadata": {},
   "source": [
    "### Query 14"
   ]
  },
  {
   "cell_type": "code",
   "execution_count": 6,
   "metadata": {},
   "outputs": [],
   "source": [
    "conn.rollback()\n",
    "with conn.cursor() as cur:\n",
    "    cur.execute(\"SET enable_seqscan = on;\")\n",
    "    cur.execute(\"SET enable_indexscan = on;\")\n",
    "    cur.execute(\"SET enable_bitmapscan = on;\")\n",
    "    cur.execute(\"SET enable_indexonlyscan = off;\")\n",
    "    cur.execute(\"SET enable_nestloop = on;\")\n",
    "    cur.execute(\"SET enable_mergejoin = on;\")\n",
    "    cur.execute(\"SET enable_hashjoin = on;\")\n",
    "    cur.execute(\"SET enable_sort = on;\")\n",
    "    cur.execute(\"SET enable_hashagg = on;\")\n",
    "    cur.execute(\"SET enable_material = on;\")\n",
    "    conn.commit()\n",
    "\n",
    "query_14 = \"\"\"\n",
    "SELECT\n",
    "    100.00 * SUM(CASE\n",
    "        WHEN p_type LIKE 'PROMO%'\n",
    "        THEN l_extendedprice * (1 - l_discount)\n",
    "        ELSE 0\n",
    "    END) / SUM(l_extendedprice * (1 - l_discount)) AS promo_revenue\n",
    "FROM\n",
    "    part_lineitem\n",
    "WHERE\n",
    "    l_shipdate >= DATE '1995-09-01'\n",
    "    AND l_shipdate < DATE '1995-09-01' + INTERVAL '1' MONTH;\n",
    "\"\"\"\n"
   ]
  },
  {
   "cell_type": "code",
   "execution_count": null,
   "metadata": {},
   "outputs": [],
   "source": [
    "explain_analyze(query_14)"
   ]
  },
  {
   "cell_type": "markdown",
   "metadata": {},
   "source": [
    "the problem is that it does a seq scan because there is no index on shipdate."
   ]
  },
  {
   "cell_type": "markdown",
   "metadata": {},
   "source": [
    "Size of the result table"
   ]
  },
  {
   "cell_type": "code",
   "execution_count": 10,
   "metadata": {},
   "outputs": [
    {
     "name": "stdout",
     "output_type": "stream",
     "text": [
      "First row: \n",
      " (Decimal('16.6475949416150953'),)\n",
      "Size of query_1 result table: 0.015625 MB\n"
     ]
    }
   ],
   "source": [
    "with conn.cursor() as cur:\n",
    "    \n",
    "    cur.execute(f\"CREATE TEMP TABLE temp_result AS {query_14};\")\n",
    "    cur.execute(\"SELECT * FROM temp_result;\")\n",
    "    result = cur.fetchone()\n",
    "    print(f\"First row: \\n {result}\")\n",
    "    cur.execute(\"SELECT pg_total_relation_size('temp_result');\")\n",
    "    size = cur.fetchall()\n",
    "    print(f\"Size of query_1 result table: {size[0][0]/(1024**2)} MB\")\n",
    "    cur.execute(\"DROP TABLE temp_result;\")"
   ]
  },
  {
   "cell_type": "markdown",
   "metadata": {},
   "source": [
    "### Query 17"
   ]
  },
  {
   "cell_type": "code",
   "execution_count": 4,
   "metadata": {},
   "outputs": [],
   "source": [
    "query_17 = \"\"\"\n",
    "\n",
    "CREATE VIEW l_quantity_avg AS\n",
    "\n",
    "SELECT \n",
    "    l_partkey,\n",
    "    AVG(l_quantity) AS avg_quantity\n",
    "FROM\n",
    "    part_lineitem\n",
    "GROUP BY l_partkey;\n",
    "\n",
    "EXPLAIN \n",
    "\n",
    "SELECT\n",
    "    SUM(l_extendedprice) / 7.0 AS avg_yearly\n",
    "FROM\n",
    "    part_lineitem JOIN l_quantity_avg q_avg ON part_lineitem.l_partkey = q_avg.l_partkey\n",
    "WHERE\n",
    "    p_brand = 'Brand#23'\n",
    "    AND p_container = 'MED BOX'\n",
    "    AND l_quantity < ( 0.2 * q_avg.avg_quantity);\n",
    "    \n",
    "\"\"\""
   ]
  },
  {
   "cell_type": "code",
   "execution_count": null,
   "metadata": {},
   "outputs": [],
   "source": [
    "conn.rollback()\n",
    "with conn.cursor() as cur:\n",
    "    \n",
    "    cur.execute(query_17)"
   ]
  },
  {
   "cell_type": "code",
   "execution_count": 14,
   "metadata": {},
   "outputs": [
    {
     "name": "stdout",
     "output_type": "stream",
     "text": [
      "Finalize GroupAggregate  (cost=2910482.68..2968369.91 rows=221918 width=36)\n",
      "  Group Key: l_partkey\n",
      "  ->  Gather Merge  (cost=2910482.68..2962267.16 rows=443836 width=36)\n",
      "        Workers Planned: 2\n",
      "        ->  Sort  (cost=2909482.66..2910037.45 rows=221918 width=36)\n",
      "              Sort Key: l_partkey\n",
      "              ->  Partial HashAggregate  (cost=2636843.60..2883707.71 rows=221918 width=36)\n",
      "                    Group Key: l_partkey\n",
      "                    Planned Partitions: 16\n",
      "                    ->  Parallel Seq Scan on part_lineitem  (cost=0.00..1035612.30 rows=24994830 width=9)\n"
     ]
    }
   ],
   "source": [
    "query_view = \"\"\"  \n",
    "SELECT \n",
    "    l_partkey,\n",
    "    AVG(l_quantity) AS avg_quantity\n",
    "FROM\n",
    "    part_lineitem\n",
    "GROUP BY l_partkey;\n",
    "\"\"\"\n",
    "\n",
    "explain_analyze(query_view, analyze = False)"
   ]
  },
  {
   "cell_type": "code",
   "execution_count": 10,
   "metadata": {},
   "outputs": [
    {
     "name": "stdout",
     "output_type": "stream",
     "text": [
      "Aggregate  (cost=92108005216202.92..92108005216202.94 rows=1 width=32)\n",
      "  ->  Seq Scan on part_lineitem pl1  (cost=0.00..92108005216157.58 rows=18139 width=8)\n",
      "        Filter: ((p_brand = 'Brand#23'::bpchar) AND (p_container = 'MED BOX'::bpchar) AND (l_quantity < (SubPlan 1)))\n",
      "        SubPlan 1\n",
      "          ->  GroupAggregate  (cost=0.00..1535490.34 rows=1 width=36)\n",
      "                ->  Seq Scan on part_lineitem pl2  (cost=0.00..1535489.65 rows=270 width=9)\n",
      "                      Filter: (l_partkey = pl1.l_partkey)\n"
     ]
    }
   ],
   "source": [
    "query_17_1 = \"\"\"\n",
    "\n",
    "SELECT\n",
    "    SUM(pl1.l_extendedprice) / 7.0 AS avg_yearly\n",
    "FROM\n",
    "    part_lineitem pl1\n",
    "WHERE\n",
    "    pl1.p_brand = 'Brand#23'\n",
    "    AND pl1.p_container = 'MED BOX'\n",
    "    AND pl1.l_quantity < (\n",
    "        SELECT\n",
    "            0.2 * AVG(pl2.l_quantity)\n",
    "        FROM\n",
    "            part_lineitem pl2\n",
    "        WHERE\n",
    "            pl2.l_partkey = pl1.l_partkey\n",
    "        GROUP BY\n",
    "            pl2.l_partkey\n",
    "    );\n",
    "\n",
    "\"\"\"\n",
    "\n",
    "explain_analyze(query_17_1, analyze = False)"
   ]
  },
  {
   "cell_type": "markdown",
   "metadata": {},
   "source": [
    "since there is no index on l_partkey the group by is very costly anyway."
   ]
  },
  {
   "cell_type": "markdown",
   "metadata": {},
   "source": [
    "Size of result table"
   ]
  },
  {
   "cell_type": "code",
   "execution_count": null,
   "metadata": {},
   "outputs": [],
   "source": [
    "with conn.cursor() as cur:\n",
    "    \n",
    "    cur.execute(f\"CREATE TEMP TABLE temp_result AS {query_17};\")\n",
    "    cur.execute(\"SELECT * FROM temp_result;\")\n",
    "    result = cur.fetchone()\n",
    "    print(f\"First row: \\n {result}\")\n",
    "    cur.execute(\"SELECT pg_total_relation_size('temp_result');\")\n",
    "    size = cur.fetchall()\n",
    "    print(f\"Size of query_1 result table: {size[0][0]/(1024**2)} MB\")\n",
    "    cur.execute(\"DROP TABLE temp_result;\")"
   ]
  },
  {
   "cell_type": "markdown",
   "metadata": {},
   "source": [
    "## Trying with small table on query 10"
   ]
  },
  {
   "cell_type": "code",
   "execution_count": 10,
   "metadata": {},
   "outputs": [
    {
     "name": "stdout",
     "output_type": "stream",
     "text": [
      "Hash Join  (cost=773460.56..4508576.09 rows=59991596 width=265)\n",
      "  Hash Cond: (c.c_nationkey = n.n_nationkey)\n",
      "  ->  Hash Join  (cost=773459.00..4324400.33 rows=59991596 width=165)\n",
      "        Hash Cond: (o.o_custkey = c.c_custkey)\n",
      "        ->  Hash Join  (cost=671655.00..3329862.94 rows=59991596 width=22)\n",
      "              Hash Cond: (l.l_orderkey = o.o_orderkey)\n",
      "              ->  Seq Scan on lineitem l  (cost=0.00..1724458.96 rows=59991596 width=18)\n",
      "              ->  Hash  (cost=410912.00..410912.00 rows=15000000 width=12)\n",
      "                    ->  Seq Scan on orders o  (cost=0.00..410912.00 rows=15000000 width=12)\n",
      "        ->  Hash  (cost=50827.00..50827.00 rows=1500000 width=147)\n",
      "              ->  Seq Scan on customer c  (cost=0.00..50827.00 rows=1500000 width=147)\n",
      "  ->  Hash  (cost=1.25..1.25 rows=25 width=108)\n",
      "        ->  Seq Scan on nation n  (cost=0.00..1.25 rows=25 width=108)\n"
     ]
    }
   ],
   "source": [
    "conn.rollback()\n",
    "with conn.cursor() as cur:\n",
    "    cur.execute(\"SET enable_seqscan = on;\")\n",
    "    cur.execute(\"SET enable_indexscan = on;\")\n",
    "    cur.execute(\"SET enable_bitmapscan = on;\")\n",
    "    cur.execute(\"SET enable_indexonlyscan = off;\")\n",
    "    cur.execute(\"SET enable_nestloop = on;\")\n",
    "    cur.execute(\"SET enable_mergejoin = on;\")\n",
    "    cur.execute(\"SET enable_hashjoin = on;\")\n",
    "    cur.execute(\"SET enable_sort = on;\")\n",
    "    cur.execute(\"SET enable_hashagg = on;\")\n",
    "    conn.commit()\n",
    "\n",
    "query_materialized = \"\"\"\n",
    "\n",
    "CREATE MATERIALIZED VIEW customer_order_lineitem_nation AS\n",
    "SELECT\n",
    "    c.c_custkey,\n",
    "    c.c_name,\n",
    "    c.c_acctbal,\n",
    "    n.n_name,\n",
    "    c.c_address,\n",
    "    c.c_phone,\n",
    "    c.c_comment,\n",
    "    -- c.c_nationkey, not needed in the query, so not included\n",
    "    l.l_returnflag,\n",
    "    -- l.l_orderkey, not needed in the query, so not included\n",
    "    l.l_discount,\n",
    "    l.l_extendedprice,\n",
    "    o.o_orderdate\n",
    "\n",
    "FROM\n",
    "    customer c\n",
    "JOIN\n",
    "    orders o ON c.c_custkey = o.o_custkey\n",
    "JOIN\n",
    "    lineitem l ON l.l_orderkey = o.o_orderkey\n",
    "JOIN\n",
    "    nation n ON c.c_nationkey = n.n_nationkey;\n",
    "\"\"\"\n",
    "\n",
    "explain_analyze(query_materialized, analyze = False)"
   ]
  },
  {
   "cell_type": "code",
   "execution_count": 11,
   "metadata": {},
   "outputs": [
    {
     "name": "stdout",
     "output_type": "stream",
     "text": [
      "Time taken to create materialized view: 428.36515831947327 seconds\n"
     ]
    }
   ],
   "source": [
    "with conn.cursor() as cur:\n",
    "    start_time = time.time()\n",
    "    cur.execute(query_materialized)\n",
    "    end_time = time.time()\n",
    "    print(f\"Time taken to create materialized view: {end_time - start_time} seconds\")\n",
    "    conn.commit()"
   ]
  },
  {
   "cell_type": "code",
   "execution_count": 12,
   "metadata": {},
   "outputs": [],
   "source": [
    "check_indexes('customer_order_lineitem_nation')"
   ]
  },
  {
   "cell_type": "code",
   "execution_count": 4,
   "metadata": {},
   "outputs": [],
   "source": [
    "query_10 = \"\"\"\n",
    "SELECT\n",
    "    c_custkey,\n",
    "    c_name,\n",
    "    SUM(l_extendedprice * (1 - l_discount)) AS revenue,\n",
    "    c_acctbal,\n",
    "    n_name,\n",
    "    c_address,\n",
    "    c_phone,\n",
    "    c_comment\n",
    "FROM\n",
    "    customer_order_lineitem_nation\n",
    "WHERE\n",
    "    o_orderdate >= DATE '1993-10-01'\n",
    "    AND o_orderdate < DATE '1993-10-01' + INTERVAL '3' MONTH\n",
    "    AND l_returnflag = 'R'\n",
    "GROUP BY\n",
    "    c_custkey,\n",
    "    c_name,\n",
    "    c_acctbal,\n",
    "    c_phone,\n",
    "    n_name,\n",
    "    c_address,\n",
    "    c_comment\n",
    "ORDER BY\n",
    "    revenue DESC;\n",
    "\"\"\"\n"
   ]
  },
  {
   "cell_type": "code",
   "execution_count": 7,
   "metadata": {},
   "outputs": [
    {
     "name": "stdout",
     "output_type": "stream",
     "text": [
      "Sort  (cost=2394038.81..2395473.69 rows=573953 width=202) (actual time=39728.690..39798.039 rows=381105 loops=1)\n",
      "  Sort Key: (sum((l_extendedprice * ('1'::numeric - l_discount)))) DESC\n",
      "  Sort Method: external merge  Disk: 71032kB\n",
      "  ->  Finalize GroupAggregate  (cost=2139180.42..2225353.56 rows=573953 width=202) (actual time=37614.276..39076.143 rows=381105 loops=1)\n",
      "        Group Key: c_custkey, c_name, c_acctbal, c_phone, n_name, c_address, c_comment\n",
      "        ->  Gather Merge  (cost=2139180.42..2206923.97 rows=500230 width=202) (actual time=37614.261..38418.455 rows=449977 loops=1)\n",
      "              Workers Planned: 2\n",
      "              Workers Launched: 2\n",
      "              ->  Partial GroupAggregate  (cost=2138180.40..2148185.00 rows=250115 width=202) (actual time=37598.726..38128.147 rows=149992 loops=3)\n",
      "                    Group Key: c_custkey, c_name, c_acctbal, c_phone, n_name, c_address, c_comment\n",
      "                    ->  Sort  (cost=2138180.40..2138805.68 rows=250115 width=182) (actual time=37598.684..37684.530 rows=382361 loops=3)\n",
      "                          Sort Key: c_custkey, c_name, c_acctbal, c_phone, n_name, c_address, c_comment\n",
      "                          Sort Method: external merge  Disk: 73792kB\n",
      "                          Worker 0:  Sort Method: external merge  Disk: 71760kB\n",
      "                          Worker 1:  Sort Method: external merge  Disk: 73448kB\n",
      "                          ->  Parallel Seq Scan on customer_order_lineitem_nation  (cost=0.00..2093526.30 rows=250115 width=182) (actual time=2.047..35934.158 rows=382361 loops=3)\n",
      "                                Filter: ((o_orderdate >= '1993-10-01'::date) AND (o_orderdate < '1994-01-01 00:00:00'::timestamp without time zone) AND (l_returnflag = 'R'::bpchar))\n",
      "                                Rows Removed by Filter: 19612989\n",
      "Planning Time: 0.241 ms\n",
      "Execution Time: 39850.951 ms\n"
     ]
    }
   ],
   "source": [
    "conn.rollback()\n",
    "with conn.cursor() as cur:\n",
    "    cur.execute(\"SET enable_seqscan = on;\")\n",
    "    cur.execute(\"SET enable_indexscan = on;\")\n",
    "    cur.execute(\"SET enable_bitmapscan = on;\")\n",
    "    cur.execute(\"SET enable_indexonlyscan = off;\")\n",
    "    cur.execute(\"SET enable_nestloop = on;\")\n",
    "    cur.execute(\"SET enable_mergejoin = on;\")\n",
    "    cur.execute(\"SET enable_hashjoin = on;\")\n",
    "    cur.execute(\"SET enable_sort = on;\")\n",
    "    cur.execute(\"SET enable_hashagg = on;\")\n",
    "    conn.commit()\n",
    "\n",
    "explain_analyze(query_10)"
   ]
  },
  {
   "cell_type": "code",
   "execution_count": null,
   "metadata": {},
   "outputs": [],
   "source": [
    "with conn.cursor() as cur:\n",
    "    \n",
    "    cur.execute(f\"CREATE TEMP TABLE temp_result AS {query_10};\")\n",
    "    cur.execute(\"SELECT * FROM temp_result;\")\n",
    "    result = cur.fetchone()\n",
    "    print(f\"First row: \\n {result}\")\n",
    "    cur.execute(\"SELECT pg_total_relation_size('temp_result');\")\n",
    "    size = cur.fetchall()\n",
    "    print(f\"Size of query_1 result table: {size[0][0]/(1024**2)} MB\")\n",
    "    cur.execute(\"DROP TABLE temp_result;\")"
   ]
  },
  {
   "cell_type": "markdown",
   "metadata": {},
   "source": [
    "## Materialisation + indexes\n",
    "\n",
    "to optimize query 14 we could put an index on shipdate\n",
    "\n",
    "to optimize query 17 we could put an index on l_partkey\n",
    "\n",
    "to optimizze query 10 we could put an index on orderdate"
   ]
  },
  {
   "cell_type": "code",
   "execution_count": 4,
   "metadata": {},
   "outputs": [
    {
     "name": "stdout",
     "output_type": "stream",
     "text": [
      "Time to create idx_pl_shipdate ON part_lineitem (l_shipdate): 50.39820599555969 seconds\n"
     ]
    }
   ],
   "source": [
    "with conn.cursor() as cur:\n",
    "\n",
    "    start_time = time.time()\n",
    "    cur.execute(\"CREATE INDEX idx_pl_shipdate ON part_lineitem (l_shipdate);\")\n",
    "    end_time = time.time()\n",
    "    print(f\"Time to create idx_pl_shipdate ON part_lineitem (l_shipdate): {end_time - start_time} seconds\")\n",
    "\n",
    "    conn.commit()"
   ]
  },
  {
   "cell_type": "code",
   "execution_count": 9,
   "metadata": {},
   "outputs": [
    {
     "name": "stdout",
     "output_type": "stream",
     "text": [
      "Finalize Aggregate  (cost=1175828.39..1175828.40 rows=1 width=32) (actual time=14615.276..14617.296 rows=1 loops=1)\n",
      "  ->  Gather  (cost=1175828.15..1175828.36 rows=2 width=64) (actual time=14615.059..14617.279 rows=3 loops=1)\n",
      "        Workers Planned: 2\n",
      "        Workers Launched: 2\n",
      "        ->  Partial Aggregate  (cost=1174828.15..1174828.16 rows=1 width=64) (actual time=14604.247..14604.248 rows=1 loops=3)\n",
      "              ->  Parallel Bitmap Heap Scan on part_lineitem  (cost=10340.74..1169302.00 rows=315780 width=33) (actual time=69.036..14471.982 rows=249741 loops=3)\n",
      "                    Recheck Cond: ((l_shipdate >= '1995-09-01'::date) AND (l_shipdate < '1995-10-01 00:00:00'::timestamp without time zone))\n",
      "                    Rows Removed by Index Recheck: 10732897\n",
      "                    Heap Blocks: exact=18000 lossy=143487\n",
      "                    ->  Bitmap Index Scan on idx_pl_shipdate  (cost=0.00..10151.27 rows=757871 width=0) (actual time=69.139..69.139 rows=749223 loops=1)\n",
      "                          Index Cond: ((l_shipdate >= '1995-09-01'::date) AND (l_shipdate < '1995-10-01 00:00:00'::timestamp without time zone))\n",
      "Planning Time: 0.107 ms\n",
      "Execution Time: 14617.335 ms\n"
     ]
    }
   ],
   "source": [
    "conn.rollback()\n",
    "with conn.cursor() as cur:\n",
    "    cur.execute(\"SET enable_seqscan = off;\")\n",
    "    cur.execute(\"SET enable_indexscan = on;\")\n",
    "    cur.execute(\"SET enable_bitmapscan = on;\")\n",
    "    cur.execute(\"SET enable_material = on;\")\n",
    "    conn.commit()\n",
    "    \n",
    "explain_analyze(query_14)"
   ]
  },
  {
   "cell_type": "code",
   "execution_count": 10,
   "metadata": {},
   "outputs": [
    {
     "name": "stdout",
     "output_type": "stream",
     "text": [
      "Time to create index idx_pl_partkey ON lineitem (l_partkey): 45.48381209373474 seconds\n"
     ]
    }
   ],
   "source": [
    "with conn.cursor() as cur:\n",
    "\n",
    "    start_time = time.time()\n",
    "    cur.execute(\"CREATE INDEX idx_pl_partkey ON lineitem (l_partkey);\")\n",
    "    end_time = time.time()\n",
    "    print(f\"Time to create index idx_pl_partkey ON lineitem (l_partkey): {end_time - start_time} seconds\")\n",
    "\n",
    "    conn.commit()"
   ]
  },
  {
   "cell_type": "code",
   "execution_count": 11,
   "metadata": {},
   "outputs": [],
   "source": [
    "conn.rollback()\n",
    "with conn.cursor() as cur:\n",
    "    cur.execute(\"SET enable_seqscan = off;\")\n",
    "    cur.execute(\"SET enable_indexscan = on;\")\n",
    "    cur.execute(\"SET enable_bitmapscan = on;\")\n",
    "    cur.execute(\"SET enable_indexonlyscan = off;\")\n",
    "    cur.execute(\"SET enable_nestloop = on;\")\n",
    "    cur.execute(\"SET enable_mergejoin = on;\")\n",
    "    cur.execute(\"SET enable_hashjoin = on;\")\n",
    "    cur.execute(\"SET enable_sort = on;\")\n",
    "    cur.execute(\"SET enable_hashagg = on;\")\n",
    "    conn.commit()\n",
    "\n",
    "explain_analyze(query_17_1)"
   ]
  },
  {
   "cell_type": "markdown",
   "metadata": {},
   "source": [
    "i don't understand why this doesn't work."
   ]
  },
  {
   "cell_type": "code",
   "execution_count": 5,
   "metadata": {},
   "outputs": [
    {
     "name": "stdout",
     "output_type": "stream",
     "text": [
      "Time to create idx_l_returnflag_linestatus ON customer_order_lineitem_nation (o_orderdate): 52.40430021286011 seconds\n"
     ]
    }
   ],
   "source": [
    "with conn.cursor() as cur:\n",
    "\n",
    "    start_time = time.time()\n",
    "    cur.execute(\"CREATE INDEX idx_l_returnflag_linestatus ON customer_order_lineitem_nation (o_orderdate);\")\n",
    "    end_time = time.time()\n",
    "    print(f\"Time to create idx_l_returnflag_linestatus ON customer_order_lineitem_nation (o_orderdate): {end_time - start_time} seconds\")\n",
    "\n",
    "    conn.commit()"
   ]
  },
  {
   "cell_type": "code",
   "execution_count": 8,
   "metadata": {},
   "outputs": [
    {
     "name": "stdout",
     "output_type": "stream",
     "text": [
      "Sort  (cost=2498190.35..2499625.23 rows=573953 width=202) (actual time=24878.944..24930.707 rows=381105 loops=1)\n",
      "  Sort Key: (sum((l_extendedprice * ('1'::numeric - l_discount)))) DESC\n",
      "  Sort Method: external merge  Disk: 71032kB\n",
      "  ->  Finalize GroupAggregate  (cost=2243331.96..2329505.10 rows=573953 width=202) (actual time=23821.379..24497.648 rows=381105 loops=1)\n",
      "        Group Key: c_custkey, c_name, c_acctbal, c_phone, n_name, c_address, c_comment\n",
      "        ->  Gather Merge  (cost=2243331.96..2311075.52 rows=500230 width=202) (actual time=23821.371..24214.611 rows=470931 loops=1)\n",
      "              Workers Planned: 2\n",
      "              Workers Launched: 2\n",
      "              ->  Partial GroupAggregate  (cost=2242331.94..2252336.54 rows=250115 width=202) (actual time=23806.230..24095.291 rows=156977 loops=3)\n",
      "                    Group Key: c_custkey, c_name, c_acctbal, c_phone, n_name, c_address, c_comment\n",
      "                    ->  Sort  (cost=2242331.94..2242957.22 rows=250115 width=182) (actual time=23806.208..23848.966 rows=382361 loops=3)\n",
      "                          Sort Key: c_custkey, c_name, c_acctbal, c_phone, n_name, c_address, c_comment\n",
      "                          Sort Method: external merge  Disk: 73088kB\n",
      "                          Worker 0:  Sort Method: external merge  Disk: 72992kB\n",
      "                          Worker 1:  Sort Method: external merge  Disk: 72928kB\n",
      "                          ->  Parallel Bitmap Heap Scan on customer_order_lineitem_nation  (cost=33019.71..2197677.84 rows=250115 width=182) (actual time=145.932..22931.029 rows=382361 loops=3)\n",
      "                                Recheck Cond: ((o_orderdate >= '1993-10-01'::date) AND (o_orderdate < '1994-01-01 00:00:00'::timestamp without time zone))\n",
      "                                Rows Removed by Index Recheck: 4955586\n",
      "                                Filter: (l_returnflag = 'R'::bpchar)\n",
      "                                Rows Removed by Filter: 381947\n",
      "                                Heap Blocks: exact=18928 lossy=155762\n",
      "                                ->  Bitmap Index Scan on idx_l_returnflag_linestatus  (cost=0.00..32869.65 rows=2454108 width=0) (actual time=140.378..140.378 rows=2292924 loops=1)\n",
      "                                      Index Cond: ((o_orderdate >= '1993-10-01'::date) AND (o_orderdate < '1994-01-01 00:00:00'::timestamp without time zone))\n",
      "Planning Time: 0.200 ms\n",
      "Execution Time: 24976.609 ms\n"
     ]
    }
   ],
   "source": [
    "conn.rollback()\n",
    "with conn.cursor() as cur:\n",
    "    cur.execute(\"SET enable_seqscan = off;\")\n",
    "    cur.execute(\"SET enable_indexscan = on;\")\n",
    "    cur.execute(\"SET enable_bitmapscan = on;\")\n",
    "    cur.execute(\"SET enable_indexonlyscan = off;\")\n",
    "    cur.execute(\"SET enable_nestloop = on;\")\n",
    "    cur.execute(\"SET enable_mergejoin = on;\")\n",
    "    cur.execute(\"SET enable_hashjoin = on;\")\n",
    "    cur.execute(\"SET enable_sort = on;\")\n",
    "    cur.execute(\"SET enable_hashagg = on;\")\n",
    "    conn.commit()\n",
    "\n",
    "explain_analyze(query_10)"
   ]
  }
 ],
 "metadata": {
  "kernelspec": {
   "display_name": "Python 3",
   "language": "python",
   "name": "python3"
  },
  "language_info": {
   "codemirror_mode": {
    "name": "ipython",
    "version": 3
   },
   "file_extension": ".py",
   "mimetype": "text/x-python",
   "name": "python",
   "nbconvert_exporter": "python",
   "pygments_lexer": "ipython3",
   "version": "3.9.18"
  }
 },
 "nbformat": 4,
 "nbformat_minor": 2
}
