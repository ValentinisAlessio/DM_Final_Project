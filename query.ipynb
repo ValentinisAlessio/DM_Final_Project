{
 "cells": [
  {
   "cell_type": "code",
   "execution_count": 1,
   "metadata": {},
   "outputs": [],
   "source": [
    "import psycopg2"
   ]
  },
  {
   "cell_type": "code",
   "execution_count": 2,
   "metadata": {},
   "outputs": [],
   "source": [
    "# establish a connection to the PostgreSQL database\n",
    "conn = psycopg2.connect(\n",
    "    dbname = \"dw_cs\", \n",
    "    user = \"postgres\", \n",
    "    host= 'localhost',\n",
    "    password = \"password\",\n",
    "    port = 5432\n",
    ")"
   ]
  },
  {
   "cell_type": "markdown",
   "metadata": {},
   "source": [
    "## First step\n",
    "Compute size and time for executing the queries without additional structure support. Record the size of the result set.\n"
   ]
  },
  {
   "cell_type": "code",
   "execution_count": 8,
   "metadata": {},
   "outputs": [
    {
     "name": "stdout",
     "output_type": "stream",
     "text": [
      "EXPLAIN ANALYZE result:\n",
      "Seq Scan on partsupp  (cost=0.00..274371.09 rows=3956580 width=143) (actual time=456.497..1024.624 rows=4000000 loops=1)\n",
      "  Filter: (ps_partkey > 1000000)\n",
      "  Rows Removed by Filter: 4000000\n",
      "Planning Time: 0.083 ms\n",
      "Execution Time: 1149.538 ms\n"
     ]
    }
   ],
   "source": [
    "# example of query\n",
    "\n",
    "query = \"SELECT * FROM partsupp WHERE ps_partkey > 1000000;\"\n",
    "\n",
    "with conn.cursor() as cur:\n",
    "    \n",
    "    cur.execute(f\"EXPLAIN ANALYZE {query}\")\n",
    "    explain_result = cur.fetchall()\n",
    "    print(\"EXPLAIN ANALYZE result:\")\n",
    "    for row in explain_result:\n",
    "        print(row[0])"
   ]
  },
  {
   "cell_type": "markdown",
   "metadata": {},
   "source": [
    "the first value is the startup cost, the second the total cost.\n",
    "\n",
    "Startup Cost: This represents the amount of work the query planner estimates is required before the first row can be returned. For a sequential scan (Seq Scan), this value is typically very low or zero because the first row can be returned almost immediately.\n",
    "\n",
    "Total Cost: This represents the total estimated cost to execute the entire query. It is the sum of the startup cost and the cost to process all rows."
   ]
  },
  {
   "cell_type": "markdown",
   "metadata": {},
   "source": [
    "## size of the result set"
   ]
  },
  {
   "cell_type": "code",
   "execution_count": 9,
   "metadata": {},
   "outputs": [
    {
     "name": "stdout",
     "output_type": "stream",
     "text": [
      "[(714612736,)]\n"
     ]
    }
   ],
   "source": [
    "with conn.cursor() as cur:\n",
    "    \n",
    "    cur.execute(\"CREATE TEMP TABLE temp_result AS SELECT * FROM partsupp WHERE ps_partkey > 1000000;\")\n",
    "    cur.execute(\"SELECT pg_total_relation_size('temp_result');\")\n",
    "    size = cur.fetchall()\n",
    "    print(size)\n",
    "    cur.execute(\"DROP TABLE temp_result;\")"
   ]
  },
  {
   "cell_type": "code",
   "execution_count": 11,
   "metadata": {},
   "outputs": [
    {
     "name": "stdout",
     "output_type": "stream",
     "text": [
      "677530499\n"
     ]
    }
   ],
   "source": [
    "with conn.cursor() as cur:\n",
    "    \n",
    "    cur.execute(\"SELECT SUM(pg_column_size(t)) FROM (SELECT * FROM partsupp WHERE ps_partkey > 1000000) AS t;\")\n",
    "    result_size = cur.fetchone()[0]\n",
    "    print(result_size)\n"
   ]
  },
  {
   "cell_type": "markdown",
   "metadata": {},
   "source": [
    "## how to compute the size needed to execute the query?"
   ]
  }
 ],
 "metadata": {
  "kernelspec": {
   "display_name": "Python 3",
   "language": "python",
   "name": "python3"
  },
  "language_info": {
   "codemirror_mode": {
    "name": "ipython",
    "version": 3
   },
   "file_extension": ".py",
   "mimetype": "text/x-python",
   "name": "python",
   "nbconvert_exporter": "python",
   "pygments_lexer": "ipython3",
   "version": "3.9.18"
  }
 },
 "nbformat": 4,
 "nbformat_minor": 2
}
