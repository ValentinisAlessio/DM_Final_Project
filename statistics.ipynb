{
 "cells": [
  {
   "cell_type": "code",
   "execution_count": 1,
   "metadata": {},
   "outputs": [],
   "source": [
    "import psycopg2"
   ]
  },
  {
   "cell_type": "code",
   "execution_count": 3,
   "metadata": {},
   "outputs": [],
   "source": [
    "# establish a connection to the PostgreSQL database\n",
    "conn = psycopg2.connect(\n",
    "    dbname = \"dw_cs\", \n",
    "    user = \"postgres\", \n",
    "    host= 'localhost',\n",
    "    password = \"Mu34zi72\",\n",
    "    port = 5432\n",
    ")"
   ]
  },
  {
   "cell_type": "code",
   "execution_count": 4,
   "metadata": {},
   "outputs": [
    {
     "name": "stdout",
     "output_type": "stream",
     "text": [
      "(0, 'AFRICA                   ', 'lar deposits. blithely final packages cajole. regular waters are final requests. regular accounts are according to ')\n",
      "(1, 'AMERICA                  ', 'hs use ironic, even requests. s')\n",
      "(2, 'ASIA                     ', 'ges. thinly even pinto beans ca')\n",
      "(3, 'EUROPE                   ', 'ly final courts cajole furiously final excuse')\n",
      "(4, 'MIDDLE EAST              ', 'uickly special accounts cajole carefully blithely close requests. carefully final asymptotes haggle furiousl')\n"
     ]
    }
   ],
   "source": [
    "with conn.cursor() as cur:\n",
    "    \n",
    "    cur.execute(\"SELECT * FROM region;\")\n",
    "\n",
    "    rows = cur.fetchall()\n",
    "\n",
    "    for row in rows:\n",
    "        print(row)"
   ]
  },
  {
   "cell_type": "code",
   "execution_count": 5,
   "metadata": {},
   "outputs": [
    {
     "name": "stdout",
     "output_type": "stream",
     "text": [
      "(0, 'ALGERIA                  ', 0, ' haggle. carefully final deposits detect slyly agai')\n",
      "(1, 'ARGENTINA                ', 1, 'al foxes promise slyly according to the regular accounts. bold requests alon')\n",
      "(2, 'BRAZIL                   ', 1, 'y alongside of the pending deposits. carefully special packages are about the ironic forges. slyly special ')\n",
      "(3, 'CANADA                   ', 1, 'eas hang ironic, silent packages. slyly regular packages are furiously over the tithes. fluffily bold')\n",
      "(4, 'EGYPT                    ', 4, 'y above the carefully unusual theodolites. final dugouts are quickly across the furiously regular d')\n",
      "(5, 'ETHIOPIA                 ', 0, 'ven packages wake quickly. regu')\n",
      "(6, 'FRANCE                   ', 3, 'refully final requests. regular, ironi')\n",
      "(7, 'GERMANY                  ', 3, 'l platelets. regular accounts x-ray: unusual, regular acco')\n",
      "(8, 'INDIA                    ', 2, 'ss excuses cajole slyly across the packages. deposits print aroun')\n",
      "(9, 'INDONESIA                ', 2, ' slyly express asymptotes. regular deposits haggle slyly. carefully ironic hockey players sleep blithely. carefull')\n",
      "(10, 'IRAN                     ', 4, 'efully alongside of the slyly final dependencies. ')\n",
      "(11, 'IRAQ                     ', 4, 'nic deposits boost atop the quickly final requests? quickly regula')\n",
      "(12, 'JAPAN                    ', 2, 'ously. final, express gifts cajole a')\n",
      "(13, 'JORDAN                   ', 4, 'ic deposits are blithely about the carefully regular pa')\n",
      "(14, 'KENYA                    ', 0, ' pending excuses haggle furiously deposits. pending, express pinto beans wake fluffily past t')\n",
      "(15, 'MOROCCO                  ', 0, 'rns. blithely bold courts among the closely regular packages use furiously bold platelets?')\n",
      "(16, 'MOZAMBIQUE               ', 0, 's. ironic, unusual asymptotes wake blithely r')\n",
      "(17, 'PERU                     ', 1, 'platelets. blithely pending dependencies use fluffily across the even pinto beans. carefully silent accoun')\n",
      "(18, 'CHINA                    ', 2, 'c dependencies. furiously express notornis sleep slyly regular accounts. ideas sleep. depos')\n",
      "(19, 'ROMANIA                  ', 3, 'ular asymptotes are about the furious multipliers. express dependencies nag above the ironically ironic account')\n",
      "(20, 'SAUDI ARABIA             ', 4, 'ts. silent requests haggle. closely express packages sleep across the blithely')\n",
      "(21, 'VIETNAM                  ', 2, 'hely enticingly express accounts. even, final ')\n",
      "(22, 'RUSSIA                   ', 3, ' requests against the platelets use never according to the quickly regular pint')\n",
      "(23, 'UNITED KINGDOM           ', 3, 'eans boost carefully special requests. accounts are. carefull')\n",
      "(24, 'UNITED STATES            ', 1, 'y final packages. slow foxes cajole quickly. quickly silent platelets breach ironic accounts. unusual pinto be')\n"
     ]
    }
   ],
   "source": [
    "with conn.cursor() as cur:\n",
    "    \n",
    "    cur.execute(\"SELECT * FROM nation;\")\n",
    "\n",
    "    rows = cur.fetchall()\n",
    "\n",
    "    for row in rows:\n",
    "        print(row)"
   ]
  },
  {
   "cell_type": "code",
   "execution_count": 12,
   "metadata": {},
   "outputs": [
    {
     "name": "stdout",
     "output_type": "stream",
     "text": [
      "[(15000000,)]\n",
      "[(60000000,)]\n"
     ]
    }
   ],
   "source": [
    "conn.rollback()\n",
    "with conn.cursor() as cur:\n",
    "\n",
    "    for attribute in list(\"o_orderkey\", \"o_custkey\", \"o_orederstatus\", \"o_totalprice\", \"o_orderdate\", \"o_orederpriority\", \"o_clerk\", \"o_shippriority\", \"o_comment\"):\n",
    "    \n",
    "        cur.execute(\"SELECT COUNT(*) FROM orders;\")\n",
    "\n",
    "        all_rows = cur.fetchall()\n",
    "\n",
    "        cur.execute(\" SELECT COUNT (DISTINCT o_orderkey) FROM orders;\")\n",
    "\n",
    "        distinct_rows = cur.fetchall()\n",
    "\n",
    "        cur.execute(\" SELECT MAX (o_orderkey) FROM orders;\")\n",
    "        rows = cur.fetchall()\n",
    "        print(rows)\n",
    "\n",
    "        cur.execute(\" SELECT MIN (o_orderkey) FROM orders;\")\n",
    "        rows = cur.fetchall()\n",
    "\n",
    "\n",
    "\n",
    "\n",
    "    \n",
    "    print(rows)"
   ]
  }
 ],
 "metadata": {
  "kernelspec": {
   "display_name": "Python 3",
   "language": "python",
   "name": "python3"
  },
  "language_info": {
   "codemirror_mode": {
    "name": "ipython",
    "version": 3
   },
   "file_extension": ".py",
   "mimetype": "text/x-python",
   "name": "python",
   "nbconvert_exporter": "python",
   "pygments_lexer": "ipython3",
   "version": "3.9.18"
  }
 },
 "nbformat": 4,
 "nbformat_minor": 2
}
