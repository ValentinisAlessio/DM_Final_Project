{
 "cells": [
  {
   "cell_type": "code",
   "execution_count": null,
   "metadata": {},
   "outputs": [],
   "source": [
    "import psycopg2\n",
    "from psycopg2.extras import execute_batch\n",
    "import pandas as pd"
   ]
  },
  {
   "cell_type": "code",
   "execution_count": null,
   "metadata": {},
   "outputs": [],
   "source": [
    "# establish a connection to the PostgreSQL database\n",
    "conn = psycopg2.connect(\n",
    "    dbname = \"dw_cs\", \n",
    "    user = \"postgres\", \n",
    "    #host= 'localhost',\n",
    "    host= '172.31.160.1',\n",
    "    password = \"test31415\",\n",
    "    port = 5432\n",
    ")"
   ]
  },
  {
   "cell_type": "code",
   "execution_count": null,
   "metadata": {},
   "outputs": [],
   "source": [
    "#with conn.cursor() as cur:\n",
    "    \n",
    "#    cur.execute(\"DELETE FROM orders;\")\n",
    "#    cur.execute(\"DELETE FROM order_items;\")    \n"
   ]
  },
  {
   "cell_type": "code",
   "execution_count": null,
   "metadata": {},
   "outputs": [],
   "source": [
    "def create_partition(table, attribute, init_month, end_month, year):\n",
    "    if end_month==12:\n",
    "        end_month_part=1\n",
    "        new_year=year+1\n",
    "    else:\n",
    "        end_month_part= str(int(end_month)+1)\n",
    "        new_year=year\n",
    "    \n",
    "    query=f\"\"\"CREATE TABLE  {table}_m{init_month}_m{end_month}_{year} (\n",
    "    CHECK ({attribute} >= '{year}-{init_month}-01' AND {attribute} < '{new_year}-{end_month_part}-01'))\n",
    "    INHERITS ({table});\"\"\"\n",
    "    return query"
   ]
  },
  {
   "cell_type": "code",
   "execution_count": null,
   "metadata": {},
   "outputs": [],
   "source": [
    "for year in range(1992,1999):\n",
    "    for month in range(1,12,3):\n",
    "        query=create_partition('orders', 'o_orderdate', month, month+2, year)\n",
    "        with conn.cursor() as cursor:\n",
    "            cursor.execute(query)\n",
    "            conn.commit()\n",
    "            print('Partition created')"
   ]
  }
 ],
 "metadata": {
  "language_info": {
   "name": "python"
  }
 },
 "nbformat": 4,
 "nbformat_minor": 2
}
