{
 "cells": [
  {
   "cell_type": "code",
   "execution_count": 13,
   "metadata": {},
   "outputs": [],
   "source": [
    "import psycopg2\n",
    "from psycopg2.extras import execute_batch\n",
    "import pandas as pd\n",
    "import time"
   ]
  },
  {
   "cell_type": "code",
   "execution_count": 14,
   "metadata": {},
   "outputs": [],
   "source": [
    "# establish a connection to the PostgreSQL database\n",
    "conn = psycopg2.connect(\n",
    "    dbname = \"dw_cs\", \n",
    "    user = \"postgres\", \n",
    "    host= 'localhost',          # change to your host\n",
    "    password = \"postgres\",      # change to your password\n",
    "    port = 5432\n",
    ")"
   ]
  },
  {
   "cell_type": "markdown",
   "metadata": {},
   "source": [
    "# Generic function to create table for partitioning"
   ]
  },
  {
   "cell_type": "code",
   "execution_count": 3,
   "metadata": {},
   "outputs": [],
   "source": [
    "def create_partition(table, attribute, init_month, end_month, year):\n",
    "    if end_month==12:\n",
    "        end_month_part=1\n",
    "        new_year=year+1\n",
    "    else:\n",
    "        end_month_part= str(int(end_month)+1)\n",
    "        new_year=year\n",
    "    \n",
    "    query=f\"\"\"CREATE TABLE {table}_m{init_month}_m{end_month}_y{year} PARTITION OF {table}\n",
    "    FOR VALUES FROM ('{year}-{init_month}-01') TO ('{new_year}-{end_month_part}-01');\"\"\"\n",
    "    return query"
   ]
  },
  {
   "cell_type": "markdown",
   "metadata": {},
   "source": [
    "# Lineitem on shipdate"
   ]
  },
  {
   "cell_type": "code",
   "execution_count": 4,
   "metadata": {},
   "outputs": [],
   "source": [
    "with conn.cursor() as cur:\n",
    " \n",
    "    cur.execute(\"DELETE FROM lineitem;\") \n",
    "    cur.execute(\"DROP TABLE lineitem;\")\n",
    "    cur.execute(\"\"\"\n",
    "CREATE TABLE IF NOT EXISTS public.lineitem (\n",
    "    l_orderkey INT,\n",
    "    l_partkey INT,\n",
    "    l_suppkey INT,\n",
    "    l_linenumber INT,\n",
    "    l_quantity DECIMAL,\n",
    "    l_extendedprice DECIMAL,\n",
    "    l_discount DECIMAL,\n",
    "    l_tax DECIMAL,\n",
    "    l_returnflag CHAR(1),\n",
    "    l_linestatus CHAR(1),\n",
    "    l_shipdate DATE,\n",
    "    l_commitdate DATE,\n",
    "    l_receiptdate DATE,\n",
    "    l_shipinstruct CHAR(25),\n",
    "    l_shipmode CHAR(10),\n",
    "    l_comment VARCHAR(44)\n",
    ") PARTITION BY RANGE (l_shipdate);\n",
    "\"\"\")\n"
   ]
  },
  {
   "cell_type": "code",
   "execution_count": 5,
   "metadata": {},
   "outputs": [],
   "source": [
    "def create_subpartition(table, init_month, end_month, year):\n",
    "    if end_month==12:\n",
    "        end_month_part=1\n",
    "        new_year=year+1\n",
    "    else:\n",
    "        end_month_part= str(int(end_month)+1)\n",
    "        new_year=year\n",
    "    \n",
    "    query=f\"\"\"CREATE TABLE {table}_m{init_month}_m{end_month}_y{year} PARTITION OF {table}\n",
    "    FOR VALUES FROM ('{year}-{init_month}-01') TO ('{new_year}-{end_month_part}-01') PARTITION BY LIST(l_returnflag);\n",
    "\n",
    "    CREATE TABLE {table}_m{init_month}_m{end_month}_y{year}_A PARTITION OF {table}_m{init_month}_m{end_month}_y{year}\n",
    "    FOR VALUES IN ('A');\n",
    "    \n",
    "    CREATE TABLE {table}_m{init_month}_m{end_month}_y{year}_R PARTITION OF {table}_m{init_month}_m{end_month}_y{year}\n",
    "    FOR VALUES IN ('R');\n",
    "    \n",
    "    CREATE TABLE {table}_m{init_month}_m{end_month}_y{year}_N PARTITION OF {table}_m{init_month}_m{end_month}_y{year}\n",
    "    FOR VALUES IN ('N');\"\"\"\n",
    "    return query"
   ]
  },
  {
   "cell_type": "code",
   "execution_count": 7,
   "metadata": {},
   "outputs": [
    {
     "name": "stdout",
     "output_type": "stream",
     "text": [
      "Partition created\n",
      "Partition created\n",
      "Partition created\n",
      "Partition created\n",
      "Partition created\n",
      "Partition created\n",
      "Partition created\n",
      "Partition created\n",
      "Partition created\n",
      "Partition created\n",
      "Partition created\n",
      "Partition created\n",
      "Partition created\n",
      "Partition created\n",
      "Partition created\n",
      "Partition created\n",
      "Partition created\n",
      "Partition created\n",
      "Partition created\n",
      "Partition created\n",
      "Partition created\n",
      "Partition created\n",
      "Partition created\n",
      "Partition created\n",
      "Partition created\n",
      "Partition created\n",
      "Partition created\n",
      "Partition created\n"
     ]
    }
   ],
   "source": [
    "for year in range(1992,1999):\n",
    "    for month in range(1,12,3):\n",
    "        query=create_subpartition('lineitem', month, month+2, year)\n",
    "        #create subpartition\n",
    "        \n",
    "        with conn.cursor() as cursor:\n",
    "            cursor.execute(query)\n",
    "            conn.commit()\n",
    "            print('Partition created')"
   ]
  },
  {
   "cell_type": "code",
   "execution_count": 8,
   "metadata": {},
   "outputs": [
    {
     "name": "stdout",
     "output_type": "stream",
     "text": [
      "Read 1000000 rows from partition 0 of file 1\n",
      "Read 1000000 rows from partition 1 of file 1\n",
      "Read 1000000 rows from partition 2 of file 1\n",
      "Read 1000000 rows from partition 3 of file 1\n",
      "Read 1000000 rows from partition 4 of file 1\n",
      "Read 1000000 rows from partition 5 of file 1\n",
      "Inserted 1000000 rows in the lineitem table from file 1\n",
      "Read 1000000 rows from partition 0 of file 2\n",
      "Read 1000000 rows from partition 1 of file 2\n",
      "Read 1000000 rows from partition 2 of file 2\n",
      "Read 1000000 rows from partition 3 of file 2\n",
      "Read 1000000 rows from partition 4 of file 2\n",
      "Read 1000000 rows from partition 5 of file 2\n",
      "Inserted 1000000 rows in the lineitem table from file 2\n",
      "Read 1000000 rows from partition 0 of file 3\n",
      "Read 1000000 rows from partition 1 of file 3\n",
      "Read 1000000 rows from partition 2 of file 3\n",
      "Read 1000000 rows from partition 3 of file 3\n",
      "Read 1000000 rows from partition 4 of file 3\n",
      "Read 1000000 rows from partition 5 of file 3\n",
      "Inserted 1000000 rows in the lineitem table from file 3\n",
      "Read 1000000 rows from partition 0 of file 4\n",
      "Read 1000000 rows from partition 1 of file 4\n",
      "Read 1000000 rows from partition 2 of file 4\n",
      "Read 1000000 rows from partition 3 of file 4\n",
      "Read 1000000 rows from partition 4 of file 4\n",
      "Read 1000000 rows from partition 5 of file 4\n",
      "Inserted 1000000 rows in the lineitem table from file 4\n",
      "Read 1000000 rows from partition 0 of file 5\n",
      "Read 1000000 rows from partition 1 of file 5\n",
      "Read 1000000 rows from partition 2 of file 5\n",
      "Read 1000000 rows from partition 3 of file 5\n",
      "Read 1000000 rows from partition 4 of file 5\n",
      "Read 1000000 rows from partition 5 of file 5\n",
      "Inserted 1000000 rows in the lineitem table from file 5\n",
      "Read 1000000 rows from partition 0 of file 6\n",
      "Read 1000000 rows from partition 1 of file 6\n",
      "Read 1000000 rows from partition 2 of file 6\n",
      "Read 1000000 rows from partition 3 of file 6\n",
      "Read 1000000 rows from partition 4 of file 6\n",
      "Read 1000000 rows from partition 5 of file 6\n",
      "Inserted 1000000 rows in the lineitem table from file 6\n",
      "Read 1000000 rows from partition 0 of file 7\n",
      "Read 1000000 rows from partition 1 of file 7\n",
      "Read 1000000 rows from partition 2 of file 7\n",
      "Read 1000000 rows from partition 3 of file 7\n",
      "Read 1000000 rows from partition 4 of file 7\n",
      "Read 1000000 rows from partition 5 of file 7\n",
      "Inserted 1000000 rows in the lineitem table from file 7\n",
      "Read 1000000 rows from partition 0 of file 8\n",
      "Read 1000000 rows from partition 1 of file 8\n",
      "Read 1000000 rows from partition 2 of file 8\n",
      "Read 1000000 rows from partition 3 of file 8\n",
      "Read 1000000 rows from partition 4 of file 8\n",
      "Read 1000000 rows from partition 5 of file 8\n",
      "Inserted 1000000 rows in the lineitem table from file 8\n",
      "Read 1000000 rows from partition 0 of file 9\n",
      "Read 1000000 rows from partition 1 of file 9\n",
      "Read 1000000 rows from partition 2 of file 9\n",
      "Read 1000000 rows from partition 3 of file 9\n",
      "Read 1000000 rows from partition 4 of file 9\n",
      "Read 1000000 rows from partition 5 of file 9\n",
      "Inserted 1000000 rows in the lineitem table from file 9\n",
      "Read 1000000 rows from partition 0 of file 10\n",
      "Read 1000000 rows from partition 1 of file 10\n",
      "Read 1000000 rows from partition 2 of file 10\n",
      "Read 1000000 rows from partition 3 of file 10\n",
      "Read 1000000 rows from partition 4 of file 10\n",
      "Read 1000000 rows from partition 5 of file 10\n",
      "Inserted 1000000 rows in the lineitem table from file 10\n"
     ]
    }
   ],
   "source": [
    "# Define the partition indexes\n",
    "partition_indexes = [idx for idx in range(0, 7_000_000, 1_000_000)]    # 6e6 is the number of rows in the orders table\n",
    "\n",
    "# Loop through each file\n",
    "for i in range(1, 11):\n",
    "    # Loop through each partition\n",
    "    for j in range(len(partition_indexes) - 1):\n",
    "        # Read the CSV file in chunks\n",
    "        df = pd.read_csv(f\"/home/saradsai/data_management/TPC-H/lineitem_8.csv\", delimiter=\"|\", header=None, skiprows=partition_indexes[j], nrows=partition_indexes[j + 1] - partition_indexes[j])\n",
    "        \n",
    "        # Convert the DataFrame to a list of tuples\n",
    "        data = [tuple(row) for row in df.to_numpy()]\n",
    "        print(f\"Read {len(data)} rows from partition {j} of file {i}\")\n",
    "\n",
    "        # Insert the data into the database\n",
    "        conn.rollback()\n",
    "        with conn.cursor() as cur:\n",
    "            execute_batch(\n",
    "                cur,\n",
    "                \"INSERT INTO lineitem (l_orderkey, l_partkey, l_suppkey, l_linenumber, l_quantity, l_extendedprice, l_discount, l_tax, l_returnflag, l_linestatus, l_shipdate, l_commitdate, l_receiptdate, l_shipinstruct, l_shipmode, l_comment) VALUES (%s, %s, %s, %s, %s, %s, %s, %s, %s, %s, %s, %s, %s, %s, %s, %s)\",\n",
    "                data\n",
    "            )\n",
    "            conn.commit()\n",
    "\n",
    "    print(f\"Inserted {len(data)} rows in the lineitem table from file {i}\")"
   ]
  },
  {
   "cell_type": "markdown",
   "metadata": {},
   "source": [
    "### Indexes on lineitem"
   ]
  },
  {
   "cell_type": "code",
   "execution_count": 15,
   "metadata": {},
   "outputs": [
    {
     "name": "stdout",
     "output_type": "stream",
     "text": [
      "Primary key created\n",
      "Primary key created\n",
      "Primary key created\n",
      "Primary key created\n",
      "Primary key created\n",
      "Primary key created\n",
      "Primary key created\n",
      "Primary key created\n",
      "Primary key created\n",
      "Primary key created\n",
      "Primary key created\n",
      "Primary key created\n",
      "Primary key created\n",
      "Primary key created\n",
      "Primary key created\n",
      "Primary key created\n",
      "Primary key created\n",
      "Primary key created\n",
      "Primary key created\n",
      "Primary key created\n",
      "Primary key created\n",
      "Primary key created\n",
      "Primary key created\n",
      "Primary key created\n",
      "Primary key created\n",
      "Primary key created\n",
      "Primary key created\n",
      "Primary key created\n",
      "Primary key created\n",
      "Primary key created\n",
      "Primary key created\n",
      "Primary key created\n",
      "Primary key created\n",
      "Primary key created\n",
      "Primary key created\n",
      "Primary key created\n",
      "Primary key created\n",
      "Primary key created\n",
      "Primary key created\n",
      "Primary key created\n",
      "Primary key created\n",
      "Primary key created\n",
      "Primary key created\n",
      "Primary key created\n",
      "Primary key created\n",
      "Primary key created\n",
      "Primary key created\n",
      "Primary key created\n",
      "Primary key created\n",
      "Primary key created\n",
      "Primary key created\n",
      "Primary key created\n",
      "Primary key created\n",
      "Primary key created\n",
      "Primary key created\n",
      "Primary key created\n",
      "Primary key created\n",
      "Primary key created\n",
      "Primary key created\n",
      "Primary key created\n",
      "Primary key created\n",
      "Primary key created\n",
      "Primary key created\n",
      "Primary key created\n",
      "Primary key created\n",
      "Primary key created\n",
      "Primary key created\n",
      "Primary key created\n",
      "Primary key created\n",
      "Primary key created\n",
      "Primary key created\n",
      "Primary key created\n",
      "Primary key created\n",
      "Primary key created\n",
      "Primary key created\n",
      "Primary key created\n",
      "Primary key created\n",
      "Primary key created\n",
      "Primary key created\n",
      "Primary key created\n",
      "Primary key created\n",
      "Primary key created\n",
      "Primary key created\n",
      "Primary key created\n",
      "Total time to create indexes: 61.840731382369995 seconds\n",
      "Total size of indexes: 558456832 bytes\n"
     ]
    }
   ],
   "source": [
    "with conn.cursor() as cur:\n",
    "    tot_time=0\n",
    "    index_size=0\n",
    "    for year in range(1992,1999):\n",
    "        for month in range(1,12,3):\n",
    "            for flag in ['A','R','N']:\n",
    "                    start_time = time.time()\n",
    "                    cur.execute(f\"CREATE INDEX idx_l_partkey_{month}_{month+2}_{year}_{flag} ON lineitem_m{month}_m{month+2}_y{year}_{flag}(l_partkey);\")\n",
    "                    end_time = time.time()\n",
    "                    tot_time+=end_time-start_time\n",
    "                    cur.execute(f\"SELECT pg_relation_size('idx_l_partkey_{month}_{month+2}_{year}_{flag}');\")\n",
    "                    index_size += cur.fetchone()[0]\n",
    "                    print('Primary key created')\n",
    "conn.commit()\n",
    "print(f\"Total time to create indexes: {tot_time} seconds\")\n",
    "print(f\"Total size of indexes: {index_size} bytes\")"
   ]
  },
  {
   "cell_type": "code",
   "execution_count": 16,
   "metadata": {},
   "outputs": [
    {
     "name": "stdout",
     "output_type": "stream",
     "text": [
      "Database size: 12510.64 MB\n",
      "Database size: 12.22 GB \n",
      "\n"
     ]
    }
   ],
   "source": [
    "conn.rollback()\n",
    "with conn.cursor() as cur:\n",
    "\n",
    "    cur.execute(\"SELECT pg_database_size('dw_cs');\")\n",
    "    all_rows = cur.fetchall()\n",
    "    print(f\"Database size: {all_rows[0][0] / (1024**2):.2f} MB\")\n",
    "    print(f\"Database size: {all_rows[0][0] / (1024**3):.2f} GB \\n\")"
   ]
  },
  {
   "cell_type": "markdown",
   "metadata": {},
   "source": [
    "# Orders on orderdate"
   ]
  },
  {
   "cell_type": "code",
   "execution_count": 12,
   "metadata": {},
   "outputs": [],
   "source": [
    "conn.close()"
   ]
  },
  {
   "cell_type": "code",
   "execution_count": 4,
   "metadata": {},
   "outputs": [],
   "source": [
    "with conn.cursor() as cur:\n",
    "    \n",
    "    cur.execute(\"DELETE FROM orders;\")  \n",
    "    cur.execute(\"DROP TABLE orders;\")\n",
    "    cur.execute(\"\"\"CREATE TABLE IF NOT EXISTS public.orders (\n",
    "    o_orderkey INT,\n",
    "    o_custkey INT,\n",
    "    o_orederstatus CHAR(1),\n",
    "    o_totalprice DECIMAL,\n",
    "    o_orderdate DATE,\n",
    "    o_orederpriority CHAR(15),\n",
    "    o_clerk CHAR(15),\n",
    "    o_shippriority INT,\n",
    "    o_comment VARCHAR(79)\n",
    "    --CONSTRAINT fk_customer FOREIGN KEY (o_custkey) REFERENCES customer(c_custkey)\n",
    ")\n",
    "PARTITION BY RANGE (o_orderdate);\n",
    "                \n",
    "\"\"\")\n",
    "    conn.commit()\n"
   ]
  },
  {
   "cell_type": "code",
   "execution_count": 5,
   "metadata": {},
   "outputs": [
    {
     "name": "stdout",
     "output_type": "stream",
     "text": [
      "Partition created\n",
      "Partition created\n",
      "Partition created\n",
      "Partition created\n",
      "Partition created\n",
      "Partition created\n",
      "Partition created\n",
      "Partition created\n",
      "Partition created\n",
      "Partition created\n",
      "Partition created\n",
      "Partition created\n",
      "Partition created\n",
      "Partition created\n",
      "Partition created\n",
      "Partition created\n",
      "Partition created\n",
      "Partition created\n",
      "Partition created\n",
      "Partition created\n",
      "Partition created\n",
      "Partition created\n",
      "Partition created\n",
      "Partition created\n",
      "Partition created\n",
      "Partition created\n",
      "Partition created\n",
      "Partition created\n"
     ]
    }
   ],
   "source": [
    "for year in range(1992,1999):\n",
    "    for month in range(1,12,3):\n",
    "        query=create_partition('orders', 'o_orderdate', month, month+2, year)\n",
    "        with conn.cursor() as cursor:\n",
    "            cursor.execute(query)\n",
    "            conn.commit()\n",
    "            print('Partition created')"
   ]
  },
  {
   "cell_type": "code",
   "execution_count": 6,
   "metadata": {},
   "outputs": [
    {
     "name": "stdout",
     "output_type": "stream",
     "text": [
      "Read 1000000 rows from partition 0 of file\n",
      "Read 1000000 rows from partition 1 of file\n",
      "Read 1000000 rows from partition 2 of file\n",
      "Read 1000000 rows from partition 3 of file\n",
      "Read 1000000 rows from partition 4 of file\n",
      "Read 1000000 rows from partition 5 of file\n"
     ]
    }
   ],
   "source": [
    "# Define the partition indexes\n",
    "partition_indexes = [idx for idx in range(0, 7_000_000, 1_000_000)]    # 6e6 is the number of rows in the orders table\n",
    "\n",
    "\n",
    "# Loop through each partition\n",
    "for j in range(len(partition_indexes) - 1):\n",
    "    # Read the CSV file in chunks\n",
    "    df = pd.read_csv(f\"/home/saradsai/data_management/TPC-H/orders.csv\", delimiter=\"|\", header=None, skiprows=partition_indexes[j], nrows=partition_indexes[j + 1] - partition_indexes[j])\n",
    "    \n",
    "    # Convert the DataFrame to a list of tuples\n",
    "    data = [tuple(row) for row in df.to_numpy()]\n",
    "    print(f\"Read {len(data)} rows from partition {j} of file\")\n",
    "\n",
    "    # Insert the data into the database\n",
    "    conn.rollback()\n",
    "    with conn.cursor() as cur:\n",
    "        execute_batch(\n",
    "            cur,\n",
    "            \"INSERT INTO orders (o_orderkey, o_custkey, o_orederstatus, o_totalprice, o_orderdate, o_orederpriority, o_clerk, o_shippriority, o_comment) VALUES (%s, %s, %s, %s, %s, %s, %s, %s, %s)\",\n",
    "            data\n",
    "        )\n",
    "        conn.commit()\n"
   ]
  },
  {
   "cell_type": "code",
   "execution_count": 7,
   "metadata": {},
   "outputs": [],
   "source": [
    "def insert_primary(table, attribute, init_month, end_month, year):\n",
    "    \n",
    "    query=f\"\"\"ALTER TABLE {table}_m{init_month}_m{end_month}_y{year} ADD PRIMARY KEY({attribute});\n",
    "    ALTER TABLE {table}_m{init_month}_m{end_month}_y{year} ADD FOREIGN KEY(o_custkey) REFERENCES customer(c_custkey) \"\"\"\n",
    "    return query"
   ]
  },
  {
   "cell_type": "code",
   "execution_count": 8,
   "metadata": {},
   "outputs": [
    {
     "name": "stdout",
     "output_type": "stream",
     "text": [
      "Primary key created\n",
      "Primary key created\n",
      "Primary key created\n",
      "Primary key created\n",
      "Primary key created\n",
      "Primary key created\n",
      "Primary key created\n",
      "Primary key created\n",
      "Primary key created\n",
      "Primary key created\n",
      "Primary key created\n",
      "Primary key created\n",
      "Primary key created\n",
      "Primary key created\n",
      "Primary key created\n",
      "Primary key created\n",
      "Primary key created\n",
      "Primary key created\n",
      "Primary key created\n",
      "Primary key created\n",
      "Primary key created\n",
      "Primary key created\n",
      "Primary key created\n",
      "Primary key created\n",
      "Primary key created\n",
      "Primary key created\n",
      "Primary key created\n",
      "Primary key created\n"
     ]
    }
   ],
   "source": [
    "for year in range(1992,1999):\n",
    "    for month in range(1,12,3):\n",
    "        query=insert_primary('orders', 'o_orderkey', month, month+2, year)\n",
    "        with conn.cursor() as cursor:\n",
    "            cursor.execute(query)\n",
    "            conn.commit()\n",
    "            print('Primary key created')"
   ]
  },
  {
   "cell_type": "code",
   "execution_count": 11,
   "metadata": {},
   "outputs": [],
   "source": [
    "conn.close()"
   ]
  }
 ],
 "metadata": {
  "kernelspec": {
   "display_name": "Python 3",
   "language": "python",
   "name": "python3"
  },
  "language_info": {
   "codemirror_mode": {
    "name": "ipython",
    "version": 3
   },
   "file_extension": ".py",
   "mimetype": "text/x-python",
   "name": "python",
   "nbconvert_exporter": "python",
   "pygments_lexer": "ipython3",
   "version": "3.12.2"
  }
 },
 "nbformat": 4,
 "nbformat_minor": 2
}
