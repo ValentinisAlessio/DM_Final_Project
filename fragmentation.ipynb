{
 "cells": [
  {
   "cell_type": "code",
   "execution_count": 1,
   "metadata": {},
   "outputs": [],
   "source": [
    "import psycopg2\n",
    "from psycopg2.extras import execute_batch\n",
    "import pandas as pd"
   ]
  },
  {
   "cell_type": "code",
   "execution_count": 8,
   "metadata": {},
   "outputs": [],
   "source": [
    "# establish a connection to the PostgreSQL database\n",
    "conn = psycopg2.connect(\n",
    "    dbname = \"dw_cs\", \n",
    "    user = \"postgres\", \n",
    "    #host= 'localhost',\n",
    "    host= '172.31.160.1',\n",
    "    password = \"test31415\",\n",
    "    port = 5432\n",
    ")"
   ]
  },
  {
   "cell_type": "markdown",
   "metadata": {},
   "source": [
    "# Generic function to create table for partitioning"
   ]
  },
  {
   "cell_type": "code",
   "execution_count": 3,
   "metadata": {},
   "outputs": [],
   "source": [
    "def create_partition(table, attribute, init_month, end_month, year):\n",
    "    if end_month==12:\n",
    "        end_month_part=1\n",
    "        new_year=year+1\n",
    "    else:\n",
    "        end_month_part= str(int(end_month)+1)\n",
    "        new_year=year\n",
    "    \n",
    "    query=f\"\"\"CREATE TABLE {table}_m{init_month}_m{end_month}_y{year} PARTITION OF {table}\n",
    "    FOR VALUES FROM ('{year}-{init_month}-01') TO ('{new_year}-{end_month_part}-01');\"\"\"\n",
    "    return query"
   ]
  },
  {
   "cell_type": "markdown",
   "metadata": {},
   "source": [
    "# Lineitem on shipdate"
   ]
  },
  {
   "cell_type": "code",
   "execution_count": 3,
   "metadata": {},
   "outputs": [],
   "source": [
    "with conn.cursor() as cur:\n",
    " \n",
    "#    cur.execute(\"DELETE FROM lineitem;\") \n",
    "#    cur.execute(\"DROP TABLE lineitem;\")\n",
    "    cur.execute(\"\"\"\n",
    "CREATE TABLE IF NOT EXISTS public.lineitem (\n",
    "    l_orderkey INT,\n",
    "    l_partkey INT,\n",
    "    l_suppkey INT,\n",
    "    l_linenumber INT,\n",
    "    l_quantity DECIMAL,\n",
    "    l_extendedprice DECIMAL,\n",
    "    l_discount DECIMAL,\n",
    "    l_tax DECIMAL,\n",
    "    l_returnflag CHAR(1),\n",
    "    l_linestatus CHAR(1),\n",
    "    o_orderdate DATE,\n",
    "    l_commitdate DATE,\n",
    "    l_receiptdate DATE,\n",
    "    l_shipinstruct CHAR(25),\n",
    "    l_shipmode CHAR(10),\n",
    "    l_comment VARCHAR(44)\n",
    ") PARTITION BY RANGE (l_shipdate);\n",
    "\"\"\")\n"
   ]
  },
  {
   "cell_type": "code",
   "execution_count": 5,
   "metadata": {},
   "outputs": [
    {
     "name": "stdout",
     "output_type": "stream",
     "text": [
      "Partition created\n",
      "Partition created\n",
      "Partition created\n",
      "Partition created\n",
      "Partition created\n",
      "Partition created\n",
      "Partition created\n",
      "Partition created\n",
      "Partition created\n",
      "Partition created\n",
      "Partition created\n",
      "Partition created\n",
      "Partition created\n",
      "Partition created\n",
      "Partition created\n",
      "Partition created\n",
      "Partition created\n",
      "Partition created\n",
      "Partition created\n",
      "Partition created\n",
      "Partition created\n",
      "Partition created\n",
      "Partition created\n",
      "Partition created\n",
      "Partition created\n",
      "Partition created\n",
      "Partition created\n",
      "Partition created\n"
     ]
    }
   ],
   "source": [
    "for year in range(1992,1999):\n",
    "    for month in range(1,12,3):\n",
    "        query=create_partition('lineitem', 'l_shipdate', month, month+2, year)\n",
    "        with conn.cursor() as cursor:\n",
    "            cursor.execute(query)\n",
    "            conn.commit()\n",
    "            print('Partition created')"
   ]
  },
  {
   "cell_type": "code",
   "execution_count": 6,
   "metadata": {},
   "outputs": [],
   "source": [
    "insertion_trigger=\"\"\"\n",
    "    CREATE OR REPLACE FUNCTION insert_lineitem_partition()\n",
    "    RETURNS TRIGGER AS $$\n",
    "    BEGIN\n",
    "        IF ( NEW.l_shipdate >= '1992-01-01' AND NEW.l_shipdate < '1992-04-01' ) THEN\n",
    "            INSERT INTO lineitem_m1_m3_1992 VALUES (NEW.*);\n",
    "        ELSIF ( NEW.l_shipdate >= '1992-04-01' AND NEW.l_shipdate < '1992-07-01' ) THEN\n",
    "            INSERT INTO lineitem_m4_m6_1992 VALUES (NEW.*);\n",
    "        ELSIF ( NEW.l_shipdate >= '1992-07-01' AND NEW.l_shipdate < '1992-10-01' ) THEN\n",
    "            INSERT INTO lineitem_m7_m9_1992 VALUES (NEW.*);\n",
    "        ELSIF ( NEW.l_shipdate >= '1992-10-01' AND NEW.l_shipdate < '1993-01-01' ) THEN\n",
    "            INSERT INTO lineitem_m10_m12_1992 VALUES (NEW.*);\n",
    "        ELSIF ( NEW.l_shipdate >= '1993-01-01' AND NEW.l_shipdate < '1993-04-01' ) THEN\n",
    "            INSERT INTO lineitem_m1_m3_1993 VALUES (NEW.*);\n",
    "        ELSIF ( NEW.l_shipdate >= '1993-04-01' AND NEW.l_shipdate < '1993-07-01' ) THEN\n",
    "            INSERT INTO lineitem_m4_m6_1993 VALUES (NEW.*);\n",
    "        ELSIF ( NEW.l_shipdate >= '1993-07-01' AND NEW.l_shipdate < '1993-10-01' ) THEN\n",
    "            INSERT INTO lineitem_m7_m9_1993 VALUES (NEW.*);\n",
    "        ELSIF ( NEW.l_shipdate >= '1993-10-01' AND NEW.l_shipdate < '1994-01-01' ) THEN\n",
    "            INSERT INTO lineitem_m10_m12_1993 VALUES (NEW.*);\n",
    "        ELSIF ( NEW.l_shipdate >= '1994-01-01' AND NEW.l_shipdate < '1994-04-01' ) THEN\n",
    "            INSERT INTO lineitem_m1_m3_1994 VALUES (NEW.*);\n",
    "        ELSIF ( NEW.l_shipdate >= '1994-04-01' AND NEW.l_shipdate < '1994-07-01' ) THEN\n",
    "            INSERT INTO lineitem_m4_m6_1994 VALUES (NEW.*);\n",
    "        ELSIF ( NEW.l_shipdate >= '1994-07-01' AND NEW.l_shipdate < '1994-10-01' ) THEN\n",
    "            INSERT INTO lineitem_m7_m9_1994  VALUES (NEW.*);\n",
    "        ELSIF ( NEW.l_shipdate >= '1994-10-01' AND NEW.l_shipdate < '1995-01-01' ) THEN\n",
    "            INSERT INTO lineitem_m10_m12_1994  VALUES (NEW.*);\n",
    "        ELSIF ( NEW.l_shipdate >= '1995-01-01' AND NEW.l_shipdate < '1995-04-01' ) THEN\n",
    "            INSERT INTO lineitem_m1_m3_1995 VALUES (NEW.*);\n",
    "        ELSIF ( NEW.l_shipdate >= '1995-04-01' AND NEW.l_shipdate < '1995-07-01' ) THEN\n",
    "            INSERT INTO lineitem_m4_m6_1995 VALUES (NEW.*);\n",
    "        ELSIF ( NEW.l_shipdate >= '1995-07-01' AND NEW.l_shipdate < '1995-10-01' ) THEN\n",
    "            INSERT INTO lineitem_m7_m9_1995 VALUES (NEW.*);\n",
    "        ELSIF ( NEW.l_shipdate >= '1995-10-01' AND NEW.l_shipdate < '1996-01-01' ) THEN\n",
    "            INSERT INTO lineitem_m10_m12_1995 VALUES (NEW.*);\n",
    "        ELSIF ( NEW.l_shipdate >= '1996-01-01' AND NEW.l_shipdate < '1996-04-01' ) THEN\n",
    "            INSERT INTO lineitem_m1_m3_1996 VALUES (NEW.*);\n",
    "        ELSIF ( NEW.l_shipdate >= '1996-04-01' AND NEW.l_shipdate < '1996-07-01' ) THEN\n",
    "            INSERT INTO lineitem_m4_m6_1996 VALUES (NEW.*);\n",
    "        ELSIF ( NEW.l_shipdate >= '1996-07-01' AND NEW.l_shipdate < '1996-10-01' ) THEN\n",
    "            INSERT INTO lineitem_m7_m9_1996 VALUES (NEW.*);\n",
    "        ELSIF ( NEW.l_shipdate >= '1996-10-01' AND NEW.l_shipdate < '1997-01-01' ) THEN\n",
    "            INSERT INTO lineitem_m10_m12_1996 VALUES (NEW.*);\n",
    "        ELSIF ( NEW.l_shipdate >= '1997-01-01' AND NEW.l_shipdate < '1997-04-01' ) THEN\n",
    "            INSERT INTO lineitem_m1_m3_1997 VALUES (NEW.*);\n",
    "        ELSIF ( NEW.l_shipdate >= '1997-04-01' AND NEW.l_shipdate < '1997-07-01' ) THEN\n",
    "            INSERT INTO lineitem_m4_m6_1997 VALUES (NEW.*);\n",
    "        ELSIF ( NEW.l_shipdate >= '1997-07-01' AND NEW.l_shipdate < '1997-10-01' ) THEN\n",
    "            INSERT INTO lineitem_m7_m9_1997 VALUES (NEW.*);\n",
    "        ELSIF ( NEW.l_shipdate >= '1997-10-01' AND NEW.l_shipdate < '1998-01-01' ) THEN\n",
    "            INSERT INTO lineitem_m10_m12_1997 VALUES (NEW.*);\n",
    "        ELSIF ( NEW.l_shipdate >= '1998-01-01' AND NEW.l_shipdate < '1998-04-01' ) THEN\n",
    "            INSERT INTO lineitem_m1_m3_1998 VALUES (NEW.*);\n",
    "        ELSIF ( NEW.l_shipdate >= '1998-04-01' AND NEW.l_shipdate < '1998-07-01' ) THEN\n",
    "            INSERT INTO lineitem_m4_m6_1998 VALUES (NEW.*);\n",
    "        ELSIF ( NEW.l_shipdate >= '1998-07-01' AND NEW.l_shipdate < '1998-10-01' ) THEN\n",
    "            INSERT INTO lineitem_m7_m9_1998 VALUES (NEW.*);\n",
    "        ELSIF ( NEW.l_shipdate >= '1998-10-01' AND NEW.l_shipdate < '1998-12-02' ) THEN\n",
    "            INSERT INTO lineitem_m10_m12_1998 VALUES (NEW.*);\n",
    "        ELSE\n",
    "            RAISE EXCEPTION 'Date out of range.  Fix the insert_lineitem_partition() function!';\n",
    "        END IF;\n",
    "        RETURN NULL;\n",
    "    END;\n",
    "    $$ \n",
    "    LANGUAGE plpgsql;\n",
    "\n",
    "\n",
    "    CREATE TRIGGER insert_lineitem_trigger\n",
    "    BEFORE INSERT ON lineitem\n",
    "    FOR EACH ROW EXECUTE FUNCTION insert_lineitem_partition();\"\"\"\n"
   ]
  },
  {
   "cell_type": "code",
   "execution_count": 7,
   "metadata": {},
   "outputs": [],
   "source": [
    "with conn.cursor() as cur:\n",
    "    cur.execute(insertion_trigger)"
   ]
  },
  {
   "cell_type": "code",
   "execution_count": 10,
   "metadata": {},
   "outputs": [
    {
     "name": "stdout",
     "output_type": "stream",
     "text": [
      "Read 1000000 rows from partition 0 of file 9\n",
      "Read 1000000 rows from partition 1 of file 9\n",
      "Read 1000000 rows from partition 2 of file 9\n",
      "Read 1000000 rows from partition 3 of file 9\n",
      "Read 1000000 rows from partition 4 of file 9\n",
      "Read 999992 rows from partition 5 of file 9\n",
      "Inserted 999992 rows in the lineitem table from file 9\n",
      "Read 1000000 rows from partition 0 of file 10\n",
      "Read 1000000 rows from partition 1 of file 10\n",
      "Read 1000000 rows from partition 2 of file 10\n",
      "Read 1000000 rows from partition 3 of file 10\n",
      "Read 1000000 rows from partition 4 of file 10\n",
      "Read 999992 rows from partition 5 of file 10\n",
      "Inserted 999992 rows in the lineitem table from file 10\n"
     ]
    }
   ],
   "source": [
    "# Define the partition indexes\n",
    "partition_indexes = [idx for idx in range(0, 7_000_000, 1_000_000)]    # 6e6 is the number of rows in the orders table\n",
    "\n",
    "# Loop through each file\n",
    "for i in range(1, 11):\n",
    "    # Loop through each partition\n",
    "    for j in range(len(partition_indexes) - 1):\n",
    "        # Read the CSV file in chunks\n",
    "        df = pd.read_csv(f\"/home/saradsai/data_management/TPC-H/lineitem_8.csv\", delimiter=\"|\", header=None, skiprows=partition_indexes[j], nrows=partition_indexes[j + 1] - partition_indexes[j])\n",
    "        \n",
    "        # Convert the DataFrame to a list of tuples\n",
    "        data = [tuple(row) for row in df.to_numpy()]\n",
    "        print(f\"Read {len(data)} rows from partition {j} of file {i}\")\n",
    "\n",
    "        # Insert the data into the database\n",
    "        conn.rollback()\n",
    "        with conn.cursor() as cur:\n",
    "            execute_batch(\n",
    "                cur,\n",
    "                \"INSERT INTO lineitem (l_orderkey, l_partkey, l_suppkey, l_linenumber, l_quantity, l_extendedprice, l_discount, l_tax, l_returnflag, l_linestatus, l_shipdate, l_commitdate, l_receiptdate, l_shipinstruct, l_shipmode, l_comment) VALUES (%s, %s, %s, %s, %s, %s, %s, %s, %s, %s, %s, %s, %s, %s, %s, %s)\",\n",
    "                data\n",
    "            )\n",
    "            conn.commit()\n",
    "\n",
    "    print(f\"Inserted {len(data)} rows in the lineitem table from file {i}\")"
   ]
  },
  {
   "cell_type": "markdown",
   "metadata": {},
   "source": [
    "execution time for the population of the partition:\n",
    "58 m 24 s+ 1m 56 s + 14 m 49 s"
   ]
  },
  {
   "cell_type": "markdown",
   "metadata": {},
   "source": [
    "# Orders on orderdate"
   ]
  },
  {
   "cell_type": "code",
   "execution_count": 7,
   "metadata": {},
   "outputs": [],
   "source": [
    "conn.close()"
   ]
  },
  {
   "cell_type": "code",
   "execution_count": 4,
   "metadata": {},
   "outputs": [],
   "source": [
    "with conn.cursor() as cur:\n",
    "    \n",
    "    cur.execute(\"DELETE FROM orders;\")  \n",
    "    cur.execute(\"DROP TABLE orders;\")\n",
    "    cur.execute(\"\"\"CREATE TABLE IF NOT EXISTS public.orders (\n",
    "    o_orderkey INT,\n",
    "    o_custkey INT,\n",
    "    o_orederstatus CHAR(1),\n",
    "    o_totalprice DECIMAL,\n",
    "    o_orderdate DATE,\n",
    "    o_orederpriority CHAR(15),\n",
    "    o_clerk CHAR(15),\n",
    "    o_shippriority INT,\n",
    "    o_comment VARCHAR(79),\n",
    "    --CONSTRAINT fk_customer FOREIGN KEY (o_custkey) REFERENCES customer(c_custkey)\n",
    ")\n",
    "PARTITION BY RANGE (o_orderdate);\n",
    "                \n",
    "\"\"\")\n",
    "    conn.commit()\n"
   ]
  },
  {
   "cell_type": "code",
   "execution_count": 9,
   "metadata": {},
   "outputs": [
    {
     "name": "stdout",
     "output_type": "stream",
     "text": [
      "Partition created\n",
      "Partition created\n",
      "Partition created\n",
      "Partition created\n",
      "Partition created\n",
      "Partition created\n",
      "Partition created\n",
      "Partition created\n",
      "Partition created\n",
      "Partition created\n",
      "Partition created\n",
      "Partition created\n",
      "Partition created\n",
      "Partition created\n",
      "Partition created\n",
      "Partition created\n",
      "Partition created\n",
      "Partition created\n",
      "Partition created\n",
      "Partition created\n",
      "Partition created\n",
      "Partition created\n",
      "Partition created\n",
      "Partition created\n",
      "Partition created\n",
      "Partition created\n",
      "Partition created\n",
      "Partition created\n"
     ]
    }
   ],
   "source": [
    "for year in range(1992,1999):\n",
    "    for month in range(1,12,3):\n",
    "        query=create_partition('orders', 'o_orderdate', month, month+2, year)\n",
    "        with conn.cursor() as cursor:\n",
    "            cursor.execute(query)\n",
    "            conn.commit()\n",
    "            print('Partition created')"
   ]
  },
  {
   "cell_type": "code",
   "execution_count": null,
   "metadata": {},
   "outputs": [],
   "source": [
    "insertion_trigger=\"\"\"\n",
    "    CREATE OR REPLACE FUNCTION insert_orders_partition()\n",
    "    RETURNS TRIGGER AS $$\n",
    "    BEGIN\n",
    "        IF ( NEW.o_orderdate >= '1992-01-01' AND NEW.o_orderdate < '1992-04-01' ) THEN\n",
    "            INSERT INTO orders_m1_m3_1992 VALUES (NEW.*);\n",
    "        ELSIF ( NEW.o_orderdate >= '1992-04-01' AND NEW.o_orderdate < '1992-07-01' ) THEN\n",
    "            INSERT INTO orders_m4_m6_1992 VALUES (NEW.*);\n",
    "        ELSIF ( NEW.o_orderdate >= '1992-07-01' AND NEW.o_orderdate < '1992-10-01' ) THEN\n",
    "            INSERT INTO orders_m7_m9_1992 VALUES (NEW.*);\n",
    "        ELSIF ( NEW.o_orderdate >= '1992-10-01' AND NEW.o_orderdate < '1993-01-01' ) THEN\n",
    "            INSERT INTO orders_m10_m12_1992 VALUES (NEW.*);\n",
    "        ELSIF ( NEW.o_orderdate >= '1993-01-01' AND NEW.o_orderdate < '1993-04-01' ) THEN\n",
    "            INSERT INTO orders_m1_m3_1993 VALUES (NEW.*);\n",
    "        ELSIF ( NEW.o_orderdate >= '1993-04-01' AND NEW.o_orderdate < '1993-07-01' ) THEN\n",
    "            INSERT INTO orders_m4_m6_1993 VALUES (NEW.*);\n",
    "        ELSIF ( NEW.o_orderdate >= '1993-07-01' AND NEW.o_orderdate < '1993-10-01' ) THEN\n",
    "            INSERT INTO orders_m7_m9_1993 VALUES (NEW.*);\n",
    "        ELSIF ( NEW.o_orderdate >= '1993-10-01' AND NEW.o_orderdate < '1994-01-01' ) THEN\n",
    "            INSERT INTO orders_m10_m12_1993 VALUES (NEW.*);\n",
    "        ELSIF ( NEW.o_orderdate >= '1994-01-01' AND NEW.o_orderdate < '1994-04-01' ) THEN\n",
    "            INSERT INTO orders_m1_m3_1994 VALUES (NEW.*);\n",
    "        ELSIF ( NEW.o_orderdate >= '1994-04-01' AND NEW.o_orderdate < '1994-07-01' ) THEN\n",
    "            INSERT INTO orders_m4_m6_1994 VALUES (NEW.*);\n",
    "        ELSIF ( NEW.o_orderdate >= '1994-07-01' AND NEW.o_orderdate < '1994-10-01' ) THEN\n",
    "            INSERT INTO orders_m7_m9_1994  VALUES (NEW.*);\n",
    "        ELSIF ( NEW.o_orderdate >= '1994-10-01' AND NEW.o_orderdate < '1995-01-01' ) THEN\n",
    "            INSERT INTO orders_m10_m12_1994  VALUES (NEW.*);\n",
    "        ELSIF ( NEW.o_orderdate >= '1995-01-01' AND NEW.o_orderdate < '1995-04-01' ) THEN\n",
    "            INSERT INTO orders_m1_m3_1995 VALUES (NEW.*);\n",
    "        ELSIF ( NEW.o_orderdate >= '1995-04-01' AND NEW.o_orderdate < '1995-07-01' ) THEN\n",
    "            INSERT INTO orders_m4_m6_1995 VALUES (NEW.*);\n",
    "        ELSIF ( NEW.o_orderdate >= '1995-07-01' AND NEW.o_orderdate < '1995-10-01' ) THEN\n",
    "            INSERT INTO orders_m7_m9_1995 VALUES (NEW.*);\n",
    "        ELSIF ( NEW.o_orderdate >= '1995-10-01' AND NEW.o_orderdate < '1996-01-01' ) THEN\n",
    "            INSERT INTO orders_m10_m12_1995 VALUES (NEW.*);\n",
    "        ELSIF ( NEW.o_orderdate >= '1996-01-01' AND NEW.o_orderdate < '1996-04-01' ) THEN\n",
    "            INSERT INTO orders_m1_m3_1996 VALUES (NEW.*);\n",
    "        ELSIF ( NEW.o_orderdate >= '1996-04-01' AND NEW.o_orderdate < '1996-07-01' ) THEN\n",
    "            INSERT INTO orders_m4_m6_1996 VALUES (NEW.*);\n",
    "        ELSIF ( NEW.o_orderdate >= '1996-07-01' AND NEW.o_orderdate < '1996-10-01' ) THEN\n",
    "            INSERT INTO orders_m7_m9_1996 VALUES (NEW.*);\n",
    "        ELSIF ( NEW.o_orderdate >= '1996-10-01' AND NEW.o_orderdate < '1997-01-01' ) THEN\n",
    "            INSERT INTO orders_m10_m12_1996 VALUES (NEW.*);\n",
    "        ELSIF ( NEW.o_orderdate >= '1997-01-01' AND NEW.o_orderdate < '1997-04-01' ) THEN\n",
    "            INSERT INTO orders_m1_m3_1997 VALUES (NEW.*);\n",
    "        ELSIF ( NEW.o_orderdate >= '1997-04-01' AND NEW.o_orderdate < '1997-07-01' ) THEN\n",
    "            INSERT INTO orders_m4_m6_1997 VALUES (NEW.*);\n",
    "        ELSIF ( NEW.o_orderdate >= '1997-07-01' AND NEW.o_orderdate < '1997-10-01' ) THEN\n",
    "            INSERT INTO orders_m7_m9_1997 VALUES (NEW.*);\n",
    "        ELSIF ( NEW.o_orderdate >= '1997-10-01' AND NEW.o_orderdate < '1998-01-01' ) THEN\n",
    "            INSERT INTO orders_m10_m12_1997 VALUES (NEW.*);\n",
    "        ELSIF ( NEW.o_orderdate >= '1998-01-01' AND NEW.o_orderdate < '1998-04-01' ) THEN\n",
    "            INSERT INTO orders_m1_m3_1998 VALUES (NEW.*);\n",
    "        ELSIF ( NEW.o_orderdate >= '1998-04-01' AND NEW.o_orderdate < '1998-07-01' ) THEN\n",
    "            INSERT INTO orders_m4_m6_1998 VALUES (NEW.*);\n",
    "        ELSIF ( NEW.o_orderdate >= '1998-07-01' AND NEW.o_orderdate < '1998-10-01' ) THEN\n",
    "            INSERT INTO orders_m7_m9_1998 VALUES (NEW.*);\n",
    "        ELSE\n",
    "            RAISE EXCEPTION 'Date out of range.  Fix the insert_orders_partition() function!';\n",
    "        END IF;\n",
    "        RETURN NULL;\n",
    "    END;\n",
    "    $$ \n",
    "    LANGUAGE plpgsql;\n",
    "\n",
    "\n",
    "    CREATE TRIGGER insert_orders_trigger\n",
    "    BEFORE INSERT ON orders\n",
    "    FOR EACH ROW EXECUTE FUNCTION insert_orders_partition();\"\"\"\n"
   ]
  },
  {
   "cell_type": "markdown",
   "metadata": {},
   "source": [
    "note: \"ELSIF ( NEW.o_orderdate >= '1998-10-01' AND NEW.o_orderdate < '1998-12-02' ) THEN\n",
    "            INSERT INTO orders_m10_m12_1998 VALUES (NEW.*);\"\n",
    "      has been deleted since o.o_orderdate<1998-08-02"
   ]
  },
  {
   "cell_type": "code",
   "execution_count": 10,
   "metadata": {},
   "outputs": [
    {
     "name": "stdout",
     "output_type": "stream",
     "text": [
      "1000000\n"
     ]
    },
    {
     "ename": "KeyboardInterrupt",
     "evalue": "",
     "output_type": "error",
     "traceback": [
      "\u001b[0;31m---------------------------------------------------------------------------\u001b[0m",
      "\u001b[0;31mKeyboardInterrupt\u001b[0m                         Traceback (most recent call last)",
      "Cell \u001b[0;32mIn[10], line 13\u001b[0m\n\u001b[1;32m     10\u001b[0m \u001b[38;5;28;01mwith\u001b[39;00m conn\u001b[38;5;241m.\u001b[39mcursor() \u001b[38;5;28;01mas\u001b[39;00m cur:\n\u001b[1;32m     12\u001b[0m     \u001b[38;5;28;01mfor\u001b[39;00m row \u001b[38;5;129;01min\u001b[39;00m data:\n\u001b[0;32m---> 13\u001b[0m         \u001b[43mcur\u001b[49m\u001b[38;5;241;43m.\u001b[39;49m\u001b[43mexecute\u001b[49m\u001b[43m(\u001b[49m\n\u001b[1;32m     14\u001b[0m \u001b[43m            \u001b[49m\u001b[38;5;124;43m\"\u001b[39;49m\u001b[38;5;124;43mINSERT INTO orders (o_orderkey, o_custkey, o_orederstatus, o_totalprice, o_orderdate, o_orederpriority, o_clerk, o_shippriority, o_comment) VALUES (\u001b[39;49m\u001b[38;5;132;43;01m%s\u001b[39;49;00m\u001b[38;5;124;43m, \u001b[39;49m\u001b[38;5;132;43;01m%s\u001b[39;49;00m\u001b[38;5;124;43m, \u001b[39;49m\u001b[38;5;132;43;01m%s\u001b[39;49;00m\u001b[38;5;124;43m, \u001b[39;49m\u001b[38;5;132;43;01m%s\u001b[39;49;00m\u001b[38;5;124;43m, \u001b[39;49m\u001b[38;5;132;43;01m%s\u001b[39;49;00m\u001b[38;5;124;43m, \u001b[39;49m\u001b[38;5;132;43;01m%s\u001b[39;49;00m\u001b[38;5;124;43m, \u001b[39;49m\u001b[38;5;132;43;01m%s\u001b[39;49;00m\u001b[38;5;124;43m, \u001b[39;49m\u001b[38;5;132;43;01m%s\u001b[39;49;00m\u001b[38;5;124;43m, \u001b[39;49m\u001b[38;5;132;43;01m%s\u001b[39;49;00m\u001b[38;5;124;43m)\u001b[39;49m\u001b[38;5;124;43m\"\u001b[39;49m\u001b[43m,\u001b[49m\n\u001b[1;32m     15\u001b[0m \u001b[43m            \u001b[49m\u001b[43m(\u001b[49m\u001b[43mrow\u001b[49m\u001b[43m[\u001b[49m\u001b[38;5;241;43m0\u001b[39;49m\u001b[43m]\u001b[49m\u001b[43m,\u001b[49m\u001b[43m \u001b[49m\u001b[43mrow\u001b[49m\u001b[43m[\u001b[49m\u001b[38;5;241;43m1\u001b[39;49m\u001b[43m]\u001b[49m\u001b[43m,\u001b[49m\u001b[43m \u001b[49m\u001b[43mrow\u001b[49m\u001b[43m[\u001b[49m\u001b[38;5;241;43m2\u001b[39;49m\u001b[43m]\u001b[49m\u001b[43m,\u001b[49m\u001b[43m \u001b[49m\u001b[43mrow\u001b[49m\u001b[43m[\u001b[49m\u001b[38;5;241;43m3\u001b[39;49m\u001b[43m]\u001b[49m\u001b[43m,\u001b[49m\u001b[43m \u001b[49m\u001b[43mrow\u001b[49m\u001b[43m[\u001b[49m\u001b[38;5;241;43m4\u001b[39;49m\u001b[43m]\u001b[49m\u001b[43m,\u001b[49m\u001b[43m \u001b[49m\u001b[43mrow\u001b[49m\u001b[43m[\u001b[49m\u001b[38;5;241;43m5\u001b[39;49m\u001b[43m]\u001b[49m\u001b[43m,\u001b[49m\u001b[43m \u001b[49m\u001b[43mrow\u001b[49m\u001b[43m[\u001b[49m\u001b[38;5;241;43m6\u001b[39;49m\u001b[43m]\u001b[49m\u001b[43m,\u001b[49m\u001b[43m \u001b[49m\u001b[43mrow\u001b[49m\u001b[43m[\u001b[49m\u001b[38;5;241;43m7\u001b[39;49m\u001b[43m]\u001b[49m\u001b[43m,\u001b[49m\u001b[43m \u001b[49m\u001b[43mrow\u001b[49m\u001b[43m[\u001b[49m\u001b[38;5;241;43m8\u001b[39;49m\u001b[43m]\u001b[49m\u001b[43m)\u001b[49m\n\u001b[1;32m     16\u001b[0m \u001b[43m            \u001b[49m\u001b[43m)\u001b[49m\n\u001b[1;32m     17\u001b[0m     conn\u001b[38;5;241m.\u001b[39mcommit()\n",
      "File \u001b[0;32m/usr/lib/python3.10/encodings/utf_8.py:15\u001b[0m, in \u001b[0;36mdecode\u001b[0;34m(input, errors)\u001b[0m\n\u001b[1;32m     11\u001b[0m \u001b[38;5;66;03m### Codec APIs\u001b[39;00m\n\u001b[1;32m     13\u001b[0m encode \u001b[38;5;241m=\u001b[39m codecs\u001b[38;5;241m.\u001b[39mutf_8_encode\n\u001b[0;32m---> 15\u001b[0m \u001b[38;5;28;01mdef\u001b[39;00m \u001b[38;5;21mdecode\u001b[39m(\u001b[38;5;28minput\u001b[39m, errors\u001b[38;5;241m=\u001b[39m\u001b[38;5;124m'\u001b[39m\u001b[38;5;124mstrict\u001b[39m\u001b[38;5;124m'\u001b[39m):\n\u001b[1;32m     16\u001b[0m     \u001b[38;5;28;01mreturn\u001b[39;00m codecs\u001b[38;5;241m.\u001b[39mutf_8_decode(\u001b[38;5;28minput\u001b[39m, errors, \u001b[38;5;28;01mTrue\u001b[39;00m)\n\u001b[1;32m     18\u001b[0m \u001b[38;5;28;01mclass\u001b[39;00m \u001b[38;5;21;01mIncrementalEncoder\u001b[39;00m(codecs\u001b[38;5;241m.\u001b[39mIncrementalEncoder):\n",
      "\u001b[0;31mKeyboardInterrupt\u001b[0m: "
     ]
    }
   ],
   "source": [
    "partition_indexes = [i for i in range(0, 16_000_000, 1_000_000)]    # 15e6 is the number of rows in the orders table\n",
    "\n",
    "for i in range(len(partition_indexes) - 1):\n",
    "    df = pd.read_csv(\"/home/saradsai/data_management/TPC-H/orders.csv\", delimiter=\"|\", header=None, skiprows=partition_indexes[i], nrows=partition_indexes[i + 1] - partition_indexes[i])\n",
    "\n",
    "    data = df.to_numpy() \n",
    "    print(len(data))\n",
    "\n",
    "    conn.rollback()\n",
    "    with conn.cursor() as cur:\n",
    "\n",
    "        for row in data:\n",
    "            cur.execute(\n",
    "                \"INSERT INTO orders (o_orderkey, o_custkey, o_orederstatus, o_totalprice, o_orderdate, o_orederpriority, o_clerk, o_shippriority, o_comment) VALUES (%s, %s, %s, %s, %s, %s, %s, %s, %s)\",\n",
    "                (row[0], row[1], row[2], row[3], row[4], row[5], row[6], row[7], row[8])\n",
    "                )\n",
    "        conn.commit()"
   ]
  },
  {
   "cell_type": "code",
   "execution_count": null,
   "metadata": {},
   "outputs": [],
   "source": [
    "conn.close()"
   ]
  },
  {
   "cell_type": "code",
   "execution_count": null,
   "metadata": {},
   "outputs": [],
   "source": [
    "def insert_primary(table, attribute, init_month, end_month, year):\n",
    "    \n",
    "    query=f\"\"\"ALTER TABLE {table}_m{init_month}_m{end_month}_y{year} ADD PRIMARY KEY({attribute});\"\"\"\n",
    "    return query"
   ]
  },
  {
   "cell_type": "code",
   "execution_count": null,
   "metadata": {},
   "outputs": [],
   "source": [
    "for year in range(1992,1999):\n",
    "    for month in range(1,12,3):\n",
    "        query=insert_primary('orders', 'o_orderkey', month, month+2, year)\n",
    "        with conn.cursor() as cursor:\n",
    "            cursor.execute(query)\n",
    "            conn.commit()\n",
    "            print('Primary key created')"
   ]
  }
 ],
 "metadata": {
  "kernelspec": {
   "display_name": "Python 3",
   "language": "python",
   "name": "python3"
  },
  "language_info": {
   "codemirror_mode": {
    "name": "ipython",
    "version": 3
   },
   "file_extension": ".py",
   "mimetype": "text/x-python",
   "name": "python",
   "nbconvert_exporter": "python",
   "pygments_lexer": "ipython3",
   "version": "3.10.12"
  }
 },
 "nbformat": 4,
 "nbformat_minor": 2
}
