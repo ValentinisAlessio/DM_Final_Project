{
 "cells": [
  {
   "cell_type": "code",
   "execution_count": 1,
   "metadata": {},
   "outputs": [],
   "source": [
    "import psycopg2\n",
    "from psycopg2.extras import execute_batch\n",
    "import pandas as pd"
   ]
  },
  {
   "cell_type": "code",
   "execution_count": 2,
   "metadata": {},
   "outputs": [],
   "source": [
    "# establish a connection to the PostgreSQL database\n",
    "conn = psycopg2.connect(\n",
    "    dbname = \"dw_cs\", \n",
    "    user = \"postgres\", \n",
    "    #host= 'localhost',\n",
    "    host= '172.31.160.1',\n",
    "    password = \"test31415\",\n",
    "    port = 5432\n",
    ")"
   ]
  },
  {
   "cell_type": "code",
   "execution_count": 3,
   "metadata": {},
   "outputs": [],
   "source": [
    "with conn.cursor() as cur:\n",
    "    \n",
    "#    cur.execute(\"DELETE FROM orders;\")\n",
    "#    cur.execute(\"DELETE FROM order_items;\")   \n",
    "    cur.execute(\"DELETE FROM lineitem;\") \n",
    "    cur.execute(\"DROP TABLE lineitem;\")\n",
    "    cur.execute(\"\"\"\n",
    "CREATE TABLE IF NOT EXISTS public.lineitem (\n",
    "    l_orderkey INT,\n",
    "    l_partkey INT,\n",
    "    l_suppkey INT,\n",
    "    l_linenumber INT,\n",
    "    l_quantity DECIMAL,\n",
    "    l_extendedprice DECIMAL,\n",
    "    l_discount DECIMAL,\n",
    "    l_tax DECIMAL,\n",
    "    l_returnflag CHAR(1),\n",
    "    l_linestatus CHAR(1),\n",
    "    l_shipdate DATE,\n",
    "    l_commitdate DATE,\n",
    "    l_receiptdate DATE,\n",
    "    l_shipinstruct CHAR(25),\n",
    "    l_shipmode CHAR(10),\n",
    "    l_comment VARCHAR(44)\n",
    ") PARTITION BY RANGE (l_shipdate);\n",
    "\"\"\")\n"
   ]
  },
  {
   "cell_type": "code",
   "execution_count": 4,
   "metadata": {},
   "outputs": [],
   "source": [
    "def create_partition(table, attribute, init_month, end_month, year):\n",
    "    if end_month==12:\n",
    "        end_month_part=1\n",
    "        new_year=year+1\n",
    "    else:\n",
    "        end_month_part= str(int(end_month)+1)\n",
    "        new_year=year\n",
    "    \n",
    "    query=f\"\"\"CREATE TABLE {table}_m{init_month}_m{end_month}_y{year} PARTITION OF {table}\n",
    "    FOR VALUES FROM ('{year}-{init_month}-01') TO ('{new_year}-{end_month_part}-01');\"\"\"\n",
    "    return query"
   ]
  },
  {
   "cell_type": "code",
   "execution_count": 5,
   "metadata": {},
   "outputs": [
    {
     "name": "stdout",
     "output_type": "stream",
     "text": [
      "Partition created\n",
      "Partition created\n",
      "Partition created\n",
      "Partition created\n",
      "Partition created\n",
      "Partition created\n",
      "Partition created\n",
      "Partition created\n",
      "Partition created\n",
      "Partition created\n",
      "Partition created\n",
      "Partition created\n",
      "Partition created\n",
      "Partition created\n",
      "Partition created\n",
      "Partition created\n",
      "Partition created\n",
      "Partition created\n",
      "Partition created\n",
      "Partition created\n",
      "Partition created\n",
      "Partition created\n",
      "Partition created\n",
      "Partition created\n",
      "Partition created\n",
      "Partition created\n",
      "Partition created\n",
      "Partition created\n"
     ]
    }
   ],
   "source": [
    "for year in range(1992,1999):\n",
    "    for month in range(1,12,3):\n",
    "        query=create_partition('lineitem', 'l_shipdate', month, month+2, year)\n",
    "        with conn.cursor() as cursor:\n",
    "            cursor.execute(query)\n",
    "            conn.commit()\n",
    "            print('Partition created')"
   ]
  },
  {
   "cell_type": "code",
   "execution_count": 6,
   "metadata": {},
   "outputs": [],
   "source": [
    "insertion_trigger=\"\"\"\n",
    "    CREATE OR REPLACE FUNCTION insert_lineitem_partition()\n",
    "    RETURNS TRIGGER AS $$\n",
    "    BEGIN\n",
    "        IF ( NEW.l_shipdate >= '1992-01-01' AND NEW.l_shipdate < '1992-04-01' ) THEN\n",
    "            INSERT INTO lineitem_m1_m3_1992 VALUES (NEW.*);\n",
    "        ELSIF ( NEW.l_shipdate >= '1992-04-01' AND NEW.l_shipdate < '1992-07-01' ) THEN\n",
    "            INSERT INTO lineitem_m4_m6_1992 VALUES (NEW.*);\n",
    "        ELSIF ( NEW.l_shipdate >= '1992-07-01' AND NEW.l_shipdate < '1992-10-01' ) THEN\n",
    "            INSERT INTO lineitem_m7_m9_1992 VALUES (NEW.*);\n",
    "        ELSIF ( NEW.l_shipdate >= '1992-10-01' AND NEW.l_shipdate < '1993-01-01' ) THEN\n",
    "            INSERT INTO lineitem_m10_m12_1992 VALUES (NEW.*);\n",
    "        ELSIF ( NEW.l_shipdate >= '1993-01-01' AND NEW.l_shipdate < '1993-04-01' ) THEN\n",
    "            INSERT INTO lineitem_m1_m3_1993 VALUES (NEW.*);\n",
    "        ELSIF ( NEW.l_shipdate >= '1993-04-01' AND NEW.l_shipdate < '1993-07-01' ) THEN\n",
    "            INSERT INTO lineitem_m4_m6_1993 VALUES (NEW.*);\n",
    "        ELSIF ( NEW.l_shipdate >= '1993-07-01' AND NEW.l_shipdate < '1993-10-01' ) THEN\n",
    "            INSERT INTO lineitem_m7_m9_1993 VALUES (NEW.*);\n",
    "        ELSIF ( NEW.l_shipdate >= '1993-10-01' AND NEW.l_shipdate < '1994-01-01' ) THEN\n",
    "            INSERT INTO lineitem_m10_m12_1993 VALUES (NEW.*);\n",
    "        ELSIF ( NEW.l_shipdate >= '1994-01-01' AND NEW.l_shipdate < '1994-04-01' ) THEN\n",
    "            INSERT INTO lineitem_m1_m3_1994 VALUES (NEW.*);\n",
    "        ELSIF ( NEW.l_shipdate >= '1994-04-01' AND NEW.l_shipdate < '1994-07-01' ) THEN\n",
    "            INSERT INTO lineitem_m4_m6_1994 VALUES (NEW.*);\n",
    "        ELSIF ( NEW.l_shipdate >= '1994-07-01' AND NEW.l_shipdate < '1994-10-01' ) THEN\n",
    "            INSERT INTO lineitem_m7_m9_1994  VALUES (NEW.*);\n",
    "        ELSIF ( NEW.l_shipdate >= '1994-10-01' AND NEW.l_shipdate < '1995-01-01' ) THEN\n",
    "            INSERT INTO lineitem_m10_m12_1994  VALUES (NEW.*);\n",
    "        ELSIF ( NEW.l_shipdate >= '1995-01-01' AND NEW.l_shipdate < '1995-04-01' ) THEN\n",
    "            INSERT INTO lineitem_m1_m3_1995 VALUES (NEW.*);\n",
    "        ELSIF ( NEW.l_shipdate >= '1995-04-01' AND NEW.l_shipdate < '1995-07-01' ) THEN\n",
    "            INSERT INTO lineitem_m4_m6_1995 VALUES (NEW.*);\n",
    "        ELSIF ( NEW.l_shipdate >= '1995-07-01' AND NEW.l_shipdate < '1995-10-01' ) THEN\n",
    "            INSERT INTO lineitem_m7_m9_1995 VALUES (NEW.*);\n",
    "        ELSIF ( NEW.l_shipdate >= '1995-10-01' AND NEW.l_shipdate < '1996-01-01' ) THEN\n",
    "            INSERT INTO lineitem_m10_m12_1995 VALUES (NEW.*);\n",
    "        ELSIF ( NEW.l_shipdate >= '1996-01-01' AND NEW.l_shipdate < '1996-04-01' ) THEN\n",
    "            INSERT INTO lineitem_m1_m3_1996 VALUES (NEW.*);\n",
    "        ELSIF ( NEW.l_shipdate >= '1996-04-01' AND NEW.l_shipdate < '1996-07-01' ) THEN\n",
    "            INSERT INTO lineitem_m4_m6_1996 VALUES (NEW.*);\n",
    "        ELSIF ( NEW.l_shipdate >= '1996-07-01' AND NEW.l_shipdate < '1996-10-01' ) THEN\n",
    "            INSERT INTO lineitem_m7_m9_1996 VALUES (NEW.*);\n",
    "        ELSIF ( NEW.l_shipdate >= '1996-10-01' AND NEW.l_shipdate < '1997-01-01' ) THEN\n",
    "            INSERT INTO lineitem_m10_m12_1996 VALUES (NEW.*);\n",
    "        ELSIF ( NEW.l_shipdate >= '1997-01-01' AND NEW.l_shipdate < '1997-04-01' ) THEN\n",
    "            INSERT INTO lineitem_m1_m3_1997 VALUES (NEW.*);\n",
    "        ELSIF ( NEW.l_shipdate >= '1997-04-01' AND NEW.l_shipdate < '1997-07-01' ) THEN\n",
    "            INSERT INTO lineitem_m4_m6_1997 VALUES (NEW.*);\n",
    "        ELSIF ( NEW.l_shipdate >= '1997-07-01' AND NEW.l_shipdate < '1997-10-01' ) THEN\n",
    "            INSERT INTO lineitem_m7_m9_1997 VALUES (NEW.*);\n",
    "        ELSIF ( NEW.l_shipdate >= '1997-10-01' AND NEW.l_shipdate < '1998-01-01' ) THEN\n",
    "            INSERT INTO lineitem_m10_m12_1997 VALUES (NEW.*);\n",
    "        ELSIF ( NEW.l_shipdate >= '1998-01-01' AND NEW.l_shipdate < '1998-04-01' ) THEN\n",
    "            INSERT INTO lineitem_m1_m3_1998 VALUES (NEW.*);\n",
    "        ELSIF ( NEW.l_shipdate >= '1998-04-01' AND NEW.l_shipdate < '1998-07-01' ) THEN\n",
    "            INSERT INTO lineitem_m4_m6_1998 VALUES (NEW.*);\n",
    "        ELSIF ( NEW.l_shipdate >= '1998-07-01' AND NEW.l_shipdate < '1998-10-01' ) THEN\n",
    "            INSERT INTO lineitem_m7_m9_1998 VALUES (NEW.*);\n",
    "        ELSIF ( NEW.l_shipdate >= '1998-10-01' AND NEW.l_shipdate < '1998-12-02' ) THEN\n",
    "            INSERT INTO lineitem_m10_m12_1998 VALUES (NEW.*);\n",
    "        ELSE\n",
    "            RAISE EXCEPTION 'Date out of range.  Fix the insert_lineitem_partition() function!';\n",
    "        END IF;\n",
    "        RETURN NULL;\n",
    "    END;\n",
    "    $$ \n",
    "    LANGUAGE plpgsql;\n",
    "\n",
    "\n",
    "    CREATE TRIGGER insert_lineitem_trigger\n",
    "    BEFORE INSERT ON lineitem\n",
    "    FOR EACH ROW EXECUTE FUNCTION insert_lineitem_partition();\"\"\"\n"
   ]
  },
  {
   "cell_type": "code",
   "execution_count": 7,
   "metadata": {},
   "outputs": [],
   "source": [
    "with conn.cursor() as cur:\n",
    "    cur.execute(insertion_trigger)"
   ]
  },
  {
   "cell_type": "code",
   "execution_count": 10,
   "metadata": {},
   "outputs": [
    {
     "name": "stdout",
     "output_type": "stream",
     "text": [
      "Read 1000000 rows from partition 0 of file 9\n",
      "Read 1000000 rows from partition 1 of file 9\n",
      "Read 1000000 rows from partition 2 of file 9\n",
      "Read 1000000 rows from partition 3 of file 9\n",
      "Read 1000000 rows from partition 4 of file 9\n",
      "Read 999992 rows from partition 5 of file 9\n",
      "Inserted 999992 rows in the lineitem table from file 9\n",
      "Read 1000000 rows from partition 0 of file 10\n",
      "Read 1000000 rows from partition 1 of file 10\n",
      "Read 1000000 rows from partition 2 of file 10\n",
      "Read 1000000 rows from partition 3 of file 10\n",
      "Read 1000000 rows from partition 4 of file 10\n",
      "Read 999992 rows from partition 5 of file 10\n",
      "Inserted 999992 rows in the lineitem table from file 10\n"
     ]
    }
   ],
   "source": [
    "# Define the partition indexes\n",
    "partition_indexes = [idx for idx in range(0, 7_000_000, 1_000_000)]    # 6e6 is the number of rows in the orders table\n",
    "\n",
    "# Loop through each file\n",
    "for i in range(9, 11):\n",
    "    # Loop through each partition\n",
    "    for j in range(len(partition_indexes) - 1):\n",
    "        # Read the CSV file in chunks\n",
    "        df = pd.read_csv(f\"/home/saradsai/data_management/TPC-H/lineitem_8.csv\", delimiter=\"|\", header=None, skiprows=partition_indexes[j], nrows=partition_indexes[j + 1] - partition_indexes[j])\n",
    "        \n",
    "        # Convert the DataFrame to a list of tuples\n",
    "        data = [tuple(row) for row in df.to_numpy()]\n",
    "        print(f\"Read {len(data)} rows from partition {j} of file {i}\")\n",
    "\n",
    "        # Insert the data into the database\n",
    "        conn.rollback()\n",
    "        with conn.cursor() as cur:\n",
    "            execute_batch(\n",
    "                cur,\n",
    "                \"INSERT INTO lineitem (l_orderkey, l_partkey, l_suppkey, l_linenumber, l_quantity, l_extendedprice, l_discount, l_tax, l_returnflag, l_linestatus, l_shipdate, l_commitdate, l_receiptdate, l_shipinstruct, l_shipmode, l_comment) VALUES (%s, %s, %s, %s, %s, %s, %s, %s, %s, %s, %s, %s, %s, %s, %s, %s)\",\n",
    "                data\n",
    "            )\n",
    "            conn.commit()\n",
    "\n",
    "    print(f\"Inserted {len(data)} rows in the lineitem table from file {i}\")"
   ]
  },
  {
   "cell_type": "code",
   "execution_count": 9,
   "metadata": {},
   "outputs": [
    {
     "name": "stdout",
     "output_type": "stream",
     "text": [
      "Read 1411814 rows from partition 4 of file 8\n",
      "Inserted 1411814 rows in the lineitem table from file 8\n"
     ]
    }
   ],
   "source": [
    "df = pd.read_csv(f\"/home/saradsai/data_management/TPC-H/lineitem_8.csv\", delimiter=\"|\", header=None, skiprows=lambda x: x <  4588178)\n",
    "        \n",
    "        # Convert the DataFrame to a list of tuples\n",
    "data = [tuple(row) for row in df.to_numpy()]\n",
    "print(f\"Read {len(data)} rows from partition {j} of file {i}\")\n",
    "\n",
    "        # Insert the data into the database\n",
    "conn.rollback()\n",
    "with conn.cursor() as cur:\n",
    "            execute_batch(\n",
    "                cur,\n",
    "                \"INSERT INTO lineitem (l_orderkey, l_partkey, l_suppkey, l_linenumber, l_quantity, l_extendedprice, l_discount, l_tax, l_returnflag, l_linestatus, l_shipdate, l_commitdate, l_receiptdate, l_shipinstruct, l_shipmode, l_comment) VALUES (%s, %s, %s, %s, %s, %s, %s, %s, %s, %s, %s, %s, %s, %s, %s, %s)\",\n",
    "                data\n",
    "            )\n",
    "            conn.commit()\n",
    "\n",
    "print(f\"Inserted {len(data)} rows in the lineitem table from file {i}\")"
   ]
  },
  {
   "cell_type": "markdown",
   "metadata": {},
   "source": [
    "execution time for the population of the partition:\n",
    "58 m 24 s+ 1m 56 s + 14 m 49 s"
   ]
  }
 ],
 "metadata": {
  "kernelspec": {
   "display_name": "Python 3",
   "language": "python",
   "name": "python3"
  },
  "language_info": {
   "codemirror_mode": {
    "name": "ipython",
    "version": 3
   },
   "file_extension": ".py",
   "mimetype": "text/x-python",
   "name": "python",
   "nbconvert_exporter": "python",
   "pygments_lexer": "ipython3",
   "version": "3.10.12"
  }
 },
 "nbformat": 4,
 "nbformat_minor": 2
}
