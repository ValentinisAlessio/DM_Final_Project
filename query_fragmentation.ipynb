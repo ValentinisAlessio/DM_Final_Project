{
 "cells": [
  {
   "cell_type": "code",
   "execution_count": 1,
   "metadata": {},
   "outputs": [],
   "source": [
    "import psycopg2\n",
    "import time"
   ]
  },
  {
   "cell_type": "code",
   "execution_count": 2,
   "metadata": {},
   "outputs": [],
   "source": [
    "# establish a connection to the PostgreSQL database\n",
    "conn = psycopg2.connect(\n",
    "    dbname = \"dw_cs\", \n",
    "    user = \"postgres\", \n",
    "    host= '172.31.160.1',\n",
    "    password = \"test31415\",\n",
    "    port = 5432\n",
    ")"
   ]
  },
  {
   "cell_type": "code",
   "execution_count": 3,
   "metadata": {},
   "outputs": [],
   "source": [
    "# function to check the indexes on a table\n",
    "\n",
    "def check_indexes(table_name):\n",
    "\n",
    "    with conn.cursor() as cur:\n",
    "        query = f\"\"\"\n",
    "        SELECT\n",
    "            indexname,\n",
    "            indexdef\n",
    "        FROM\n",
    "            pg_indexes\n",
    "        WHERE\n",
    "            tablename = '{table_name}';\n",
    "        \"\"\"\n",
    "\n",
    "        cur.execute(query)      \n",
    "        \n",
    "        indexes = cur.fetchall()\n",
    "        \n",
    "        for index in indexes:\n",
    "            print(f\"Index Name: {index[0]}\")\n",
    "            print(f\"Index Definition: {index[1]}\\n\")\n",
    "\n",
    "\n",
    "# function to explain-analyze a query\n",
    "\n",
    "def explain_analyze(query, analyze = True):\n",
    "    conn.rollback()\n",
    "    with conn.cursor() as cur:\n",
    "        if analyze:\n",
    "            cur.execute(f\"EXPLAIN ANALYZE {query}\")\n",
    "        else:\n",
    "            cur.execute(f\"EXPLAIN {query}\")\n",
    "        explain = cur.fetchall()\n",
    "\n",
    "        for line in explain:\n",
    "            print(line[0])"
   ]
  },
  {
   "cell_type": "markdown",
   "metadata": {},
   "source": [
    "## First step\n",
    "Compute size and time for executing the queries without additional structure support. Record the size of the result set.\n"
   ]
  },
  {
   "cell_type": "markdown",
   "metadata": {},
   "source": [
    "the first value is the startup cost, the second the total cost.\n",
    "\n",
    "Startup Cost: This represents the amount of work the query planner estimates is required before the first row can be returned. For a sequential scan (Seq Scan), this value is typically very low or zero because the first row can be returned almost immediately.\n",
    "\n",
    "Total Cost: This represents the total estimated cost to execute the entire query. It is the sum of the startup cost and the cost to process all rows."
   ]
  },
  {
   "cell_type": "markdown",
   "metadata": {},
   "source": [
    "## how to compute the size needed to execute the query?"
   ]
  },
  {
   "cell_type": "markdown",
   "metadata": {},
   "source": [
    "## Query 1"
   ]
  },
  {
   "cell_type": "code",
   "execution_count": 5,
   "metadata": {},
   "outputs": [],
   "source": [
    "query_1 = \"\"\"\n",
    "SELECT\n",
    "    l_returnflag,\n",
    "    l_linestatus,\n",
    "    SUM(l_quantity) AS sum_qty,\n",
    "    SUM(l_extendedprice) AS sum_base_price,\n",
    "    SUM(l_extendedprice * (1 - l_discount)) AS sum_disc_price,\n",
    "    SUM(l_extendedprice * (1 - l_discount) * (1 + l_tax)) AS sum_charge,\n",
    "    AVG(l_quantity) AS avg_qty,\n",
    "    AVG(l_extendedprice) AS avg_price,\n",
    "    AVG(l_discount) AS avg_disc,\n",
    "    COUNT(*) AS count_order\n",
    "FROM\n",
    "    lineitem\n",
    "WHERE\n",
    "    l_shipdate <= DATE '1998-12-01' - INTERVAL '90' DAY\n",
    "GROUP BY\n",
    "    l_returnflag,\n",
    "    l_linestatus\n",
    "ORDER BY\n",
    "    l_returnflag,\n",
    "    l_linestatus;\n",
    "\"\"\""
   ]
  },
  {
   "cell_type": "code",
   "execution_count": 7,
   "metadata": {},
   "outputs": [
    {
     "name": "stdout",
     "output_type": "stream",
     "text": [
      "Finalize GroupAggregate  (cost=2268788.23..2269901.65 rows=40000 width=236)\n",
      "  Group Key: lineitem_10.l_returnflag, lineitem_10.l_linestatus\n",
      "  ->  Gather Merge  (cost=2268788.23..2268798.73 rows=90 width=236)\n",
      "        Workers Planned: 2\n",
      "        ->  Sort  (cost=2267788.20..2267788.32 rows=45 width=236)\n",
      "              Sort Key: lineitem_10.l_returnflag, lineitem_10.l_linestatus\n",
      "              ->  Parallel Append  (cost=87675.95..2267786.97 rows=45 width=236)\n",
      "                    ->  Partial HashAggregate  (cost=87788.06..87788.10 rows=2 width=236)\n",
      "                          Group Key: lineitem_10.l_returnflag, lineitem_10.l_linestatus\n",
      "                          ->  Parallel Seq Scan on lineitem_m7_m9_y1994 lineitem_10  (cost=0.00..54570.43 rows=949075 width=25)\n",
      "                                Filter: (l_shipdate <= '1998-09-02 00:00:00'::timestamp without time zone)\n",
      "                    ->  Partial HashAggregate  (cost=87675.95..87675.98 rows=1 width=236)\n",
      "                          Group Key: lineitem_22.l_returnflag, lineitem_22.l_linestatus\n",
      "                          ->  Parallel Seq Scan on lineitem_m7_m9_y1997 lineitem_22  (cost=0.00..54497.46 rows=947957 width=25)\n",
      "                                Filter: (l_shipdate <= '1998-09-02 00:00:00'::timestamp without time zone)\n",
      "                    ->  Partial HashAggregate  (cost=87626.26..87626.29 rows=1 width=236)\n",
      "                          Group Key: lineitem_19.l_returnflag, lineitem_19.l_linestatus\n",
      "                          ->  Parallel Seq Scan on lineitem_m10_m12_y1996 lineitem_19  (cost=0.00..54467.44 rows=947395 width=25)\n",
      "                                Filter: (l_shipdate <= '1998-09-02 00:00:00'::timestamp without time zone)\n",
      "                    ->  Partial HashAggregate  (cost=87608.24..87608.26 rows=1 width=236)\n",
      "                          Group Key: lineitem_23.l_returnflag, lineitem_23.l_linestatus\n",
      "                          ->  Parallel Seq Scan on lineitem_m10_m12_y1997 lineitem_23  (cost=0.00..54456.06 rows=947205 width=25)\n",
      "                                Filter: (l_shipdate <= '1998-09-02 00:00:00'::timestamp without time zone)\n",
      "                    ->  Partial HashAggregate  (cost=87577.56..87577.60 rows=2 width=236)\n",
      "                          Group Key: lineitem_6.l_returnflag, lineitem_6.l_linestatus\n",
      "                          ->  Parallel Seq Scan on lineitem_m7_m9_y1993 lineitem_6  (cost=0.00..54436.93 rows=946875 width=25)\n",
      "                                Filter: (l_shipdate <= '1998-09-02 00:00:00'::timestamp without time zone)\n",
      "                    ->  Partial HashAggregate  (cost=87569.10..87569.12 rows=1 width=236)\n",
      "                          Group Key: lineitem_14.l_returnflag, lineitem_14.l_linestatus\n",
      "                          ->  Parallel Seq Scan on lineitem_m7_m9_y1995 lineitem_14  (cost=0.00..54431.77 rows=946781 width=25)\n",
      "                                Filter: (l_shipdate <= '1998-09-02 00:00:00'::timestamp without time zone)\n",
      "                    ->  Partial HashAggregate  (cost=87555.16..87555.21 rows=2 width=236)\n",
      "                          Group Key: lineitem_11.l_returnflag, lineitem_11.l_linestatus\n",
      "                          ->  Parallel Seq Scan on lineitem_m10_m12_y1994 lineitem_11  (cost=0.00..54422.94 rows=946635 width=25)\n",
      "                                Filter: (l_shipdate <= '1998-09-02 00:00:00'::timestamp without time zone)\n",
      "                    ->  Partial HashAggregate  (cost=87532.76..87532.80 rows=2 width=236)\n",
      "                          Group Key: lineitem_3.l_returnflag, lineitem_3.l_linestatus\n",
      "                          ->  Parallel Seq Scan on lineitem_m10_m12_y1992 lineitem_3  (cost=0.00..54408.93 rows=946395 width=25)\n",
      "                                Filter: (l_shipdate <= '1998-09-02 00:00:00'::timestamp without time zone)\n",
      "                    ->  Partial HashAggregate  (cost=87529.87..87529.89 rows=1 width=236)\n",
      "                          Group Key: lineitem_18.l_returnflag, lineitem_18.l_linestatus\n",
      "                          ->  Parallel Seq Scan on lineitem_m7_m9_y1996 lineitem_18  (cost=0.00..54407.44 rows=946355 width=25)\n",
      "                                Filter: (l_shipdate <= '1998-09-02 00:00:00'::timestamp without time zone)\n",
      "                    ->  Partial HashAggregate  (cost=87465.53..87465.57 rows=2 width=236)\n",
      "                          Group Key: lineitem_2.l_returnflag, lineitem_2.l_linestatus\n",
      "                          ->  Parallel Seq Scan on lineitem_m7_m9_y1992 lineitem_2  (cost=0.00..54369.14 rows=945611 width=25)\n",
      "                                Filter: (l_shipdate <= '1998-09-02 00:00:00'::timestamp without time zone)\n",
      "                    ->  Partial HashAggregate  (cost=87461.13..87461.15 rows=1 width=236)\n",
      "                          Group Key: lineitem_15.l_returnflag, lineitem_15.l_linestatus\n",
      "                          ->  Parallel Seq Scan on lineitem_m10_m12_y1995 lineitem_15  (cost=0.00..54363.56 rows=945645 width=25)\n",
      "                                Filter: (l_shipdate <= '1998-09-02 00:00:00'::timestamp without time zone)\n",
      "                    ->  Partial HashAggregate  (cost=87388.19..87388.24 rows=2 width=236)\n",
      "                          Group Key: lineitem_7.l_returnflag, lineitem_7.l_linestatus\n",
      "                          ->  Parallel Seq Scan on lineitem_m10_m12_y1993 lineitem_7  (cost=0.00..54320.79 rows=944783 width=25)\n",
      "                                Filter: (l_shipdate <= '1998-09-02 00:00:00'::timestamp without time zone)\n",
      "                    ->  Partial HashAggregate  (cost=86797.33..86797.35 rows=1 width=236)\n",
      "                          Group Key: lineitem_21.l_returnflag, lineitem_21.l_linestatus\n",
      "                          ->  Parallel Seq Scan on lineitem_m4_m6_y1997 lineitem_21  (cost=0.00..53952.35 rows=938428 width=25)\n",
      "                                Filter: (l_shipdate <= '1998-09-02 00:00:00'::timestamp without time zone)\n",
      "                    ->  Partial HashAggregate  (cost=86709.44..86709.58 rows=6 width=236)\n",
      "                          Group Key: lineitem_13.l_returnflag, lineitem_13.l_linestatus\n",
      "                          ->  Parallel Seq Scan on lineitem_m4_m6_y1995 lineitem_13  (cost=0.00..53898.27 rows=937462 width=25)\n",
      "                                Filter: (l_shipdate <= '1998-09-02 00:00:00'::timestamp without time zone)\n",
      "                    ->  Partial HashAggregate  (cost=86550.27..86550.31 rows=2 width=236)\n",
      "                          Group Key: lineitem_5.l_returnflag, lineitem_5.l_linestatus\n",
      "                          ->  Parallel Seq Scan on lineitem_m4_m6_y1993 lineitem_5  (cost=0.00..53799.65 rows=935732 width=25)\n",
      "                                Filter: (l_shipdate <= '1998-09-02 00:00:00'::timestamp without time zone)\n",
      "                    ->  Partial HashAggregate  (cost=86499.42..86499.45 rows=1 width=236)\n",
      "                          Group Key: lineitem_17.l_returnflag, lineitem_17.l_linestatus\n",
      "                          ->  Parallel Seq Scan on lineitem_m4_m6_y1996 lineitem_17  (cost=0.00..53767.84 rows=935188 width=25)\n",
      "                                Filter: (l_shipdate <= '1998-09-02 00:00:00'::timestamp without time zone)\n",
      "                    ->  Partial HashAggregate  (cost=86492.62..86492.67 rows=2 width=236)\n",
      "                          Group Key: lineitem_9.l_returnflag, lineitem_9.l_linestatus\n",
      "                          ->  Parallel Seq Scan on lineitem_m4_m6_y1994 lineitem_9  (cost=0.00..53763.84 rows=935108 width=25)\n",
      "                                Filter: (l_shipdate <= '1998-09-02 00:00:00'::timestamp without time zone)\n",
      "                    ->  Partial HashAggregate  (cost=86470.33..86470.35 rows=1 width=236)\n",
      "                          Group Key: lineitem_16.l_returnflag, lineitem_16.l_linestatus\n",
      "                          ->  Parallel Seq Scan on lineitem_m1_m3_y1996 lineitem_16  (cost=0.00..53749.88 rows=934870 width=25)\n",
      "                                Filter: (l_shipdate <= '1998-09-02 00:00:00'::timestamp without time zone)\n",
      "                    ->  Partial HashAggregate  (cost=86374.35..86374.37 rows=1 width=236)\n",
      "                          Group Key: lineitem_25.l_returnflag, lineitem_25.l_linestatus\n",
      "                          ->  Parallel Seq Scan on lineitem_m4_m6_y1998 lineitem_25  (cost=0.00..53688.52 rows=933881 width=25)\n",
      "                                Filter: (l_shipdate <= '1998-09-02 00:00:00'::timestamp without time zone)\n",
      "                    ->  Partial HashAggregate  (cost=85873.89..85873.94 rows=2 width=236)\n",
      "                          Group Key: lineitem_12.l_returnflag, lineitem_12.l_linestatus\n",
      "                          ->  Parallel Seq Scan on lineitem_m1_m3_y1995 lineitem_12  (cost=0.00..53378.49 rows=928440 width=25)\n",
      "                                Filter: (l_shipdate <= '1998-09-02 00:00:00'::timestamp without time zone)\n",
      "                    ->  Partial HashAggregate  (cost=85758.52..85758.57 rows=2 width=236)\n",
      "                          Group Key: lineitem_4.l_returnflag, lineitem_4.l_linestatus\n",
      "                          ->  Parallel Seq Scan on lineitem_m1_m3_y1993 lineitem_4  (cost=0.00..53306.88 rows=927190 width=25)\n",
      "                                Filter: (l_shipdate <= '1998-09-02 00:00:00'::timestamp without time zone)\n",
      "                    ->  Partial HashAggregate  (cost=85719.47..85719.50 rows=1 width=236)\n",
      "                          Group Key: lineitem_20.l_returnflag, lineitem_20.l_linestatus\n",
      "                          ->  Parallel Seq Scan on lineitem_m1_m3_y1997 lineitem_20  (cost=0.00..53281.86 rows=926789 width=25)\n",
      "                                Filter: (l_shipdate <= '1998-09-02 00:00:00'::timestamp without time zone)\n",
      "                    ->  Partial HashAggregate  (cost=85650.85..85650.90 rows=2 width=236)\n",
      "                          Group Key: lineitem_8.l_returnflag, lineitem_8.l_linestatus\n",
      "                          ->  Parallel Seq Scan on lineitem_m1_m3_y1994 lineitem_8  (cost=0.00..53238.02 rows=926081 width=25)\n",
      "                                Filter: (l_shipdate <= '1998-09-02 00:00:00'::timestamp without time zone)\n",
      "                    ->  Partial HashAggregate  (cost=85642.62..85642.65 rows=1 width=236)\n",
      "                          Group Key: lineitem_24.l_returnflag, lineitem_24.l_linestatus\n",
      "                          ->  Parallel Seq Scan on lineitem_m1_m3_y1998 lineitem_24  (cost=0.00..53235.84 rows=925908 width=25)\n",
      "                                Filter: (l_shipdate <= '1998-09-02 00:00:00'::timestamp without time zone)\n",
      "                    ->  Partial HashAggregate  (cost=82753.73..82753.77 rows=2 width=236)\n",
      "                          Group Key: lineitem_1.l_returnflag, lineitem_1.l_linestatus\n",
      "                          ->  Parallel Seq Scan on lineitem_m4_m6_y1992 lineitem_1  (cost=0.00..51438.88 rows=894710 width=25)\n",
      "                                Filter: (l_shipdate <= '1998-09-02 00:00:00'::timestamp without time zone)\n",
      "                    ->  Partial HashAggregate  (cost=67556.70..67556.72 rows=1 width=236)\n",
      "                          Group Key: lineitem_26.l_returnflag, lineitem_26.l_linestatus\n",
      "                          ->  Parallel Seq Scan on lineitem_m7_m9_y1998 lineitem_26  (cost=0.00..46019.17 rows=615358 width=25)\n",
      "                                Filter: (l_shipdate <= '1998-09-02 00:00:00'::timestamp without time zone)\n",
      "                    ->  Partial HashAggregate  (cost=32158.37..32158.41 rows=2 width=236)\n",
      "                          Group Key: lineitem.l_returnflag, lineitem.l_linestatus\n",
      "                          ->  Parallel Seq Scan on lineitem_m1_m3_y1992 lineitem  (cost=0.00..19989.15 rows=347692 width=25)\n",
      "                                Filter: (l_shipdate <= '1998-09-02 00:00:00'::timestamp without time zone)\n"
     ]
    }
   ],
   "source": [
    "conn.rollback()\n",
    "with conn.cursor() as cur:\n",
    "        cur.execute(\"SET enable_seqscan = on;\")\n",
    "        cur.execute(\"SET enable_indexscan = on;\")\n",
    "        cur.execute(\"SET enable_bitmapscan = off;\")\n",
    "        cur.execute(\"SET enable_indexonlyscan = off;\")\n",
    "        cur.execute(\"SET enable_tidscan = off;\")\n",
    "        cur.execute(\"SET enable_material = off;\")\n",
    "        cur.execute(\"SET enable_nestloop = on;\")\n",
    "        cur.execute(\"SET enable_mergejoin = on;\")\n",
    "        cur.execute(\"SET enable_hashjoin = off;\")\n",
    "        cur.execute(\"SET enable_sort = on;\")\n",
    "        cur.execute(\"SET enable_partition_pruning = on;\")\n",
    "        cur.execute(\"SET enable_partitionwise_join = on;\")\n",
    "        cur.execute(\"SET enable_partitionwise_aggregate = on;\")\n",
    "        cur.execute(\"SET constraint_exclusion = on;\")\n",
    "        conn.commit()\n",
    "    \n",
    "explain_analyze(query_1, analyze=False)"
   ]
  },
  {
   "cell_type": "markdown",
   "metadata": {},
   "source": [
    "Trying to put an index on (l_returnflag, l_linestatus). since they do not have many distinct values: (3,2) respectively, we could use a bitmap index, but in postgre it is not implemented.\n",
    "\n",
    "Let's use btree, hash index cannot be done on a pair\n",
    "\n",
    "Maybe we can leverage bitmap scan."
   ]
  },
  {
   "cell_type": "code",
   "execution_count": 6,
   "metadata": {},
   "outputs": [
    {
     "ename": "KeyboardInterrupt",
     "evalue": "",
     "output_type": "error",
     "traceback": [
      "\u001b[0;31m---------------------------------------------------------------------------\u001b[0m",
      "\u001b[0;31mKeyboardInterrupt\u001b[0m                         Traceback (most recent call last)",
      "Cell \u001b[0;32mIn[6], line 4\u001b[0m\n\u001b[1;32m      1\u001b[0m \u001b[38;5;28;01mwith\u001b[39;00m conn\u001b[38;5;241m.\u001b[39mcursor() \u001b[38;5;28;01mas\u001b[39;00m cur:\n\u001b[1;32m      3\u001b[0m     start_time \u001b[38;5;241m=\u001b[39m time\u001b[38;5;241m.\u001b[39mtime()\n\u001b[0;32m----> 4\u001b[0m     \u001b[43mcur\u001b[49m\u001b[38;5;241;43m.\u001b[39;49m\u001b[43mexecute\u001b[49m\u001b[43m(\u001b[49m\u001b[38;5;124;43m\"\u001b[39;49m\u001b[38;5;124;43mCREATE INDEX idx_l_returnflag_linestatus ON lineitem (l_returnflag, l_linestatus);\u001b[39;49m\u001b[38;5;124;43m\"\u001b[39;49m\u001b[43m)\u001b[49m\n\u001b[1;32m      5\u001b[0m     end_time \u001b[38;5;241m=\u001b[39m time\u001b[38;5;241m.\u001b[39mtime()\n\u001b[1;32m      6\u001b[0m     \u001b[38;5;28mprint\u001b[39m(\u001b[38;5;124mf\u001b[39m\u001b[38;5;124m\"\u001b[39m\u001b[38;5;124mTime to create index on lineitem (l_returnflag, l_linestatus): \u001b[39m\u001b[38;5;132;01m{\u001b[39;00mend_time\u001b[38;5;250m \u001b[39m\u001b[38;5;241m-\u001b[39m\u001b[38;5;250m \u001b[39mstart_time\u001b[38;5;132;01m}\u001b[39;00m\u001b[38;5;124m seconds\u001b[39m\u001b[38;5;124m\"\u001b[39m)\n",
      "File \u001b[0;32m/usr/lib/python3.10/encodings/utf_8.py:15\u001b[0m, in \u001b[0;36mdecode\u001b[0;34m(input, errors)\u001b[0m\n\u001b[1;32m     11\u001b[0m \u001b[38;5;66;03m### Codec APIs\u001b[39;00m\n\u001b[1;32m     13\u001b[0m encode \u001b[38;5;241m=\u001b[39m codecs\u001b[38;5;241m.\u001b[39mutf_8_encode\n\u001b[0;32m---> 15\u001b[0m \u001b[38;5;28;01mdef\u001b[39;00m \u001b[38;5;21mdecode\u001b[39m(\u001b[38;5;28minput\u001b[39m, errors\u001b[38;5;241m=\u001b[39m\u001b[38;5;124m'\u001b[39m\u001b[38;5;124mstrict\u001b[39m\u001b[38;5;124m'\u001b[39m):\n\u001b[1;32m     16\u001b[0m     \u001b[38;5;28;01mreturn\u001b[39;00m codecs\u001b[38;5;241m.\u001b[39mutf_8_decode(\u001b[38;5;28minput\u001b[39m, errors, \u001b[38;5;28;01mTrue\u001b[39;00m)\n\u001b[1;32m     18\u001b[0m \u001b[38;5;28;01mclass\u001b[39;00m \u001b[38;5;21;01mIncrementalEncoder\u001b[39;00m(codecs\u001b[38;5;241m.\u001b[39mIncrementalEncoder):\n",
      "\u001b[0;31mKeyboardInterrupt\u001b[0m: "
     ]
    }
   ],
   "source": [
    "with conn.cursor() as cur:\n",
    "\n",
    "    start_time = time.time()\n",
    "    cur.execute(\"CREATE INDEX idx_l_returnflag_linestatus ON lineitem (l_returnflag, l_linestatus);\")\n",
    "    end_time = time.time()\n",
    "    print(f\"Time to create index on lineitem (l_returnflag, l_linestatus): {end_time - start_time} seconds\")\n",
    "\n",
    "    conn.commit()"
   ]
  },
  {
   "cell_type": "code",
   "execution_count": 12,
   "metadata": {},
   "outputs": [
    {
     "name": "stdout",
     "output_type": "stream",
     "text": [
      "Size of gin index on lineitem (l_returnflag, l_linestatus): 396.4609375 MB\n",
      "Size of gin index on lineitem (l_returnflag, l_linestatus): 0.38716888427734375 GB\n"
     ]
    }
   ],
   "source": [
    "with conn.cursor() as cur:\n",
    "\n",
    "    cur.execute(\"SELECT pg_relation_size('idx_l_returnflag_linestatus');\")\n",
    "    index_size = cur.fetchone()[0]\n",
    "    print(f\"Size of gin index on lineitem (l_returnflag, l_linestatus): {index_size/(1024**2)} MB\")\n",
    "    print(f\"Size of gin index on lineitem (l_returnflag, l_linestatus): {index_size/(1024**3)} GB\")"
   ]
  },
  {
   "cell_type": "code",
   "execution_count": 8,
   "metadata": {},
   "outputs": [
    {
     "name": "stdout",
     "output_type": "stream",
     "text": [
      "Finalize GroupAggregate  (cost=2299574.59..2299576.54 rows=6 width=236) (actual time=53554.178..53557.148 rows=4 loops=1)\n",
      "  Group Key: l_returnflag, l_linestatus\n",
      "  ->  Gather Merge  (cost=2299574.59..2299575.99 rows=12 width=236) (actual time=53554.137..53557.081 rows=12 loops=1)\n",
      "        Workers Planned: 2\n",
      "        Workers Launched: 2\n",
      "        ->  Sort  (cost=2298574.56..2298574.58 rows=6 width=236) (actual time=53488.994..53488.997 rows=4 loops=3)\n",
      "              Sort Key: l_returnflag, l_linestatus\n",
      "              Sort Method: quicksort  Memory: 27kB\n",
      "              Worker 0:  Sort Method: quicksort  Memory: 27kB\n",
      "              Worker 1:  Sort Method: quicksort  Memory: 27kB\n",
      "              ->  Partial HashAggregate  (cost=2298574.35..2298574.48 rows=6 width=236) (actual time=53488.926..53488.934 rows=4 loops=3)\n",
      "                    Group Key: l_returnflag, l_linestatus\n",
      "                    Batches: 1  Memory Usage: 24kB\n",
      "                    Worker 0:  Batches: 1  Memory Usage: 24kB\n",
      "                    Worker 1:  Batches: 1  Memory Usage: 24kB\n",
      "                    ->  Parallel Seq Scan on lineitem  (cost=0.00..1436970.35 rows=24617257 width=25) (actual time=0.736..19381.023 rows=19714203 loops=3)\n",
      "                          Filter: (l_shipdate <= '1998-09-02 00:00:00'::timestamp without time zone)\n",
      "                          Rows Removed by Filter: 281148\n",
      "Planning Time: 4.499 ms\n",
      "Execution Time: 53557.746 ms\n"
     ]
    }
   ],
   "source": [
    "conn.rollback()\n",
    "with conn.cursor() as cur:\n",
    "    cur.execute(\"SET enable_seqscan = on;\")\n",
    "    cur.execute(\"SET enable_indexscan = on;\")\n",
    "    cur.execute(\"SET enable_bitmapscan = on;\")\n",
    "    cur.execute(\"SET enable_indexonlyscan = off;\")\n",
    "    cur.execute(\"SET enable_tidscan = off;\")\n",
    "    cur.execute(\"SET enable_material = off;\")\n",
    "    cur.execute(\"SET enable_nestloop = off;\")\n",
    "    cur.execute(\"SET enable_mergejoin = off;\")\n",
    "    cur.execute(\"SET enable_hashjoin = on;\")\n",
    "    cur.execute(\"SET enable_sort = on;\")\n",
    "    conn.commit()\n",
    "\n",
    "explain_analyze(query_1)"
   ]
  },
  {
   "cell_type": "code",
   "execution_count": 6,
   "metadata": {},
   "outputs": [
    {
     "name": "stdout",
     "output_type": "stream",
     "text": [
      "Finalize GroupAggregate  (cost=2299574.59..2299576.54 rows=6 width=236) (actual time=53311.966..53313.894 rows=4 loops=1)\n",
      "  Group Key: l_returnflag, l_linestatus\n",
      "  ->  Gather Merge  (cost=2299574.59..2299575.99 rows=12 width=236) (actual time=53311.940..53313.849 rows=12 loops=1)\n",
      "        Workers Planned: 2\n",
      "        Workers Launched: 2\n",
      "        ->  Sort  (cost=2298574.56..2298574.58 rows=6 width=236) (actual time=53288.852..53288.858 rows=4 loops=3)\n",
      "              Sort Key: l_returnflag, l_linestatus\n",
      "              Sort Method: quicksort  Memory: 27kB\n",
      "              Worker 0:  Sort Method: quicksort  Memory: 27kB\n",
      "              Worker 1:  Sort Method: quicksort  Memory: 27kB\n",
      "              ->  Partial HashAggregate  (cost=2298574.35..2298574.48 rows=6 width=236) (actual time=53287.944..53287.952 rows=4 loops=3)\n",
      "                    Group Key: l_returnflag, l_linestatus\n",
      "                    Batches: 1  Memory Usage: 24kB\n",
      "                    Worker 0:  Batches: 1  Memory Usage: 24kB\n",
      "                    Worker 1:  Batches: 1  Memory Usage: 24kB\n",
      "                    ->  Parallel Seq Scan on lineitem  (cost=0.00..1436970.35 rows=24617257 width=25) (actual time=0.276..20102.933 rows=19714203 loops=3)\n",
      "                          Filter: (l_shipdate <= '1998-09-02 00:00:00'::timestamp without time zone)\n",
      "                          Rows Removed by Filter: 281148\n",
      "Planning Time: 18.243 ms\n",
      "Execution Time: 53316.779 ms\n"
     ]
    }
   ],
   "source": [
    "conn.rollback()\n",
    "with conn.cursor() as cur:\n",
    "    cur.execute(\"SET enable_seqscan = on;\")\n",
    "    cur.execute(\"SET enable_indexscan = on;\")\n",
    "    cur.execute(\"SET enable_bitmapscan = on;\")\n",
    "    cur.execute(\"SET enable_indexonlyscan = off;\")\n",
    "    cur.execute(\"SET enable_tidscan = off;\")\n",
    "    cur.execute(\"SET enable_material = off;\")\n",
    "    cur.execute(\"SET enable_nestloop = on;\")\n",
    "    cur.execute(\"SET enable_mergejoin = on;\")\n",
    "    cur.execute(\"SET enable_hashjoin = off;\")\n",
    "    cur.execute(\"SET enable_sort = on;\")\n",
    "    conn.commit()\n",
    "\n",
    "explain_analyze(query_1)"
   ]
  },
  {
   "cell_type": "code",
   "execution_count": 18,
   "metadata": {},
   "outputs": [
    {
     "name": "stdout",
     "output_type": "stream",
     "text": [
      "Time to create index on lineitem: 52.21028995513916 seconds\n"
     ]
    }
   ],
   "source": [
    "conn.rollback()\n",
    "with conn.cursor() as cur:\n",
    "\n",
    "    start_time = time.time()\n",
    "    cur.execute(\"CREATE INDEX idx_l_shipdate ON lineitem (l_shipdate);\")\n",
    "    end_time = time.time()\n",
    "    print(f\"Time to create index on lineitem: {end_time - start_time} seconds\")\n",
    "\n",
    "    conn.commit()"
   ]
  },
  {
   "cell_type": "code",
   "execution_count": 11,
   "metadata": {},
   "outputs": [
    {
     "name": "stdout",
     "output_type": "stream",
     "text": [
      "Size of gin index on lineitem (l_shipdate): 397.546875 MB\n",
      "Size of gin index on lineitem (l_shipdate): 0.3882293701171875 GB\n"
     ]
    }
   ],
   "source": [
    "with conn.cursor() as cur:\n",
    "\n",
    "    cur.execute(\"SELECT pg_relation_size('idx_l_shipdate');\")\n",
    "    index_size = cur.fetchone()[0]\n",
    "    print(f\"Size of gin index on lineitem (l_shipdate): {index_size/(1024**2)} MB\")\n",
    "    print(f\"Size of gin index on lineitem (l_shipdate): {index_size/(1024**3)} GB\")"
   ]
  },
  {
   "cell_type": "code",
   "execution_count": 9,
   "metadata": {},
   "outputs": [],
   "source": [
    "conn.rollback()\n",
    "with conn.cursor() as cur:\n",
    "    cur.execute(\"SET enable_seqscan = off;\")\n",
    "    cur.execute(\"SET enable_indexscan = on;\")\n",
    "    cur.execute(\"SET enable_bitmapscan = on;\")\n",
    "    cur.execute(\"SET enable_indexonlyscan = off;\")\n",
    "    cur.execute(\"SET enable_tidscan = off;\")\n",
    "    cur.execute(\"SET enable_material = off;\")\n",
    "    cur.execute(\"SET enable_nestloop = off;\")\n",
    "    cur.execute(\"SET enable_mergejoin = off;\")\n",
    "    cur.execute(\"SET enable_hashjoin = on;\")\n",
    "    cur.execute(\"SET enable_sort = on;\")\n",
    "    conn.commit()"
   ]
  },
  {
   "cell_type": "code",
   "execution_count": 10,
   "metadata": {},
   "outputs": [
    {
     "name": "stdout",
     "output_type": "stream",
     "text": [
      "Finalize GroupAggregate  (cost=2957794.83..2957796.79 rows=6 width=236) (actual time=49054.213..49072.826 rows=4 loops=1)\n",
      "  Group Key: l_returnflag, l_linestatus\n",
      "  ->  Gather Merge  (cost=2957794.83..2957796.23 rows=12 width=236) (actual time=49054.173..49072.770 rows=12 loops=1)\n",
      "        Workers Planned: 2\n",
      "        Workers Launched: 2\n",
      "        ->  Sort  (cost=2956794.81..2956794.82 rows=6 width=236) (actual time=49016.941..49016.946 rows=4 loops=3)\n",
      "              Sort Key: l_returnflag, l_linestatus\n",
      "              Sort Method: quicksort  Memory: 27kB\n",
      "              Worker 0:  Sort Method: quicksort  Memory: 27kB\n",
      "              Worker 1:  Sort Method: quicksort  Memory: 27kB\n",
      "              ->  Partial HashAggregate  (cost=2956794.60..2956794.73 rows=6 width=236) (actual time=49016.872..49016.881 rows=4 loops=3)\n",
      "                    Group Key: l_returnflag, l_linestatus\n",
      "                    Batches: 1  Memory Usage: 24kB\n",
      "                    Worker 0:  Batches: 1  Memory Usage: 24kB\n",
      "                    Worker 1:  Batches: 1  Memory Usage: 24kB\n",
      "                    ->  Parallel Bitmap Heap Scan on lineitem  (cost=658357.54..2095190.60 rows=24617257 width=25) (actual time=3222.205..19408.258 rows=19714203 loops=3)\n",
      "                          Recheck Cond: (l_shipdate <= '1998-09-02 00:00:00'::timestamp without time zone)\n",
      "                          Rows Removed by Index Recheck: 270331\n",
      "                          Heap Blocks: exact=11568 lossy=365134\n",
      "                          ->  Bitmap Index Scan on idx_l_shipdate  (cost=0.00..643587.18 rows=59081416 width=0) (actual time=3247.221..3247.222 rows=59142609 loops=1)\n",
      "                                Index Cond: (l_shipdate <= '1998-09-02 00:00:00'::timestamp without time zone)\n",
      "Planning Time: 2.870 ms\n",
      "Execution Time: 49073.115 ms\n"
     ]
    }
   ],
   "source": [
    "explain_analyze(query_1)"
   ]
  },
  {
   "cell_type": "markdown",
   "metadata": {},
   "source": [
    "### Disable hash aggregate"
   ]
  },
  {
   "cell_type": "code",
   "execution_count": 19,
   "metadata": {},
   "outputs": [],
   "source": [
    "conn.rollback()\n",
    "with conn.cursor() as cur:\n",
    "    cur.execute(\"SET enable_seqscan = off;\")\n",
    "    cur.execute(\"SET enable_indexscan = on;\")\n",
    "    cur.execute(\"SET enable_bitmapscan = on;\")\n",
    "    cur.execute(\"SET enable_indexonlyscan = off;\")\n",
    "    cur.execute(\"SET enable_tidscan = off;\")\n",
    "    cur.execute(\"SET enable_material = off;\")\n",
    "    cur.execute(\"SET enable_hashagg = off;\")\n",
    "    cur.execute(\"SET enable_nestloop = off;\")\n",
    "    cur.execute(\"SET enable_mergejoin = off;\")\n",
    "    cur.execute(\"SET enable_hashjoin = on;\")\n",
    "    cur.execute(\"SET enable_sort = on;\")\n",
    "    conn.commit()"
   ]
  },
  {
   "cell_type": "code",
   "execution_count": 20,
   "metadata": {},
   "outputs": [
    {
     "name": "stdout",
     "output_type": "stream",
     "text": [
      "Finalize GroupAggregate  (cost=6886663.57..7810032.42 rows=6 width=236) (actual time=144068.798..161691.701 rows=4 loops=1)\n",
      "  Group Key: l_returnflag, l_linestatus\n",
      "  ->  Gather Merge  (cost=6886663.57..7810031.86 rows=12 width=236) (actual time=143910.709..161691.319 rows=12 loops=1)\n",
      "        Workers Planned: 2\n",
      "        Workers Launched: 2\n",
      "        ->  Partial GroupAggregate  (cost=6885663.54..7809030.45 rows=6 width=236) (actual time=121862.243..142262.407 rows=4 loops=3)\n",
      "              Group Key: l_returnflag, l_linestatus\n",
      "              ->  Sort  (cost=6885663.54..6947221.33 rows=24623114 width=25) (actual time=115009.475..121910.610 rows=19714203 loops=3)\n",
      "                    Sort Key: l_returnflag, l_linestatus\n",
      "                    Sort Method: external merge  Disk: 723504kB\n",
      "                    Worker 0:  Sort Method: external merge  Disk: 712960kB\n",
      "                    Worker 1:  Sort Method: external merge  Disk: 716928kB\n",
      "                    ->  Parallel Bitmap Heap Scan on lineitem  (cost=658514.48..2095352.68 rows=24623114 width=25) (actual time=1733.482..75596.138 rows=19714203 loops=3)\n",
      "                          Recheck Cond: (l_shipdate <= '1998-09-02 00:00:00'::timestamp without time zone)\n",
      "                          Rows Removed by Index Recheck: 270340\n",
      "                          Heap Blocks: exact=11568 lossy=366257\n",
      "                          ->  Bitmap Index Scan on idx_l_shipdate  (cost=0.00..643740.61 rows=59095473 width=0) (actual time=1793.102..1793.102 rows=59142609 loops=1)\n",
      "                                Index Cond: (l_shipdate <= '1998-09-02 00:00:00'::timestamp without time zone)\n",
      "Planning Time: 9.588 ms\n",
      "Execution Time: 161761.522 ms\n"
     ]
    }
   ],
   "source": [
    "explain_analyze(query_1)"
   ]
  },
  {
   "cell_type": "code",
   "execution_count": 21,
   "metadata": {},
   "outputs": [],
   "source": [
    "conn.rollback()\n",
    "with conn.cursor() as cur:\n",
    "    cur.execute(\"SET enable_seqscan = off;\")\n",
    "    cur.execute(\"SET enable_indexscan = on;\")\n",
    "    cur.execute(\"SET enable_bitmapscan = off;\")\n",
    "    cur.execute(\"SET enable_indexonlyscan = on;\")\n",
    "    cur.execute(\"SET enable_tidscan = off;\")\n",
    "    cur.execute(\"SET enable_material = off;\")\n",
    "    cur.execute(\"SET enable_nestloop = off;\")\n",
    "    cur.execute(\"SET enable_mergejoin = off;\")\n",
    "    cur.execute(\"SET enable_hashjoin = on;\")\n",
    "    cur.execute(\"SET enable_sort = on;\")\n",
    "    conn.commit()"
   ]
  },
  {
   "cell_type": "code",
   "execution_count": 22,
   "metadata": {},
   "outputs": [
    {
     "name": "stdout",
     "output_type": "stream",
     "text": [
      "Finalize GroupAggregate  (cost=1000.59..124685817.11 rows=6 width=236) (actual time=107006.181..107006.254 rows=4 loops=1)\n",
      "  Group Key: l_returnflag, l_linestatus\n",
      "  ->  Gather Merge  (cost=1000.59..124685816.55 rows=12 width=236) (actual time=106929.952..107006.208 rows=10 loops=1)\n",
      "        Workers Planned: 2\n",
      "        Workers Launched: 2\n",
      "        ->  Partial GroupAggregate  (cost=0.56..124684815.15 rows=6 width=236) (actual time=19294.237..77704.922 rows=3 loops=3)\n",
      "              Group Key: l_returnflag, l_linestatus\n",
      "              ->  Parallel Index Scan using idx_l_returnflag_linestatus on lineitem  (cost=0.56..123823006.02 rows=24623114 width=25) (actual time=0.803..57590.155 rows=19714203 loops=3)\n",
      "                    Filter: (l_shipdate <= '1998-09-02 00:00:00'::timestamp without time zone)\n",
      "                    Rows Removed by Filter: 281148\n",
      "Planning Time: 2.877 ms\n",
      "Execution Time: 107006.392 ms\n"
     ]
    }
   ],
   "source": [
    "explain_analyze(query_1)"
   ]
  },
  {
   "cell_type": "markdown",
   "metadata": {},
   "source": [
    "At the end of the day, the index on (l_returnflag, l_linestatus) is not used for sorting nor grouping, so I would not use it. \n",
    "\n",
    "On the contrary we can see an improvement using an index on l_shipdate with a bitmapscan. if we used indexonlyscan we get worse results.\n",
    "\n",
    "What I would suggest is to keep the index on l_shipdate since it may help us also in query 14, even if it has low selectivity and probably it won't help much."
   ]
  },
  {
   "cell_type": "markdown",
   "metadata": {},
   "source": [
    "Validate and record the size of the table"
   ]
  },
  {
   "cell_type": "code",
   "execution_count": 9,
   "metadata": {},
   "outputs": [
    {
     "name": "stdout",
     "output_type": "stream",
     "text": [
      "First row: \n",
      " ('A', 'F', Decimal('377518399'), Decimal('566065727797.25'), Decimal('537759104278.0656'), Decimal('559276670892.116819'), Decimal('25.5009751030070973'), Decimal('38237.151008958546'), Decimal('0.05000657454024320463'), 14804077)\n",
      "Size of query_1 result table: 0.015625 MB\n"
     ]
    }
   ],
   "source": [
    "conn.rollback()\n",
    "with conn.cursor() as cur:\n",
    "    cur.execute(\"SET enable_seqscan = off;\")\n",
    "    cur.execute(\"SET enable_indexscan = on;\")\n",
    "    cur.execute(\"SET enable_bitmapscan = on;\")\n",
    "    cur.execute(\"SET enable_indexonlyscan = off;\")\n",
    "    cur.execute(\"SET enable_tidscan = off;\")\n",
    "    cur.execute(\"SET enable_material = off;\")\n",
    "    cur.execute(\"SET enable_nestloop = off;\")\n",
    "    cur.execute(\"SET enable_mergejoin = off;\")\n",
    "    cur.execute(\"SET enable_hashjoin = on;\")\n",
    "    cur.execute(\"SET enable_sort = on;\")\n",
    "    conn.commit()\n",
    "    \n",
    "with conn.cursor() as cur:\n",
    "    \n",
    "    cur.execute(f\"CREATE TEMP TABLE temp_result AS {query_1};\")\n",
    "    cur.execute(\"SELECT * FROM temp_result;\")\n",
    "    result = cur.fetchone()\n",
    "    print(f\"First row: \\n {result}\")\n",
    "    cur.execute(\"SELECT pg_total_relation_size('temp_result');\")\n",
    "    size = cur.fetchall()\n",
    "    print(f\"Size of query_1 result table: {size[0][0]/(1024**2)} MB\")\n",
    "    cur.execute(\"DROP TABLE temp_result;\")"
   ]
  },
  {
   "cell_type": "code",
   "execution_count": null,
   "metadata": {},
   "outputs": [],
   "source": []
  },
  {
   "cell_type": "code",
   "execution_count": 11,
   "metadata": {},
   "outputs": [
    {
     "name": "stdout",
     "output_type": "stream",
     "text": [
      "Time to create gin index on lineitem (l_shipdate): 70.45620393753052 seconds\n"
     ]
    }
   ],
   "source": [
    "# l_shipdate has selectivity of 90/(6*12*365) = 0,003424657534 , so an index may be useful, \n",
    "# but since we have <=, an hash index can't be used. \n",
    "# we may use an inverted list\n",
    "\n",
    "# tried with btree_gin extension, but it gave worse results\n",
    "\n",
    "\"\"\"\n",
    "conn.rollback()\n",
    "with conn.cursor() as cur:\n",
    "    cur.execute(\"CREATE EXTENSION IF NOT EXISTS btree_gin;\")\n",
    "    cur.execute(\"CREATE INDEX idx_lineitem_shipdate ON lineitem USING gin (l_shipdate);\")\n",
    "\n",
    "\"\"\"\n",
    "# we may try to put an index also on (l_returnflag, l_linestatus) since they are used in the GROUP BY and ORDER BY clauses"
   ]
  },
  {
   "cell_type": "markdown",
   "metadata": {},
   "source": [
    "## Query 10"
   ]
  },
  {
   "cell_type": "code",
   "execution_count": 4,
   "metadata": {},
   "outputs": [],
   "source": [
    "query_10 = \"\"\"\n",
    "SELECT\n",
    "    c_custkey,\n",
    "    c_name,\n",
    "    SUM(l_extendedprice * (1 - l_discount)) AS revenue,\n",
    "    c_acctbal,\n",
    "    n_name,\n",
    "    c_address,\n",
    "    c_phone,\n",
    "    c_comment\n",
    "FROM\n",
    "    customer,\n",
    "    orders,\n",
    "    lineitem,\n",
    "    nation\n",
    "WHERE\n",
    "    c_custkey = o_custkey\n",
    "    AND l_orderkey = o_orderkey\n",
    "    AND o_orderdate >= DATE '1993-10-01'\n",
    "    AND o_orderdate < DATE '1993-10-01' + INTERVAL '3' MONTH\n",
    "    AND l_returnflag = 'R'\n",
    "    AND c_nationkey = n_nationkey\n",
    "GROUP BY\n",
    "    c_custkey,\n",
    "    c_name,\n",
    "    c_acctbal,\n",
    "    c_phone,\n",
    "    n_name,\n",
    "    c_address,\n",
    "    c_comment\n",
    "ORDER BY\n",
    "    revenue DESC;\n",
    "\"\"\""
   ]
  },
  {
   "cell_type": "code",
   "execution_count": 7,
   "metadata": {},
   "outputs": [],
   "source": [
    "conn.rollback()\n",
    "with conn.cursor() as cur:\n",
    "        cur.execute(\"SET enable_seqscan = on;\")\n",
    "        cur.execute(\"SET enable_indexscan = on;\")\n",
    "        cur.execute(\"SET enable_bitmapscan = on;\")\n",
    "        cur.execute(\"SET enable_indexonlyscan = off;\")\n",
    "        cur.execute(\"SET enable_tidscan = off;\")\n",
    "        cur.execute(\"SET enable_material = off;\")\n",
    "        cur.execute(\"SET enable_nestloop = on;\")\n",
    "        cur.execute(\"SET enable_mergejoin = on;\")\n",
    "        cur.execute(\"SET enable_hashjoin = off;\")\n",
    "        cur.execute(\"SET enable_sort = on;\")\n",
    "        cur.execute(\"SET enable_partition_pruning = on;\")\n",
    "        cur.execute(\"SET enable_partitionwise_join = on;\")\n",
    "        cur.execute(\"SET enable_partitionwise_aggregate = on;\")\n",
    "        cur.execute(\"SET constraint_exclusion = on;\")\n",
    "        conn.commit()"
   ]
  },
  {
   "cell_type": "code",
   "execution_count": 8,
   "metadata": {},
   "outputs": [
    {
     "name": "stdout",
     "output_type": "stream",
     "text": [
      "Sort  (cost=2544883643.29..2544977393.29 rows=37500000 width=280) (actual time=52371.910..52615.929 rows=176881 loops=1)\n",
      "  Sort Key: (sum((lineitem.l_extendedprice * ('1'::numeric - lineitem.l_discount)))) DESC\n",
      "  Sort Method: external merge  Disk: 32984kB\n",
      "  ->  Finalize GroupAggregate  (cost=1773793457.01..2525554249.68 rows=37500000 width=280) (actual time=48448.554..51959.672 rows=176881 loops=1)\n",
      "        Group Key: customer.c_custkey, nation.n_name\n",
      "        ->  Gather Merge  (cost=1773793457.01..2524335499.68 rows=75000000 width=280) (actual time=48446.113..51291.502 rows=260762 loops=1)\n",
      "              Workers Planned: 2\n",
      "              Workers Launched: 2\n",
      "              ->  Partial GroupAggregate  (cost=1773792456.99..2515677638.71 rows=37500000 width=280) (actual time=46022.662..48067.614 rows=86921 loops=3)\n",
      "                    Group Key: customer.c_custkey, nation.n_name\n",
      "                    ->  Incremental Sort  (cost=1773792456.99..2427730913.60 rows=6998238009 width=260) (actual time=46021.465..47621.212 rows=152952 loops=3)\n",
      "                          Sort Key: customer.c_custkey, nation.n_name\n",
      "                          Presorted Key: customer.c_custkey\n",
      "                          Full-sort Groups: 8104  Sort Method: quicksort  Average Memory: 31kB  Peak Memory: 31kB\n",
      "                          Worker 0:  Full-sort Groups: 5296  Sort Method: quicksort  Average Memory: 31kB  Peak Memory: 31kB\n",
      "                          Worker 1:  Full-sort Groups: 640  Sort Method: quicksort  Average Memory: 31kB  Peak Memory: 31kB\n",
      "                          ->  Merge Join  (cost=1773792079.37..1913756839.55 rows=6998238009 width=260) (actual time=46017.634..47455.847 rows=152952 loops=3)\n",
      "                                Merge Cond: (orders.o_custkey = customer.c_custkey)\n",
      "                                ->  Sort  (cost=1773202019.99..1790697615.01 rows=6998238009 width=16) (actual time=32123.515..32197.505 rows=152952 loops=3)\n",
      "                                      Sort Key: orders.o_custkey\n",
      "                                      Sort Method: external merge  Disk: 7168kB\n",
      "                                      Worker 0:  Sort Method: external merge  Disk: 4656kB\n",
      "                                      Worker 1:  Sort Method: quicksort  Memory: 1693kB\n",
      "                                      ->  Nested Loop  (cost=0.42..30844095.81 rows=6998238009 width=16) (actual time=18413.925..31952.348 rows=152952 loops=3)\n",
      "                                            ->  Parallel Append  (cost=0.00..1453757.41 rows=6106592 width=16) (actual time=2072.317..15398.888 rows=4887794 loops=3)\n",
      "                                                  ->  Parallel Seq Scan on lineitem_m7_m9_y1994 lineitem_11  (cost=0.00..54570.43 rows=477796 width=16) (actual time=0.374..1443.200 rows=1139230 loops=1)\n",
      "                                                        Filter: (l_returnflag = 'R'::bpchar)\n",
      "                                                        Rows Removed by Filter: 1138549\n",
      "                                                  ->  Parallel Seq Scan on lineitem_m7_m9_y1997 lineitem_23  (cost=0.00..54497.46 rows=1 width=16) (actual time=1528.117..1528.117 rows=0 loops=1)\n",
      "                                                        Filter: (l_returnflag = 'R'::bpchar)\n",
      "                                                        Rows Removed by Filter: 2275096\n",
      "                                                  ->  Parallel Seq Scan on lineitem_m10_m12_y1996 lineitem_20  (cost=0.00..54467.44 rows=1 width=16) (actual time=1311.744..1311.744 rows=0 loops=1)\n",
      "                                                        Filter: (l_returnflag = 'R'::bpchar)\n",
      "                                                        Rows Removed by Filter: 2273748\n",
      "                                                  ->  Parallel Seq Scan on lineitem_m10_m12_y1997 lineitem_24  (cost=0.00..54456.06 rows=1 width=16) (actual time=1510.797..1510.797 rows=0 loops=1)\n",
      "                                                        Filter: (l_returnflag = 'R'::bpchar)\n",
      "                                                        Rows Removed by Filter: 2273292\n",
      "                                                  ->  Parallel Seq Scan on lineitem_m7_m9_y1993 lineitem_7  (cost=0.00..54436.93 rows=474826 width=16) (actual time=0.575..1918.003 rows=1135508 loops=1)\n",
      "                                                        Filter: (l_returnflag = 'R'::bpchar)\n",
      "                                                        Rows Removed by Filter: 1136991\n",
      "                                                  ->  Parallel Seq Scan on lineitem_m7_m9_y1995 lineitem_15  (cost=0.00..54431.77 rows=1 width=16) (actual time=1538.786..1538.786 rows=0 loops=1)\n",
      "                                                        Filter: (l_returnflag = 'R'::bpchar)\n",
      "                                                        Rows Removed by Filter: 2272275\n",
      "                                                  ->  Parallel Seq Scan on lineitem_m10_m12_y1994 lineitem_12  (cost=0.00..54422.94 rows=474990 width=16) (actual time=0.595..2006.443 rows=1136761 loops=1)\n",
      "                                                        Filter: (l_returnflag = 'R'::bpchar)\n",
      "                                                        Rows Removed by Filter: 1135163\n",
      "                                                  ->  Parallel Seq Scan on lineitem_m10_m12_y1992 lineitem_4  (cost=0.00..54408.93 rows=471904 width=16) (actual time=1.059..1952.536 rows=1135037 loops=1)\n",
      "                                                        Filter: (l_returnflag = 'R'::bpchar)\n",
      "                                                        Rows Removed by Filter: 1136310\n",
      "                                                  ->  Parallel Seq Scan on lineitem_m7_m9_y1996 lineitem_19  (cost=0.00..54407.44 rows=1 width=16) (actual time=1627.306..1627.307 rows=0 loops=1)\n",
      "                                                        Filter: (l_returnflag = 'R'::bpchar)\n",
      "                                                        Rows Removed by Filter: 2271253\n",
      "                                                  ->  Parallel Seq Scan on lineitem_m7_m9_y1992 lineitem_3  (cost=0.00..54369.14 rows=473152 width=16) (actual time=0.779..1897.727 rows=1134064 loops=1)\n",
      "                                                        Filter: (l_returnflag = 'R'::bpchar)\n",
      "                                                        Rows Removed by Filter: 1135403\n",
      "                                                  ->  Parallel Seq Scan on lineitem_m10_m12_y1995 lineitem_16  (cost=0.00..54363.56 rows=1 width=16) (actual time=1571.004..1571.004 rows=0 loops=1)\n",
      "                                                        Filter: (l_returnflag = 'R'::bpchar)\n",
      "                                                        Rows Removed by Filter: 2269547\n",
      "                                                  ->  Parallel Seq Scan on lineitem_m10_m12_y1993 lineitem_8  (cost=0.00..54320.79 rows=470785 width=16) (actual time=0.680..1946.414 rows=1133588 loops=1)\n",
      "                                                        Filter: (l_returnflag = 'R'::bpchar)\n",
      "                                                        Rows Removed by Filter: 1133891\n",
      "                                                  ->  Parallel Seq Scan on lineitem_m4_m6_y1997 lineitem_22  (cost=0.00..53952.35 rows=1 width=16) (actual time=1270.466..1270.466 rows=0 loops=1)\n",
      "                                                        Filter: (l_returnflag = 'R'::bpchar)\n",
      "                                                        Rows Removed by Filter: 2252227\n",
      "                                                  ->  Parallel Seq Scan on lineitem_m4_m6_y1995 lineitem_14  (cost=0.00..53898.27 rows=318018 width=16) (actual time=0.410..1803.586 rows=774897 loops=1)\n",
      "                                                        Filter: (l_returnflag = 'R'::bpchar)\n",
      "                                                        Rows Removed by Filter: 1475011\n",
      "                                                  ->  Parallel Seq Scan on lineitem_m4_m6_y1993 lineitem_6  (cost=0.00..53799.65 rows=469300 width=16) (actual time=0.539..1831.275 rows=1122378 loops=1)\n",
      "                                                        Filter: (l_returnflag = 'R'::bpchar)\n",
      "                                                        Rows Removed by Filter: 1123378\n",
      "                                                  ->  Parallel Seq Scan on lineitem_m4_m6_y1996 lineitem_18  (cost=0.00..53767.84 rows=1 width=16) (actual time=1453.077..1453.077 rows=0 loops=1)\n",
      "                                                        Filter: (l_returnflag = 'R'::bpchar)\n",
      "                                                        Rows Removed by Filter: 2244450\n",
      "                                                  ->  Parallel Seq Scan on lineitem_m4_m6_y1994 lineitem_10  (cost=0.00..53763.84 rows=468520 width=16) (actual time=0.378..700.584 rows=374253 loops=3)\n",
      "                                                        Filter: (l_returnflag = 'R'::bpchar)\n",
      "                                                        Rows Removed by Filter: 373833\n",
      "                                                  ->  Parallel Seq Scan on lineitem_m1_m3_y1996 lineitem_17  (cost=0.00..53749.88 rows=1 width=16) (actual time=852.869..852.869 rows=0 loops=2)\n",
      "                                                        Filter: (l_returnflag = 'R'::bpchar)\n",
      "                                                        Rows Removed by Filter: 1121844\n",
      "                                                  ->  Parallel Seq Scan on lineitem_m4_m6_y1998 lineitem_26  (cost=0.00..53688.52 rows=1 width=16) (actual time=1442.032..1442.032 rows=0 loops=1)\n",
      "                                                        Filter: (l_returnflag = 'R'::bpchar)\n",
      "                                                        Rows Removed by Filter: 2241315\n",
      "                                                  ->  Parallel Seq Scan on lineitem_m1_m3_y1995 lineitem_13  (cost=0.00..53378.49 rows=465520 width=16) (actual time=0.212..1789.924 rows=1114547 loops=1)\n",
      "                                                        Filter: (l_returnflag = 'R'::bpchar)\n",
      "                                                        Rows Removed by Filter: 1113708\n",
      "                                                  ->  Parallel Seq Scan on lineitem_m1_m3_y1993 lineitem_5  (cost=0.00..53306.88 rows=462204 width=16) (actual time=0.314..1862.177 rows=1112107 loops=1)\n",
      "                                                        Filter: (l_returnflag = 'R'::bpchar)\n",
      "                                                        Rows Removed by Filter: 1113149\n",
      "                                                  ->  Parallel Seq Scan on lineitem_m1_m3_y1997 lineitem_21  (cost=0.00..53281.86 rows=1 width=16) (actual time=1266.671..1266.671 rows=0 loops=1)\n",
      "                                                        Filter: (l_returnflag = 'R'::bpchar)\n",
      "                                                        Rows Removed by Filter: 2224293\n",
      "                                                  ->  Parallel Seq Scan on lineitem_m1_m3_y1994 lineitem_9  (cost=0.00..53238.02 rows=463751 width=16) (actual time=0.274..1879.388 rows=1110893 loops=1)\n",
      "                                                        Filter: (l_returnflag = 'R'::bpchar)\n",
      "                                                        Rows Removed by Filter: 1111702\n",
      "                                                  ->  Parallel Seq Scan on lineitem_m1_m3_y1998 lineitem_25  (cost=0.00..53235.84 rows=1 width=16) (actual time=1593.607..1593.607 rows=0 loops=1)\n",
      "                                                        Filter: (l_returnflag = 'R'::bpchar)\n",
      "                                                        Rows Removed by Filter: 2222178\n",
      "                                                  ->  Parallel Seq Scan on lineitem_m4_m6_y1992 lineitem_2  (cost=0.00..51438.88 rows=441062 width=16) (actual time=0.453..1852.892 rows=1074394 loops=1)\n",
      "                                                        Filter: (l_returnflag = 'R'::bpchar)\n",
      "                                                        Rows Removed by Filter: 1072910\n",
      "                                                  ->  Parallel Seq Scan on lineitem_m7_m9_y1998 lineitem_27  (cost=0.00..46019.17 rows=1 width=16) (actual time=1220.993..1220.993 rows=0 loops=1)\n",
      "                                                        Filter: (l_returnflag = 'R'::bpchar)\n",
      "                                                        Rows Removed by Filter: 1920993\n",
      "                                                  ->  Parallel Seq Scan on lineitem_m1_m3_y1992 lineitem_1  (cost=0.00..19989.15 rows=174750 width=16) (actual time=0.344..521.530 rows=417219 loops=1)\n",
      "                                                        Filter: (l_returnflag = 'R'::bpchar)\n",
      "                                                        Rows Removed by Filter: 417241\n",
      "                                                  ->  Parallel Seq Scan on lineitem_m10_m12_y1998 lineitem_28  (cost=0.00..9562.93 rows=1 width=16) (actual time=326.179..326.179 rows=0 loops=1)\n",
      "                                                        Filter: (l_returnflag = 'R'::bpchar)\n",
      "                                                        Rows Removed by Filter: 399155\n",
      "                                            ->  Index Scan using orders_m10_m12_y1993_pkey on orders_m10_m12_y1993 orders  (cost=0.42..4.80 rows=1 width=8) (actual time=0.003..0.003 rows=0 loops=14663381)\n",
      "                                                  Index Cond: (o_orderkey = lineitem.l_orderkey)\n",
      "                                                  Filter: ((o_orderdate >= '1993-10-01'::date) AND (o_orderdate < '1994-01-01 00:00:00'::timestamp without time zone))\n",
      "                                ->  Sort  (cost=590059.38..593809.38 rows=1500000 width=248) (actual time=13894.055..14826.954 rows=1566008 loops=3)\n",
      "                                      Sort Key: customer.c_custkey\n",
      "                                      Sort Method: external sort  Disk: 272016kB\n",
      "                                      Worker 0:  Sort Method: external sort  Disk: 271992kB\n",
      "                                      Worker 1:  Sort Method: external sort  Disk: 272016kB\n",
      "                                      ->  Nested Loop  (cost=0.15..87550.39 rows=1500000 width=248) (actual time=0.701..4733.508 rows=1500000 loops=3)\n",
      "                                            ->  Seq Scan on customer  (cost=0.00..50827.00 rows=1500000 width=148) (actual time=0.472..2673.785 rows=1500000 loops=3)\n",
      "                                            ->  Memoize  (cost=0.15..2.17 rows=1 width=108) (actual time=0.001..0.001 rows=1 loops=4500000)\n",
      "                                                  Cache Key: customer.c_nationkey\n",
      "                                                  Cache Mode: logical\n",
      "                                                  Hits: 1499975  Misses: 25  Evictions: 0  Overflows: 0  Memory Usage: 4kB\n",
      "                                                  Worker 0:  Hits: 1499975  Misses: 25  Evictions: 0  Overflows: 0  Memory Usage: 4kB\n",
      "                                                  Worker 1:  Hits: 1499975  Misses: 25  Evictions: 0  Overflows: 0  Memory Usage: 4kB\n",
      "                                                  ->  Index Scan using nation_pkey on nation  (cost=0.14..2.16 rows=1 width=108) (actual time=0.010..0.010 rows=1 loops=75)\n",
      "                                                        Index Cond: (n_nationkey = customer.c_nationkey)\n",
      "Planning Time: 1.847 ms\n",
      "Execution Time: 52691.688 ms\n"
     ]
    }
   ],
   "source": [
    "explain_analyze(query_10, analyze=True)"
   ]
  },
  {
   "cell_type": "code",
   "execution_count": 7,
   "metadata": {},
   "outputs": [],
   "source": [
    "with conn.cursor() as cur:\n",
    "    cur.execute(\"SET enable_seqscan = off;\")\n",
    "    cur.execute(\"SET enable_indexscan = on;\")\n",
    "    cur.execute(\"SET enable_bitmapscan = on;\")\n",
    "    cur.execute(\"SET enable_indexonlyscan = off;\")\n",
    "    cur.execute(\"SET enable_tidscan = off;\")\n",
    "    cur.execute(\"SET enable_material = off;\")\n",
    "    cur.execute(\"SET enable_nestloop = on;\")\n",
    "    cur.execute(\"SET enable_mergejoin = on;\")\n",
    "    cur.execute(\"SET enable_hashjoin = on;\")\n",
    "    cur.execute(\"SET enable_sort = on;\")\n",
    "    conn.commit()"
   ]
  },
  {
   "cell_type": "code",
   "execution_count": 8,
   "metadata": {},
   "outputs": [
    {
     "name": "stdout",
     "output_type": "stream",
     "text": [
      "Sort  (cost=2655567.02..2656919.30 rows=540913 width=279) (actual time=41879.185..42004.789 rows=381105 loops=1)\n",
      "  Sort Key: (sum((lineitem.l_extendedprice * ('1'::numeric - lineitem.l_discount)))) DESC\n",
      "  Sort Method: external merge  Disk: 71032kB\n",
      "  ->  Finalize GroupAggregate  (cost=2296819.47..2463547.48 rows=540913 width=279) (actual time=39346.447..41312.665 rows=381105 loops=1)\n",
      "        Group Key: customer.c_custkey, nation.n_name\n",
      "        ->  Gather Merge  (cost=2296819.47..2452278.46 rows=450760 width=279) (actual time=39346.397..40837.657 rows=453770 loops=1)\n",
      "              Workers Planned: 2\n",
      "              Workers Launched: 2\n",
      "              ->  Partial GroupAggregate  (cost=2295819.45..2399249.55 rows=225380 width=279) (actual time=39336.334..40734.674 rows=151257 loops=3)\n",
      "                    Group Key: customer.c_custkey, nation.n_name\n",
      "                    ->  Incremental Sort  (cost=2295819.45..2393615.05 rows=225380 width=259) (actual time=39336.290..40402.003 rows=382361 loops=3)\n",
      "                          Sort Key: customer.c_custkey, nation.n_name\n",
      "                          Presorted Key: customer.c_custkey\n",
      "                          Full-sort Groups: 11509  Sort Method: quicksort  Average Memory: 32kB  Peak Memory: 32kB\n",
      "                          Worker 0:  Full-sort Groups: 11572  Sort Method: quicksort  Average Memory: 32kB  Peak Memory: 32kB\n",
      "                          Worker 1:  Full-sort Groups: 11466  Sort Method: quicksort  Average Memory: 31kB  Peak Memory: 31kB\n",
      "                          ->  Nested Loop  (cost=2295819.05..2383472.95 rows=225380 width=259) (actual time=39335.673..40225.451 rows=382361 loops=3)\n",
      "                                ->  Merge Join  (cost=2295818.89..2377740.13 rows=225380 width=159) (actual time=39335.243..40036.535 rows=382361 loops=3)\n",
      "                                      Merge Cond: (orders.o_custkey = customer.c_custkey)\n",
      "                                      ->  Sort  (cost=2295818.35..2296381.80 rows=225380 width=16) (actual time=39334.217..39391.539 rows=382361 loops=3)\n",
      "                                            Sort Key: orders.o_custkey\n",
      "                                            Sort Method: external merge  Disk: 10312kB\n",
      "                                            Worker 0:  Sort Method: external merge  Disk: 10368kB\n",
      "                                            Worker 1:  Sort Method: external merge  Disk: 10272kB\n",
      "                                            ->  Parallel Hash Join  (cost=763919.98..2271926.31 rows=225380 width=16) (actual time=38027.909..39091.313 rows=382361 loops=3)\n",
      "                                                  Hash Cond: (lineitem.l_orderkey = orders.o_orderkey)\n",
      "                                                  ->  Parallel Bitmap Heap Scan on lineitem  (cost=166036.70..1596166.45 rows=6213555 width=16) (actual time=826.391..28961.737 rows=4936061 loops=3)\n",
      "                                                        Recheck Cond: (l_returnflag = 'R'::bpchar)\n",
      "                                                        Rows Removed by Index Recheck: 14537774\n",
      "                                                        Heap Blocks: exact=12767 lossy=362250\n",
      "                                                        ->  Bitmap Index Scan on idx_l_returnflag_linestatus  (cost=0.00..162308.56 rows=14912533 width=0) (actual time=814.170..814.183 rows=14808183 loops=1)\n",
      "                                                              Index Cond: (l_returnflag = 'R'::bpchar)\n",
      "                                                  ->  Parallel Hash  (cost=594163.87..594163.87 rows=226673 width=8) (actual time=7511.955..7511.959 rows=191052 loops=3)\n",
      "                                                        Buckets: 262144  Batches: 4  Memory Usage: 7712kB\n",
      "                                                        ->  Parallel Index Scan using orders_pkey on orders  (cost=0.43..594163.87 rows=226673 width=8) (actual time=0.405..7214.554 rows=191052 loops=3)\n",
      "                                                              Filter: ((o_orderdate >= '1993-10-01'::date) AND (o_orderdate < '1994-01-01 00:00:00'::timestamp without time zone))\n",
      "                                                              Rows Removed by Filter: 4808948\n",
      "                                      ->  Index Scan using customer_pkey on customer  (cost=0.43..74791.09 rows=1500044 width=147) (actual time=0.985..409.724 rows=1499986 loops=3)\n",
      "                                ->  Memoize  (cost=0.15..4.57 rows=1 width=108) (actual time=0.000..0.000 rows=1 loops=1147084)\n",
      "                                      Cache Key: customer.c_nationkey\n",
      "                                      Cache Mode: logical\n",
      "                                      Hits: 382161  Misses: 25  Evictions: 0  Overflows: 0  Memory Usage: 4kB\n",
      "                                      Worker 0:  Hits: 384189  Misses: 25  Evictions: 0  Overflows: 0  Memory Usage: 4kB\n",
      "                                      Worker 1:  Hits: 380659  Misses: 25  Evictions: 0  Overflows: 0  Memory Usage: 4kB\n",
      "                                      ->  Index Scan using nation_pkey on nation  (cost=0.14..4.56 rows=1 width=108) (actual time=0.017..0.017 rows=1 loops=75)\n",
      "                                            Index Cond: (n_nationkey = customer.c_nationkey)\n",
      "Planning Time: 0.907 ms\n",
      "Execution Time: 42040.602 ms\n"
     ]
    }
   ],
   "source": [
    "explain_analyze(query_10)"
   ]
  },
  {
   "cell_type": "markdown",
   "metadata": {},
   "source": [
    "It is interesting to note that it leverages an index on l_returnflag because we have an index on (l_returnflag, l_linestatus). but it may be dropped, sooo."
   ]
  },
  {
   "cell_type": "markdown",
   "metadata": {},
   "source": [
    "Validate and record the size of the table"
   ]
  },
  {
   "cell_type": "code",
   "execution_count": 9,
   "metadata": {},
   "outputs": [
    {
     "name": "stdout",
     "output_type": "stream",
     "text": [
      "First row: \n",
      " (1237537, 'Customer#001237537', Decimal('884989.6657'), Decimal('7840.17'), 'RUSSIA                   ', 'FNG6WgB1mopyyY,ajQTU qUPW5o', '32-367-120-4327', 'nag carefully about the regular packages. carefully reg')\n",
      "Size of query_10 result table: 78.5078125 MB\n"
     ]
    }
   ],
   "source": [
    "with conn.cursor() as cur:\n",
    "    \n",
    "    cur.execute(f\"CREATE TEMP TABLE temp_result AS {query_10};\")\n",
    "    cur.execute(\"SELECT * FROM temp_result;\")\n",
    "    result = cur.fetchone()\n",
    "    print(f\"First row: \\n {result}\")\n",
    "    cur.execute(\"SELECT pg_total_relation_size('temp_result');\")\n",
    "    size = cur.fetchall()\n",
    "    print(f\"Size of query_10 result table: {size[0][0]/(1024**2)} MB\")\n",
    "    cur.execute(\"DROP TABLE temp_result;\")"
   ]
  },
  {
   "cell_type": "markdown",
   "metadata": {},
   "source": [
    "## Query 14"
   ]
  },
  {
   "cell_type": "code",
   "execution_count": 8,
   "metadata": {},
   "outputs": [],
   "source": [
    "query_14 = \"\"\"\n",
    "SELECT\n",
    "    100.00 * SUM(CASE\n",
    "        WHEN p_type LIKE 'PROMO%'\n",
    "        THEN l_extendedprice * (1 - l_discount)\n",
    "        ELSE 0\n",
    "    END) / SUM(l_extendedprice * (1 - l_discount)) AS promo_revenue\n",
    "FROM\n",
    "    lineitem,\n",
    "    part\n",
    "WHERE\n",
    "    l_partkey = p_partkey\n",
    "    AND l_shipdate >= DATE '1995-09-01'\n",
    "    AND l_shipdate < DATE '1995-09-01' + INTERVAL '1' MONTH;\n",
    "\n",
    "\"\"\""
   ]
  },
  {
   "cell_type": "markdown",
   "metadata": {},
   "source": [
    "shipdate is not selective, so a sequential scan for that will be ok\n",
    "we can optimise the join with the indexes. we know we have a btree index in both l_partkey, p_partkey"
   ]
  },
  {
   "cell_type": "code",
   "execution_count": 9,
   "metadata": {},
   "outputs": [],
   "source": [
    "conn.rollback()\n",
    "with conn.cursor() as cur:\n",
    "        cur.execute(\"SET enable_seqscan = on;\")\n",
    "        cur.execute(\"SET enable_indexscan = on;\")\n",
    "        cur.execute(\"SET enable_bitmapscan = on;\")\n",
    "        cur.execute(\"SET enable_indexonlyscan = off;\")\n",
    "        cur.execute(\"SET enable_tidscan = off;\")\n",
    "        cur.execute(\"SET enable_material = off;\")\n",
    "        cur.execute(\"SET enable_nestloop = on;\")\n",
    "        cur.execute(\"SET enable_mergejoin = on;\")\n",
    "        cur.execute(\"SET enable_hashjoin = off;\")\n",
    "        cur.execute(\"SET enable_sort = on;\")\n",
    "        cur.execute(\"SET enable_partition_pruning = on;\")\n",
    "        cur.execute(\"SET enable_partitionwise_join = on;\")\n",
    "        cur.execute(\"SET enable_partitionwise_aggregate = on;\")\n",
    "        cur.execute(\"SET constraint_exclusion = on;\")\n",
    "        conn.commit()"
   ]
  },
  {
   "cell_type": "code",
   "execution_count": 11,
   "metadata": {},
   "outputs": [
    {
     "name": "stdout",
     "output_type": "stream",
     "text": [
      "Finalize Aggregate  (cost=257476.27..257476.28 rows=1 width=32) (actual time=3483.953..3494.472 rows=1 loops=1)\n",
      "  ->  Gather  (cost=257476.03..257476.24 rows=2 width=64) (actual time=3477.742..3494.442 rows=3 loops=1)\n",
      "        Workers Planned: 2\n",
      "        Workers Launched: 2\n",
      "        ->  Partial Aggregate  (cost=256476.03..256476.04 rows=1 width=64) (actual time=3348.443..3348.445 rows=1 loops=3)\n",
      "              ->  Merge Join  (cost=161026.97..251106.68 rows=306820 width=33) (actual time=1843.861..3162.494 rows=247583 loops=3)\n",
      "                    Merge Cond: (part.p_partkey = lineitem.l_partkey)\n",
      "                    ->  Parallel Index Scan using part_pkey on part  (cost=0.43..81246.76 rows=833333 width=25) (actual time=0.572..966.667 rows=666665 loops=3)\n",
      "                    ->  Sort  (cost=161026.54..162867.46 rows=736369 width=16) (actual time=1843.230..1980.447 rows=742662 loops=3)\n",
      "                          Sort Key: lineitem.l_partkey\n",
      "                          Sort Method: external sort  Disk: 23984kB\n",
      "                          Worker 0:  Sort Method: external sort  Disk: 23984kB\n",
      "                          Worker 1:  Sort Method: external sort  Disk: 23992kB\n",
      "                          ->  Seq Scan on lineitem_m7_m9_y1995 lineitem  (cost=0.00..76681.12 rows=736369 width=16) (actual time=0.248..1167.761 rows=742749 loops=3)\n",
      "                                Filter: ((l_shipdate >= '1995-09-01'::date) AND (l_shipdate < '1995-10-01 00:00:00'::timestamp without time zone))\n",
      "                                Rows Removed by Filter: 1529526\n",
      "Planning Time: 0.202 ms\n",
      "Execution Time: 3498.692 ms\n"
     ]
    }
   ],
   "source": [
    "explain_analyze(query_14)"
   ]
  },
  {
   "cell_type": "markdown",
   "metadata": {},
   "source": [
    "Takes a lot of time. after 45 minutes i quit."
   ]
  },
  {
   "cell_type": "markdown",
   "metadata": {},
   "source": [
    "Let's try to not use the indexes but only hash join."
   ]
  },
  {
   "cell_type": "code",
   "execution_count": 46,
   "metadata": {},
   "outputs": [],
   "source": [
    "conn.rollback()\n",
    "with conn.cursor() as cur:\n",
    "    cur.execute(\"SET enable_seqscan = on;\")\n",
    "    cur.execute(\"SET enable_indexscan = on;\")\n",
    "    cur.execute(\"SET enable_bitmapscan = on;\")\n",
    "    cur.execute(\"SET enable_indexonlyscan = off;\")\n",
    "    cur.execute(\"SET enable_nestloop = on;\")\n",
    "    cur.execute(\"SET enable_mergejoin = on;\")\n",
    "    cur.execute(\"SET enable_hashjoin = on;\")\n",
    "    cur.execute(\"SET enable_sort = on;\")\n",
    "    conn.commit()"
   ]
  },
  {
   "cell_type": "code",
   "execution_count": 47,
   "metadata": {},
   "outputs": [
    {
     "name": "stdout",
     "output_type": "stream",
     "text": [
      "Finalize Aggregate  (cost=1496775.77..1496775.79 rows=1 width=32) (actual time=20258.203..20292.782 rows=1 loops=1)\n",
      "  ->  Gather  (cost=1496775.54..1496775.75 rows=2 width=64) (actual time=20257.364..20292.767 rows=3 loops=1)\n",
      "        Workers Planned: 2\n",
      "        Workers Launched: 2\n",
      "        ->  Partial Aggregate  (cost=1495775.54..1495775.55 rows=1 width=64) (actual time=20249.104..20249.108 rows=1 loops=3)\n",
      "              ->  Parallel Hash Join  (cost=75519.02..1490373.79 rows=308671 width=33) (actual time=19799.402..20132.108 rows=249741 loops=3)\n",
      "                    Hash Cond: (lineitem.l_partkey = part.p_partkey)\n",
      "                    ->  Parallel Bitmap Heap Scan on lineitem  (cost=10109.87..1415441.38 rows=308671 width=16) (actual time=241.545..18951.927 rows=249741 loops=3)\n",
      "                          Recheck Cond: ((l_shipdate >= '1995-09-01'::date) AND (l_shipdate < '1995-10-01 00:00:00'::timestamp without time zone))\n",
      "                          Rows Removed by Index Recheck: 6279367\n",
      "                          Heap Blocks: exact=14603 lossy=122250\n",
      "                          ->  Bitmap Index Scan on idx_l_shipdate  (cost=0.00..9924.67 rows=740810 width=0) (actual time=223.056..223.056 rows=749223 loops=1)\n",
      "                                Index Cond: ((l_shipdate >= '1995-09-01'::date) AND (l_shipdate < '1995-10-01 00:00:00'::timestamp without time zone))\n",
      "                    ->  Parallel Hash  (cost=49295.40..49295.40 rows=833340 width=25) (actual time=589.298..589.299 rows=666667 loops=3)\n",
      "                          Buckets: 131072  Batches: 32  Memory Usage: 4864kB\n",
      "                          ->  Parallel Seq Scan on part  (cost=0.00..49295.40 rows=833340 width=25) (actual time=0.044..263.086 rows=666667 loops=3)\n",
      "Planning Time: 0.870 ms\n",
      "Execution Time: 20292.842 ms\n"
     ]
    }
   ],
   "source": [
    "explain_analyze(query_14)"
   ]
  },
  {
   "cell_type": "markdown",
   "metadata": {},
   "source": [
    "we can see that the optimizer doesn't use the index on p_partkey, it prefers to use hash join.\n",
    "the bitmap scan is used for the shipdate condition, and seems to speed up the time of 9 sec."
   ]
  },
  {
   "cell_type": "markdown",
   "metadata": {},
   "source": [
    "let's use also the indexes, the bitmap scan."
   ]
  },
  {
   "cell_type": "code",
   "execution_count": 41,
   "metadata": {},
   "outputs": [
    {
     "name": "stdout",
     "output_type": "stream",
     "text": [
      "Aggregate  (cost=1697062.00..1697062.02 rows=1 width=32) (actual time=19220.117..19221.248 rows=1 loops=1)\n",
      "  ->  Merge Join  (cost=1575410.50..1684097.82 rows=740810 width=33) (actual time=17863.853..18877.299 rows=749223 loops=1)\n",
      "        Merge Cond: (part.p_partkey = lineitem.l_partkey)\n",
      "        ->  Index Scan using part_pkey on part  (cost=0.43..92909.67 rows=2000016 width=25) (actual time=0.017..520.218 rows=1999994 loops=1)\n",
      "        ->  Sort  (cost=1575409.70..1577261.73 rows=740810 width=16) (actual time=17863.821..17969.999 rows=749223 loops=1)\n",
      "              Sort Key: lineitem.l_partkey\n",
      "              Sort Method: external sort  Disk: 24288kB\n",
      "              ->  Gather  (cost=11109.87..1490522.38 rows=740810 width=16) (actual time=123.398..16730.733 rows=749223 loops=1)\n",
      "                    Workers Planned: 2\n",
      "                    Workers Launched: 2\n",
      "                    ->  Parallel Bitmap Heap Scan on lineitem  (cost=10109.87..1415441.38 rows=308671 width=16) (actual time=111.862..17221.719 rows=249741 loops=3)\n",
      "                          Recheck Cond: ((l_shipdate >= '1995-09-01'::date) AND (l_shipdate < '1995-10-01 00:00:00'::timestamp without time zone))\n",
      "                          Rows Removed by Index Recheck: 6279367\n",
      "                          Heap Blocks: exact=14091 lossy=116949\n",
      "                          ->  Bitmap Index Scan on idx_l_shipdate  (cost=0.00..9924.67 rows=740810 width=0) (actual time=108.601..108.601 rows=749223 loops=1)\n",
      "                                Index Cond: ((l_shipdate >= '1995-09-01'::date) AND (l_shipdate < '1995-10-01 00:00:00'::timestamp without time zone))\n",
      "Planning Time: 0.536 ms\n",
      "Execution Time: 19232.768 ms\n"
     ]
    }
   ],
   "source": [
    "conn.rollback()\n",
    "with conn.cursor() as cur:\n",
    "    cur.execute(\"SET enable_seqscan = on;\")\n",
    "    cur.execute(\"SET enable_indexscan = on;\")\n",
    "    cur.execute(\"SET enable_bitmapscan = on;\")\n",
    "    cur.execute(\"SET enable_indexonlyscan = off;\")\n",
    "    cur.execute(\"SET enable_nestloop = on;\")\n",
    "    cur.execute(\"SET enable_mergejoin = on;\")\n",
    "    cur.execute(\"SET enable_hashjoin = off;\")\n",
    "    cur.execute(\"SET enable_sort = on;\")\n",
    "    conn.commit()\n",
    "\n",
    "explain_analyze(query_14, analyze=True)"
   ]
  },
  {
   "cell_type": "markdown",
   "metadata": {},
   "source": [
    "using sort seems to improve the result of 5 seconds.\n",
    "\n",
    "bitmap scan improves of 9 seconds the time.\n",
    "\n",
    "as it is clear, the index on lineitem is not used."
   ]
  },
  {
   "cell_type": "markdown",
   "metadata": {},
   "source": [
    "let's try with index nested loop"
   ]
  },
  {
   "cell_type": "code",
   "execution_count": 48,
   "metadata": {},
   "outputs": [
    {
     "name": "stdout",
     "output_type": "stream",
     "text": [
      "Finalize Aggregate  (cost=2932787.70..2932787.71 rows=1 width=32) (actual time=21599.203..21601.892 rows=1 loops=1)\n",
      "  ->  Gather  (cost=2932787.46..2932787.67 rows=2 width=64) (actual time=21597.924..21601.858 rows=3 loops=1)\n",
      "        Workers Planned: 2\n",
      "        Workers Launched: 2\n",
      "        ->  Partial Aggregate  (cost=2931787.46..2931787.47 rows=1 width=64) (actual time=21582.093..21582.095 rows=1 loops=3)\n",
      "              ->  Nested Loop  (cost=10110.30..2926385.72 rows=308671 width=33) (actual time=133.630..21343.967 rows=249741 loops=3)\n",
      "                    ->  Parallel Bitmap Heap Scan on lineitem  (cost=10109.87..1415441.38 rows=308671 width=16) (actual time=132.549..18454.968 rows=249741 loops=3)\n",
      "                          Recheck Cond: ((l_shipdate >= '1995-09-01'::date) AND (l_shipdate < '1995-10-01 00:00:00'::timestamp without time zone))\n",
      "                          Rows Removed by Index Recheck: 6279367\n",
      "                          Heap Blocks: exact=14645 lossy=122171\n",
      "                          ->  Bitmap Index Scan on idx_l_shipdate  (cost=0.00..9924.67 rows=740810 width=0) (actual time=132.760..132.761 rows=749223 loops=1)\n",
      "                                Index Cond: ((l_shipdate >= '1995-09-01'::date) AND (l_shipdate < '1995-10-01 00:00:00'::timestamp without time zone))\n",
      "                    ->  Index Scan using part_pkey on part  (cost=0.43..4.89 rows=1 width=25) (actual time=0.011..0.011 rows=1 loops=749223)\n",
      "                          Index Cond: (p_partkey = lineitem.l_partkey)\n",
      "Planning Time: 0.487 ms\n",
      "Execution Time: 21602.023 ms\n"
     ]
    }
   ],
   "source": [
    "conn.rollback()\n",
    "with conn.cursor() as cur:\n",
    "    cur.execute(\"SET enable_seqscan = on;\")\n",
    "    cur.execute(\"SET enable_indexscan = on;\")\n",
    "    cur.execute(\"SET enable_bitmapscan = on;\")\n",
    "    cur.execute(\"SET enable_indexonlyscan = off;\")\n",
    "    cur.execute(\"SET enable_nestloop = on;\")\n",
    "    cur.execute(\"SET enable_mergejoin = off;\")\n",
    "    cur.execute(\"SET enable_hashjoin = off;\")\n",
    "    cur.execute(\"SET enable_sort = off;\")\n",
    "    conn.commit()\n",
    "\n",
    "explain_analyze(query_14, analyze=True)"
   ]
  },
  {
   "cell_type": "markdown",
   "metadata": {},
   "source": [
    "Validate and record size result table"
   ]
  },
  {
   "cell_type": "code",
   "execution_count": 20,
   "metadata": {},
   "outputs": [
    {
     "name": "stdout",
     "output_type": "stream",
     "text": [
      "First row: \n",
      " (Decimal('16.6475949416150953'),)\n",
      "Size of query_14 result table: 0.015625 MB\n"
     ]
    }
   ],
   "source": [
    "with conn.cursor() as cur:\n",
    "    \n",
    "    cur.execute(f\"CREATE TEMP TABLE temp_result AS {query_14};\")\n",
    "    cur.execute(\"SELECT * FROM temp_result;\")\n",
    "    result = cur.fetchone()\n",
    "    print(f\"First row: \\n {result}\")\n",
    "    cur.execute(\"SELECT pg_total_relation_size('temp_result');\")\n",
    "    size = cur.fetchall()\n",
    "    print(f\"Size of query_14 result table: {size[0][0]/(1024**2)} MB\")\n",
    "    cur.execute(\"DROP TABLE temp_result;\")"
   ]
  },
  {
   "cell_type": "markdown",
   "metadata": {},
   "source": [
    "## Query 17"
   ]
  },
  {
   "cell_type": "code",
   "execution_count": 12,
   "metadata": {},
   "outputs": [],
   "source": [
    "query_17 = \"\"\"\n",
    "SELECT\n",
    "    SUM(l_extendedprice) / 7.0 AS avg_yearly\n",
    "FROM\n",
    "    lineitem,\n",
    "    part\n",
    "WHERE\n",
    "    l_partkey = p_partkey\n",
    "    AND p_brand = 'Brand#23'\n",
    "    AND p_container = 'MED BOX'\n",
    "    AND l_quantity < (\n",
    "        SELECT\n",
    "            0.2 * AVG(l_quantity)\n",
    "        FROM\n",
    "            lineitem\n",
    "        WHERE\n",
    "            p_partkey = l_partkey\n",
    "    );\n",
    "\"\"\""
   ]
  },
  {
   "cell_type": "code",
   "execution_count": 14,
   "metadata": {},
   "outputs": [],
   "source": [
    "conn.rollback()\n",
    "with conn.cursor() as cur:\n",
    "    cur.execute(\"SET enable_seqscan = on;\")\n",
    "    cur.execute(\"SET enable_indexscan = on;\")\n",
    "    cur.execute(\"SET enable_bitmapscan = on;\")\n",
    "    cur.execute(\"SET enable_indexonlyscan = off;\")\n",
    "    cur.execute(\"SET enable_nestloop = on;\")\n",
    "    cur.execute(\"SET enable_mergejoin = off;\")\n",
    "    cur.execute(\"SET enable_hashjoin = off;\")\n",
    "    cur.execute(\"SET enable_sort = on;\")\n",
    "    conn.commit()\n",
    "\n",
    "explain_analyze(query_17, analyze=True)"
   ]
  },
  {
   "cell_type": "markdown",
   "metadata": {},
   "source": [
    "This query takes a lot of time if we don't use indexes."
   ]
  },
  {
   "cell_type": "code",
   "execution_count": 11,
   "metadata": {},
   "outputs": [],
   "source": [
    "conn.rollback()\n",
    "with conn.cursor() as cur:\n",
    "    cur.execute(\"SET enable_seqscan = on;\")\n",
    "    cur.execute(\"SET enable_indexscan = on;\")\n",
    "    cur.execute(\"SET enable_bitmapscan = on;\")          #off\n",
    "    cur.execute(\"SET enable_indexonlyscan = on;\")       #off\n",
    "    cur.execute(\"SET enable_nestloop = on;\")\n",
    "    cur.execute(\"SET enable_mergejoin = on;\")\n",
    "    cur.execute(\"SET enable_hashjoin = on;\")        #off\n",
    "    cur.execute(\"SET enable_sort = on;\")\n",
    "    conn.commit()\n",
    "\n",
    "explain_analyze(query_17, analyze=True)"
   ]
  },
  {
   "cell_type": "markdown",
   "metadata": {},
   "source": [
    "we can see that it is already a fast query, but we can try to put an index also on containier and brand to see if it speeds up the query. they have respectively 40 and 25 distinc values, so they are not that selective, but we can try."
   ]
  },
  {
   "cell_type": "code",
   "execution_count": 14,
   "metadata": {},
   "outputs": [
    {
     "name": "stdout",
     "output_type": "stream",
     "text": [
      "Time to create index on lineitem: 55.932111978530884 seconds\n"
     ]
    }
   ],
   "source": [
    "conn.rollback()\n",
    "with conn.cursor() as cur:\n",
    "\n",
    "    start_time = time.time()\n",
    "    cur.execute(\"CREATE INDEX idx_p_brand ON part USING hash (p_brand);\")    \n",
    "    end_time = time.time()\n",
    "    print(f\"Time to create index on part: {end_time - start_time} seconds\")\n",
    "    conn.commit()"
   ]
  },
  {
   "cell_type": "code",
   "execution_count": 15,
   "metadata": {},
   "outputs": [
    {
     "name": "stdout",
     "output_type": "stream",
     "text": [
      "Time to create index on lineitem: 36.967782974243164 seconds\n"
     ]
    }
   ],
   "source": [
    "conn.rollback()\n",
    "with conn.cursor() as cur:\n",
    "\n",
    "    start_time = time.time()\n",
    "    cur.execute(\"CREATE INDEX idx_p_container ON part USING hash (p_container);\")    \n",
    "    end_time = time.time()\n",
    "    print(f\"Time to create index on part: {end_time - start_time} seconds\")\n",
    "    conn.commit()"
   ]
  },
  {
   "cell_type": "code",
   "execution_count": 16,
   "metadata": {},
   "outputs": [
    {
     "name": "stdout",
     "output_type": "stream",
     "text": [
      "Index Name: part_pkey\n",
      "Index Definition: CREATE UNIQUE INDEX part_pkey ON public.part USING btree (p_partkey)\n",
      "\n",
      "Index Name: idx_p_brand\n",
      "Index Definition: CREATE INDEX idx_p_brand ON public.part USING hash (p_brand)\n",
      "\n",
      "Index Name: idx_p_container\n",
      "Index Definition: CREATE INDEX idx_p_container ON public.part USING hash (p_container)\n",
      "\n"
     ]
    }
   ],
   "source": [
    "check_indexes(\"part\")"
   ]
  },
  {
   "cell_type": "code",
   "execution_count": 17,
   "metadata": {},
   "outputs": [
    {
     "name": "stdout",
     "output_type": "stream",
     "text": [
      "Aggregate  (cost=7132257.53..7132257.55 rows=1 width=32) (actual time=19185.859..19185.862 rows=1 loops=1)\n",
      "  ->  Nested Loop  (cost=4089.74..7132208.29 rows=19695 width=8) (actual time=53.152..19183.788 rows=5526 loops=1)\n",
      "        ->  Bitmap Heap Scan on part  (cost=4089.74..10564.34 rows=1970 width=4) (actual time=28.314..249.393 rows=2044 loops=1)\n",
      "              Recheck Cond: ((p_container = 'MED BOX'::bpchar) AND (p_brand = 'Brand#23'::bpchar))\n",
      "              Heap Blocks: exact=1998\n",
      "              ->  BitmapAnd  (cost=4089.74..4089.74 rows=1970 width=0) (actual time=27.397..27.398 rows=0 loops=1)\n",
      "                    ->  Bitmap Index Scan on idx_p_container  (cost=0.00..1567.00 rows=49467 width=0) (actual time=18.831..18.831 rows=50186 loops=1)\n",
      "                          Index Cond: (p_container = 'MED BOX'::bpchar)\n",
      "                    ->  Bitmap Index Scan on idx_p_brand  (cost=0.00..2521.50 rows=79667 width=0) (actual time=7.327..7.327 rows=79826 loops=1)\n",
      "                          Index Cond: (p_brand = 'Brand#23'::bpchar)\n",
      "        ->  Index Scan using idx_lineitem_partkey on lineitem  (cost=0.00..3614.95 rows=10 width=17) (actual time=8.926..9.262 rows=3 loops=2044)\n",
      "              Index Cond: (l_partkey = part.p_partkey)\n",
      "              Filter: (l_quantity < (SubPlan 1))\n",
      "              Rows Removed by Filter: 27\n",
      "              SubPlan 1\n",
      "                ->  Aggregate  (cost=120.58..120.60 rows=1 width=32) (actual time=0.281..0.281 rows=1 loops=61385)\n",
      "                      ->  Index Scan using idx_lineitem_partkey on lineitem lineitem_1  (cost=0.00..120.51 rows=29 width=5) (actual time=0.001..0.276 rows=31 loops=61385)\n",
      "                            Index Cond: (l_partkey = part.p_partkey)\n",
      "Planning Time: 3.733 ms\n",
      "Execution Time: 19197.023 ms\n"
     ]
    }
   ],
   "source": [
    "conn.rollback()\n",
    "with conn.cursor() as cur:\n",
    "    cur.execute(\"SET enable_seqscan = off;\")\n",
    "    cur.execute(\"SET enable_indexscan = on;\")\n",
    "    cur.execute(\"SET enable_bitmapscan = on;\")\n",
    "    cur.execute(\"SET enable_indexonlyscan = off;\")\n",
    "    cur.execute(\"SET enable_nestloop = on;\")\n",
    "    cur.execute(\"SET enable_mergejoin = on;\")\n",
    "    cur.execute(\"SET enable_hashjoin = off;\")\n",
    "    cur.execute(\"SET enable_sort = on;\")\n",
    "    conn.commit()\n",
    "\n",
    "explain_analyze(query_17, analyze=True)"
   ]
  },
  {
   "cell_type": "markdown",
   "metadata": {},
   "source": [
    "we get a small improvemtn, i don't think it is worth keeping those indexes."
   ]
  },
  {
   "cell_type": "code",
   "execution_count": null,
   "metadata": {},
   "outputs": [],
   "source": [
    "\"\"\"\n",
    "\n",
    "with conn.cursor() as cur:\n",
    "    \n",
    "    cur.execute(f\"CREATE TEMP TABLE temp_result AS {query_17};\")\n",
    "    cur.execute(\"SELECT pg_total_relation_size('temp_result');\")\n",
    "    size = cur.fetchall()\n",
    "    print(f\"Size of query_17 result table: {size[0][0]/(1024**2)} MB\")\n",
    "    cur.execute(\"DROP TABLE temp_result;\")\n",
    "\n",
    "\"\"\""
   ]
  },
  {
   "cell_type": "markdown",
   "metadata": {},
   "source": [
    "## Part 2: Indexes"
   ]
  },
  {
   "cell_type": "markdown",
   "metadata": {},
   "source": [
    "Some useful commands:\n",
    "\n",
    "To create and index:\n",
    "\n",
    "default is b+tree\n",
    "CREATE INDEX idx_customer_name ON customer (c_name);\n",
    "\n",
    "available indexes:\n",
    "\n",
    "B-tree: The default and most common type of index.\n",
    "\n",
    "Hash: Used for equality comparisons.\n",
    "\n",
    "GIN (Generalized Inverted Index): Useful for indexing array values and full-text search.\n",
    "\n",
    "GiST (Generalized Search Tree): Supports many types of queries, including full-text search.\n",
    "\n",
    "SP-GiST (Space-Partitioned Generalized Search Tree): Useful for partitioning data.\n",
    "\n",
    "BRIN (Block Range INdexes): Efficient for large tables where the column values are correlated with their physical location.\n",
    "\n",
    "other possibilities:\n",
    "\n",
    "Partial Indexes\n",
    "Description: Indexes only a portion of a table, based on a condition.\n",
    "Use Case: When you frequently query a subset of rows.\n",
    "\n",
    "CREATE INDEX idx_active_customers ON customer (c_name) WHERE active = true;\n",
    "\n",
    "Expression Indexes\n",
    "Description: Indexes the result of an expression or function rather than a raw column.\n",
    "Use Case: When queries involve expressions or function calls.\n",
    "\n",
    "CREATE INDEX idx_lower_customer_name ON customer ((lower(c_name)));\n",
    "\n",
    "\n",
    "To disable the indexscan\n",
    "\n",
    "SET enable_seqscan = on;\n",
    "SET enable_indexscan = off;\n",
    "SET enable_bitmapscan = off;"
   ]
  },
  {
   "cell_type": "code",
   "execution_count": 9,
   "metadata": {},
   "outputs": [
    {
     "name": "stdout",
     "output_type": "stream",
     "text": [
      "Time to create index on lineitem: 146.5280566215515 seconds\n"
     ]
    }
   ],
   "source": [
    "with conn.cursor() as cur:\n",
    "\n",
    "    start_time = time.time()\n",
    "    cur.execute(\"CREATE INDEX idx_lineitem_partkey ON lineitem USING hash (l_partkey);\")\n",
    "    end_time = time.time()\n",
    "    print(f\"Time to create index on lineitem: {end_time - start_time} seconds\")\n",
    "\n",
    "    conn.commit()"
   ]
  },
  {
   "cell_type": "code",
   "execution_count": 10,
   "metadata": {},
   "outputs": [
    {
     "name": "stdout",
     "output_type": "stream",
     "text": [
      "Size of index on lineitem: 1896.65625 MB\n",
      "Size of index on lineitem: 1.852203369140625 GB\n"
     ]
    }
   ],
   "source": [
    "with conn.cursor() as cur:\n",
    "\n",
    "    cur.execute(\"SELECT pg_relation_size('idx_lineitem_partkey');\")\n",
    "    index_size = cur.fetchone()[0]\n",
    "    print(f\"Size of index on lineitem: {index_size/(1024**2)} MB\")\n",
    "    print(f\"Size of index on lineitem: {index_size/(1024**3)} GB\")\n"
   ]
  },
  {
   "cell_type": "code",
   "execution_count": 11,
   "metadata": {},
   "outputs": [
    {
     "name": "stdout",
     "output_type": "stream",
     "text": [
      "EXPLAIN ANALYZE result:\n",
      "Aggregate  (cost=1937805.96..1937805.97 rows=1 width=32) (actual time=240896.545..240896.670 rows=1 loops=1)\n",
      "  ->  Hash Join  (cost=54683.72..1937756.72 rows=19695 width=8) (actual time=1156.271..240892.848 rows=5526 loops=1)\n",
      "        Hash Cond: (lineitem.l_partkey = part.p_partkey)\n",
      "        Join Filter: (lineitem.l_quantity < (SubPlan 1))\n",
      "        Rows Removed by Join Filter: 55859\n",
      "        ->  Seq Scan on lineitem  (cost=0.00..1724403.52 rows=59986052 width=17) (actual time=0.335..23018.323 rows=59986052 loops=1)\n",
      "        ->  Hash  (cost=54659.10..54659.10 rows=1970 width=4) (actual time=989.198..989.319 rows=2044 loops=1)\n",
      "              Buckets: 2048  Batches: 1  Memory Usage: 88kB\n",
      "              ->  Gather  (cost=1000.00..54659.10 rows=1970 width=4) (actual time=3.643..975.057 rows=2044 loops=1)\n",
      "                    Workers Planned: 2\n",
      "                    Workers Launched: 2\n",
      "                    ->  Parallel Seq Scan on part  (cost=0.00..53462.10 rows=821 width=4) (actual time=1.157..911.640 rows=681 loops=3)\n",
      "                          Filter: ((p_brand = 'Brand#23'::bpchar) AND (p_container = 'MED BOX'::bpchar))\n",
      "                          Rows Removed by Filter: 665985\n",
      "        SubPlan 1\n",
      "          ->  Aggregate  (cost=120.58..120.60 rows=1 width=32) (actual time=3.453..3.453 rows=1 loops=61385)\n",
      "                ->  Index Scan using idx_lineitem_partkey on lineitem lineitem_1  (cost=0.00..120.51 rows=29 width=5) (actual time=0.259..3.447 rows=31 loops=61385)\n",
      "                      Index Cond: (l_partkey = part.p_partkey)\n",
      "Planning Time: 13.348 ms\n",
      "Execution Time: 240897.794 ms\n"
     ]
    }
   ],
   "source": [
    "conn.rollback()\n",
    "with conn.cursor() as cur:\n",
    "    \n",
    "    cur.execute(f\"EXPLAIN ANALYZE {query_17}\")\n",
    "    explain_result = cur.fetchall()\n",
    "    print(\"EXPLAIN ANALYZE result:\")\n",
    "    for row in explain_result:\n",
    "        print(row[0])"
   ]
  },
  {
   "cell_type": "markdown",
   "metadata": {},
   "source": [
    "Very good! A query that almost can't be executed now is completed in 4 minutes! But the cost is huge 1.85 GB ..."
   ]
  },
  {
   "cell_type": "code",
   "execution_count": null,
   "metadata": {},
   "outputs": [
    {
     "name": "stdout",
     "output_type": "stream",
     "text": [
      "First row: \n",
      " (Decimal('3295493.512857142857'),)\n",
      "Size of query_17 result table: 0.015625 MB\n"
     ]
    }
   ],
   "source": [
    "with conn.cursor() as cur:\n",
    "    \n",
    "    cur.execute(f\"CREATE TEMP TABLE temp_result AS {query_17};\")\n",
    "    cur.execute(\"SELECT * FROM temp_result;\")\n",
    "    result = cur.fetchall()\n",
    "    for row in result:\n",
    "        print(row)\n",
    "\n",
    "    cur.execute(\"SELECT pg_total_relation_size('temp_result');\")\n",
    "    size = cur.fetchall()\n",
    "    print(f\"Size of query_17 result table: {size[0][0]/(1024**2)} MB\")\n",
    "    cur.execute(\"DROP TABLE temp_result;\")"
   ]
  },
  {
   "cell_type": "markdown",
   "metadata": {},
   "source": [
    "## Materialised view"
   ]
  },
  {
   "cell_type": "code",
   "execution_count": 34,
   "metadata": {},
   "outputs": [],
   "source": [
    "query_materialized = \"\"\"\n",
    "CREATE MATERIALIZED VIEW part_lineitem AS\n",
    "SELECT part.p_partkey, part.p_brand, part.p_container, lineitem.l_quantity, lineitem.l_extendedprice\n",
    "FROM part JOIN lineitem ON p_partkey = l_partkey;\n",
    "\"\"\"\n",
    "\n",
    "with conn.cursor() as cur:\n",
    "        cur.execute(f\"EXPLAIN ANALYZE {query_materialized}\")\n",
    "        conn.commit()"
   ]
  },
  {
   "cell_type": "code",
   "execution_count": 12,
   "metadata": {},
   "outputs": [
    {
     "name": "stdout",
     "output_type": "stream",
     "text": [
      "Size of materialised view: 3906.609375 MB\n"
     ]
    }
   ],
   "source": [
    "conn.rollback()\n",
    "with conn.cursor() as cur:\n",
    "    \n",
    "    cur.execute(\"SELECT pg_total_relation_size('part_lineitem');\")\n",
    "    size = cur.fetchall()\n",
    "    print(f\"Size of materialised view: {size[0][0]/(1024**2)} MB\")\n"
   ]
  },
  {
   "cell_type": "code",
   "execution_count": 9,
   "metadata": {},
   "outputs": [],
   "source": [
    "query_17_1 = \"\"\"\n",
    "\n",
    "CREATE VIEW average_quantity AS\n",
    "SELECT\n",
    "    p_partkey,\n",
    "    AVG(l_quantity) AS avg_quantity\n",
    "FROM\n",
    "    part_lineitem\n",
    "GROUP BY\n",
    "    p_partkey;\n",
    "\n",
    "SELECT\n",
    "    p_partkey,\n",
    "    SUM(l_extendedprice) / 7.0 AS avg_yearly\n",
    "FROM\n",
    "    part_lineitem\n",
    "WHERE\n",
    "    p_brand = 'Brand#23'\n",
    "    AND p_container = 'MED BOX'\n",
    "    AND l_quantity < (\n",
    "        SELECT\n",
    "            0.2 * avg_quantity\n",
    "        FROM\n",
    "            average_quantity\n",
    "        WHERE \n",
    "            average_quantity.p_partkey = part_lineitem.p_partkey\n",
    "    )\n",
    "GROUP BY\n",
    "    p_partkey;\n",
    "\"\"\""
   ]
  },
  {
   "cell_type": "code",
   "execution_count": 10,
   "metadata": {},
   "outputs": [],
   "source": [
    "conn.rollback()\n",
    "with conn.cursor() as cur:\n",
    "        cur.execute(f\"{query_17_1}\")\n",
    "        conn.commit()"
   ]
  },
  {
   "cell_type": "markdown",
   "metadata": {},
   "source": [
    "takes more time than the index, there is something wrong? maybe there is no index in p_partkey and thats the problem??"
   ]
  },
  {
   "cell_type": "code",
   "execution_count": 14,
   "metadata": {},
   "outputs": [
    {
     "name": "stdout",
     "output_type": "stream",
     "text": [
      "WindowAgg  (cost=6497685.03..15203148.40 rows=59986052 width=110) (actual time=246818.575..508544.035 rows=59986052 loops=1)\n",
      "  ->  Merge Join  (cost=6497685.03..14303357.62 rows=59986052 width=78) (actual time=246818.516..396179.676 rows=59986052 loops=1)\n",
      "        Merge Cond: (lineitem.l_partkey = part.p_partkey)\n",
      "        ->  Gather Merge  (cost=6496970.92..13483335.20 rows=59986052 width=35) (actual time=246815.216..353040.380 rows=59986052 loops=1)\n",
      "              Workers Planned: 2\n",
      "              Workers Launched: 0\n",
      "              ->  Sort  (cost=6495970.90..6558456.37 rows=24994188 width=35) (actual time=246814.463..340498.945 rows=59986052 loops=1)\n",
      "                    Sort Key: lineitem.l_partkey\n",
      "                    Sort Method: external merge  Disk: 2792840kB\n",
      "                    ->  Parallel Seq Scan on lineitem  (cost=0.00..1374484.88 rows=24994188 width=35) (actual time=0.009..85779.109 rows=59986052 loops=1)\n",
      "        ->  Index Scan using part_pkey on part  (cost=0.43..92909.43 rows=2000000 width=47) (actual time=3.287..9492.964 rows=2000000 loops=1)\n",
      "Planning Time: 27.897 ms\n",
      "Execution Time: 514300.210 ms\n"
     ]
    }
   ],
   "source": [
    "with conn.cursor() as cur:\n",
    "    cur.execute(\"SET enable_seqscan = off;\")\n",
    "    cur.execute(\"SET enable_indexscan = on;\")\n",
    "    cur.execute(\"SET enable_bitmapscan = on;\")\n",
    "    cur.execute(\"SET enable_indexonlyscan = off;\")\n",
    "    cur.execute(\"SET enable_nestloop = on;\")\n",
    "    cur.execute(\"SET enable_mergejoin = on;\")\n",
    "    cur.execute(\"SET enable_hashjoin = off;\")\n",
    "    cur.execute(\"SET enable_sort = on;\")\n",
    "    conn.commit()\n",
    "\n",
    "query_materialized = \"\"\"\n",
    "\n",
    "SELECT \n",
    "    part.p_brand, \n",
    "    part.p_container, \n",
    "    part.p_type,\n",
    "    lineitem.l_partkey, \n",
    "    lineitem.l_orderkey, \n",
    "    lineitem.l_quantity, \n",
    "    lineitem.l_extendedprice, \n",
    "    lineitem.l_returnflag, \n",
    "    lineitem.l_shipdate, \n",
    "    lineitem.l_discount, \n",
    "    lineitem.l_tax,\n",
    "    AVG(lineitem.l_quantity) OVER (PARTITION BY lineitem.l_partkey) AS avg_quantity\n",
    "FROM part JOIN lineitem ON p_partkey = l_partkey;\n",
    "\n",
    "\"\"\"\n",
    "\n",
    "explain_analyze(query_materialized)"
   ]
  },
  {
   "cell_type": "code",
   "execution_count": 9,
   "metadata": {},
   "outputs": [],
   "source": [
    "conn.close()"
   ]
  }
 ],
 "metadata": {
  "kernelspec": {
   "display_name": "Python 3",
   "language": "python",
   "name": "python3"
  },
  "language_info": {
   "codemirror_mode": {
    "name": "ipython",
    "version": 3
   },
   "file_extension": ".py",
   "mimetype": "text/x-python",
   "name": "python",
   "nbconvert_exporter": "python",
   "pygments_lexer": "ipython3",
   "version": "3.10.12"
  }
 },
 "nbformat": 4,
 "nbformat_minor": 2
}
