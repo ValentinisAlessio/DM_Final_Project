{
 "cells": [
  {
   "cell_type": "code",
   "execution_count": 1,
   "metadata": {
    "metadata": {}
   },
   "outputs": [],
   "source": [
    "import psycopg2\n",
    "from psycopg2 import sql, extras\n",
    "import pandas as pd"
   ]
  },
  {
   "cell_type": "code",
   "execution_count": 2,
   "metadata": {
    "metadata": {}
   },
   "outputs": [],
   "source": [
    "# establish a connection to the PostgreSQL database\n",
    "conn = psycopg2.connect(\n",
    "    dbname = \"dw_cs\", \n",
    "    user = \"postgres\", \n",
    "    host= 'localhost',\n",
    "    password = \"password\",\n",
    "    port = 5432\n",
    ")"
   ]
  },
  {
   "cell_type": "markdown",
   "metadata": {},
   "source": [
    "## list all tables"
   ]
  },
  {
   "cell_type": "code",
   "execution_count": 3,
   "metadata": {
    "metadata": {}
   },
   "outputs": [
    {
     "name": "stdout",
     "output_type": "stream",
     "text": [
      "partsupp\n",
      "supplier\n",
      "customer\n",
      "region\n",
      "nation\n",
      "part\n",
      "orders\n",
      "lineitem\n"
     ]
    }
   ],
   "source": [
    "# Open a cursor to perform database operations\n",
    "with conn.cursor() as cur:\n",
    "    \n",
    "    # execute a query to fetch the list of tables\n",
    "    cur.execute(\"SELECT tablename FROM pg_catalog.pg_tables WHERE schemaname != 'pg_catalog' AND schemaname != 'information_schema'\")\n",
    "\n",
    "    # Fetch all rows from the result set\n",
    "    tables = cur.fetchall()\n",
    "\n",
    "    # Print the list of tables\n",
    "    for table in tables:\n",
    "        print(table[0])"
   ]
  },
  {
   "cell_type": "markdown",
   "metadata": {},
   "source": [
    "## PART 1 : **CREATE TABLES**"
   ]
  },
  {
   "cell_type": "code",
   "execution_count": 4,
   "metadata": {
    "metadata": {}
   },
   "outputs": [],
   "source": [
    "query_create_customer = \"\"\"\n",
    "CREATE TABLE IF NOT EXISTS public.customer (\n",
    "    c_custkey INT PRIMARY KEY, -- Identifier SF*150,000 are populated\n",
    "    c_name VARCHAR(25),\n",
    "    c_address VARCHAR(40),\n",
    "    c_nationkey INT, -- Identifier Foreign Key to n_nationkey\n",
    "    c_phone CHAR(15),\n",
    "    c_acctbal DECIMAL,\n",
    "    c_mktsegment CHAR(10),\n",
    "    c_comment VARCHAR(117)\n",
    ")\n",
    "\"\"\"\n",
    "\n",
    "\n",
    "query_create_lineitem = \"\"\"\n",
    "CREATE TABLE IF NOT EXISTS public.lineitem (\n",
    "    l_orderkey INT,\n",
    "    l_partkey INT,\n",
    "    l_suppkey INT,\n",
    "    l_linenumber INT,\n",
    "    l_quantity DECIMAL,\n",
    "    l_extendedprice DECIMAL,\n",
    "    l_discount DECIMAL,\n",
    "    l_tax DECIMAL,\n",
    "    l_returnflag CHAR(1),\n",
    "    l_linestatus CHAR(1),\n",
    "    l_shipdate DATE,\n",
    "    l_commitdate DATE,\n",
    "    l_receiptdate DATE,\n",
    "    l_shipinstruct CHAR(25),\n",
    "    l_shipmode CHAR(10),\n",
    "    l_comment VARCHAR(44)\n",
    ")\n",
    "\"\"\"\n",
    "\n",
    "\n",
    "query_create_region = \"\"\"\n",
    "CREATE TABLE IF NOT EXISTS public.region (\n",
    "    r_regionkey INT PRIMARY KEY, -- identifier 5 regions are populated\n",
    "    r_name CHAR(25),\n",
    "    r_comment VARCHAR(152)\n",
    ")\n",
    "\"\"\"\n",
    "\n",
    "\n",
    "query_create_nation = \"\"\"\n",
    "CREATE TABLE IF NOT EXISTS public.nation (\n",
    "    n_nationkey INT PRIMARY KEY, -- identifier 25 nations are populated\n",
    "    n_name CHAR(25),\n",
    "    n_regionkey INT, -- Foreign Key to r_regionkey\n",
    "    n_comment VARCHAR(152)\n",
    ")\n",
    "\"\"\"\n",
    "\n",
    "\n",
    "query_create_part = \"\"\"\n",
    "CREATE TABLE IF NOT EXISTS public.part (\n",
    "    p_partkey INT PRIMARY KEY, -- identifier SF*200,000 are populated\n",
    "    p_name VARCHAR(55),\n",
    "    p_mfgr CHAR(25),\n",
    "    p_brand CHAR(10),\n",
    "    p_type VARCHAR(25),\n",
    "    p_size INT,\n",
    "    p_container CHAR(10),\n",
    "    p_retailprice DECIMAL,\n",
    "    p_comment VARCHAR(23)\n",
    ")\n",
    "\"\"\"\n",
    "\n",
    "\n",
    "query_create_supplier = \"\"\"\n",
    "CREATE TABLE IF NOT EXISTS public.supplier (\n",
    "    s_suppkey INT PRIMARY KEY, -- identifier SF*10,000 are populated\n",
    "    s_name CHAR(25),\n",
    "    s_address VARCHAR(40),\n",
    "    s_nationkey INT, -- Identifier Foreign Key to n_nationkey\n",
    "    s_phone CHAR(15),\n",
    "    s_acctbal DECIMAL,\n",
    "    s_comment VARCHAR(101)\n",
    ")\n",
    "\"\"\"\n",
    "\n",
    "\n",
    "query_create_partsupp = \"\"\"\n",
    "CREATE TABLE IF NOT EXISTS public.partsupp (\n",
    "    ps_partkey INT,\n",
    "    ps_suppkey INT,\n",
    "    ps_availqty INT,\n",
    "    ps_supplycost DECIMAL,\n",
    "    ps_comment VARCHAR(199)\n",
    ")\n",
    "\"\"\"\n",
    "\n",
    "\n",
    "query_create_orders = \"\"\"\n",
    "CREATE TABLE IF NOT EXISTS public.orders (\n",
    "    o_orderkey INT PRIMARY KEY,\n",
    "    o_custkey INT,\n",
    "    o_orederstatus CHAR(1),\n",
    "    o_totalprice DECIMAL,\n",
    "    o_orderdate DATE,\n",
    "    o_orederpriority CHAR(15),\n",
    "    o_clerk CHAR(15),\n",
    "    o_shippriority INT,\n",
    "    o_comment VARCHAR(79)\n",
    ")\n",
    "\"\"\""
   ]
  },
  {
   "cell_type": "code",
   "execution_count": 5,
   "metadata": {
    "metadata": {}
   },
   "outputs": [],
   "source": [
    "with conn.cursor() as cur:\n",
    "\n",
    "    cur.execute(query_create_customer)\n",
    "    cur.execute(query_create_lineitem)\n",
    "    cur.execute(query_create_region)\n",
    "    cur.execute(query_create_nation)\n",
    "    cur.execute(query_create_part)\n",
    "    cur.execute(query_create_supplier)\n",
    "    cur.execute(query_create_partsupp)\n",
    "    cur.execute(query_create_orders)\n",
    "\n",
    "    conn.commit()"
   ]
  },
  {
   "cell_type": "code",
   "execution_count": 6,
   "metadata": {
    "metadata": {}
   },
   "outputs": [
    {
     "name": "stdout",
     "output_type": "stream",
     "text": [
      "lineitem\n",
      "region\n",
      "nation\n",
      "supplier\n",
      "part\n",
      "partsupp\n",
      "customer\n",
      "orders\n"
     ]
    }
   ],
   "source": [
    "with conn.cursor() as cur:\n",
    "    cur.execute(\"SELECT tablename FROM pg_catalog.pg_tables WHERE schemaname != 'pg_catalog' AND schemaname != 'information_schema'\")\n",
    "    tables = cur.fetchall()\n",
    "    for table in tables:\n",
    "        print(table[0])"
   ]
  },
  {
   "cell_type": "markdown",
   "metadata": {},
   "source": [
    "## PART 2 : **ADD MISSING CONSTRAINTS**"
   ]
  },
  {
   "cell_type": "markdown",
   "metadata": {},
   "source": [
    "### FOREIGN KEYS"
   ]
  },
  {
   "cell_type": "code",
   "execution_count": 7,
   "metadata": {
    "metadata": {}
   },
   "outputs": [],
   "source": [
    "query_const_foreign_01 = \"\"\"\n",
    "ALTER TABLE customer\n",
    "ADD CONSTRAINT fk_c_nationkey\n",
    "FOREIGN KEY (c_nationkey) REFERENCES nation(n_nationkey)\n",
    "ON DELETE CASCADE ON UPDATE CASCADE\n",
    "\"\"\"\n",
    "\n",
    "query_const_foreign_02 = \"\"\"\n",
    "ALTER TABLE lineitem\n",
    "ADD CONSTRAINT fk_l_orderkey\n",
    "FOREIGN KEY (l_orderkey) REFERENCES orders(o_orderkey)\n",
    "ON DELETE CASCADE ON UPDATE CASCADE\n",
    "\"\"\"\n",
    "\n",
    "query_const_foreign_03 = \"\"\"\n",
    "ALTER TABLE lineitem\n",
    "ADD CONSTRAINT fk_l_partsupp\n",
    "FOREIGN KEY (l_partkey, l_suppkey) REFERENCES partsupp(ps_partkey, ps_suppkey)\n",
    "ON DELETE CASCADE ON UPDATE CASCADE\n",
    "\"\"\"\n",
    "\n",
    "query_const_foreign_04 = \"\"\"\n",
    "ALTER TABLE nation\n",
    "ADD CONSTRAINT fk_n_regionkey\n",
    "FOREIGN KEY (n_regionkey) REFERENCES region(r_regionkey)\n",
    "ON DELETE CASCADE ON UPDATE CASCADE\n",
    "\"\"\""
   ]
  },
  {
   "cell_type": "code",
   "execution_count": 8,
   "metadata": {
    "metadata": {}
   },
   "outputs": [],
   "source": [
    "with conn.cursor() as cur:\n",
    "    \n",
    "    cur.execute(query_const_foreign_01)\n",
    "    cur.execute(query_const_foreign_02)\n",
    "    cur.execute(query_const_foreign_03)\n",
    "    cur.execute(query_const_foreign_04)\n",
    "\n",
    "    conn.commit()"
   ]
  },
  {
   "cell_type": "markdown",
   "metadata": {},
   "source": [
    "### CHECKS"
   ]
  },
  {
   "cell_type": "code",
   "execution_count": 9,
   "metadata": {
    "metadata": {}
   },
   "outputs": [],
   "source": [
    "# Part table\n",
    "query_const_check_01 = \"\"\"\n",
    "ALTER TABLE part\n",
    "ADD CONSTRAINT part_partkey_check CHECK (p_partkey >= 0);\n",
    "\"\"\"\n",
    "\n",
    "# Supplier table\n",
    "query_const_check_02 = \"\"\"\n",
    "ALTER TABLE supplier\n",
    "ADD CONSTRAINT supplier_suppkey_check CHECK (s_suppkey >= 0);\n",
    "\"\"\"\n",
    "\n",
    "# Customer table\n",
    "query_const_check_03 = \"\"\"\n",
    "ALTER TABLE customer\n",
    "ADD CONSTRAINT customer_custkey_check CHECK (c_custkey >= 0);\n",
    "\"\"\"\n",
    "\n",
    "# Partsupp table\n",
    "query_const_check_04 = \"\"\"\n",
    "ALTER TABLE partsupp\n",
    "ADD CONSTRAINT partsupp_partkey_check CHECK (ps_partkey >= 0);\n",
    "\"\"\"\n",
    "\n",
    "# Region table\n",
    "query_const_check_05 = \"\"\"\n",
    "ALTER TABLE region\n",
    "ADD CONSTRAINT region_regionkey_check CHECK (r_regionkey >= 0);\n",
    "\"\"\"\n",
    "\n",
    "# Nation table\n",
    "query_const_check_06 = \"\"\"\n",
    "ALTER TABLE nation\n",
    "ADD CONSTRAINT nation_nationkey_check CHECK (n_nationkey >= 0);\n",
    "\"\"\"\n",
    "\n",
    "# Part table\n",
    "query_const_check_07 = \"\"\"\n",
    "ALTER TABLE part\n",
    "ADD CONSTRAINT part_size_check CHECK (p_size >= 0),\n",
    "ADD CONSTRAINT part_retailprice_check CHECK (p_retailprice >= 0);\n",
    "\"\"\"\n",
    "\n",
    "# Partsupp table\n",
    "query_const_check_08 = \"\"\"\n",
    "ALTER TABLE partsupp\n",
    "ADD CONSTRAINT partsupp_availqty_check CHECK (ps_availqty >= 0),\n",
    "ADD CONSTRAINT partsupp_supplycost_check CHECK (ps_supplycost >= 0);\n",
    "\"\"\"\n",
    "\n",
    "# Orders table\n",
    "query_const_check_09 = \"\"\"\n",
    "ALTER TABLE orders\n",
    "ADD CONSTRAINT orders_totalprice_check CHECK (o_totalprice >= 0);\n",
    "\"\"\"\n",
    "\n",
    "# Lineitem table\n",
    "query_const_check_10 = \"\"\"\n",
    "ALTER TABLE lineitem\n",
    "ADD CONSTRAINT lineitem_quantity_check CHECK (l_quantity >= 0),\n",
    "ADD CONSTRAINT lineitem_extendedprice_check CHECK (l_extendedprice >= 0),\n",
    "ADD CONSTRAINT lineitem_tax_check CHECK (l_tax >= 0);\n",
    "\"\"\"\n",
    "\n",
    "# Lineitem table\n",
    "query_const_check_11 = \"\"\"\n",
    "ALTER TABLE lineitem\n",
    "ADD CONSTRAINT lineitem_discount_range_check CHECK (l_discount >= 0.00 AND l_discount <= 1.00),\n",
    "ADD CONSTRAINT lineitem_shipdate_receiptdate_check CHECK (l_shipdate <= l_receiptdate);\n",
    "\"\"\""
   ]
  },
  {
   "cell_type": "code",
   "execution_count": 10,
   "metadata": {
    "metadata": {}
   },
   "outputs": [],
   "source": [
    "with conn.cursor() as cur:\n",
    "    \n",
    "    cur.execute(query_const_check_01)\n",
    "    cur.execute(query_const_check_02)\n",
    "    cur.execute(query_const_check_03)\n",
    "    cur.execute(query_const_check_04)\n",
    "    cur.execute(query_const_check_05)\n",
    "    cur.execute(query_const_check_06)\n",
    "    cur.execute(query_const_check_07)\n",
    "    cur.execute(query_const_check_08)\n",
    "    cur.execute(query_const_check_09)\n",
    "    cur.execute(query_const_check_10)\n",
    "    cur.execute(query_const_check_11)\n",
    "\n",
    "    conn.commit()"
   ]
  },
  {
   "cell_type": "markdown",
   "metadata": {},
   "source": [
    "# Populate Tables"
   ]
  },
  {
   "cell_type": "code",
   "execution_count": 11,
   "metadata": {},
   "outputs": [],
   "source": [
    "df = pd.read_csv(\"/Users/marcozamp/Desktop/TCP-H/region.csv\", delimiter=\"|\", header=None)"
   ]
  },
  {
   "cell_type": "code",
   "execution_count": 12,
   "metadata": {},
   "outputs": [],
   "source": [
    "data = df.to_numpy()\n",
    "\n",
    "conn.rollback()\n",
    "with conn.cursor() as cur:\n",
    "\n",
    "    for row in data:\n",
    "        cur.execute(\n",
    "            \"INSERT INTO region (r_regionkey, r_name, r_comment) VALUES (%s, %s, %s)\",\n",
    "            (row[0], row[1], row[2])\n",
    "        )\n",
    "        \n",
    "    conn.commit()"
   ]
  },
  {
   "cell_type": "code",
   "execution_count": 4,
   "metadata": {
    "metadata": {}
   },
   "outputs": [
    {
     "name": "stdout",
     "output_type": "stream",
     "text": [
      "(0, 'AFRICA                   ', 'lar deposits. blithely final packages cajole. regular waters are final requests. regular accounts are according to ')\n",
      "(1, 'AMERICA                  ', 'hs use ironic, even requests. s')\n",
      "(2, 'ASIA                     ', 'ges. thinly even pinto beans ca')\n",
      "(3, 'EUROPE                   ', 'ly final courts cajole furiously final excuse')\n",
      "(4, 'MIDDLE EAST              ', 'uickly special accounts cajole carefully blithely close requests. carefully final asymptotes haggle furiousl')\n"
     ]
    }
   ],
   "source": [
    "conn.rollback()\n",
    "with conn.cursor() as cur:\n",
    "    \n",
    "    cur.execute(\"SELECT * FROM region;\")\n",
    "\n",
    "    rows = cur.fetchall()\n",
    "\n",
    "    for row in rows:\n",
    "        print(row)"
   ]
  },
  {
   "cell_type": "code",
   "execution_count": 14,
   "metadata": {
    "metadata": {}
   },
   "outputs": [],
   "source": [
    "df = pd.read_csv(\"/Users/marcozamp/Desktop/TCP-H/nation.csv\", delimiter=\"|\", header=None)"
   ]
  },
  {
   "cell_type": "code",
   "execution_count": 15,
   "metadata": {
    "metadata": {}
   },
   "outputs": [
    {
     "name": "stdout",
     "output_type": "stream",
     "text": [
      "     0               1  2                                                  3\n",
      "0    0         ALGERIA  0   haggle. carefully final deposits detect slyly...\n",
      "1    1       ARGENTINA  1  al foxes promise slyly according to the regula...\n",
      "2    2          BRAZIL  1  y alongside of the pending deposits. carefully...\n",
      "3    3          CANADA  1  eas hang ironic, silent packages. slyly regula...\n",
      "4    4           EGYPT  4  y above the carefully unusual theodolites. fin...\n",
      "5    5        ETHIOPIA  0                    ven packages wake quickly. regu\n",
      "6    6          FRANCE  3             refully final requests. regular, ironi\n",
      "7    7         GERMANY  3  l platelets. regular accounts x-ray: unusual, ...\n",
      "8    8           INDIA  2  ss excuses cajole slyly across the packages. d...\n",
      "9    9       INDONESIA  2   slyly express asymptotes. regular deposits ha...\n",
      "10  10            IRAN  4  efully alongside of the slyly final dependenci...\n",
      "11  11            IRAQ  4  nic deposits boost atop the quickly final requ...\n",
      "12  12           JAPAN  2               ously. final, express gifts cajole a\n",
      "13  13          JORDAN  4  ic deposits are blithely about the carefully r...\n",
      "14  14           KENYA  0   pending excuses haggle furiously deposits. pe...\n",
      "15  15         MOROCCO  0  rns. blithely bold courts among the closely re...\n",
      "16  16      MOZAMBIQUE  0      s. ironic, unusual asymptotes wake blithely r\n",
      "17  17            PERU  1  platelets. blithely pending dependencies use f...\n",
      "18  18           CHINA  2  c dependencies. furiously express notornis sle...\n",
      "19  19         ROMANIA  3  ular asymptotes are about the furious multipli...\n",
      "20  20    SAUDI ARABIA  4  ts. silent requests haggle. closely express pa...\n",
      "21  21         VIETNAM  2     hely enticingly express accounts. even, final \n",
      "22  22          RUSSIA  3   requests against the platelets use never acco...\n",
      "23  23  UNITED KINGDOM  3  eans boost carefully special requests. account...\n",
      "24  24   UNITED STATES  1  y final packages. slow foxes cajole quickly. q...\n"
     ]
    }
   ],
   "source": [
    "print(df)"
   ]
  },
  {
   "cell_type": "code",
   "execution_count": 16,
   "metadata": {},
   "outputs": [],
   "source": [
    "data = df.to_numpy() \n",
    "\n",
    "conn.rollback()\n",
    "with conn.cursor() as cur:\n",
    "\n",
    "    for row in data:\n",
    "        cur.execute(\n",
    "            \"INSERT INTO nation (n_nationkey, n_name, n_regionkey, n_comment) VALUES (%s, %s, %s, %s)\",\n",
    "            (row[0], row[1], row[2], row[3])\n",
    "        )\n",
    "    conn.commit()"
   ]
  },
  {
   "cell_type": "code",
   "execution_count": 5,
   "metadata": {},
   "outputs": [
    {
     "name": "stdout",
     "output_type": "stream",
     "text": [
      "(0, 'ALGERIA                  ', 0, ' haggle. carefully final deposits detect slyly agai')\n",
      "(1, 'ARGENTINA                ', 1, 'al foxes promise slyly according to the regular accounts. bold requests alon')\n",
      "(2, 'BRAZIL                   ', 1, 'y alongside of the pending deposits. carefully special packages are about the ironic forges. slyly special ')\n",
      "(3, 'CANADA                   ', 1, 'eas hang ironic, silent packages. slyly regular packages are furiously over the tithes. fluffily bold')\n",
      "(4, 'EGYPT                    ', 4, 'y above the carefully unusual theodolites. final dugouts are quickly across the furiously regular d')\n",
      "(5, 'ETHIOPIA                 ', 0, 'ven packages wake quickly. regu')\n",
      "(6, 'FRANCE                   ', 3, 'refully final requests. regular, ironi')\n",
      "(7, 'GERMANY                  ', 3, 'l platelets. regular accounts x-ray: unusual, regular acco')\n",
      "(8, 'INDIA                    ', 2, 'ss excuses cajole slyly across the packages. deposits print aroun')\n",
      "(9, 'INDONESIA                ', 2, ' slyly express asymptotes. regular deposits haggle slyly. carefully ironic hockey players sleep blithely. carefull')\n",
      "(10, 'IRAN                     ', 4, 'efully alongside of the slyly final dependencies. ')\n",
      "(11, 'IRAQ                     ', 4, 'nic deposits boost atop the quickly final requests? quickly regula')\n",
      "(12, 'JAPAN                    ', 2, 'ously. final, express gifts cajole a')\n",
      "(13, 'JORDAN                   ', 4, 'ic deposits are blithely about the carefully regular pa')\n",
      "(14, 'KENYA                    ', 0, ' pending excuses haggle furiously deposits. pending, express pinto beans wake fluffily past t')\n",
      "(15, 'MOROCCO                  ', 0, 'rns. blithely bold courts among the closely regular packages use furiously bold platelets?')\n",
      "(16, 'MOZAMBIQUE               ', 0, 's. ironic, unusual asymptotes wake blithely r')\n",
      "(17, 'PERU                     ', 1, 'platelets. blithely pending dependencies use fluffily across the even pinto beans. carefully silent accoun')\n",
      "(18, 'CHINA                    ', 2, 'c dependencies. furiously express notornis sleep slyly regular accounts. ideas sleep. depos')\n",
      "(19, 'ROMANIA                  ', 3, 'ular asymptotes are about the furious multipliers. express dependencies nag above the ironically ironic account')\n",
      "(20, 'SAUDI ARABIA             ', 4, 'ts. silent requests haggle. closely express packages sleep across the blithely')\n",
      "(21, 'VIETNAM                  ', 2, 'hely enticingly express accounts. even, final ')\n",
      "(22, 'RUSSIA                   ', 3, ' requests against the platelets use never according to the quickly regular pint')\n",
      "(23, 'UNITED KINGDOM           ', 3, 'eans boost carefully special requests. accounts are. carefull')\n",
      "(24, 'UNITED STATES            ', 1, 'y final packages. slow foxes cajole quickly. quickly silent platelets breach ironic accounts. unusual pinto be')\n"
     ]
    }
   ],
   "source": [
    "with conn.cursor() as cur:\n",
    "    \n",
    "    cur.execute(\"SELECT * FROM nation;\")\n",
    "\n",
    "    rows = cur.fetchall()\n",
    "\n",
    "    for row in rows:\n",
    "        print(row)"
   ]
  },
  {
   "cell_type": "code",
   "execution_count": 19,
   "metadata": {},
   "outputs": [
    {
     "name": "stdout",
     "output_type": "stream",
     "text": [
      "1500000\n"
     ]
    }
   ],
   "source": [
    "df = pd.read_csv(\"/Users/marcozamp/Desktop/TCP-H/customer.csv\", delimiter=\"|\", header=None)\n",
    "\n",
    "data = df.to_numpy() \n",
    "print(len(data))\n",
    "\n",
    "conn.rollback()\n",
    "with conn.cursor() as cur:\n",
    "\n",
    "    for row in data:\n",
    "        cur.execute(\n",
    "            \"INSERT INTO customer (c_custkey, c_name, c_address, c_nationkey, c_phone, c_acctbal, c_mktsegment, c_comment) VALUES (%s, %s, %s, %s, %s, %s, %s, %s)\",\n",
    "            (row[0], row[1], row[2], row[3], row[4], row[5], row[6], row[7])\n",
    "            )\n",
    "    conn.commit()"
   ]
  },
  {
   "cell_type": "code",
   "execution_count": 6,
   "metadata": {},
   "outputs": [
    {
     "name": "stdout",
     "output_type": "stream",
     "text": [
      "(1500000,)\n"
     ]
    }
   ],
   "source": [
    "conn.rollback()\n",
    "with conn.cursor() as cur:\n",
    "    \n",
    "    cur.execute(\"SELECT COUNT(*) FROM customer;\")\n",
    "\n",
    "    rows = cur.fetchall()\n",
    "\n",
    "    for row in rows:\n",
    "        print(row)"
   ]
  },
  {
   "cell_type": "code",
   "execution_count": 21,
   "metadata": {},
   "outputs": [
    {
     "name": "stdout",
     "output_type": "stream",
     "text": [
      "15000000\n"
     ]
    }
   ],
   "source": [
    "df = pd.read_csv(\"/Users/marcozamp/Desktop/TCP-H/orders.csv\", delimiter=\"|\", header=None)\n",
    "\n",
    "data = df.to_numpy() \n",
    "print(len(data))\n",
    "\n",
    "conn.rollback()\n",
    "with conn.cursor() as cur:\n",
    "\n",
    "    for row in data:\n",
    "        cur.execute(\n",
    "            \"INSERT INTO orders (o_orderkey, o_custkey, o_orederstatus, o_totalprice, o_orderdate, o_orederpriority, o_clerk, o_shippriority, o_comment) VALUES (%s, %s, %s, %s, %s, %s, %s, %s, %s)\",\n",
    "            (row[0], row[1], row[2], row[3], row[4], row[5], row[6], row[7], row[8])\n",
    "            )\n",
    "    conn.commit()"
   ]
  },
  {
   "cell_type": "code",
   "execution_count": 7,
   "metadata": {},
   "outputs": [
    {
     "name": "stdout",
     "output_type": "stream",
     "text": [
      "[(15000000,)]\n"
     ]
    }
   ],
   "source": [
    "with conn.cursor() as cur:\n",
    "    \n",
    "    cur.execute(\"SELECT COUNT(*) FROM orders;\")\n",
    "\n",
    "    rows = cur.fetchall()\n",
    "    \n",
    "    print(rows)"
   ]
  },
  {
   "cell_type": "code",
   "execution_count": null,
   "metadata": {},
   "outputs": [],
   "source": [
    "df_supp = pd.read_csv(\"/Users/marcozamp/Desktop/TCP-H/supplier.csv\", delimiter=\"|\", header=None)\n",
    "\n",
    "data = df_supp.to_numpy() \n",
    "print(len(df_supp))\n",
    "\n",
    "\n",
    "conn.rollback()\n",
    "with conn.cursor() as cur:\n",
    "\n",
    "    for row in data:\n",
    "        cur.execute(\n",
    "            \"INSERT INTO supplier (s_suppkey, s_name, s_address, s_nationkey, s_phone, s_acctbal, s_comment) VALUES (%s, %s, %s, %s, %s, %s, %s)\",\n",
    "            (row[0], row[1], row[2], row[3], row[4], row[5], row[6])\n",
    "            )\n",
    "    conn.commit()"
   ]
  },
  {
   "cell_type": "code",
   "execution_count": 8,
   "metadata": {},
   "outputs": [
    {
     "name": "stdout",
     "output_type": "stream",
     "text": [
      "[(100000,)]\n"
     ]
    }
   ],
   "source": [
    "conn.rollback\n",
    "with conn.cursor() as cur:\n",
    "    cur.execute(\"SELECT COUNT(*) FROM supplier;\")\n",
    "    rows = cur.fetchall()\n",
    "    print(rows)"
   ]
  },
  {
   "cell_type": "code",
   "execution_count": 32,
   "metadata": {},
   "outputs": [
    {
     "name": "stdout",
     "output_type": "stream",
     "text": [
      "2000000\n"
     ]
    }
   ],
   "source": [
    "df_part = pd.read_csv(\"/Users/marcozamp/Desktop/TCP-H/part.csv\", delimiter=\"|\", header=None)\n",
    "\n",
    "data = df_part.to_numpy() \n",
    "print(len(data))\n",
    "\n",
    "conn.rollback()\n",
    "with conn.cursor() as cur:\n",
    "\n",
    "    for row in data:\n",
    "        cur.execute(\n",
    "            \"INSERT INTO part (p_partkey, p_name, p_mfgr, p_brand, p_type, p_size, p_container, p_retailprice, p_comment) VALUES (%s, %s, %s, %s, %s, %s, %s, %s, %s)\",\n",
    "            (row[0], row[1], row[2], row[3], row[4], row[5], row[6], row[7], row[8])\n",
    "            )\n",
    "    conn.commit()"
   ]
  },
  {
   "cell_type": "code",
   "execution_count": 9,
   "metadata": {},
   "outputs": [
    {
     "name": "stdout",
     "output_type": "stream",
     "text": [
      "[(2000000,)]\n"
     ]
    }
   ],
   "source": [
    "conn.rollback()\n",
    "with conn.cursor() as cur:\n",
    "    \n",
    "    cur.execute(\"SELECT COUNT(*) FROM part;\")\n",
    "    rows = cur.fetchall()\n",
    "    print(rows)"
   ]
  },
  {
   "cell_type": "code",
   "execution_count": null,
   "metadata": {},
   "outputs": [],
   "source": [
    "df_partsupp = pd.read_csv(\"/Users/marcozamp/Desktop/TCP-H/partsupp.csv\", delimiter=\"|\", header=None)\n",
    "\n",
    "data = df_partsupp.to_numpy() \n",
    "print(len(data))"
   ]
  },
  {
   "cell_type": "code",
   "execution_count": null,
   "metadata": {},
   "outputs": [],
   "source": [
    "conn.rollback()\n",
    "with conn.cursor() as cur:\n",
    "\n",
    "    for row in data:\n",
    "        cur.execute(\n",
    "            \"INSERT INTO partsupp (ps_partkey, ps_suppkey, ps_availqty, ps_supplycost, ps_comment) VALUES (%s, %s, %s, %s, %s)\",\n",
    "            (row[0], row[1], row[2], row[3], row[4])\n",
    "            )\n",
    "    conn.commit()"
   ]
  },
  {
   "cell_type": "code",
   "execution_count": 13,
   "metadata": {},
   "outputs": [
    {
     "name": "stdout",
     "output_type": "stream",
     "text": [
      "[(8000000,)]\n"
     ]
    }
   ],
   "source": [
    "with conn.cursor() as cur:\n",
    "    \n",
    "    cur.execute(\"SELECT COUNT(*) FROM partsupp;\")\n",
    "    rows = cur.fetchall()\n",
    "    print(rows)"
   ]
  },
  {
   "cell_type": "code",
   "execution_count": 14,
   "metadata": {},
   "outputs": [
    {
     "name": "stdout",
     "output_type": "stream",
     "text": [
      "59986052\n"
     ]
    }
   ],
   "source": [
    "file_path = \"/Users/marcozamp/Desktop/TCP-H/lineitem_{}.csv\"\n",
    "\n",
    "for i in range(1, 11):\n",
    "    file_name = file_path.format(i)\n",
    "    df_name = f\"df{i}\"\n",
    "    \n",
    "    globals()[df_name] = pd.read_csv(file_name, delimiter=\"|\", header=None)\n",
    "\n",
    "sum = 0\n",
    "for i in range(1, 11):\n",
    "    sum += len(globals()[f\"df{i}\"])\n",
    "    \n",
    "print(sum)"
   ]
  },
  {
   "cell_type": "code",
   "execution_count": 20,
   "metadata": {},
   "outputs": [],
   "source": [
    "with conn.cursor() as cur:\n",
    "        for i in range(1, 11):\n",
    "                print(i)\n",
    "                for row in globals()[f\"df{i}\"].to_numpy():\n",
    "                        cur.execute(\n",
    "                        \"INSERT INTO lineitem (l_orderkey, l_partkey, l_suppkey, l_linenumber, l_quantity, l_extendedprice, l_discount, l_tax, l_returnflag, l_linestatus, l_shipdate, l_commitdate, l_receiptdate, l_shipinstruct, l_shipmode, l_comment) VALUES (%s, %s, %s, %s, %s, %s, %s, %s, %s, %s, %s, %s, %s, %s, %s, %s)\",\n",
    "                        (row[0], row[1], row[2], row[3], row[4], row[5], row[6], row[7], row[8], row[9], row[10], row[11], row[12], row[13], row[14], row[15])\n",
    "                        )\n",
    "                conn.commit()"
   ]
  },
  {
   "cell_type": "code",
   "execution_count": 21,
   "metadata": {},
   "outputs": [
    {
     "name": "stdout",
     "output_type": "stream",
     "text": [
      "[(59986052,)]\n"
     ]
    }
   ],
   "source": [
    "with conn.cursor() as cur:\n",
    "    \n",
    "    cur.execute(\"SELECT COUNT(*) FROM lineitem;\")\n",
    "    rows = cur.fetchall()\n",
    "    print(rows)"
   ]
  },
  {
   "cell_type": "markdown",
   "metadata": {},
   "source": [
    "## Add primary and foreing keys"
   ]
  },
  {
   "cell_type": "code",
   "execution_count": null,
   "metadata": {},
   "outputs": [],
   "source": [
    "query_add_primary = \"\"\"\n",
    "ALTER TABLE part     ADD PRIMARY KEY (p_partkey);\n",
    "ALTER TABLE supplier ADD PRIMARY KEY (s_suppkey);\n",
    "ALTER TABLE partsupp ADD PRIMARY KEY (ps_partkey,ps_suppkey);\n",
    "ALTER TABLE customer ADD PRIMARY KEY (c_custkey);\n",
    "ALTER TABLE orders   ADD PRIMARY KEY (o_orderkey);\n",
    "-- ALTER TABLE lineitem ADD PRIMARY KEY (l_orderkey,l_linenumber);\n",
    "-- not needed because on primary table and very expensive\n",
    "ALTER TABLE nation   ADD PRIMARY KEY (n_nationkey);\n",
    "ALTER TABLE region   ADD PRIMARY KEY (r_regionkey);\n",
    "\"\"\"\n",
    "\n",
    "query_add_foreign = \"\"\"\n",
    "ALTER TABLE PARTSUPP ADD FOREIGN KEY (ps_partkey)  REFERENCES PART (p_partkey);\n",
    "ALTER TABLE PARTSUPP ADD FOREIGN KEY (ps_suppkey)  REFERENCES SUPPLIER (s_suppkey);\n",
    "ALTER TABLE CUSTOMER ADD FOREIGN KEY (c_nationkey) REFERENCES NATION (n_nationkey);\n",
    "ALTER TABLE ORDERS   ADD FOREIGN KEY (o_custkey)   REFERENCES CUSTOMER (c_custkey);\n",
    "ALTER TABLE LINEITEM ADD FOREIGN KEY (l_orderkey)  REFERENCES ORDERS (o_orderkey);\n",
    "ALTER TABLE LINEITEM ADD FOREIGN KEY (l_partkey)   REFERENCES PART (p_partkey);\n",
    "ALTER TABLE LINEITEM ADD FOREIGN KEY (l_suppkey)   REFERENCES SUPPLIER (s_suppkey);\n",
    "ALTER TABLE NATION   ADD FOREIGN KEY (n_regionkey) REFERENCES REGION (r_regionkey);\n",
    "ALTER TABLE SUPPLIER ADD FOREIGN KEY (s_nationkey) REFERENCES NATION (n_nationkey);\n",
    "\"\"\"\n",
    "\n",
    "with conn.cursor() as cur:\n",
    "    \n",
    "    cur.execute(query_add_primary)\n",
    "    cur.execute(query_add_foreign)"
   ]
  },
  {
   "cell_type": "code",
   "execution_count": 22,
   "metadata": {},
   "outputs": [],
   "source": [
    "cur.close()\n",
    "conn.close()"
   ]
  }
 ],
 "metadata": {
  "kernelspec": {
   "display_name": "dbms-env",
   "language": "python",
   "name": "python3"
  },
  "language_info": {
   "codemirror_mode": {
    "name": "ipython",
    "version": 3
   },
   "file_extension": ".py",
   "mimetype": "text/x-python",
   "name": "python",
   "nbconvert_exporter": "python",
   "pygments_lexer": "ipython3",
   "version": "3.9.18"
  }
 },
 "nbformat": 4,
 "nbformat_minor": 2
}
